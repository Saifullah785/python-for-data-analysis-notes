{
  "nbformat": 4,
  "nbformat_minor": 0,
  "metadata": {
    "colab": {
      "provenance": [],
      "authorship_tag": "ABX9TyMOrl5I99n8KglmrG+Kk8gX",
      "include_colab_link": true
    },
    "kernelspec": {
      "name": "python3",
      "display_name": "Python 3"
    },
    "language_info": {
      "name": "python"
    }
  },
  "cells": [
    {
      "cell_type": "markdown",
      "metadata": {
        "id": "view-in-github",
        "colab_type": "text"
      },
      "source": [
        "<a href=\"https://colab.research.google.com/github/Saifullah785/python-for-data-analysis-notes/blob/main/Chapter_03_Built_in_Data_Structures%2C_Functions%2C_and_Files/Chapter_03_Built_in_Data_Structures%2C_Functions%2C_and_Files.ipynb\" target=\"_parent\"><img src=\"https://colab.research.google.com/assets/colab-badge.svg\" alt=\"Open In Colab\"/></a>"
      ]
    },
    {
      "cell_type": "markdown",
      "source": [
        "# **Built-in Data Structures, Functions,and Files**"
      ],
      "metadata": {
        "id": "14zHKB_4_SYG"
      }
    },
    {
      "cell_type": "markdown",
      "source": [
        "## **3.1 Data Structures and Sequences**\n",
        "\n",
        "**Tuple**"
      ],
      "metadata": {
        "id": "tHGnjPP1lSSS"
      }
    },
    {
      "cell_type": "code",
      "execution_count": 136,
      "metadata": {
        "colab": {
          "base_uri": "https://localhost:8080/"
        },
        "id": "jDePDnlt-ner",
        "outputId": "3d7cb878-f716-4ffe-eba3-92e296831654"
      },
      "outputs": [
        {
          "output_type": "execute_result",
          "data": {
            "text/plain": [
              "(4, 5, 6)"
            ]
          },
          "metadata": {},
          "execution_count": 136
        }
      ],
      "source": [
        "# Define a tuple with integer elements\n",
        "tup = (4, 5, 6)\n",
        "\n",
        "# Display the tuple\n",
        "tup"
      ]
    },
    {
      "cell_type": "code",
      "source": [
        "# Define a tuple without parentheses (tuple packing)\n",
        "tup = 4, 5, 6\n",
        "# Display the tuple\n",
        "tup"
      ],
      "metadata": {
        "colab": {
          "base_uri": "https://localhost:8080/"
        },
        "id": "w1wafKLULuBC",
        "outputId": "80297d81-041a-42e3-8454-d512c3eeeb3e"
      },
      "execution_count": 137,
      "outputs": [
        {
          "output_type": "execute_result",
          "data": {
            "text/plain": [
              "(4, 5, 6)"
            ]
          },
          "metadata": {},
          "execution_count": 137
        }
      ]
    },
    {
      "cell_type": "code",
      "source": [
        "# Convert a list to a tuple\n",
        "tuple([4, 0, 2])\n",
        "\n",
        "# Convert a string to a tuple (each character becomes an element)\n",
        "tup = tuple('string')\n",
        "\n",
        "# Display the tuple\n",
        "tup"
      ],
      "metadata": {
        "colab": {
          "base_uri": "https://localhost:8080/"
        },
        "id": "s_QaIAQML8zj",
        "outputId": "07f302cd-c2de-4d1f-d2a2-4b213827ea2b"
      },
      "execution_count": 138,
      "outputs": [
        {
          "output_type": "execute_result",
          "data": {
            "text/plain": [
              "('s', 't', 'r', 'i', 'n', 'g')"
            ]
          },
          "metadata": {},
          "execution_count": 138
        }
      ]
    },
    {
      "cell_type": "code",
      "source": [
        "# Access an element of the tuple using its index\n",
        "tup[0]"
      ],
      "metadata": {
        "colab": {
          "base_uri": "https://localhost:8080/",
          "height": 36
        },
        "id": "UyuZ7PTkMMoi",
        "outputId": "c00fb7e6-bff0-4086-b68c-5ce79b211116"
      },
      "execution_count": 139,
      "outputs": [
        {
          "output_type": "execute_result",
          "data": {
            "text/plain": [
              "'s'"
            ],
            "application/vnd.google.colaboratory.intrinsic+json": {
              "type": "string"
            }
          },
          "metadata": {},
          "execution_count": 139
        }
      ]
    },
    {
      "cell_type": "code",
      "source": [
        "# Define a nested tuple (a tuple containing other tuples)\n",
        "nested_tup = ((4, 5, 6), (7, 8))\n",
        "\n",
        "# Display the nested tuple\n",
        "nested_tup"
      ],
      "metadata": {
        "colab": {
          "base_uri": "https://localhost:8080/"
        },
        "id": "g13h45T0MSQb",
        "outputId": "c8b6bd51-1387-475c-c929-ac643e1b3e28"
      },
      "execution_count": 140,
      "outputs": [
        {
          "output_type": "execute_result",
          "data": {
            "text/plain": [
              "((4, 5, 6), (7, 8))"
            ]
          },
          "metadata": {},
          "execution_count": 140
        }
      ]
    },
    {
      "cell_type": "code",
      "source": [
        "# Access the first element of the nested tuple (which is a tuple itself)\n",
        "nested_tup[0]"
      ],
      "metadata": {
        "colab": {
          "base_uri": "https://localhost:8080/"
        },
        "id": "iWiLWzPoMXEC",
        "outputId": "4184ad3f-f877-4224-a438-8c9e878923ea"
      },
      "execution_count": 141,
      "outputs": [
        {
          "output_type": "execute_result",
          "data": {
            "text/plain": [
              "(4, 5, 6)"
            ]
          },
          "metadata": {},
          "execution_count": 141
        }
      ]
    },
    {
      "cell_type": "code",
      "source": [
        "# Access the second element of the nested tuple\n",
        "nested_tup[1]"
      ],
      "metadata": {
        "colab": {
          "base_uri": "https://localhost:8080/"
        },
        "id": "WnPjy9O9MtL8",
        "outputId": "407cccdb-bc8f-40f1-ad01-2565ed19d917"
      },
      "execution_count": 142,
      "outputs": [
        {
          "output_type": "execute_result",
          "data": {
            "text/plain": [
              "(7, 8)"
            ]
          },
          "metadata": {},
          "execution_count": 142
        }
      ]
    },
    {
      "cell_type": "code",
      "source": [
        "# Define a tuple containing different data types, including a mutable list\n",
        "tup = tuple(['foo', [1,2], True])"
      ],
      "metadata": {
        "id": "HGQse2ktM1r7"
      },
      "execution_count": 143,
      "outputs": []
    },
    {
      "cell_type": "code",
      "source": [
        "# Attempting to change an element of the tuple (will raise a TypeError because tuples are immutable)\n",
        "tup[2] = False"
      ],
      "metadata": {
        "colab": {
          "base_uri": "https://localhost:8080/",
          "height": 158
        },
        "id": "pZDODws3NHP7",
        "outputId": "8d122697-d63b-4fde-983e-510ccd33d47a"
      },
      "execution_count": 144,
      "outputs": [
        {
          "output_type": "error",
          "ename": "TypeError",
          "evalue": "'tuple' object does not support item assignment",
          "traceback": [
            "\u001b[0;31m---------------------------------------------------------------------------\u001b[0m",
            "\u001b[0;31mTypeError\u001b[0m                                 Traceback (most recent call last)",
            "\u001b[0;32m/tmp/ipython-input-144-1102892581.py\u001b[0m in \u001b[0;36m<cell line: 0>\u001b[0;34m()\u001b[0m\n\u001b[1;32m      1\u001b[0m \u001b[0;31m# Attempting to change an element of the tuple (will raise a TypeError because tuples are immutable)\u001b[0m\u001b[0;34m\u001b[0m\u001b[0;34m\u001b[0m\u001b[0m\n\u001b[0;32m----> 2\u001b[0;31m \u001b[0mtup\u001b[0m\u001b[0;34m[\u001b[0m\u001b[0;36m2\u001b[0m\u001b[0;34m]\u001b[0m \u001b[0;34m=\u001b[0m \u001b[0;32mFalse\u001b[0m\u001b[0;34m\u001b[0m\u001b[0;34m\u001b[0m\u001b[0m\n\u001b[0m",
            "\u001b[0;31mTypeError\u001b[0m: 'tuple' object does not support item assignment"
          ]
        }
      ]
    },
    {
      "cell_type": "code",
      "source": [
        "# Appending an element to the list inside the tuple (the list is mutable, even though the tuple is not)\n",
        "tup[1].append(3)\n",
        "\n",
        "# Display the tuple after modifying the list within it\n",
        "tup"
      ],
      "metadata": {
        "colab": {
          "base_uri": "https://localhost:8080/"
        },
        "id": "FyYhodTSNM_L",
        "outputId": "fcf52613-e1b7-470f-a312-7c3bbbba1912"
      },
      "execution_count": 145,
      "outputs": [
        {
          "output_type": "execute_result",
          "data": {
            "text/plain": [
              "('foo', [1, 2, 3], True)"
            ]
          },
          "metadata": {},
          "execution_count": 145
        }
      ]
    },
    {
      "cell_type": "code",
      "source": [
        "# Concatenate tuples using the + operator\n",
        "(4, None, 'foo') + (6, 0) + ('bar',)"
      ],
      "metadata": {
        "colab": {
          "base_uri": "https://localhost:8080/"
        },
        "id": "vqVgv5iGNSIT",
        "outputId": "41bec9b0-f190-4e89-d418-22831b844fa9"
      },
      "execution_count": 146,
      "outputs": [
        {
          "output_type": "execute_result",
          "data": {
            "text/plain": [
              "(4, None, 'foo', 6, 0, 'bar')"
            ]
          },
          "metadata": {},
          "execution_count": 146
        }
      ]
    },
    {
      "cell_type": "code",
      "source": [
        "# Repeat a tuple using the * operator\n",
        "('foo', 'bar') * 4"
      ],
      "metadata": {
        "colab": {
          "base_uri": "https://localhost:8080/"
        },
        "id": "Hl-RY91rNZsM",
        "outputId": "fc56dfa4-981b-467f-8f63-5211bfe24ee9"
      },
      "execution_count": 147,
      "outputs": [
        {
          "output_type": "execute_result",
          "data": {
            "text/plain": [
              "('foo', 'bar', 'foo', 'bar', 'foo', 'bar', 'foo', 'bar')"
            ]
          },
          "metadata": {},
          "execution_count": 147
        }
      ]
    },
    {
      "cell_type": "markdown",
      "source": [
        "**Unpacking tuples**"
      ],
      "metadata": {
        "id": "ydQycmDRlpFm"
      }
    },
    {
      "cell_type": "code",
      "source": [
        "# Define a tuple\n",
        "tup = (4, 5, 6)\n",
        "\n",
        "# Unpack the tuple elements into individual variables\n",
        "a, b, c = tup\n",
        "\n",
        "# Display the value of variable c\n",
        "c"
      ],
      "metadata": {
        "colab": {
          "base_uri": "https://localhost:8080/"
        },
        "id": "CbpxI_gwNiG8",
        "outputId": "02e5ccec-2e05-4586-e5b4-1133d56c0cb0"
      },
      "execution_count": 148,
      "outputs": [
        {
          "output_type": "execute_result",
          "data": {
            "text/plain": [
              "6"
            ]
          },
          "metadata": {},
          "execution_count": 148
        }
      ]
    },
    {
      "cell_type": "code",
      "source": [
        "# Define a tuple with a nested tuple\n",
        "tup = 4, 5, (6, 7)\n",
        "\n",
        "# Unpack the tuple, including the nested tuple\n",
        "a, b, (c, d) = tup\n",
        "\n",
        "# Display the value of variable c from the nested tuple\n",
        "c"
      ],
      "metadata": {
        "colab": {
          "base_uri": "https://localhost:8080/"
        },
        "id": "17_1-E44NsqM",
        "outputId": "91c3e311-aa4f-447d-cc84-dc1a45e241ce"
      },
      "execution_count": 149,
      "outputs": [
        {
          "output_type": "execute_result",
          "data": {
            "text/plain": [
              "6"
            ]
          },
          "metadata": {},
          "execution_count": 149
        }
      ]
    },
    {
      "cell_type": "code",
      "source": [
        "# Define a list of tuples\n",
        "seq = [(1, 2, 3), (4, 5, 6), (7, 8, 9)]\n",
        "\n",
        "# Iterate through the list and unpack each tuple into variables a, b, and c\n",
        "for a, b, c in seq:\n",
        "    # Print the unpacked values using an f-string\n",
        "    print(f'a={a}, b={b}, c={c}')\n",
        "    # Alternative way to print using .format()\n",
        "    # print('a={0}, b={1}, c={2}'.format(a, b, c))"
      ],
      "metadata": {
        "colab": {
          "base_uri": "https://localhost:8080/"
        },
        "id": "6o1anR_DOcLu",
        "outputId": "d224616c-43ad-43ca-d848-3b496f372aae"
      },
      "execution_count": 150,
      "outputs": [
        {
          "output_type": "stream",
          "name": "stdout",
          "text": [
            "a=1, b=2, c=3\n",
            "a=4, b=5, c=6\n",
            "a=7, b=8, c=9\n"
          ]
        }
      ]
    },
    {
      "cell_type": "code",
      "source": [
        "# Define a tuple\n",
        "values = 1, 2, 3, 4, 5\n",
        "# Unpack the first two elements into a and b, and the rest into a list called rest\n",
        "a, b, *rest = values\n",
        "# Display the value of a\n",
        "a\n",
        "# Display the value of b\n",
        "b\n",
        "# Display the value of rest\n",
        "rest"
      ],
      "metadata": {
        "colab": {
          "base_uri": "https://localhost:8080/"
        },
        "id": "Y-ToMnEBO5yv",
        "outputId": "abe95f2e-f66d-4a37-90b1-2262ebe7ee44"
      },
      "execution_count": 151,
      "outputs": [
        {
          "output_type": "execute_result",
          "data": {
            "text/plain": [
              "[3, 4, 5]"
            ]
          },
          "metadata": {},
          "execution_count": 151
        }
      ]
    },
    {
      "cell_type": "code",
      "source": [
        "# Unpack the first two elements and discard the rest using a dummy variable __\n",
        "a, b, *__= values"
      ],
      "metadata": {
        "id": "aGsv4Qs5PSAQ"
      },
      "execution_count": 152,
      "outputs": []
    },
    {
      "cell_type": "markdown",
      "source": [
        "**Tuple methods**\n"
      ],
      "metadata": {
        "id": "LVA2haFqmBpe"
      }
    },
    {
      "cell_type": "code",
      "source": [
        "# Define a tuple\n",
        "a = (1, 2, 2, 2, 3, 4, 2)\n",
        "# Count the occurrences of the element 2 in the tuple\n",
        "a.count(2)"
      ],
      "metadata": {
        "colab": {
          "base_uri": "https://localhost:8080/"
        },
        "id": "oH4W-dVXPZFI",
        "outputId": "c09f8c0a-80ed-447b-b0f8-18da98031314"
      },
      "execution_count": 153,
      "outputs": [
        {
          "output_type": "execute_result",
          "data": {
            "text/plain": [
              "4"
            ]
          },
          "metadata": {},
          "execution_count": 153
        }
      ]
    },
    {
      "cell_type": "markdown",
      "source": [
        "**List**"
      ],
      "metadata": {
        "id": "DAHWBE0ImFQF"
      }
    },
    {
      "cell_type": "code",
      "source": [
        "# Define a list with mixed data types\n",
        "a_list = [2, 3, 7, None]\n",
        "\n",
        "# Define a tuple\n",
        "tup = ('foo', 'bar', 'baz')\n",
        "\n",
        "# Convert a tuple to a list\n",
        "b_list = list(tup)\n",
        "\n",
        "# Display the list\n",
        "b_list"
      ],
      "metadata": {
        "colab": {
          "base_uri": "https://localhost:8080/"
        },
        "id": "rgWUDb1mPimq",
        "outputId": "5db0e537-cf89-4371-e697-5d80acaaf72a"
      },
      "execution_count": 154,
      "outputs": [
        {
          "output_type": "execute_result",
          "data": {
            "text/plain": [
              "['foo', 'bar', 'baz']"
            ]
          },
          "metadata": {},
          "execution_count": 154
        }
      ]
    },
    {
      "cell_type": "code",
      "source": [
        "# Change an element in the list\n",
        "b_list[1] = 'peekaboo'\n",
        "# Display the modified list\n",
        "b_list"
      ],
      "metadata": {
        "colab": {
          "base_uri": "https://localhost:8080/"
        },
        "id": "3IABUfHvPu3p",
        "outputId": "e4b59386-9eee-4d67-cee8-87dddfd0f2de"
      },
      "execution_count": 155,
      "outputs": [
        {
          "output_type": "execute_result",
          "data": {
            "text/plain": [
              "['foo', 'peekaboo', 'baz']"
            ]
          },
          "metadata": {},
          "execution_count": 155
        }
      ]
    },
    {
      "cell_type": "code",
      "source": [
        "# Create a range object (a sequence of numbers)\n",
        "gen = range(10)\n",
        "# Display the range object\n",
        "gen\n",
        "# Convert the range object to a list\n",
        "list(gen)"
      ],
      "metadata": {
        "colab": {
          "base_uri": "https://localhost:8080/"
        },
        "id": "4sX_mzEtP6SR",
        "outputId": "5f4d50b5-0ab5-48ba-d352-7326eaf66e14"
      },
      "execution_count": 156,
      "outputs": [
        {
          "output_type": "execute_result",
          "data": {
            "text/plain": [
              "[0, 1, 2, 3, 4, 5, 6, 7, 8, 9]"
            ]
          },
          "metadata": {},
          "execution_count": 156
        }
      ]
    },
    {
      "cell_type": "markdown",
      "source": [
        "**Adding and removing elements**"
      ],
      "metadata": {
        "id": "A17MS5-VmOOp"
      }
    },
    {
      "cell_type": "code",
      "source": [
        "# Append an element to the end of the list\n",
        "b_list.append('dwarf')\n",
        "# Display the modified list\n",
        "b_list"
      ],
      "metadata": {
        "colab": {
          "base_uri": "https://localhost:8080/"
        },
        "id": "pgdX6NmDQDnh",
        "outputId": "67691f35-cb6e-4f83-d51d-2a5c53a7455e"
      },
      "execution_count": 157,
      "outputs": [
        {
          "output_type": "execute_result",
          "data": {
            "text/plain": [
              "['foo', 'peekaboo', 'baz', 'dwarf']"
            ]
          },
          "metadata": {},
          "execution_count": 157
        }
      ]
    },
    {
      "cell_type": "code",
      "source": [
        "# Append another element to the end of the list\n",
        "b_list.append('red')\n",
        "# Display the modified list\n",
        "b_list"
      ],
      "metadata": {
        "colab": {
          "base_uri": "https://localhost:8080/"
        },
        "id": "vPJAHsVdQJIx",
        "outputId": "467e0273-5034-49be-8442-163eaccde6c1"
      },
      "execution_count": 158,
      "outputs": [
        {
          "output_type": "execute_result",
          "data": {
            "text/plain": [
              "['foo', 'peekaboo', 'baz', 'dwarf', 'red']"
            ]
          },
          "metadata": {},
          "execution_count": 158
        }
      ]
    },
    {
      "cell_type": "code",
      "source": [
        "# Insert an element at a specific index in the list\n",
        "b_list.insert(1, 'red')\n",
        "# Display the modified list\n",
        "b_list"
      ],
      "metadata": {
        "colab": {
          "base_uri": "https://localhost:8080/"
        },
        "id": "hbBumEAhQO3B",
        "outputId": "0a909125-5d6a-4b20-bcdc-e837799a40bc"
      },
      "execution_count": 159,
      "outputs": [
        {
          "output_type": "execute_result",
          "data": {
            "text/plain": [
              "['foo', 'red', 'peekaboo', 'baz', 'dwarf', 'red']"
            ]
          },
          "metadata": {},
          "execution_count": 159
        }
      ]
    },
    {
      "cell_type": "code",
      "source": [
        "# Remove and return the element at a specific index in the list\n",
        "b_list.pop(2)\n",
        "# Display the modified list\n",
        "b_list"
      ],
      "metadata": {
        "colab": {
          "base_uri": "https://localhost:8080/"
        },
        "id": "9n_PjuAeQbLa",
        "outputId": "9d104517-de01-4f0d-e9bf-796ff2dbcf20"
      },
      "execution_count": 160,
      "outputs": [
        {
          "output_type": "execute_result",
          "data": {
            "text/plain": [
              "['foo', 'red', 'baz', 'dwarf', 'red']"
            ]
          },
          "metadata": {},
          "execution_count": 160
        }
      ]
    },
    {
      "cell_type": "code",
      "source": [
        "# Append an element to the end of the list\n",
        "b_list.append('foo')\n",
        "# Display the modified list\n",
        "b_list"
      ],
      "metadata": {
        "colab": {
          "base_uri": "https://localhost:8080/"
        },
        "id": "vsl0ZnjxQhKh",
        "outputId": "4018ba52-1db3-42b6-af5c-ee9923c90508"
      },
      "execution_count": 161,
      "outputs": [
        {
          "output_type": "execute_result",
          "data": {
            "text/plain": [
              "['foo', 'red', 'baz', 'dwarf', 'red', 'foo']"
            ]
          },
          "metadata": {},
          "execution_count": 161
        }
      ]
    },
    {
      "cell_type": "code",
      "source": [
        "# Remove the first occurrence of a specific value from the list\n",
        "b_list.remove('foo')\n",
        "# Display the modified list\n",
        "b_list"
      ],
      "metadata": {
        "colab": {
          "base_uri": "https://localhost:8080/"
        },
        "id": "SbuyTeRBQjxj",
        "outputId": "6c1af855-1175-455a-92ed-bd666d451015"
      },
      "execution_count": 162,
      "outputs": [
        {
          "output_type": "execute_result",
          "data": {
            "text/plain": [
              "['red', 'baz', 'dwarf', 'red', 'foo']"
            ]
          },
          "metadata": {},
          "execution_count": 162
        }
      ]
    },
    {
      "cell_type": "code",
      "source": [
        "# Check if an element exists in the list using the 'in' operator\n",
        "\"dwarf\" in b_list"
      ],
      "metadata": {
        "colab": {
          "base_uri": "https://localhost:8080/"
        },
        "id": "aH0Psu60Qm5Z",
        "outputId": "4bc370f4-259c-43ce-f25a-22e960f941d1"
      },
      "execution_count": 163,
      "outputs": [
        {
          "output_type": "execute_result",
          "data": {
            "text/plain": [
              "True"
            ]
          },
          "metadata": {},
          "execution_count": 163
        }
      ]
    },
    {
      "cell_type": "code",
      "source": [
        "# Check if an element does not exist in the list using the 'not in' operator\n",
        "\"dwarf\" not in b_list"
      ],
      "metadata": {
        "colab": {
          "base_uri": "https://localhost:8080/"
        },
        "id": "K0AvCxXmQqzq",
        "outputId": "cc8c3b48-bf8a-460d-acb6-d01d4551c226"
      },
      "execution_count": 164,
      "outputs": [
        {
          "output_type": "execute_result",
          "data": {
            "text/plain": [
              "False"
            ]
          },
          "metadata": {},
          "execution_count": 164
        }
      ]
    },
    {
      "cell_type": "markdown",
      "source": [
        "**Concatenating and combining lists**"
      ],
      "metadata": {
        "id": "jnkBPO5_mgkB"
      }
    },
    {
      "cell_type": "code",
      "source": [
        "# Concatenate two lists using the + operator\n",
        "[4, None, 'foo'] + [7, 8, (2, 3)]"
      ],
      "metadata": {
        "colab": {
          "base_uri": "https://localhost:8080/"
        },
        "id": "w_cSpSHCQtpM",
        "outputId": "9d703a83-e613-41ea-d114-cef8fa137fb1"
      },
      "execution_count": 165,
      "outputs": [
        {
          "output_type": "execute_result",
          "data": {
            "text/plain": [
              "[4, None, 'foo', 7, 8, (2, 3)]"
            ]
          },
          "metadata": {},
          "execution_count": 165
        }
      ]
    },
    {
      "cell_type": "code",
      "source": [
        "# Define a list\n",
        "x = [4, None, 'foo']\n",
        "# Extend the list by appending all the items from another iterable\n",
        "x.extend([7, 8, (2, 3)])\n",
        "# Display the modified list\n",
        "x"
      ],
      "metadata": {
        "colab": {
          "base_uri": "https://localhost:8080/"
        },
        "id": "WfODxDCHQzdS",
        "outputId": "90e1eaf7-0773-4080-9805-afa0d96d46ef"
      },
      "execution_count": 166,
      "outputs": [
        {
          "output_type": "execute_result",
          "data": {
            "text/plain": [
              "[4, None, 'foo', 7, 8, (2, 3)]"
            ]
          },
          "metadata": {},
          "execution_count": 166
        }
      ]
    },
    {
      "cell_type": "markdown",
      "source": [
        "**Sorting**"
      ],
      "metadata": {
        "id": "vQRW6PTnmzgf"
      }
    },
    {
      "cell_type": "code",
      "source": [
        "# Define a list of numbers\n",
        "a = [7, 2, 5, 1, 3]\n",
        "# Sort the list in place (ascending order)\n",
        "a.sort()\n",
        "# Display the sorted list\n",
        "a"
      ],
      "metadata": {
        "colab": {
          "base_uri": "https://localhost:8080/"
        },
        "id": "o1VkCta2Q4jO",
        "outputId": "79c3b75a-2eaa-4bfe-838f-f18e388ab91b"
      },
      "execution_count": 167,
      "outputs": [
        {
          "output_type": "execute_result",
          "data": {
            "text/plain": [
              "[1, 2, 3, 5, 7]"
            ]
          },
          "metadata": {},
          "execution_count": 167
        }
      ]
    },
    {
      "cell_type": "code",
      "source": [
        "# Define a list of strings\n",
        "b = ['saw', 'small', 'He', 'foxes', 'six']\n",
        "# Sort the list based on the length of the strings using the key argument\n",
        "b.sort(key=len)\n",
        "# Display the sorted list\n",
        "b"
      ],
      "metadata": {
        "colab": {
          "base_uri": "https://localhost:8080/"
        },
        "id": "NAHdkB_8Q6_i",
        "outputId": "9b8d34c3-adb9-43c5-f17e-10bf4385790f"
      },
      "execution_count": 168,
      "outputs": [
        {
          "output_type": "execute_result",
          "data": {
            "text/plain": [
              "['He', 'saw', 'six', 'small', 'foxes']"
            ]
          },
          "metadata": {},
          "execution_count": 168
        }
      ]
    },
    {
      "cell_type": "markdown",
      "source": [
        "**Binary search and maintaining a sorted list**"
      ],
      "metadata": {
        "id": "zFOolGMOnTjl"
      }
    },
    {
      "cell_type": "code",
      "source": [
        "import bisect"
      ],
      "metadata": {
        "id": "xWNQg8bZnVM0"
      },
      "execution_count": 169,
      "outputs": []
    },
    {
      "cell_type": "code",
      "source": [
        "# Define a sorted list\n",
        "c = [1, 2, 2, 2, 3, 4, 7]"
      ],
      "metadata": {
        "id": "2SlHmCeknZyW"
      },
      "execution_count": 170,
      "outputs": []
    },
    {
      "cell_type": "code",
      "source": [
        "# Find the index where 2 can be inserted to maintain the sorted order\n",
        "bisect.bisect(c, 2)"
      ],
      "metadata": {
        "colab": {
          "base_uri": "https://localhost:8080/"
        },
        "id": "B1jMTyKvncGn",
        "outputId": "283f0bf8-5f6e-4275-9ea1-c5600bac0e99"
      },
      "execution_count": 171,
      "outputs": [
        {
          "output_type": "execute_result",
          "data": {
            "text/plain": [
              "4"
            ]
          },
          "metadata": {},
          "execution_count": 171
        }
      ]
    },
    {
      "cell_type": "code",
      "source": [
        "# Find the index where 5 can be inserted to maintain the sorted order\n",
        "bisect.bisect(c, 5)"
      ],
      "metadata": {
        "colab": {
          "base_uri": "https://localhost:8080/"
        },
        "id": "CVPj0SQOnei5",
        "outputId": "49a1c920-a3b4-4a86-d52d-20183194bd42"
      },
      "execution_count": 172,
      "outputs": [
        {
          "output_type": "execute_result",
          "data": {
            "text/plain": [
              "6"
            ]
          },
          "metadata": {},
          "execution_count": 172
        }
      ]
    },
    {
      "cell_type": "code",
      "source": [
        "# Insert 6 into the sorted list c while maintaining sorted order\n",
        "bisect.insort(c, 6)"
      ],
      "metadata": {
        "id": "v7-v-yfBnhHI"
      },
      "execution_count": 173,
      "outputs": []
    },
    {
      "cell_type": "code",
      "source": [
        "# Display the modified list\n",
        "c"
      ],
      "metadata": {
        "colab": {
          "base_uri": "https://localhost:8080/"
        },
        "id": "hClK1ZDknjYW",
        "outputId": "cf882a45-c9fc-4d35-b90a-f93a021c5e6c"
      },
      "execution_count": 174,
      "outputs": [
        {
          "output_type": "execute_result",
          "data": {
            "text/plain": [
              "[1, 2, 2, 2, 3, 4, 6, 7]"
            ]
          },
          "metadata": {},
          "execution_count": 174
        }
      ]
    },
    {
      "cell_type": "markdown",
      "source": [
        "**Slicing**"
      ],
      "metadata": {
        "id": "HgD5yzrTnrlz"
      }
    },
    {
      "cell_type": "code",
      "source": [
        "# Define a list\n",
        "seq = [7, 2, 3, 7, 5, 6, 0, 1]\n",
        "# Slice the list to get elements from index 1 up to (but not including) index 5\n",
        "seq[1:5]"
      ],
      "metadata": {
        "colab": {
          "base_uri": "https://localhost:8080/"
        },
        "id": "KS9FkMiuQ-ti",
        "outputId": "6dd691ae-db98-4845-8619-23a563de1acf"
      },
      "execution_count": 175,
      "outputs": [
        {
          "output_type": "execute_result",
          "data": {
            "text/plain": [
              "[2, 3, 7, 5]"
            ]
          },
          "metadata": {},
          "execution_count": 175
        }
      ]
    },
    {
      "cell_type": "code",
      "source": [
        "# Replace a slice of the list with new values\n",
        "seq[3:5] = [6, 3]\n",
        "# Display the modified list\n",
        "seq"
      ],
      "metadata": {
        "colab": {
          "base_uri": "https://localhost:8080/"
        },
        "id": "ys9ZdkLWRDpE",
        "outputId": "4455834d-b84e-469e-9768-5eff5b1a1223"
      },
      "execution_count": 176,
      "outputs": [
        {
          "output_type": "execute_result",
          "data": {
            "text/plain": [
              "[7, 2, 3, 6, 3, 6, 0, 1]"
            ]
          },
          "metadata": {},
          "execution_count": 176
        }
      ]
    },
    {
      "cell_type": "code",
      "source": [
        "# Slice the list from the beginning up to (but not including) index 5\n",
        "seq[:5]"
      ],
      "metadata": {
        "colab": {
          "base_uri": "https://localhost:8080/"
        },
        "id": "h5uJevsrRL4S",
        "outputId": "aba14677-4a12-47ab-f746-ee8ea182a2a9"
      },
      "execution_count": 177,
      "outputs": [
        {
          "output_type": "execute_result",
          "data": {
            "text/plain": [
              "[7, 2, 3, 6, 3]"
            ]
          },
          "metadata": {},
          "execution_count": 177
        }
      ]
    },
    {
      "cell_type": "code",
      "source": [
        "# Slice the list from index 3 to the end\n",
        "seq[3:]"
      ],
      "metadata": {
        "colab": {
          "base_uri": "https://localhost:8080/"
        },
        "id": "ycrMlx39RZqE",
        "outputId": "8dd0452c-5075-42e0-8e83-44da2a54e1ff"
      },
      "execution_count": 178,
      "outputs": [
        {
          "output_type": "execute_result",
          "data": {
            "text/plain": [
              "[6, 3, 6, 0, 1]"
            ]
          },
          "metadata": {},
          "execution_count": 178
        }
      ]
    },
    {
      "cell_type": "code",
      "source": [
        "# Slice the list to get the last 4 elements\n",
        "seq[-4:]\n",
        "# Slice the list using negative indices to get elements from the 6th from the end up to (but not including) the 2nd from the end\n",
        "seq[-6:-2]"
      ],
      "metadata": {
        "colab": {
          "base_uri": "https://localhost:8080/"
        },
        "id": "E-QvPxTqRceT",
        "outputId": "55374c66-cf02-4ee7-e014-04517019a0dc"
      },
      "execution_count": 179,
      "outputs": [
        {
          "output_type": "execute_result",
          "data": {
            "text/plain": [
              "[3, 6, 3, 6]"
            ]
          },
          "metadata": {},
          "execution_count": 179
        }
      ]
    },
    {
      "cell_type": "code",
      "source": [
        "# Slice the list with a step of 2 (every other element)\n",
        "seq[::2]"
      ],
      "metadata": {
        "colab": {
          "base_uri": "https://localhost:8080/"
        },
        "id": "k3EzQEs8RjuD",
        "outputId": "e579738b-9861-433a-d111-d7c8e983c361"
      },
      "execution_count": 180,
      "outputs": [
        {
          "output_type": "execute_result",
          "data": {
            "text/plain": [
              "[7, 3, 3, 0]"
            ]
          },
          "metadata": {},
          "execution_count": 180
        }
      ]
    },
    {
      "cell_type": "code",
      "source": [
        "# Slice the list with a step of -1 to reverse the list\n",
        "seq[::-1]"
      ],
      "metadata": {
        "colab": {
          "base_uri": "https://localhost:8080/"
        },
        "id": "I47hJhCnRoL7",
        "outputId": "0be46c2b-0195-4ed8-e758-2261cb3ad1aa"
      },
      "execution_count": 181,
      "outputs": [
        {
          "output_type": "execute_result",
          "data": {
            "text/plain": [
              "[1, 0, 6, 3, 6, 3, 2, 7]"
            ]
          },
          "metadata": {},
          "execution_count": 181
        }
      ]
    },
    {
      "cell_type": "markdown",
      "source": [
        "#**Built-in Sequence Functions**\n",
        "\n",
        "**enumerate**"
      ],
      "metadata": {
        "id": "JZ4ZHDnQoNgb"
      }
    },
    {
      "cell_type": "markdown",
      "source": [
        "**dict**"
      ],
      "metadata": {
        "id": "WZ95BVeNo_c-"
      }
    },
    {
      "cell_type": "code",
      "source": [
        "# Create an empty dictionary\n",
        "empty_dict = {}\n",
        "# Create a dictionary with key-value pairs\n",
        "d1 = {\"a\": \"somw value\", 'b': [1, 2, 3, 4]}\n",
        "# Display the dictionary\n",
        "d1"
      ],
      "metadata": {
        "colab": {
          "base_uri": "https://localhost:8080/"
        },
        "id": "cq3BS6jiRtOj",
        "outputId": "3d3cfb02-f26f-499c-d65e-1dbcf0b6058a"
      },
      "execution_count": 182,
      "outputs": [
        {
          "output_type": "execute_result",
          "data": {
            "text/plain": [
              "{'a': 'somw value', 'b': [1, 2, 3, 4]}"
            ]
          },
          "metadata": {},
          "execution_count": 182
        }
      ]
    },
    {
      "cell_type": "code",
      "source": [
        "# Add a new key-value pair to the dictionary\n",
        "d1[7] = 'an integer'\n",
        "# Display the modified dictionary\n",
        "d1"
      ],
      "metadata": {
        "colab": {
          "base_uri": "https://localhost:8080/"
        },
        "id": "uAL_IfpjR7o0",
        "outputId": "9838b4f4-d95a-4c9d-f14e-c182f00abfd6"
      },
      "execution_count": 183,
      "outputs": [
        {
          "output_type": "execute_result",
          "data": {
            "text/plain": [
              "{'a': 'somw value', 'b': [1, 2, 3, 4], 7: 'an integer'}"
            ]
          },
          "metadata": {},
          "execution_count": 183
        }
      ]
    },
    {
      "cell_type": "code",
      "source": [
        "# Access the value associated with the key 'b'\n",
        "d1['b']"
      ],
      "metadata": {
        "colab": {
          "base_uri": "https://localhost:8080/"
        },
        "id": "8QwYpYEPSIhW",
        "outputId": "195e18d8-eac9-4728-fe73-f6afc629cc99"
      },
      "execution_count": 184,
      "outputs": [
        {
          "output_type": "execute_result",
          "data": {
            "text/plain": [
              "[1, 2, 3, 4]"
            ]
          },
          "metadata": {},
          "execution_count": 184
        }
      ]
    },
    {
      "cell_type": "code",
      "source": [
        "# Add another key-value pair to the dictionary\n",
        "d1[5] = 'some value'\n",
        "\n",
        "# Display the modified dictionary\n",
        "d1"
      ],
      "metadata": {
        "colab": {
          "base_uri": "https://localhost:8080/"
        },
        "id": "VxSPQ9RmSNMt",
        "outputId": "dc3ed176-deff-4078-eb8d-9a8984f571c3"
      },
      "execution_count": 185,
      "outputs": [
        {
          "output_type": "execute_result",
          "data": {
            "text/plain": [
              "{'a': 'somw value', 'b': [1, 2, 3, 4], 7: 'an integer', 5: 'some value'}"
            ]
          },
          "metadata": {},
          "execution_count": 185
        }
      ]
    },
    {
      "cell_type": "code",
      "source": [
        "# Add yet another key-value pair to the dictionary\n",
        "d1['dummy'] = 'another value'\n",
        "# Display the modified dictionary\n",
        "d1"
      ],
      "metadata": {
        "colab": {
          "base_uri": "https://localhost:8080/"
        },
        "id": "V6HDgdsoSR7V",
        "outputId": "31bef24f-e4fd-4ebf-b304-9b0241f5a1f1"
      },
      "execution_count": 186,
      "outputs": [
        {
          "output_type": "execute_result",
          "data": {
            "text/plain": [
              "{'a': 'somw value',\n",
              " 'b': [1, 2, 3, 4],\n",
              " 7: 'an integer',\n",
              " 5: 'some value',\n",
              " 'dummy': 'another value'}"
            ]
          },
          "metadata": {},
          "execution_count": 186
        }
      ]
    },
    {
      "cell_type": "code",
      "source": [
        "# Delete a key-value pair from the dictionary using the del keyword\n",
        "del d1[5]\n",
        "# Display the modified dictionary\n",
        "d1"
      ],
      "metadata": {
        "colab": {
          "base_uri": "https://localhost:8080/"
        },
        "id": "zObQc37CSYLv",
        "outputId": "9115cf3a-c9be-4fb8-bcd4-04b06a366d90"
      },
      "execution_count": 187,
      "outputs": [
        {
          "output_type": "execute_result",
          "data": {
            "text/plain": [
              "{'a': 'somw value',\n",
              " 'b': [1, 2, 3, 4],\n",
              " 7: 'an integer',\n",
              " 'dummy': 'another value'}"
            ]
          },
          "metadata": {},
          "execution_count": 187
        }
      ]
    },
    {
      "cell_type": "code",
      "source": [
        "# Remove a key-value pair from the dictionary and return the value using the pop() method\n",
        "ret = d1.pop('dummy')\n",
        "# Display the returned value\n",
        "ret\n",
        "# Display the modified dictionary\n",
        "d1"
      ],
      "metadata": {
        "colab": {
          "base_uri": "https://localhost:8080/"
        },
        "id": "-HIdhdABScdV",
        "outputId": "e3f13b3f-ed8b-4cb9-baa5-ebc29bf4ef5f"
      },
      "execution_count": 188,
      "outputs": [
        {
          "output_type": "execute_result",
          "data": {
            "text/plain": [
              "{'a': 'somw value', 'b': [1, 2, 3, 4], 7: 'an integer'}"
            ]
          },
          "metadata": {},
          "execution_count": 188
        }
      ]
    },
    {
      "cell_type": "code",
      "source": [
        "# Get a list of all keys in the dictionary\n",
        "list(d1.keys())"
      ],
      "metadata": {
        "colab": {
          "base_uri": "https://localhost:8080/"
        },
        "id": "qDw_IN_ZSiqF",
        "outputId": "b83efe4d-dbc7-4104-d9c1-c4ad0d0a05d4"
      },
      "execution_count": 189,
      "outputs": [
        {
          "output_type": "execute_result",
          "data": {
            "text/plain": [
              "['a', 'b', 7]"
            ]
          },
          "metadata": {},
          "execution_count": 189
        }
      ]
    },
    {
      "cell_type": "code",
      "source": [
        "# Get a list of all values in the dictionary\n",
        "list(d1.values())"
      ],
      "metadata": {
        "colab": {
          "base_uri": "https://localhost:8080/"
        },
        "id": "RFwBX2RmSnh1",
        "outputId": "239a47b5-33cf-4568-c276-efcfa3155fa4"
      },
      "execution_count": 190,
      "outputs": [
        {
          "output_type": "execute_result",
          "data": {
            "text/plain": [
              "['somw value', [1, 2, 3, 4], 'an integer']"
            ]
          },
          "metadata": {},
          "execution_count": 190
        }
      ]
    },
    {
      "cell_type": "code",
      "source": [
        "# Get a list of key-value pairs (as tuples) in the dictionary\n",
        "list(d1.items())"
      ],
      "metadata": {
        "colab": {
          "base_uri": "https://localhost:8080/"
        },
        "id": "RysmORrnSsCb",
        "outputId": "6aab9976-b14a-479d-a884-fc8dc3c2581c"
      },
      "execution_count": 191,
      "outputs": [
        {
          "output_type": "execute_result",
          "data": {
            "text/plain": [
              "[('a', 'somw value'), ('b', [1, 2, 3, 4]), (7, 'an integer')]"
            ]
          },
          "metadata": {},
          "execution_count": 191
        }
      ]
    },
    {
      "cell_type": "code",
      "source": [
        "# Update the dictionary with key-value pairs from another dictionary or iterable of key-value pairs\n",
        "d1.update({'b': \"foo\", 'c': 12})\n",
        "# Display the modified dictionary\n",
        "d1"
      ],
      "metadata": {
        "colab": {
          "base_uri": "https://localhost:8080/"
        },
        "id": "0Pef06SpSwQG",
        "outputId": "5403936c-25ea-45ba-88ea-0e705b0e15ab"
      },
      "execution_count": 192,
      "outputs": [
        {
          "output_type": "execute_result",
          "data": {
            "text/plain": [
              "{'a': 'somw value', 'b': 'foo', 7: 'an integer', 'c': 12}"
            ]
          },
          "metadata": {},
          "execution_count": 192
        }
      ]
    },
    {
      "cell_type": "markdown",
      "source": [
        "**Creating dicts from sequences**\n"
      ],
      "metadata": {
        "id": "e6OhDh60pNGv"
      }
    },
    {
      "cell_type": "code",
      "source": [
        "# Create a zip object that pairs elements from two iterables\n",
        "tuples = zip(range(5), reversed(range(5)))\n",
        "# Display the zip object\n",
        "tuples"
      ],
      "metadata": {
        "colab": {
          "base_uri": "https://localhost:8080/"
        },
        "id": "6SAdP5MUS6G2",
        "outputId": "1188776c-6bde-43be-c3a5-42abcf276d09"
      },
      "execution_count": 193,
      "outputs": [
        {
          "output_type": "execute_result",
          "data": {
            "text/plain": [
              "<zip at 0x7ea512b64880>"
            ]
          },
          "metadata": {},
          "execution_count": 193
        }
      ]
    },
    {
      "cell_type": "code",
      "source": [
        "# Convert the zip object to a dictionary\n",
        "mapping = dict(tuples)\n",
        "# Display the dictionary\n",
        "mapping"
      ],
      "metadata": {
        "colab": {
          "base_uri": "https://localhost:8080/"
        },
        "id": "BCt1gupZS_SG",
        "outputId": "5cc480cf-5832-4997-966f-f619c66fb225"
      },
      "execution_count": 194,
      "outputs": [
        {
          "output_type": "execute_result",
          "data": {
            "text/plain": [
              "{0: 4, 1: 3, 2: 2, 3: 1, 4: 0}"
            ]
          },
          "metadata": {},
          "execution_count": 194
        }
      ]
    },
    {
      "cell_type": "markdown",
      "source": [
        "**Default values**"
      ],
      "metadata": {
        "id": "qeXSyIcJp1yV"
      }
    },
    {
      "cell_type": "code",
      "source": [
        "# Define a list of words\n",
        "words = ['apple', 'bat', 'bar', 'atom', 'book']\n",
        "\n",
        "# Create an empty dictionary to store words grouped by their first letter\n",
        "by_letter = {}\n",
        "\n",
        "# Iterate through the list of words\n",
        "for word in words:\n",
        "    # Get the first letter of the word\n",
        "    letter = word[0]\n",
        "    # Check if the letter is already a key in the dictionary\n",
        "    if letter not in by_letter:\n",
        "        # If not, create a new key with the letter and a list containing the current word\n",
        "        by_letter[letter] = [word]\n",
        "    else:\n",
        "        # If the letter is already a key, append the current word to the existing list\n",
        "        by_letter[letter].append(word)\n",
        "\n",
        "# Display the resulting dictionary\n",
        "by_letter"
      ],
      "metadata": {
        "id": "ZBLKqcXRTGnG",
        "colab": {
          "base_uri": "https://localhost:8080/"
        },
        "outputId": "28f80477-92be-4dd3-f15a-27264c07a996"
      },
      "execution_count": 195,
      "outputs": [
        {
          "output_type": "execute_result",
          "data": {
            "text/plain": [
              "{'a': ['apple', 'atom'], 'b': ['bat', 'bar', 'book']}"
            ]
          },
          "metadata": {},
          "execution_count": 195
        }
      ]
    },
    {
      "cell_type": "code",
      "source": [
        "# Create an empty dictionary\n",
        "by_letter = {}\n",
        "\n",
        "# Iterate through the list of words\n",
        "for word in words:\n",
        "  # Get the first letter of the word\n",
        "  letter = word[0]\n",
        "  # Use setdefault() to get the list for the letter (creating an empty list if the key doesn't exist)\n",
        "  # Then append the current word to the list\n",
        "  by_letter.setdefault(letter, []).append(word)\n",
        "\n",
        "# Display the resulting dictionary\n",
        "by_letter"
      ],
      "metadata": {
        "colab": {
          "base_uri": "https://localhost:8080/"
        },
        "id": "_M0EpNs_gieS",
        "outputId": "edd8fcd5-e60d-429e-e872-853608ddddc5"
      },
      "execution_count": 196,
      "outputs": [
        {
          "output_type": "execute_result",
          "data": {
            "text/plain": [
              "{'a': ['apple', 'atom'], 'b': ['bat', 'bar', 'book']}"
            ]
          },
          "metadata": {},
          "execution_count": 196
        }
      ]
    },
    {
      "cell_type": "code",
      "source": [
        "# Import the defaultdict class from the collections module\n",
        "from collections import defaultdict\n",
        "\n",
        "# Create a defaultdict with a default factory of list (automatically creates a list for new keys)\n",
        "by_letter = defaultdict(list)\n",
        "# Iterate through the list of words\n",
        "for word in words:\n",
        "  # Append the word to the list associated with its first letter\n",
        "  by_letter[word[0]].append(word)\n",
        "\n",
        "# Display the resulting defaultdict\n",
        "by_letter"
      ],
      "metadata": {
        "colab": {
          "base_uri": "https://localhost:8080/"
        },
        "id": "_fQO0gzjgtz_",
        "outputId": "2174fa7a-53fc-4e6c-b3f6-19e94a7ab238"
      },
      "execution_count": 197,
      "outputs": [
        {
          "output_type": "execute_result",
          "data": {
            "text/plain": [
              "defaultdict(list, {'a': ['apple', 'atom'], 'b': ['bat', 'bar', 'book']})"
            ]
          },
          "metadata": {},
          "execution_count": 197
        }
      ]
    },
    {
      "cell_type": "markdown",
      "source": [
        "**Valid dict key types**"
      ],
      "metadata": {
        "id": "1bUJiIM9qINS"
      }
    },
    {
      "cell_type": "code",
      "source": [
        "# Get the hash value of a string (strings are hashable)\n",
        "hash(\"string\")\n",
        "# Get the hash value of a tuple containing hashable elements (tuples are hashable if their contents are hashable)\n",
        "hash((1, 2,(2, 3)))\n",
        "# Attempt to get the hash value of a tuple containing a list (will raise a TypeError because lists are mutable and thus not hashable)\n",
        "hash((1, 2,[2, 3])) # Fails because list are mutable"
      ],
      "metadata": {
        "colab": {
          "base_uri": "https://localhost:8080/",
          "height": 176
        },
        "id": "IviUFk7BhNQP",
        "outputId": "ea5bc92b-4ef2-4e2a-e9e6-f8b74de104b7"
      },
      "execution_count": 198,
      "outputs": [
        {
          "output_type": "error",
          "ename": "TypeError",
          "evalue": "unhashable type: 'list'",
          "traceback": [
            "\u001b[0;31m---------------------------------------------------------------------------\u001b[0m",
            "\u001b[0;31mTypeError\u001b[0m                                 Traceback (most recent call last)",
            "\u001b[0;32m/tmp/ipython-input-198-2249248007.py\u001b[0m in \u001b[0;36m<cell line: 0>\u001b[0;34m()\u001b[0m\n\u001b[1;32m      4\u001b[0m \u001b[0mhash\u001b[0m\u001b[0;34m(\u001b[0m\u001b[0;34m(\u001b[0m\u001b[0;36m1\u001b[0m\u001b[0;34m,\u001b[0m \u001b[0;36m2\u001b[0m\u001b[0;34m,\u001b[0m\u001b[0;34m(\u001b[0m\u001b[0;36m2\u001b[0m\u001b[0;34m,\u001b[0m \u001b[0;36m3\u001b[0m\u001b[0;34m)\u001b[0m\u001b[0;34m)\u001b[0m\u001b[0;34m)\u001b[0m\u001b[0;34m\u001b[0m\u001b[0;34m\u001b[0m\u001b[0m\n\u001b[1;32m      5\u001b[0m \u001b[0;31m# Attempt to get the hash value of a tuple containing a list (will raise a TypeError because lists are mutable and thus not hashable)\u001b[0m\u001b[0;34m\u001b[0m\u001b[0;34m\u001b[0m\u001b[0m\n\u001b[0;32m----> 6\u001b[0;31m \u001b[0mhash\u001b[0m\u001b[0;34m(\u001b[0m\u001b[0;34m(\u001b[0m\u001b[0;36m1\u001b[0m\u001b[0;34m,\u001b[0m \u001b[0;36m2\u001b[0m\u001b[0;34m,\u001b[0m\u001b[0;34m[\u001b[0m\u001b[0;36m2\u001b[0m\u001b[0;34m,\u001b[0m \u001b[0;36m3\u001b[0m\u001b[0;34m]\u001b[0m\u001b[0;34m)\u001b[0m\u001b[0;34m)\u001b[0m \u001b[0;31m# Fails because list are mutable\u001b[0m\u001b[0;34m\u001b[0m\u001b[0;34m\u001b[0m\u001b[0m\n\u001b[0m",
            "\u001b[0;31mTypeError\u001b[0m: unhashable type: 'list'"
          ]
        }
      ]
    },
    {
      "cell_type": "code",
      "source": [
        "# Create an empty dictionary\n",
        "d = {}\n",
        "# Add a key-value pair to the dictionary where the key is a tuple (tuples are hashable)\n",
        "d[tuple([1, 2, 3])] = 5\n",
        "# Display the dictionary\n",
        "d"
      ],
      "metadata": {
        "colab": {
          "base_uri": "https://localhost:8080/"
        },
        "id": "ZUfVZaFphpjX",
        "outputId": "bf83548e-41f6-4a77-acab-f3f3f22bdfb4"
      },
      "execution_count": 199,
      "outputs": [
        {
          "output_type": "execute_result",
          "data": {
            "text/plain": [
              "{(1, 2, 3): 5}"
            ]
          },
          "metadata": {},
          "execution_count": 199
        }
      ]
    },
    {
      "cell_type": "markdown",
      "source": [
        "**set**"
      ],
      "metadata": {
        "id": "OSl60JsVqRBJ"
      }
    },
    {
      "cell_type": "code",
      "source": [
        "# Create a set from a list with duplicate elements (sets automatically remove duplicates)\n",
        "set([2, 2, 2, 1, 3, 3])\n",
        "# Create a set using set literal notation with duplicate elements\n",
        "{2, 2, 2, 1, 3, 3}"
      ],
      "metadata": {
        "colab": {
          "base_uri": "https://localhost:8080/"
        },
        "id": "Ep3FjTZChzAU",
        "outputId": "d38e223d-815b-4868-9384-598d10214e09"
      },
      "execution_count": 200,
      "outputs": [
        {
          "output_type": "execute_result",
          "data": {
            "text/plain": [
              "{1, 2, 3}"
            ]
          },
          "metadata": {},
          "execution_count": 200
        }
      ]
    },
    {
      "cell_type": "code",
      "source": [
        "# Define two sets\n",
        "a = {1, 2, 3, 4, 5}\n",
        "b = {3, 4, 5, 6, 7, 8}"
      ],
      "metadata": {
        "id": "kws3ZNLgh95g"
      },
      "execution_count": 201,
      "outputs": []
    },
    {
      "cell_type": "code",
      "source": [
        "# Perform a set union operation (elements in either set)\n",
        "a.union(b)\n",
        "\n",
        "# Perform a set union operation using the | operator\n",
        "a | b"
      ],
      "metadata": {
        "colab": {
          "base_uri": "https://localhost:8080/"
        },
        "id": "1Q0wNM48iA-X",
        "outputId": "342bab75-23bc-4070-f116-8bb67cf739db"
      },
      "execution_count": 202,
      "outputs": [
        {
          "output_type": "execute_result",
          "data": {
            "text/plain": [
              "{1, 2, 3, 4, 5, 6, 7, 8}"
            ]
          },
          "metadata": {},
          "execution_count": 202
        }
      ]
    },
    {
      "cell_type": "code",
      "source": [
        "# Perform a set intersection operation (elements common to both sets)\n",
        "a.intersection(b)\n",
        "# Perform a set intersection operation using the & operator\n",
        "a & b"
      ],
      "metadata": {
        "colab": {
          "base_uri": "https://localhost:8080/"
        },
        "id": "TEmjLR9FiHgx",
        "outputId": "653458e9-2904-424c-80c7-8f48ab2c1e0f"
      },
      "execution_count": 203,
      "outputs": [
        {
          "output_type": "execute_result",
          "data": {
            "text/plain": [
              "{3, 4, 5}"
            ]
          },
          "metadata": {},
          "execution_count": 203
        }
      ]
    },
    {
      "cell_type": "code",
      "source": [
        "# Create a copy of set a\n",
        "c = a.copy()\n",
        "# Perform an in-place union with set b\n",
        "c |= b\n",
        "# Display the modified set c\n",
        "c"
      ],
      "metadata": {
        "colab": {
          "base_uri": "https://localhost:8080/"
        },
        "id": "YRLlTHEfiip3",
        "outputId": "234595f8-ebfd-4f3b-e332-a6d61f4b1a0a"
      },
      "execution_count": 204,
      "outputs": [
        {
          "output_type": "execute_result",
          "data": {
            "text/plain": [
              "{1, 2, 3, 4, 5, 6, 7, 8}"
            ]
          },
          "metadata": {},
          "execution_count": 204
        }
      ]
    },
    {
      "cell_type": "code",
      "source": [
        "# Create a copy of set a\n",
        "d = a.copy()\n",
        "# Perform an in-place intersection with set b\n",
        "d &= b\n",
        "# Display the modified set d\n",
        "d"
      ],
      "metadata": {
        "colab": {
          "base_uri": "https://localhost:8080/"
        },
        "id": "7NVlJL7VisBI",
        "outputId": "b1245279-945d-4743-dd3e-7f1ef6e30ac6"
      },
      "execution_count": 205,
      "outputs": [
        {
          "output_type": "execute_result",
          "data": {
            "text/plain": [
              "{3, 4, 5}"
            ]
          },
          "metadata": {},
          "execution_count": 205
        }
      ]
    },
    {
      "cell_type": "code",
      "source": [
        "# Define a list\n",
        "my_data = [1, 2, 3, 4]\n",
        "# Create a set containing a tuple created from the list (tuples are hashable, lists are not)\n",
        "my_set = {tuple(my_data)}\n",
        "# Display the set\n",
        "my_set"
      ],
      "metadata": {
        "colab": {
          "base_uri": "https://localhost:8080/"
        },
        "id": "SQcoXPfYi4WM",
        "outputId": "7d5c6feb-bdd8-4e80-e023-633aac615cda"
      },
      "execution_count": 206,
      "outputs": [
        {
          "output_type": "execute_result",
          "data": {
            "text/plain": [
              "{(1, 2, 3, 4)}"
            ]
          },
          "metadata": {},
          "execution_count": 206
        }
      ]
    },
    {
      "cell_type": "code",
      "source": [
        "# Define a set\n",
        "a_set = {1, 2, 3, 4, 5}\n",
        "\n",
        "# Check if the set {1, 2, 3} is a subset of a_set\n",
        "{1, 2, 3}.issubset(a_set)"
      ],
      "metadata": {
        "colab": {
          "base_uri": "https://localhost:8080/"
        },
        "id": "TfKtibiqjCIw",
        "outputId": "a1075f2a-4e85-4a26-ae8b-95596ded7827"
      },
      "execution_count": 207,
      "outputs": [
        {
          "output_type": "execute_result",
          "data": {
            "text/plain": [
              "True"
            ]
          },
          "metadata": {},
          "execution_count": 207
        }
      ]
    },
    {
      "cell_type": "code",
      "source": [
        "# Check if a_set is a subset of the set {1, 2, 3}\n",
        "a_set.issubset({1, 2, 3})"
      ],
      "metadata": {
        "colab": {
          "base_uri": "https://localhost:8080/"
        },
        "id": "2MdQxYfojYow",
        "outputId": "a18daf37-d27c-4ee4-e7a9-1b30a92f83a3"
      },
      "execution_count": 208,
      "outputs": [
        {
          "output_type": "execute_result",
          "data": {
            "text/plain": [
              "False"
            ]
          },
          "metadata": {},
          "execution_count": 208
        }
      ]
    },
    {
      "cell_type": "code",
      "source": [
        "# Check if two sets are equal (order does not matter in sets)\n",
        "{1, 2, 3} == {3, 2, 1}"
      ],
      "metadata": {
        "colab": {
          "base_uri": "https://localhost:8080/"
        },
        "id": "UFcT6tP5jbkq",
        "outputId": "55bc74b9-3bb2-4731-be5e-634ed9950220"
      },
      "execution_count": 209,
      "outputs": [
        {
          "output_type": "execute_result",
          "data": {
            "text/plain": [
              "True"
            ]
          },
          "metadata": {},
          "execution_count": 209
        }
      ]
    },
    {
      "cell_type": "markdown",
      "source": [
        "**sorted**"
      ],
      "metadata": {
        "id": "LZ9vOyF9oiso"
      }
    },
    {
      "cell_type": "code",
      "source": [
        "# Sort a list (returns a new sorted list)\n",
        "sorted([7, 1, 2, 6, 0, 3, 2])\n",
        "# Sort a string (sorts the characters and returns a list of characters)\n",
        "sorted('horse race')"
      ],
      "metadata": {
        "colab": {
          "base_uri": "https://localhost:8080/"
        },
        "id": "PszLp4WijjRq",
        "outputId": "274e3650-7aa5-4e7c-ed8b-e5d1f655ba68"
      },
      "execution_count": 210,
      "outputs": [
        {
          "output_type": "execute_result",
          "data": {
            "text/plain": [
              "[' ', 'a', 'c', 'e', 'e', 'h', 'o', 'r', 'r', 's']"
            ]
          },
          "metadata": {},
          "execution_count": 210
        }
      ]
    },
    {
      "cell_type": "markdown",
      "source": [
        "**zip**"
      ],
      "metadata": {
        "id": "RLPQv60SomkR"
      }
    },
    {
      "cell_type": "code",
      "source": [
        "# Define two lists\n",
        "seq1 = [\"foo\", 'bar', \"baz\"]\n",
        "seq2 = ['one', 'two', 'three']\n",
        "# Create a zip object that pairs elements from seq1 and seq2\n",
        "zipped = zip(seq1, seq2)\n",
        "# Convert the zip object to a list of tuples\n",
        "list(zipped)"
      ],
      "metadata": {
        "colab": {
          "base_uri": "https://localhost:8080/"
        },
        "id": "XLJZGq2HjtxZ",
        "outputId": "3f9b8ef7-5a75-45ff-a128-699982cdd2e1"
      },
      "execution_count": 211,
      "outputs": [
        {
          "output_type": "execute_result",
          "data": {
            "text/plain": [
              "[('foo', 'one'), ('bar', 'two'), ('baz', 'three')]"
            ]
          },
          "metadata": {},
          "execution_count": 211
        }
      ]
    },
    {
      "cell_type": "code",
      "source": [
        "# Define a third list\n",
        "seq3 = [False, True]\n",
        "# Create a zip object that pairs elements from three lists (stops at the shortest list)\n",
        "list(zip(seq1, seq2, seq3))"
      ],
      "metadata": {
        "colab": {
          "base_uri": "https://localhost:8080/"
        },
        "id": "Ajc35eSqj66h",
        "outputId": "d62a06aa-c853-4c04-f226-82128d39e61c"
      },
      "execution_count": 212,
      "outputs": [
        {
          "output_type": "execute_result",
          "data": {
            "text/plain": [
              "[('foo', 'one', False), ('bar', 'two', True)]"
            ]
          },
          "metadata": {},
          "execution_count": 212
        }
      ]
    },
    {
      "cell_type": "code",
      "source": [
        "# Iterate over two sequences simultaneously using zip and get the index using enumerate\n",
        "for index, (a, b) in enumerate(zip(seq1, seq2)):\n",
        "    # Print the index and the paired elements\n",
        "    print(f\"{index}: {a}, {b}\")"
      ],
      "metadata": {
        "colab": {
          "base_uri": "https://localhost:8080/"
        },
        "id": "h1qPZ-cokJBB",
        "outputId": "df53b3f1-f5d9-427c-8fa6-c5d9759f35dc"
      },
      "execution_count": 213,
      "outputs": [
        {
          "output_type": "stream",
          "name": "stdout",
          "text": [
            "0: foo, one\n",
            "1: bar, two\n",
            "2: baz, three\n"
          ]
        }
      ]
    },
    {
      "cell_type": "markdown",
      "source": [
        "**reversed**"
      ],
      "metadata": {
        "id": "ghPpWkqKox40"
      }
    },
    {
      "cell_type": "code",
      "source": [
        "# Create a reversed iterator for a range of numbers\n",
        "list(reversed(range(10)))"
      ],
      "metadata": {
        "colab": {
          "base_uri": "https://localhost:8080/"
        },
        "id": "1_ijZ23XkKix",
        "outputId": "ed1da499-b4f0-442b-b688-b79f3c8e57c9"
      },
      "execution_count": 214,
      "outputs": [
        {
          "output_type": "execute_result",
          "data": {
            "text/plain": [
              "[9, 8, 7, 6, 5, 4, 3, 2, 1, 0]"
            ]
          },
          "metadata": {},
          "execution_count": 214
        }
      ]
    },
    {
      "cell_type": "code",
      "source": [
        "# Define a list of strings\n",
        "strings=['a','as','bat','car','dove','python']\n",
        "\n",
        "# Create a new list containing uppercase strings from the original list\n",
        "# where the length of the string is greater than 2\n",
        "[x.upper() for x in strings if len(x)>2]"
      ],
      "metadata": {
        "colab": {
          "base_uri": "https://localhost:8080/"
        },
        "id": "ZkQX5lenTGex",
        "outputId": "3c7a7f25-df50-4a61-854a-efd80f7e3546"
      },
      "execution_count": 215,
      "outputs": [
        {
          "output_type": "execute_result",
          "data": {
            "text/plain": [
              "['BAT', 'CAR', 'DOVE', 'PYTHON']"
            ]
          },
          "metadata": {},
          "execution_count": 215
        }
      ]
    },
    {
      "cell_type": "code",
      "source": [
        "# Create a set of the unique lengths of the strings in the list\n",
        "unique_lengths = {len(x) for x in strings}\n",
        "unique_lengths"
      ],
      "metadata": {
        "colab": {
          "base_uri": "https://localhost:8080/"
        },
        "id": "Hhf4EAWxTuV_",
        "outputId": "b4e3cc74-c86b-4ff9-f269-7e490aab918e"
      },
      "execution_count": 216,
      "outputs": [
        {
          "output_type": "execute_result",
          "data": {
            "text/plain": [
              "{1, 2, 3, 4, 6}"
            ]
          },
          "metadata": {},
          "execution_count": 216
        }
      ]
    },
    {
      "cell_type": "code",
      "source": [
        "# Create a set of the unique lengths of the strings in the list using map\n",
        "set(map(len, strings))"
      ],
      "metadata": {
        "colab": {
          "base_uri": "https://localhost:8080/"
        },
        "id": "IEgTtXwST65b",
        "outputId": "82e5beaa-3f71-4e14-952a-e239c04303d0"
      },
      "execution_count": 217,
      "outputs": [
        {
          "output_type": "execute_result",
          "data": {
            "text/plain": [
              "{1, 2, 3, 4, 6}"
            ]
          },
          "metadata": {},
          "execution_count": 217
        }
      ]
    },
    {
      "cell_type": "code",
      "source": [
        "# Create a dictionary where keys are the strings and values are their indices in the list\n",
        "loc_mapping = {val: index for index, val in enumerate(strings)}\n",
        "loc_mapping"
      ],
      "metadata": {
        "colab": {
          "base_uri": "https://localhost:8080/"
        },
        "id": "-SD1m84GUBLP",
        "outputId": "a1367bdc-0530-4f50-f191-ee7d078467f6"
      },
      "execution_count": 218,
      "outputs": [
        {
          "output_type": "execute_result",
          "data": {
            "text/plain": [
              "{'a': 0, 'as': 1, 'bat': 2, 'car': 3, 'dove': 4, 'python': 5}"
            ]
          },
          "metadata": {},
          "execution_count": 218
        }
      ]
    },
    {
      "cell_type": "code",
      "source": [
        "# Define a nested list of names\n",
        "all_data = [['john', 'Emily', 'Michael', 'Mary', 'Steven'],\n",
        "            ['Maria', 'Juan', 'Javier', 'Natalia', 'Pilar']]"
      ],
      "metadata": {
        "id": "_zdLD4P_ULjD"
      },
      "execution_count": 219,
      "outputs": []
    },
    {
      "cell_type": "code",
      "source": [
        "# Initialize an empty list to store names of interest\n",
        "names_of_interest = []\n",
        "\n",
        "# Iterate through the nested list of names\n",
        "for names in all_data:\n",
        "    # Create a list of names within the current sublist that contain 'a' at least twice\n",
        "    enough_as = [name for name in names if name.count('a') >= 2]\n",
        "    # Extend the names_of_interest list with the found names\n",
        "    names_of_interest.extend(enough_as)\n",
        "\n",
        "# Display the list of names of interest\n",
        "names_of_interest"
      ],
      "metadata": {
        "colab": {
          "base_uri": "https://localhost:8080/"
        },
        "id": "1jTXhUK5UlOB",
        "outputId": "52d9b6b6-d75c-42e3-9e3f-169a2e78158f"
      },
      "execution_count": 220,
      "outputs": [
        {
          "output_type": "execute_result",
          "data": {
            "text/plain": [
              "['Maria', 'Natalia']"
            ]
          },
          "metadata": {},
          "execution_count": 220
        }
      ]
    },
    {
      "cell_type": "code",
      "source": [
        "# Create a list of names from the nested list that contain 'a' at least twice using a list comprehension\n",
        "result = [name for names in all_data for name in names if name.count('a') >=2]\n",
        "\n",
        "# Display the resulting list\n",
        "result"
      ],
      "metadata": {
        "colab": {
          "base_uri": "https://localhost:8080/"
        },
        "id": "NC9lRxvLVr5C",
        "outputId": "e194f31a-67f4-4b1d-c178-8863374b41d4"
      },
      "execution_count": 221,
      "outputs": [
        {
          "output_type": "execute_result",
          "data": {
            "text/plain": [
              "['Maria', 'Natalia']"
            ]
          },
          "metadata": {},
          "execution_count": 221
        }
      ]
    },
    {
      "cell_type": "code",
      "source": [
        "# Define a list of tuples\n",
        "some_tuples = [(1, 2, 3), (4, 5, 6), (7, 8, 9)]\n",
        "# Flatten the list of tuples into a single list using a list comprehension\n",
        "flattened = [x for tup in some_tuples for x in tup]\n",
        "# Display the flattened list\n",
        "flattened"
      ],
      "metadata": {
        "colab": {
          "base_uri": "https://localhost:8080/"
        },
        "id": "xdnRoJv3WKK2",
        "outputId": "e0f452bb-52b2-45e2-9bc4-9c6a73699f78"
      },
      "execution_count": 222,
      "outputs": [
        {
          "output_type": "execute_result",
          "data": {
            "text/plain": [
              "[1, 2, 3, 4, 5, 6, 7, 8, 9]"
            ]
          },
          "metadata": {},
          "execution_count": 222
        }
      ]
    },
    {
      "cell_type": "code",
      "source": [
        "# Initialize an empty list to store the flattened elements\n",
        "flattened = []\n",
        "\n",
        "# Iterate through the list of tuples\n",
        "for tup in some_tuples:\n",
        "    # Iterate through each element in the tuple\n",
        "    for x in tup:\n",
        "        # Append the element to the flattened list\n",
        "        flattened.append(x)"
      ],
      "metadata": {
        "id": "GkPg53tWWVlT"
      },
      "execution_count": 223,
      "outputs": []
    },
    {
      "cell_type": "code",
      "source": [
        "# Create a nested list comprehension to get a list of lists, where each inner list contains the elements of a tuple\n",
        "[[x for x in tup] for tup in some_tuples]"
      ],
      "metadata": {
        "colab": {
          "base_uri": "https://localhost:8080/"
        },
        "id": "0EgrKAyDWaDN",
        "outputId": "6f3c590c-295c-41be-96a2-b3aea8f6693a"
      },
      "execution_count": 224,
      "outputs": [
        {
          "output_type": "execute_result",
          "data": {
            "text/plain": [
              "[[1, 2, 3], [4, 5, 6], [7, 8, 9]]"
            ]
          },
          "metadata": {},
          "execution_count": 224
        }
      ]
    },
    {
      "cell_type": "code",
      "source": [
        "# Define a simple function that adds two numbers\n",
        "def my_function(x, y):\n",
        "  return x + y"
      ],
      "metadata": {
        "id": "Y8aTSBKyWe-a"
      },
      "execution_count": 225,
      "outputs": []
    },
    {
      "cell_type": "code",
      "source": [
        "# Call the function with arguments 1 and 2\n",
        "my_function(1, 2)\n",
        "\n",
        "# Call the function and store the result in a variable\n",
        "result = my_function(1, 2)\n",
        "\n",
        "# Display the result\n",
        "result"
      ],
      "metadata": {
        "colab": {
          "base_uri": "https://localhost:8080/"
        },
        "id": "t9_abhLmWlQ4",
        "outputId": "57e0c516-fff3-4ba5-822c-9e7d69de1855"
      },
      "execution_count": 226,
      "outputs": [
        {
          "output_type": "execute_result",
          "data": {
            "text/plain": [
              "3"
            ]
          },
          "metadata": {},
          "execution_count": 226
        }
      ]
    },
    {
      "cell_type": "code",
      "source": [
        "# Define a function that prints a value but does not explicitly return anything\n",
        "def function_without_return(x):\n",
        "  print(x)\n",
        "\n",
        "# Call the function and store the result in a variable (will be None)\n",
        "result = function_without_return(\"hello!\")\n",
        "\n",
        "# Print the value of the result variable\n",
        "print(result)"
      ],
      "metadata": {
        "colab": {
          "base_uri": "https://localhost:8080/"
        },
        "id": "9rfJq3XNWxbl",
        "outputId": "70b3249d-7c6a-482d-9a1d-eb44bad491a5"
      },
      "execution_count": 227,
      "outputs": [
        {
          "output_type": "stream",
          "name": "stdout",
          "text": [
            "hello!\n",
            "None\n"
          ]
        }
      ]
    },
    {
      "cell_type": "code",
      "source": [
        "# Define a function with default argument z\n",
        "def my_function2(x, y, z=1.5):\n",
        "  # Check if z is greater than 1\n",
        "  if z > 1:\n",
        "    # Return the product of z and the sum of x and y\n",
        "    return z * (x + y)\n",
        "  else:\n",
        "    # Return the division of z by the sum of x and y\n",
        "    return z / (x + y)"
      ],
      "metadata": {
        "id": "A5w0xSNRW_mz"
      },
      "execution_count": 228,
      "outputs": []
    },
    {
      "cell_type": "code",
      "source": [
        "# Call the function with specified values for x, y, and z\n",
        "my_function2(5, 6, z=0.7)"
      ],
      "metadata": {
        "colab": {
          "base_uri": "https://localhost:8080/"
        },
        "id": "9k01NVsGXNJa",
        "outputId": "39dacd83-0563-4e56-df5c-18f203a37e77"
      },
      "execution_count": 229,
      "outputs": [
        {
          "output_type": "execute_result",
          "data": {
            "text/plain": [
              "0.06363636363636363"
            ]
          },
          "metadata": {},
          "execution_count": 229
        }
      ]
    },
    {
      "cell_type": "code",
      "source": [
        "# Call the function with specified values for x, y, and z\n",
        "my_function2(3.14, 7, 3.5)"
      ],
      "metadata": {
        "colab": {
          "base_uri": "https://localhost:8080/"
        },
        "id": "NCPkYirrXWYs",
        "outputId": "88f04b25-f19c-480d-e936-94464648de06"
      },
      "execution_count": 230,
      "outputs": [
        {
          "output_type": "execute_result",
          "data": {
            "text/plain": [
              "35.49"
            ]
          },
          "metadata": {},
          "execution_count": 230
        }
      ]
    },
    {
      "cell_type": "code",
      "source": [
        "# Call the function with specified values for x and y, using the default value for z\n",
        "my_function2(10, 20)"
      ],
      "metadata": {
        "colab": {
          "base_uri": "https://localhost:8080/"
        },
        "id": "T9D_4BIAXYe_",
        "outputId": "0c58bd5d-3bf7-4dae-95db-95b5a1fab208"
      },
      "execution_count": 231,
      "outputs": [
        {
          "output_type": "execute_result",
          "data": {
            "text/plain": [
              "45.0"
            ]
          },
          "metadata": {},
          "execution_count": 231
        }
      ]
    },
    {
      "cell_type": "code",
      "source": [
        "# Initialize an empty list outside the function\n",
        "a = []\n",
        "\n",
        "# Define a function that appends numbers from 0 to 4 to the list 'a'\n",
        "def func():\n",
        "  for i in range(5):\n",
        "    a.append(i)"
      ],
      "metadata": {
        "id": "YbxbjaP5Xd-j"
      },
      "execution_count": 232,
      "outputs": []
    },
    {
      "cell_type": "code",
      "source": [
        "# Call the function 'func'\n",
        "func()\n",
        "# Display the list 'a'\n",
        "a\n",
        "# Call the function 'func' again\n",
        "func()\n",
        "# Display the list 'a' again (elements are appended to the existing list)\n",
        "a"
      ],
      "metadata": {
        "colab": {
          "base_uri": "https://localhost:8080/"
        },
        "id": "HQ_OiSfVXmBD",
        "outputId": "6af6cb3d-0a7b-4247-f7b7-746d5230c202"
      },
      "execution_count": 233,
      "outputs": [
        {
          "output_type": "execute_result",
          "data": {
            "text/plain": [
              "[0, 1, 2, 3, 4, 0, 1, 2, 3, 4]"
            ]
          },
          "metadata": {},
          "execution_count": 233
        }
      ]
    },
    {
      "cell_type": "code",
      "source": [
        "# Initialize variable 'a' to None\n",
        "a = None\n",
        "# Define a function to bind a new list to the global variable 'a'\n",
        "def bind_a_variable():\n",
        "  # Declare that 'a' is the global variable\n",
        "  global a\n",
        "  # Assign an empty list to the global variable 'a'\n",
        "  a = []\n",
        "# Call the function to modify the global variable 'a'\n",
        "bind_a_variable()\n",
        "# Print the value of the global variable 'a'\n",
        "print(a)"
      ],
      "metadata": {
        "colab": {
          "base_uri": "https://localhost:8080/"
        },
        "id": "qMctQMIsXvzG",
        "outputId": "fa459d9c-201f-4b1b-bdd8-5b36595f9435"
      },
      "execution_count": 234,
      "outputs": [
        {
          "output_type": "stream",
          "name": "stdout",
          "text": [
            "[]\n"
          ]
        }
      ]
    },
    {
      "cell_type": "code",
      "source": [
        "# Define a list of strings representing states\n",
        "states = ['Alabama', 'Georgia!', \"Georgia\", 'Georgia', 'FlOrIda', 'south carolina##', 'West virginia?']"
      ],
      "metadata": {
        "id": "izaP7Rf_YENj"
      },
      "execution_count": 235,
      "outputs": []
    },
    {
      "cell_type": "code",
      "source": [
        "import re\n",
        "\n",
        "# Define a function to clean a list of strings\n",
        "def clean_strings(strings):\n",
        "  # Initialize an empty list to store the cleaned strings\n",
        "  result = []\n",
        "  # Iterate through the input list of strings\n",
        "  for value in strings:\n",
        "    # Remove leading/trailing whitespace\n",
        "    value = value.strip()\n",
        "    # Remove specified punctuation characters using regular expressions\n",
        "    value = re.sub('[!#?]', \"\", value)\n",
        "    # Capitalize the first letter of each word\n",
        "    value = value.title()\n",
        "    # Append the cleaned string to the result list\n",
        "    result.append(value)\n",
        "  # Return the list of cleaned strings\n",
        "  return result"
      ],
      "metadata": {
        "id": "f60AHJapYWiN"
      },
      "execution_count": 236,
      "outputs": []
    },
    {
      "cell_type": "code",
      "source": [
        "# Call the clean_strings function with the states list and display the result\n",
        "clean_strings(states)"
      ],
      "metadata": {
        "colab": {
          "base_uri": "https://localhost:8080/"
        },
        "id": "nIMKNXfrY8l7",
        "outputId": "874474e2-a4b0-4e8a-9250-b8efdbb3949c"
      },
      "execution_count": 237,
      "outputs": [
        {
          "output_type": "execute_result",
          "data": {
            "text/plain": [
              "['Alabama',\n",
              " 'Georgia',\n",
              " 'Georgia',\n",
              " 'Georgia',\n",
              " 'Florida',\n",
              " 'South Carolina',\n",
              " 'West Virginia']"
            ]
          },
          "metadata": {},
          "execution_count": 237
        }
      ]
    },
    {
      "cell_type": "code",
      "source": [
        "# Define a function to remove punctuation using regular expressions\n",
        "def remove_punctuation(value):\n",
        "  return re.sub(\"[!#?]\", \"\", value)\n",
        "\n",
        "# Define a list of cleaning operations (functions)\n",
        "clean_ops = [str.strip, remove_punctuation, str.title]\n",
        "\n",
        "# Define a function to apply a list of cleaning operations to a list of strings\n",
        "def clean_strings(strings, ops):\n",
        "  # Initialize an empty list to store the cleaned strings\n",
        "  result = []\n",
        "\n",
        "  # Iterate through the input list of strings\n",
        "  for value in strings:\n",
        "    # Iterate through the list of cleaning operations\n",
        "    for function in ops:\n",
        "      # Apply the current cleaning function to the value\n",
        "      value = function(value)\n",
        "    # Append the cleaned string to the result list\n",
        "    result.append(value)\n",
        "  # Return the list of cleaned strings\n",
        "  return result"
      ],
      "metadata": {
        "id": "icHc2yDQZBbj"
      },
      "execution_count": 238,
      "outputs": []
    },
    {
      "cell_type": "code",
      "source": [
        "# Call the clean_strings function with the states list and the list of cleaning operations, and display the result\n",
        "clean_strings(states, clean_ops)"
      ],
      "metadata": {
        "colab": {
          "base_uri": "https://localhost:8080/"
        },
        "id": "_CJFUT8IZgrc",
        "outputId": "35aaa23e-05cf-4fac-ef47-5e4d950c1d9f"
      },
      "execution_count": 239,
      "outputs": [
        {
          "output_type": "execute_result",
          "data": {
            "text/plain": [
              "['Alabama',\n",
              " 'Georgia',\n",
              " 'Georgia',\n",
              " 'Georgia',\n",
              " 'Florida',\n",
              " 'South Carolina',\n",
              " 'West Virginia']"
            ]
          },
          "metadata": {},
          "execution_count": 239
        }
      ]
    },
    {
      "cell_type": "code",
      "source": [
        "# Apply the remove_punctuation function to each element in the states list using map\n",
        "# Iterate through the results and print each cleaned string\n",
        "for x in map (remove_punctuation, states):\n",
        "  print(x)"
      ],
      "metadata": {
        "colab": {
          "base_uri": "https://localhost:8080/"
        },
        "id": "AR2bQc7BZsPi",
        "outputId": "6adb287e-02b4-4292-90c2-de2f33ce4ed5"
      },
      "execution_count": 240,
      "outputs": [
        {
          "output_type": "stream",
          "name": "stdout",
          "text": [
            "Alabama\n",
            "Georgia\n",
            "Georgia\n",
            "Georgia\n",
            "FlOrIda\n",
            "south carolina\n",
            "West virginia\n"
          ]
        }
      ]
    },
    {
      "cell_type": "code",
      "source": [
        "# Define a simple function that multiplies a number by 2\n",
        "def short_function(x):\n",
        "  return x * 2\n",
        "\n",
        "# Define an equivalent anonymous function (lambda function)\n",
        "equiv_anon = lambda x: x * 2"
      ],
      "metadata": {
        "id": "wUQictO5Z518"
      },
      "execution_count": 241,
      "outputs": []
    },
    {
      "cell_type": "code",
      "source": [
        "# Define a function that applies a given function to each element in a list\n",
        "def apply_to_list(some_list, f):\n",
        "  # Use a list comprehension to apply the function f to each element x in some_list\n",
        "  return [f(x) for x in some_list]\n",
        "\n",
        "# Define a list of integers\n",
        "ints = [4, 0, 1, 5, 6]\n",
        "# Apply the lambda function (multiply by 2) to each element in the ints list and display the result\n",
        "apply_to_list(ints, lambda x: x * 2)"
      ],
      "metadata": {
        "colab": {
          "base_uri": "https://localhost:8080/"
        },
        "id": "eXOLl4uDaGtT",
        "outputId": "f1d0c57f-b54c-43bc-9535-73880dc9cc49"
      },
      "execution_count": 242,
      "outputs": [
        {
          "output_type": "execute_result",
          "data": {
            "text/plain": [
              "[8, 0, 2, 10, 12]"
            ]
          },
          "metadata": {},
          "execution_count": 242
        }
      ]
    },
    {
      "cell_type": "code",
      "source": [
        "# Define a list of strings\n",
        "strings = ['foo', 'card', 'bar', 'aaaa', 'abab']"
      ],
      "metadata": {
        "id": "K8dgBshwaQR_"
      },
      "execution_count": 243,
      "outputs": []
    },
    {
      "cell_type": "code",
      "source": [
        "# Sort the list of strings in place based on the number of unique characters in each string\n",
        "strings.sort(key=lambda x: len(set(list(x))))\n",
        "# Display the sorted list\n",
        "strings"
      ],
      "metadata": {
        "colab": {
          "base_uri": "https://localhost:8080/"
        },
        "id": "rqZFMYIlaapQ",
        "outputId": "9c3f9008-92e5-4376-ff68-ed1f99cf8a9e"
      },
      "execution_count": 244,
      "outputs": [
        {
          "output_type": "execute_result",
          "data": {
            "text/plain": [
              "['aaaa', 'foo', 'abab', 'bar', 'card']"
            ]
          },
          "metadata": {},
          "execution_count": 244
        }
      ]
    },
    {
      "cell_type": "code",
      "source": [
        "# Define a dictionary\n",
        "some_dict = {'a': 1, 'b': 2, \"c\": 3}\n",
        "\n",
        "# Iterate through the keys of the dictionary and print each key\n",
        "for key in some_dict:\n",
        "  print(key)"
      ],
      "metadata": {
        "colab": {
          "base_uri": "https://localhost:8080/"
        },
        "id": "1ONILX9PakG2",
        "outputId": "c62c88a6-b9b7-4fd0-d379-12a3e97771f6"
      },
      "execution_count": 245,
      "outputs": [
        {
          "output_type": "stream",
          "name": "stdout",
          "text": [
            "a\n",
            "b\n",
            "c\n"
          ]
        }
      ]
    },
    {
      "cell_type": "code",
      "source": [
        "# Get an iterator for the keys of the dictionary\n",
        "dict_iterator = iter(some_dict)\n",
        "# Display the dictionary iterator object\n",
        "dict_iterator"
      ],
      "metadata": {
        "colab": {
          "base_uri": "https://localhost:8080/"
        },
        "id": "U9UrIFC3a7NG",
        "outputId": "3eca88bb-128e-4ee3-c6b4-eafaf1d3f57e"
      },
      "execution_count": 246,
      "outputs": [
        {
          "output_type": "execute_result",
          "data": {
            "text/plain": [
              "<dict_keyiterator at 0x7ea512d56b60>"
            ]
          },
          "metadata": {},
          "execution_count": 246
        }
      ]
    },
    {
      "cell_type": "code",
      "source": [
        "# Convert the dictionary iterator to a list and display it\n",
        "list(dict_iterator)"
      ],
      "metadata": {
        "colab": {
          "base_uri": "https://localhost:8080/"
        },
        "id": "PL2fzopXbApm",
        "outputId": "f0ee3fec-402c-4f7a-e0ac-b675208e2747"
      },
      "execution_count": 247,
      "outputs": [
        {
          "output_type": "execute_result",
          "data": {
            "text/plain": [
              "['a', 'b', 'c']"
            ]
          },
          "metadata": {},
          "execution_count": 247
        }
      ]
    },
    {
      "cell_type": "code",
      "source": [
        "# Define a generator function that yields the square of numbers from 1 up to n^2\n",
        "def squares(n=10):\n",
        "  # Print a message indicating the range of squares being generated\n",
        "  print(f\"Generating squares from 1 to {n ** 2}\")\n",
        "  # Iterate from 1 to n (inclusive)\n",
        "  for i in range(1, n + 1):\n",
        "    # Yield the square of the current number\n",
        "    yield i ** 2"
      ],
      "metadata": {
        "id": "A_ya1ihIbDx_"
      },
      "execution_count": 248,
      "outputs": []
    },
    {
      "cell_type": "code",
      "source": [
        "# Create a generator object by calling the squares function\n",
        "gen = squares()\n",
        "# Display the generator object\n",
        "gen"
      ],
      "metadata": {
        "colab": {
          "base_uri": "https://localhost:8080/"
        },
        "id": "XDntmCqHbMl8",
        "outputId": "4619121b-efe8-4427-8a06-5cde4f65ab47"
      },
      "execution_count": 249,
      "outputs": [
        {
          "output_type": "execute_result",
          "data": {
            "text/plain": [
              "<generator object squares at 0x7ea512bac900>"
            ]
          },
          "metadata": {},
          "execution_count": 249
        }
      ]
    },
    {
      "cell_type": "code",
      "source": [
        "# Iterate through the generator object and print each yielded value without a newline\n",
        "for x in gen:\n",
        "  print(x, end= \"\")"
      ],
      "metadata": {
        "colab": {
          "base_uri": "https://localhost:8080/"
        },
        "id": "I3z40RfnbPfg",
        "outputId": "79aed8c3-aad7-4f3f-ee41-2b6692f87a94"
      },
      "execution_count": 250,
      "outputs": [
        {
          "output_type": "stream",
          "name": "stdout",
          "text": [
            "Generating squares from 1 to 100\n",
            "149162536496481100"
          ]
        }
      ]
    },
    {
      "cell_type": "code",
      "source": [
        "# Create a generator expression that yields the square of numbers from 0 to 99\n",
        "gen = (x ** 2 for x in range(100))\n",
        "# Display the generator expression object\n",
        "gen"
      ],
      "metadata": {
        "colab": {
          "base_uri": "https://localhost:8080/"
        },
        "id": "ICfCAqRUbU5_",
        "outputId": "a939a0f1-b0e0-42df-8a24-afe77bcdab9b"
      },
      "execution_count": 251,
      "outputs": [
        {
          "output_type": "execute_result",
          "data": {
            "text/plain": [
              "<generator object <genexpr> at 0x7ea512eb7100>"
            ]
          },
          "metadata": {},
          "execution_count": 251
        }
      ]
    },
    {
      "cell_type": "code",
      "source": [
        "# Calculate the sum of squares of numbers from 0 to 99 using a generator expression\n",
        "sum(x ** 2 for x in range(100))\n",
        "# Create a dictionary where keys are numbers from 0 to 4 and values are their squares using a dictionary comprehension\n",
        "dict((i, i ** 2) for i in range(5))"
      ],
      "metadata": {
        "colab": {
          "base_uri": "https://localhost:8080/"
        },
        "id": "C7xbeBFabbd-",
        "outputId": "6ec6cbd6-3226-46a1-e907-b19e005628b1"
      },
      "execution_count": 252,
      "outputs": [
        {
          "output_type": "execute_result",
          "data": {
            "text/plain": [
              "{0: 0, 1: 1, 2: 4, 3: 9, 4: 16}"
            ]
          },
          "metadata": {},
          "execution_count": 252
        }
      ]
    },
    {
      "cell_type": "code",
      "source": [
        "import itertools\n",
        "# Define a function to get the first letter of a string\n",
        "def first_letter(x):\n",
        "  return x[0]\n",
        "\n",
        "# Define a list of names\n",
        "names = ['Alan', 'Adam', 'Wes', 'Will', 'Albert', 'Steven']\n",
        "\n",
        "# Group the names by their first letter using itertools.groupby\n",
        "for letter, names in itertools.groupby(names, first_letter):\n",
        "  # Print the first letter and the list of names starting with that letter\n",
        "  print(letter, list(names))"
      ],
      "metadata": {
        "colab": {
          "base_uri": "https://localhost:8080/"
        },
        "id": "mHS-AoQtbnBX",
        "outputId": "5e82aad1-f903-4c7f-ffe4-4d91f9a2354b"
      },
      "execution_count": 253,
      "outputs": [
        {
          "output_type": "stream",
          "name": "stdout",
          "text": [
            "A ['Alan', 'Adam']\n",
            "W ['Wes', 'Will']\n",
            "A ['Albert']\n",
            "S ['Steven']\n"
          ]
        }
      ]
    },
    {
      "cell_type": "code",
      "source": [
        "# Convert the string '1.2345' to a float\n",
        "float('1.2345')"
      ],
      "metadata": {
        "colab": {
          "base_uri": "https://localhost:8080/"
        },
        "id": "sVG7a_ZNb1Sc",
        "outputId": "b94e1bf0-b5f9-4a7a-f075-61290733e78d"
      },
      "execution_count": 254,
      "outputs": [
        {
          "output_type": "execute_result",
          "data": {
            "text/plain": [
              "1.2345"
            ]
          },
          "metadata": {},
          "execution_count": 254
        }
      ]
    },
    {
      "cell_type": "code",
      "source": [
        "# Attempt to convert the string 'something' to a float (will raise a ValueError)\n",
        "float('something')"
      ],
      "metadata": {
        "colab": {
          "base_uri": "https://localhost:8080/",
          "height": 158
        },
        "id": "GHNiq9pzb_pU",
        "outputId": "a727885b-ce9f-4219-b7f4-4341bdc3b29d"
      },
      "execution_count": 255,
      "outputs": [
        {
          "output_type": "error",
          "ename": "ValueError",
          "evalue": "could not convert string to float: 'something'",
          "traceback": [
            "\u001b[0;31m---------------------------------------------------------------------------\u001b[0m",
            "\u001b[0;31mValueError\u001b[0m                                Traceback (most recent call last)",
            "\u001b[0;32m/tmp/ipython-input-255-3461663551.py\u001b[0m in \u001b[0;36m<cell line: 0>\u001b[0;34m()\u001b[0m\n\u001b[1;32m      1\u001b[0m \u001b[0;31m# Attempt to convert the string 'something' to a float (will raise a ValueError)\u001b[0m\u001b[0;34m\u001b[0m\u001b[0;34m\u001b[0m\u001b[0m\n\u001b[0;32m----> 2\u001b[0;31m \u001b[0mfloat\u001b[0m\u001b[0;34m(\u001b[0m\u001b[0;34m'something'\u001b[0m\u001b[0;34m)\u001b[0m\u001b[0;34m\u001b[0m\u001b[0;34m\u001b[0m\u001b[0m\n\u001b[0m",
            "\u001b[0;31mValueError\u001b[0m: could not convert string to float: 'something'"
          ]
        }
      ]
    },
    {
      "cell_type": "code",
      "source": [
        "# Define a function that attempts to convert input to float and returns the original input if conversion fails\n",
        "def attempt_float(x):\n",
        "  try:\n",
        "    # Attempt to convert the input to a float\n",
        "    return float(x)\n",
        "  except:\n",
        "    # If any exception occurs during conversion, return the original input\n",
        "    return x"
      ],
      "metadata": {
        "id": "1UpVe6qFcBU-"
      },
      "execution_count": 256,
      "outputs": []
    },
    {
      "cell_type": "code",
      "source": [
        "# Call the attempt_float function with a valid float string and display the result\n",
        "attempt_float('1.2345')"
      ],
      "metadata": {
        "colab": {
          "base_uri": "https://localhost:8080/"
        },
        "id": "vdhKN2PmcMc1",
        "outputId": "d6ae895a-90d8-46a4-a401-d2c29c888112"
      },
      "execution_count": 257,
      "outputs": [
        {
          "output_type": "execute_result",
          "data": {
            "text/plain": [
              "1.2345"
            ]
          },
          "metadata": {},
          "execution_count": 257
        }
      ]
    },
    {
      "cell_type": "code",
      "source": [
        "# Call the attempt_float function with a non-float string and display the result\n",
        "attempt_float('something')"
      ],
      "metadata": {
        "colab": {
          "base_uri": "https://localhost:8080/",
          "height": 36
        },
        "id": "iEb6YPyZcSj_",
        "outputId": "ea014ea4-a249-45cc-ee25-591cf265c520"
      },
      "execution_count": 258,
      "outputs": [
        {
          "output_type": "execute_result",
          "data": {
            "text/plain": [
              "'something'"
            ],
            "application/vnd.google.colaboratory.intrinsic+json": {
              "type": "string"
            }
          },
          "metadata": {},
          "execution_count": 258
        }
      ]
    },
    {
      "cell_type": "code",
      "source": [
        "# Define a function that attempts to convert input to float and returns the original input if a ValueError occurs\n",
        "def attempt_float(x):\n",
        "  try:\n",
        "    # Attempt to convert the input to a float\n",
        "    return float(x)\n",
        "  except ValueError:\n",
        "    # If a ValueError occurs during conversion, return the original input\n",
        "    return x"
      ],
      "metadata": {
        "id": "358XZ-BWcX3u"
      },
      "execution_count": 259,
      "outputs": []
    },
    {
      "cell_type": "code",
      "source": [
        "# Call the attempt_float function with a tuple (will raise a TypeError)\n",
        "attempt_float((1, 2))"
      ],
      "metadata": {
        "colab": {
          "base_uri": "https://localhost:8080/",
          "height": 280
        },
        "id": "FPFCB2Gmcdkw",
        "outputId": "8cadf7ec-a97f-49aa-9f52-ca37aafd2ec4"
      },
      "execution_count": 260,
      "outputs": [
        {
          "output_type": "error",
          "ename": "TypeError",
          "evalue": "float() argument must be a string or a real number, not 'tuple'",
          "traceback": [
            "\u001b[0;31m---------------------------------------------------------------------------\u001b[0m",
            "\u001b[0;31mTypeError\u001b[0m                                 Traceback (most recent call last)",
            "\u001b[0;32m/tmp/ipython-input-260-2950590289.py\u001b[0m in \u001b[0;36m<cell line: 0>\u001b[0;34m()\u001b[0m\n\u001b[1;32m      1\u001b[0m \u001b[0;31m# Call the attempt_float function with a tuple (will raise a TypeError)\u001b[0m\u001b[0;34m\u001b[0m\u001b[0;34m\u001b[0m\u001b[0m\n\u001b[0;32m----> 2\u001b[0;31m \u001b[0mattempt_float\u001b[0m\u001b[0;34m(\u001b[0m\u001b[0;34m(\u001b[0m\u001b[0;36m1\u001b[0m\u001b[0;34m,\u001b[0m \u001b[0;36m2\u001b[0m\u001b[0;34m)\u001b[0m\u001b[0;34m)\u001b[0m\u001b[0;34m\u001b[0m\u001b[0;34m\u001b[0m\u001b[0m\n\u001b[0m",
            "\u001b[0;32m/tmp/ipython-input-259-918974743.py\u001b[0m in \u001b[0;36mattempt_float\u001b[0;34m(x)\u001b[0m\n\u001b[1;32m      3\u001b[0m   \u001b[0;32mtry\u001b[0m\u001b[0;34m:\u001b[0m\u001b[0;34m\u001b[0m\u001b[0;34m\u001b[0m\u001b[0m\n\u001b[1;32m      4\u001b[0m     \u001b[0;31m# Attempt to convert the input to a float\u001b[0m\u001b[0;34m\u001b[0m\u001b[0;34m\u001b[0m\u001b[0m\n\u001b[0;32m----> 5\u001b[0;31m     \u001b[0;32mreturn\u001b[0m \u001b[0mfloat\u001b[0m\u001b[0;34m(\u001b[0m\u001b[0mx\u001b[0m\u001b[0;34m)\u001b[0m\u001b[0;34m\u001b[0m\u001b[0;34m\u001b[0m\u001b[0m\n\u001b[0m\u001b[1;32m      6\u001b[0m   \u001b[0;32mexcept\u001b[0m \u001b[0mValueError\u001b[0m\u001b[0;34m:\u001b[0m\u001b[0;34m\u001b[0m\u001b[0;34m\u001b[0m\u001b[0m\n\u001b[1;32m      7\u001b[0m     \u001b[0;31m# If a ValueError occurs during conversion, return the original input\u001b[0m\u001b[0;34m\u001b[0m\u001b[0;34m\u001b[0m\u001b[0m\n",
            "\u001b[0;31mTypeError\u001b[0m: float() argument must be a string or a real number, not 'tuple'"
          ]
        }
      ]
    },
    {
      "cell_type": "code",
      "source": [
        "# Define a function that attempts to convert input to float and returns the original input if a TypeError or ValueError occurs\n",
        "def attempt_float(x):\n",
        "  try:\n",
        "    # Attempt to convert the input to a float\n",
        "    return float(x)\n",
        "  except (TypeError, ValueError):\n",
        "    # If a TypeError or ValueError occurs during conversion, return the original input\n",
        "    return x"
      ],
      "metadata": {
        "id": "Vst76cTWcjB9"
      },
      "execution_count": 261,
      "outputs": []
    },
    {
      "cell_type": "code",
      "source": [
        "# Define the path to the text file\n",
        "path = 'segismundo.txt'\n",
        "# Open the file in read mode with utf-8 encoding\n",
        "f = open(path, encoding='utf-8')"
      ],
      "metadata": {
        "id": "ihJwaKKYcsVW"
      },
      "execution_count": 262,
      "outputs": []
    },
    {
      "cell_type": "code",
      "source": [
        "# Open the file, read each line, remove trailing whitespace, and store in a list\n",
        "lines = [x.rstrip() for x in open(path, encoding='utf-8')]\n",
        "# Display the list of lines\n",
        "lines"
      ],
      "metadata": {
        "colab": {
          "base_uri": "https://localhost:8080/"
        },
        "id": "0QKDyb23c3jA",
        "outputId": "5eb5b8af-9979-4d12-e58e-ad856a6db374"
      },
      "execution_count": 263,
      "outputs": [
        {
          "output_type": "execute_result",
          "data": {
            "text/plain": [
              "['Sueña el rico en su riqueza,',\n",
              " 'que más cuidados le ofrece;',\n",
              " '',\n",
              " 'sueña el pobre que padece',\n",
              " 'su miseria y su pobreza;',\n",
              " '',\n",
              " 'sueña el que a medrar empieza,',\n",
              " 'sueña el que afana y pretende,',\n",
              " 'sueña el que agravia y ofende,',\n",
              " '',\n",
              " 'y en el mundo, en conclusión,',\n",
              " 'todos sueñan lo que son,',\n",
              " 'aunque ninguno lo entiende.',\n",
              " '']"
            ]
          },
          "metadata": {},
          "execution_count": 263
        }
      ]
    },
    {
      "cell_type": "code",
      "source": [
        "# Close the file\n",
        "f.close()"
      ],
      "metadata": {
        "id": "9Dyuhx_Hc80P"
      },
      "execution_count": 264,
      "outputs": []
    },
    {
      "cell_type": "code",
      "source": [
        "# Open the file using a with statement (ensures the file is closed automatically)\n",
        "with open(path, encoding='utf-8') as f:\n",
        "  # Read each line, remove trailing whitespace, and store in a list\n",
        "  lines = [x.rstrip() for x in f]"
      ],
      "metadata": {
        "id": "oW9_mTtYc-Un"
      },
      "execution_count": 265,
      "outputs": []
    },
    {
      "cell_type": "code",
      "source": [
        "# Open the file in text mode\n",
        "f1 = open(path)\n",
        "# Read the first 10 characters\n",
        "f1.read(10)\n",
        "# Open the file in binary mode\n",
        "f2 = open(path, 'rb')\n",
        "# Read the first 10 bytes\n",
        "f2.read(10)"
      ],
      "metadata": {
        "colab": {
          "base_uri": "https://localhost:8080/"
        },
        "id": "M4-l3b29dDYU",
        "outputId": "8efa640a-191f-4ecb-cfae-319b723dd18a"
      },
      "execution_count": 266,
      "outputs": [
        {
          "output_type": "execute_result",
          "data": {
            "text/plain": [
              "b'Sue\\xc3\\xb1a el '"
            ]
          },
          "metadata": {},
          "execution_count": 266
        }
      ]
    },
    {
      "cell_type": "code",
      "source": [
        "# Get the current position of the file pointer in f1\n",
        "f1.tell()\n",
        "# Get the current position of the file pointer in f2\n",
        "f2.tell()"
      ],
      "metadata": {
        "colab": {
          "base_uri": "https://localhost:8080/"
        },
        "id": "KmXHE0qMdKju",
        "outputId": "44347dfe-fc38-4d5f-bcac-80aa39b98bd4"
      },
      "execution_count": 267,
      "outputs": [
        {
          "output_type": "execute_result",
          "data": {
            "text/plain": [
              "10"
            ]
          },
          "metadata": {},
          "execution_count": 267
        }
      ]
    },
    {
      "cell_type": "code",
      "source": [
        "import sys\n",
        "# Get the default encoding of the system\n",
        "sys.getdefaultencoding()"
      ],
      "metadata": {
        "colab": {
          "base_uri": "https://localhost:8080/",
          "height": 36
        },
        "id": "s-k1bM7Bd848",
        "outputId": "ca8aa28b-f8bc-4149-f346-5230966722aa"
      },
      "execution_count": 268,
      "outputs": [
        {
          "output_type": "execute_result",
          "data": {
            "text/plain": [
              "'utf-8'"
            ],
            "application/vnd.google.colaboratory.intrinsic+json": {
              "type": "string"
            }
          },
          "metadata": {},
          "execution_count": 268
        }
      ]
    },
    {
      "cell_type": "code",
      "source": [
        "# Move the file pointer in f1 to position 3\n",
        "f1.seek(3)\n",
        "# Move the file pointer in f1 to position 1\n",
        "f1.seek(1)\n",
        "# Get the current position of the file pointer in f1\n",
        "f1.tell()"
      ],
      "metadata": {
        "colab": {
          "base_uri": "https://localhost:8080/"
        },
        "id": "hGZ4bD2ReB0a",
        "outputId": "7e0a07f8-4ce8-4203-b076-98b4c0390963"
      },
      "execution_count": 269,
      "outputs": [
        {
          "output_type": "execute_result",
          "data": {
            "text/plain": [
              "1"
            ]
          },
          "metadata": {},
          "execution_count": 269
        }
      ]
    },
    {
      "cell_type": "code",
      "source": [
        "# Close the files\n",
        "f1.close()\n",
        "f2.close()"
      ],
      "metadata": {
        "id": "Z8402qrueH1u"
      },
      "execution_count": 270,
      "outputs": []
    },
    {
      "cell_type": "code",
      "source": [
        "# Display the path variable\n",
        "path\n",
        "\n",
        "# Open a new file 'tmp.txt' in write mode\n",
        "with open(\"tmp.txt\", mode=\"w\") as handle:\n",
        "    # Write lines from the original file to 'tmp.txt' if the line length is greater than 1\n",
        "    handle.writelines(x for x in open(path) if len(x) > 1)\n",
        "\n",
        "# Open 'tmp.txt' in read mode\n",
        "with open(\"tmp.txt\") as f:\n",
        "    # Read all lines into a list\n",
        "    lines = f.readlines()\n",
        "\n",
        "# Display the list of lines from 'tmp.txt'\n",
        "lines"
      ],
      "metadata": {
        "colab": {
          "base_uri": "https://localhost:8080/"
        },
        "id": "rmWApua1eODN",
        "outputId": "46771d57-e3f1-44a7-dba9-f88701df6d9f"
      },
      "execution_count": 271,
      "outputs": [
        {
          "output_type": "execute_result",
          "data": {
            "text/plain": [
              "['Sueña el rico en su riqueza,\\n',\n",
              " 'que más cuidados le ofrece;\\n',\n",
              " 'sueña el pobre que padece\\n',\n",
              " 'su miseria y su pobreza;\\n',\n",
              " 'sueña el que a medrar empieza,\\n',\n",
              " 'sueña el que afana y pretende,\\n',\n",
              " 'sueña el que agravia y ofende,\\n',\n",
              " 'y en el mundo, en conclusión,\\n',\n",
              " 'todos sueñan lo que son,\\n',\n",
              " 'aunque ninguno lo entiende.\\n']"
            ]
          },
          "metadata": {},
          "execution_count": 271
        }
      ]
    },
    {
      "cell_type": "code",
      "source": [
        "import os\n",
        "# Remove the file 'tmp.txt'\n",
        "os.remove(\"tmp.txt\")"
      ],
      "metadata": {
        "id": "aAMbdKvwet44"
      },
      "execution_count": 272,
      "outputs": []
    },
    {
      "cell_type": "code",
      "source": [
        "# Open the file in text mode\n",
        "with open(path) as f:\n",
        "    # Read the first 10 characters\n",
        "    chars = f.read(10)\n",
        "\n",
        "# Display the characters read\n",
        "chars\n",
        "# Display the length of the characters read\n",
        "len(chars)"
      ],
      "metadata": {
        "colab": {
          "base_uri": "https://localhost:8080/"
        },
        "id": "sfkpigOHewWb",
        "outputId": "0ea8f1ec-d384-46c1-e46e-f1c8c347b7b1"
      },
      "execution_count": 273,
      "outputs": [
        {
          "output_type": "execute_result",
          "data": {
            "text/plain": [
              "10"
            ]
          },
          "metadata": {},
          "execution_count": 273
        }
      ]
    },
    {
      "cell_type": "code",
      "source": [
        "# Open the file in binary mode\n",
        "with open(path, mode=\"rb\") as f:\n",
        "    # Read the first 10 bytes\n",
        "    data = f.read(10)\n",
        "\n",
        "# Display the bytes read\n",
        "data"
      ],
      "metadata": {
        "colab": {
          "base_uri": "https://localhost:8080/"
        },
        "id": "ef-lz1jMeySP",
        "outputId": "a188fdcd-ade8-4869-eeb5-624eb81d7623"
      },
      "execution_count": 274,
      "outputs": [
        {
          "output_type": "execute_result",
          "data": {
            "text/plain": [
              "b'Sue\\xc3\\xb1a el '"
            ]
          },
          "metadata": {},
          "execution_count": 274
        }
      ]
    },
    {
      "cell_type": "code",
      "source": [
        "# Attempt to decode the bytes read as utf-8 (will raise an error because the byte sequence is incomplete for a utf-8 character)\n",
        "data.decode(\"utf-8\")\n",
        "# Attempt to decode the first 4 bytes as utf-8 (will raise an error because the byte sequence is incomplete for a utf-8 character)\n",
        "data[:4].decode(\"utf-8\")"
      ],
      "metadata": {
        "colab": {
          "base_uri": "https://localhost:8080/",
          "height": 176
        },
        "id": "CTaPJB0Uezzn",
        "outputId": "de59c0b4-36fa-4759-e183-5b1c8bd9c533"
      },
      "execution_count": 275,
      "outputs": [
        {
          "output_type": "error",
          "ename": "UnicodeDecodeError",
          "evalue": "'utf-8' codec can't decode byte 0xc3 in position 3: unexpected end of data",
          "traceback": [
            "\u001b[0;31m---------------------------------------------------------------------------\u001b[0m",
            "\u001b[0;31mUnicodeDecodeError\u001b[0m                        Traceback (most recent call last)",
            "\u001b[0;32m/tmp/ipython-input-275-1640225844.py\u001b[0m in \u001b[0;36m<cell line: 0>\u001b[0;34m()\u001b[0m\n\u001b[1;32m      2\u001b[0m \u001b[0mdata\u001b[0m\u001b[0;34m.\u001b[0m\u001b[0mdecode\u001b[0m\u001b[0;34m(\u001b[0m\u001b[0;34m\"utf-8\"\u001b[0m\u001b[0;34m)\u001b[0m\u001b[0;34m\u001b[0m\u001b[0;34m\u001b[0m\u001b[0m\n\u001b[1;32m      3\u001b[0m \u001b[0;31m# Attempt to decode the first 4 bytes as utf-8 (will raise an error because the byte sequence is incomplete for a utf-8 character)\u001b[0m\u001b[0;34m\u001b[0m\u001b[0;34m\u001b[0m\u001b[0m\n\u001b[0;32m----> 4\u001b[0;31m \u001b[0mdata\u001b[0m\u001b[0;34m[\u001b[0m\u001b[0;34m:\u001b[0m\u001b[0;36m4\u001b[0m\u001b[0;34m]\u001b[0m\u001b[0;34m.\u001b[0m\u001b[0mdecode\u001b[0m\u001b[0;34m(\u001b[0m\u001b[0;34m\"utf-8\"\u001b[0m\u001b[0;34m)\u001b[0m\u001b[0;34m\u001b[0m\u001b[0;34m\u001b[0m\u001b[0m\n\u001b[0m",
            "\u001b[0;31mUnicodeDecodeError\u001b[0m: 'utf-8' codec can't decode byte 0xc3 in position 3: unexpected end of data"
          ]
        }
      ]
    },
    {
      "cell_type": "code",
      "source": [
        "# Define the path for the sink file\n",
        "sink_path = \"sink.txt\"\n",
        "# Open the source file in read mode\n",
        "with open(path) as source:\n",
        "    # Open the sink file in exclusive creation mode ('x') with iso-8859-1 encoding\n",
        "    with open(sink_path, \"x\", encoding=\"iso-8859-1\") as sink:\n",
        "        # Read the content from the source file and write to the sink file\n",
        "        sink.write(source.read())\n",
        "\n",
        "# Open the sink file in read mode with iso-8859-1 encoding\n",
        "with open(sink_path, encoding=\"iso-8859-1\") as f:\n",
        "    # Read and print the first 10 characters\n",
        "    print(f.read(10))"
      ],
      "metadata": {
        "colab": {
          "base_uri": "https://localhost:8080/"
        },
        "id": "CTRorVh8e1Ic",
        "outputId": "736b2a2b-fe31-40b9-fbd4-317c93da6111"
      },
      "execution_count": 276,
      "outputs": [
        {
          "output_type": "stream",
          "name": "stdout",
          "text": [
            "Sueña el r\n"
          ]
        }
      ]
    },
    {
      "cell_type": "code",
      "source": [
        "# Remove the sink file\n",
        "os.remove(sink_path)"
      ],
      "metadata": {
        "id": "91hqSTaPe95_"
      },
      "execution_count": 277,
      "outputs": []
    },
    {
      "cell_type": "code",
      "source": [
        "# Open the file in read mode with utf-8 encoding\n",
        "f = open(path, encoding='utf-8')\n",
        "# Read the first 5 characters\n",
        "f.read(5)\n",
        "# Move the file pointer to position 4 (which is within a multi-byte character sequence)\n",
        "f.seek(4)\n",
        "# Attempt to read 1 character from the current position (will cause a decoding error)\n",
        "f.read(1)\n",
        "# Close the file\n",
        "f.close()"
      ],
      "metadata": {
        "colab": {
          "base_uri": "https://localhost:8080/",
          "height": 245
        },
        "id": "y2KTxjCTfAy0",
        "outputId": "e9aa6a1d-058a-4c91-eabe-fb9ba1ff6a92"
      },
      "execution_count": 278,
      "outputs": [
        {
          "output_type": "error",
          "ename": "UnicodeDecodeError",
          "evalue": "'utf-8' codec can't decode byte 0xb1 in position 0: invalid start byte",
          "traceback": [
            "\u001b[0;31m---------------------------------------------------------------------------\u001b[0m",
            "\u001b[0;31mUnicodeDecodeError\u001b[0m                        Traceback (most recent call last)",
            "\u001b[0;32m/tmp/ipython-input-278-3938724634.py\u001b[0m in \u001b[0;36m<cell line: 0>\u001b[0;34m()\u001b[0m\n\u001b[1;32m      6\u001b[0m \u001b[0mf\u001b[0m\u001b[0;34m.\u001b[0m\u001b[0mseek\u001b[0m\u001b[0;34m(\u001b[0m\u001b[0;36m4\u001b[0m\u001b[0;34m)\u001b[0m\u001b[0;34m\u001b[0m\u001b[0;34m\u001b[0m\u001b[0m\n\u001b[1;32m      7\u001b[0m \u001b[0;31m# Attempt to read 1 character from the current position (will cause a decoding error)\u001b[0m\u001b[0;34m\u001b[0m\u001b[0;34m\u001b[0m\u001b[0m\n\u001b[0;32m----> 8\u001b[0;31m \u001b[0mf\u001b[0m\u001b[0;34m.\u001b[0m\u001b[0mread\u001b[0m\u001b[0;34m(\u001b[0m\u001b[0;36m1\u001b[0m\u001b[0;34m)\u001b[0m\u001b[0;34m\u001b[0m\u001b[0;34m\u001b[0m\u001b[0m\n\u001b[0m\u001b[1;32m      9\u001b[0m \u001b[0;31m# Close the file\u001b[0m\u001b[0;34m\u001b[0m\u001b[0;34m\u001b[0m\u001b[0m\n\u001b[1;32m     10\u001b[0m \u001b[0mf\u001b[0m\u001b[0;34m.\u001b[0m\u001b[0mclose\u001b[0m\u001b[0;34m(\u001b[0m\u001b[0;34m)\u001b[0m\u001b[0;34m\u001b[0m\u001b[0;34m\u001b[0m\u001b[0m\n",
            "\u001b[0;32m/usr/lib/python3.11/codecs.py\u001b[0m in \u001b[0;36mdecode\u001b[0;34m(self, input, final)\u001b[0m\n",
            "\u001b[0;31mUnicodeDecodeError\u001b[0m: 'utf-8' codec can't decode byte 0xb1 in position 0: invalid start byte"
          ]
        }
      ]
    }
  ]
}