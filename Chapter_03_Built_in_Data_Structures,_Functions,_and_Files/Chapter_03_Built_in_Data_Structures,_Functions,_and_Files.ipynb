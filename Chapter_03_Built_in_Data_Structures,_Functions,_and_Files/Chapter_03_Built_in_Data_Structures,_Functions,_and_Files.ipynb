{
  "nbformat": 4,
  "nbformat_minor": 0,
  "metadata": {
    "colab": {
      "provenance": [],
      "authorship_tag": "ABX9TyPs1z67UQ0JIC61u2vRCbRX",
      "include_colab_link": true
    },
    "kernelspec": {
      "name": "python3",
      "display_name": "Python 3"
    },
    "language_info": {
      "name": "python"
    }
  },
  "cells": [
    {
      "cell_type": "markdown",
      "metadata": {
        "id": "view-in-github",
        "colab_type": "text"
      },
      "source": [
        "<a href=\"https://colab.research.google.com/github/Saifullah785/python-for-data-analysis-notes/blob/main/Chapter_03_Built_in_Data_Structures%2C_Functions%2C_and_Files/Chapter_03_Built_in_Data_Structures%2C_Functions%2C_and_Files.ipynb\" target=\"_parent\"><img src=\"https://colab.research.google.com/assets/colab-badge.svg\" alt=\"Open In Colab\"/></a>"
      ]
    },
    {
      "cell_type": "markdown",
      "source": [
        "# **Built-in Data Structures, Functions,and Files**"
      ],
      "metadata": {
        "id": "14zHKB_4_SYG"
      }
    },
    {
      "cell_type": "markdown",
      "source": [
        "## **3.1 Data Structures and Sequences**\n",
        "\n",
        "**Tuple**"
      ],
      "metadata": {
        "id": "tHGnjPP1lSSS"
      }
    },
    {
      "cell_type": "code",
      "execution_count": 94,
      "metadata": {
        "colab": {
          "base_uri": "https://localhost:8080/"
        },
        "id": "jDePDnlt-ner",
        "outputId": "e0c827ab-9b74-4a63-e8b4-c8149db73629"
      },
      "outputs": [
        {
          "output_type": "execute_result",
          "data": {
            "text/plain": [
              "(4, 5, 6)"
            ]
          },
          "metadata": {},
          "execution_count": 94
        }
      ],
      "source": [
        "# Define a tuple with integer elements\n",
        "tup = (4, 5, 6)\n",
        "\n",
        "# Display the tuple\n",
        "tup"
      ]
    },
    {
      "cell_type": "code",
      "source": [
        "# Define a tuple without parentheses (tuple packing)\n",
        "tup = 4, 5, 6\n",
        "# Display the tuple\n",
        "tup"
      ],
      "metadata": {
        "colab": {
          "base_uri": "https://localhost:8080/"
        },
        "id": "w1wafKLULuBC",
        "outputId": "9a36d524-4790-49f5-e8e9-2f80eab76b37"
      },
      "execution_count": 95,
      "outputs": [
        {
          "output_type": "execute_result",
          "data": {
            "text/plain": [
              "(4, 5, 6)"
            ]
          },
          "metadata": {},
          "execution_count": 95
        }
      ]
    },
    {
      "cell_type": "code",
      "source": [
        "# Convert a list to a tuple\n",
        "tuple([4, 0, 2])\n",
        "\n",
        "# Convert a string to a tuple (each character becomes an element)\n",
        "tup = tuple('string')\n",
        "\n",
        "# Display the tuple\n",
        "tup"
      ],
      "metadata": {
        "colab": {
          "base_uri": "https://localhost:8080/"
        },
        "id": "s_QaIAQML8zj",
        "outputId": "e4a8a9f0-e64c-4d0c-e699-da81f9bba1e5"
      },
      "execution_count": 96,
      "outputs": [
        {
          "output_type": "execute_result",
          "data": {
            "text/plain": [
              "('s', 't', 'r', 'i', 'n', 'g')"
            ]
          },
          "metadata": {},
          "execution_count": 96
        }
      ]
    },
    {
      "cell_type": "code",
      "source": [
        "# Access an element of the tuple using its index\n",
        "tup[0]"
      ],
      "metadata": {
        "colab": {
          "base_uri": "https://localhost:8080/",
          "height": 36
        },
        "id": "UyuZ7PTkMMoi",
        "outputId": "81a8e756-3241-441e-a651-5091b3cda13e"
      },
      "execution_count": 97,
      "outputs": [
        {
          "output_type": "execute_result",
          "data": {
            "text/plain": [
              "'s'"
            ],
            "application/vnd.google.colaboratory.intrinsic+json": {
              "type": "string"
            }
          },
          "metadata": {},
          "execution_count": 97
        }
      ]
    },
    {
      "cell_type": "code",
      "source": [
        "# Define a nested tuple (a tuple containing other tuples)\n",
        "nested_tup = ((4, 5, 6), (7, 8))\n",
        "\n",
        "# Display the nested tuple\n",
        "nested_tup"
      ],
      "metadata": {
        "colab": {
          "base_uri": "https://localhost:8080/"
        },
        "id": "g13h45T0MSQb",
        "outputId": "8fded511-5e3e-459a-c2e7-4ce5ace8b767"
      },
      "execution_count": 98,
      "outputs": [
        {
          "output_type": "execute_result",
          "data": {
            "text/plain": [
              "((4, 5, 6), (7, 8))"
            ]
          },
          "metadata": {},
          "execution_count": 98
        }
      ]
    },
    {
      "cell_type": "code",
      "source": [
        "# Access the first element of the nested tuple (which is a tuple itself)\n",
        "nested_tup[0]"
      ],
      "metadata": {
        "colab": {
          "base_uri": "https://localhost:8080/"
        },
        "id": "iWiLWzPoMXEC",
        "outputId": "4220629f-2839-425e-e5fd-59525740b207"
      },
      "execution_count": 99,
      "outputs": [
        {
          "output_type": "execute_result",
          "data": {
            "text/plain": [
              "(4, 5, 6)"
            ]
          },
          "metadata": {},
          "execution_count": 99
        }
      ]
    },
    {
      "cell_type": "code",
      "source": [
        "# Access the second element of the nested tuple\n",
        "nested_tup[1]"
      ],
      "metadata": {
        "colab": {
          "base_uri": "https://localhost:8080/"
        },
        "id": "WnPjy9O9MtL8",
        "outputId": "24e86a0e-ae73-4242-e984-bf5682cb7d19"
      },
      "execution_count": 100,
      "outputs": [
        {
          "output_type": "execute_result",
          "data": {
            "text/plain": [
              "(7, 8)"
            ]
          },
          "metadata": {},
          "execution_count": 100
        }
      ]
    },
    {
      "cell_type": "code",
      "source": [
        "# Define a tuple containing different data types, including a mutable list\n",
        "tup = tuple(['foo', [1,2], True])"
      ],
      "metadata": {
        "id": "HGQse2ktM1r7"
      },
      "execution_count": 101,
      "outputs": []
    },
    {
      "cell_type": "code",
      "source": [
        "# Attempting to change an element of the tuple (will raise a TypeError because tuples are immutable)\n",
        "tup[2] = False"
      ],
      "metadata": {
        "colab": {
          "base_uri": "https://localhost:8080/",
          "height": 165
        },
        "id": "pZDODws3NHP7",
        "outputId": "c116db64-1392-4438-fef0-e60ed3853b05"
      },
      "execution_count": 102,
      "outputs": [
        {
          "output_type": "error",
          "ename": "TypeError",
          "evalue": "'tuple' object does not support item assignment",
          "traceback": [
            "\u001b[0;31m---------------------------------------------------------------------------\u001b[0m",
            "\u001b[0;31mTypeError\u001b[0m                                 Traceback (most recent call last)",
            "\u001b[0;32m/tmp/ipython-input-102-1102892581.py\u001b[0m in \u001b[0;36m<cell line: 0>\u001b[0;34m()\u001b[0m\n\u001b[1;32m      1\u001b[0m \u001b[0;31m# Attempting to change an element of the tuple (will raise a TypeError because tuples are immutable)\u001b[0m\u001b[0;34m\u001b[0m\u001b[0;34m\u001b[0m\u001b[0m\n\u001b[0;32m----> 2\u001b[0;31m \u001b[0mtup\u001b[0m\u001b[0;34m[\u001b[0m\u001b[0;36m2\u001b[0m\u001b[0;34m]\u001b[0m \u001b[0;34m=\u001b[0m \u001b[0;32mFalse\u001b[0m\u001b[0;34m\u001b[0m\u001b[0;34m\u001b[0m\u001b[0m\n\u001b[0m",
            "\u001b[0;31mTypeError\u001b[0m: 'tuple' object does not support item assignment"
          ]
        }
      ]
    },
    {
      "cell_type": "code",
      "source": [
        "# Appending an element to the list inside the tuple (the list is mutable, even though the tuple is not)\n",
        "tup[1].append(3)\n",
        "\n",
        "# Display the tuple after modifying the list within it\n",
        "tup"
      ],
      "metadata": {
        "colab": {
          "base_uri": "https://localhost:8080/"
        },
        "id": "FyYhodTSNM_L",
        "outputId": "090c6298-97f5-4e22-e64a-241aba61baa6"
      },
      "execution_count": 103,
      "outputs": [
        {
          "output_type": "execute_result",
          "data": {
            "text/plain": [
              "('foo', [1, 2, 3], True)"
            ]
          },
          "metadata": {},
          "execution_count": 103
        }
      ]
    },
    {
      "cell_type": "code",
      "source": [
        "# Concatenate tuples using the + operator\n",
        "(4, None, 'foo') + (6, 0) + ('bar',)"
      ],
      "metadata": {
        "colab": {
          "base_uri": "https://localhost:8080/"
        },
        "id": "vqVgv5iGNSIT",
        "outputId": "8bf45cee-ad62-49d0-b3b7-47e46693dd01"
      },
      "execution_count": 104,
      "outputs": [
        {
          "output_type": "execute_result",
          "data": {
            "text/plain": [
              "(4, None, 'foo', 6, 0, 'bar')"
            ]
          },
          "metadata": {},
          "execution_count": 104
        }
      ]
    },
    {
      "cell_type": "code",
      "source": [
        "# Repeat a tuple using the * operator\n",
        "('foo', 'bar') * 4"
      ],
      "metadata": {
        "colab": {
          "base_uri": "https://localhost:8080/"
        },
        "id": "Hl-RY91rNZsM",
        "outputId": "f9663dff-3a0d-4129-85ff-b87790bafc75"
      },
      "execution_count": 105,
      "outputs": [
        {
          "output_type": "execute_result",
          "data": {
            "text/plain": [
              "('foo', 'bar', 'foo', 'bar', 'foo', 'bar', 'foo', 'bar')"
            ]
          },
          "metadata": {},
          "execution_count": 105
        }
      ]
    },
    {
      "cell_type": "markdown",
      "source": [
        "**Unpacking tuples**"
      ],
      "metadata": {
        "id": "ydQycmDRlpFm"
      }
    },
    {
      "cell_type": "code",
      "source": [
        "# Define a tuple\n",
        "tup = (4, 5, 6)\n",
        "\n",
        "# Unpack the tuple elements into individual variables\n",
        "a, b, c = tup\n",
        "\n",
        "# Display the value of variable c\n",
        "c"
      ],
      "metadata": {
        "colab": {
          "base_uri": "https://localhost:8080/"
        },
        "id": "CbpxI_gwNiG8",
        "outputId": "b46f1f06-11d5-4566-a608-2db94331950f"
      },
      "execution_count": 106,
      "outputs": [
        {
          "output_type": "execute_result",
          "data": {
            "text/plain": [
              "6"
            ]
          },
          "metadata": {},
          "execution_count": 106
        }
      ]
    },
    {
      "cell_type": "code",
      "source": [
        "# Define a tuple with a nested tuple\n",
        "tup = 4, 5, (6, 7)\n",
        "\n",
        "# Unpack the tuple, including the nested tuple\n",
        "a, b, (c, d) = tup\n",
        "\n",
        "# Display the value of variable c from the nested tuple\n",
        "c"
      ],
      "metadata": {
        "colab": {
          "base_uri": "https://localhost:8080/"
        },
        "id": "17_1-E44NsqM",
        "outputId": "e03b2853-efc0-4c1c-8300-12be0dea526c"
      },
      "execution_count": 107,
      "outputs": [
        {
          "output_type": "execute_result",
          "data": {
            "text/plain": [
              "6"
            ]
          },
          "metadata": {},
          "execution_count": 107
        }
      ]
    },
    {
      "cell_type": "code",
      "source": [
        "# Define a list of tuples\n",
        "seq = [(1, 2, 3), (4, 5, 6), (7, 8, 9)]\n",
        "\n",
        "# Iterate through the list and unpack each tuple into variables a, b, and c\n",
        "for a, b, c in seq:\n",
        "    # Print the unpacked values using an f-string\n",
        "    print(f'a={a}, b={b}, c={c}')\n",
        "    # Alternative way to print using .format()\n",
        "    # print('a={0}, b={1}, c={2}'.format(a, b, c))"
      ],
      "metadata": {
        "colab": {
          "base_uri": "https://localhost:8080/"
        },
        "id": "6o1anR_DOcLu",
        "outputId": "e10fa337-20eb-4d32-fdea-a9b87734bd02"
      },
      "execution_count": 108,
      "outputs": [
        {
          "output_type": "stream",
          "name": "stdout",
          "text": [
            "a=1, b=2, c=3\n",
            "a=4, b=5, c=6\n",
            "a=7, b=8, c=9\n"
          ]
        }
      ]
    },
    {
      "cell_type": "code",
      "source": [
        "# Define a tuple\n",
        "values = 1, 2, 3, 4, 5\n",
        "# Unpack the first two elements into a and b, and the rest into a list called rest\n",
        "a, b, *rest = values\n",
        "# Display the value of a\n",
        "a\n",
        "# Display the value of b\n",
        "b\n",
        "# Display the value of rest\n",
        "rest"
      ],
      "metadata": {
        "colab": {
          "base_uri": "https://localhost:8080/"
        },
        "id": "Y-ToMnEBO5yv",
        "outputId": "61005c02-5142-4dc7-dd8c-de600c148ecb"
      },
      "execution_count": 109,
      "outputs": [
        {
          "output_type": "execute_result",
          "data": {
            "text/plain": [
              "[3, 4, 5]"
            ]
          },
          "metadata": {},
          "execution_count": 109
        }
      ]
    },
    {
      "cell_type": "code",
      "source": [
        "# Unpack the first two elements and discard the rest using a dummy variable __\n",
        "a, b, *__= values"
      ],
      "metadata": {
        "id": "aGsv4Qs5PSAQ"
      },
      "execution_count": 110,
      "outputs": []
    },
    {
      "cell_type": "markdown",
      "source": [
        "**Tuple methods**\n"
      ],
      "metadata": {
        "id": "LVA2haFqmBpe"
      }
    },
    {
      "cell_type": "code",
      "source": [
        "# Define a tuple\n",
        "a = (1, 2, 2, 2, 3, 4, 2)\n",
        "# Count the occurrences of the element 2 in the tuple\n",
        "a.count(2)"
      ],
      "metadata": {
        "colab": {
          "base_uri": "https://localhost:8080/"
        },
        "id": "oH4W-dVXPZFI",
        "outputId": "b69acb60-deae-4f18-ea53-43abb713df00"
      },
      "execution_count": 111,
      "outputs": [
        {
          "output_type": "execute_result",
          "data": {
            "text/plain": [
              "4"
            ]
          },
          "metadata": {},
          "execution_count": 111
        }
      ]
    },
    {
      "cell_type": "markdown",
      "source": [
        "**List**"
      ],
      "metadata": {
        "id": "DAHWBE0ImFQF"
      }
    },
    {
      "cell_type": "code",
      "source": [
        "# Define a list with mixed data types\n",
        "a_list = [2, 3, 7, None]\n",
        "\n",
        "# Define a tuple\n",
        "tup = ('foo', 'bar', 'baz')\n",
        "\n",
        "# Convert a tuple to a list\n",
        "b_list = list(tup)\n",
        "\n",
        "# Display the list\n",
        "b_list"
      ],
      "metadata": {
        "colab": {
          "base_uri": "https://localhost:8080/"
        },
        "id": "rgWUDb1mPimq",
        "outputId": "5e3580e2-240c-4995-f99d-529a7ad36a84"
      },
      "execution_count": 112,
      "outputs": [
        {
          "output_type": "execute_result",
          "data": {
            "text/plain": [
              "['foo', 'bar', 'baz']"
            ]
          },
          "metadata": {},
          "execution_count": 112
        }
      ]
    },
    {
      "cell_type": "code",
      "source": [
        "# Change an element in the list\n",
        "b_list[1] = 'peekaboo'\n",
        "# Display the modified list\n",
        "b_list"
      ],
      "metadata": {
        "colab": {
          "base_uri": "https://localhost:8080/"
        },
        "id": "3IABUfHvPu3p",
        "outputId": "e83c6ce7-ad81-4e73-8031-703390e74a9c"
      },
      "execution_count": 113,
      "outputs": [
        {
          "output_type": "execute_result",
          "data": {
            "text/plain": [
              "['foo', 'peekaboo', 'baz']"
            ]
          },
          "metadata": {},
          "execution_count": 113
        }
      ]
    },
    {
      "cell_type": "code",
      "source": [
        "# Create a range object (a sequence of numbers)\n",
        "gen = range(10)\n",
        "# Display the range object\n",
        "gen\n",
        "# Convert the range object to a list\n",
        "list(gen)"
      ],
      "metadata": {
        "colab": {
          "base_uri": "https://localhost:8080/"
        },
        "id": "4sX_mzEtP6SR",
        "outputId": "5f16379f-f813-43b2-c76e-c518bc953c40"
      },
      "execution_count": 114,
      "outputs": [
        {
          "output_type": "execute_result",
          "data": {
            "text/plain": [
              "[0, 1, 2, 3, 4, 5, 6, 7, 8, 9]"
            ]
          },
          "metadata": {},
          "execution_count": 114
        }
      ]
    },
    {
      "cell_type": "markdown",
      "source": [
        "**Adding and removing elements**"
      ],
      "metadata": {
        "id": "A17MS5-VmOOp"
      }
    },
    {
      "cell_type": "code",
      "source": [
        "# Append an element to the end of the list\n",
        "b_list.append('dwarf')\n",
        "# Display the modified list\n",
        "b_list"
      ],
      "metadata": {
        "colab": {
          "base_uri": "https://localhost:8080/"
        },
        "id": "pgdX6NmDQDnh",
        "outputId": "6a003646-a4ea-4cd1-f39c-c971b8cbcfc5"
      },
      "execution_count": 115,
      "outputs": [
        {
          "output_type": "execute_result",
          "data": {
            "text/plain": [
              "['foo', 'peekaboo', 'baz', 'dwarf']"
            ]
          },
          "metadata": {},
          "execution_count": 115
        }
      ]
    },
    {
      "cell_type": "code",
      "source": [
        "# Append another element to the end of the list\n",
        "b_list.append('red')\n",
        "# Display the modified list\n",
        "b_list"
      ],
      "metadata": {
        "colab": {
          "base_uri": "https://localhost:8080/"
        },
        "id": "vPJAHsVdQJIx",
        "outputId": "e84909da-eaee-4788-c04d-958e84b48424"
      },
      "execution_count": 116,
      "outputs": [
        {
          "output_type": "execute_result",
          "data": {
            "text/plain": [
              "['foo', 'peekaboo', 'baz', 'dwarf', 'red']"
            ]
          },
          "metadata": {},
          "execution_count": 116
        }
      ]
    },
    {
      "cell_type": "code",
      "source": [
        "# Insert an element at a specific index in the list\n",
        "b_list.insert(1, 'red')\n",
        "# Display the modified list\n",
        "b_list"
      ],
      "metadata": {
        "colab": {
          "base_uri": "https://localhost:8080/"
        },
        "id": "hbBumEAhQO3B",
        "outputId": "a1e7b0fb-3b0b-4e4b-d424-1627bee0f096"
      },
      "execution_count": 117,
      "outputs": [
        {
          "output_type": "execute_result",
          "data": {
            "text/plain": [
              "['foo', 'red', 'peekaboo', 'baz', 'dwarf', 'red']"
            ]
          },
          "metadata": {},
          "execution_count": 117
        }
      ]
    },
    {
      "cell_type": "code",
      "source": [
        "# Remove and return the element at a specific index in the list\n",
        "b_list.pop(2)\n",
        "# Display the modified list\n",
        "b_list"
      ],
      "metadata": {
        "colab": {
          "base_uri": "https://localhost:8080/"
        },
        "id": "9n_PjuAeQbLa",
        "outputId": "122221bc-a9d9-48c6-aa78-9544d87dfa67"
      },
      "execution_count": 118,
      "outputs": [
        {
          "output_type": "execute_result",
          "data": {
            "text/plain": [
              "['foo', 'red', 'baz', 'dwarf', 'red']"
            ]
          },
          "metadata": {},
          "execution_count": 118
        }
      ]
    },
    {
      "cell_type": "code",
      "source": [
        "# Append an element to the end of the list\n",
        "b_list.append('foo')\n",
        "# Display the modified list\n",
        "b_list"
      ],
      "metadata": {
        "colab": {
          "base_uri": "https://localhost:8080/"
        },
        "id": "vsl0ZnjxQhKh",
        "outputId": "a9ddf6e8-392f-41d6-8ff0-0a0d91c4084b"
      },
      "execution_count": 119,
      "outputs": [
        {
          "output_type": "execute_result",
          "data": {
            "text/plain": [
              "['foo', 'red', 'baz', 'dwarf', 'red', 'foo']"
            ]
          },
          "metadata": {},
          "execution_count": 119
        }
      ]
    },
    {
      "cell_type": "code",
      "source": [
        "# Remove the first occurrence of a specific value from the list\n",
        "b_list.remove('foo')\n",
        "# Display the modified list\n",
        "b_list"
      ],
      "metadata": {
        "colab": {
          "base_uri": "https://localhost:8080/"
        },
        "id": "SbuyTeRBQjxj",
        "outputId": "d2470f00-877f-4a75-ddc6-53a6b8af4f8f"
      },
      "execution_count": 120,
      "outputs": [
        {
          "output_type": "execute_result",
          "data": {
            "text/plain": [
              "['red', 'baz', 'dwarf', 'red', 'foo']"
            ]
          },
          "metadata": {},
          "execution_count": 120
        }
      ]
    },
    {
      "cell_type": "code",
      "source": [
        "# Check if an element exists in the list using the 'in' operator\n",
        "\"dwarf\" in b_list"
      ],
      "metadata": {
        "colab": {
          "base_uri": "https://localhost:8080/"
        },
        "id": "aH0Psu60Qm5Z",
        "outputId": "1e7ac0ed-479c-4e72-8069-1d85a657e678"
      },
      "execution_count": 121,
      "outputs": [
        {
          "output_type": "execute_result",
          "data": {
            "text/plain": [
              "True"
            ]
          },
          "metadata": {},
          "execution_count": 121
        }
      ]
    },
    {
      "cell_type": "code",
      "source": [
        "# Check if an element does not exist in the list using the 'not in' operator\n",
        "\"dwarf\" not in b_list"
      ],
      "metadata": {
        "colab": {
          "base_uri": "https://localhost:8080/"
        },
        "id": "K0AvCxXmQqzq",
        "outputId": "4bb09c67-0d7d-448d-c4a3-2164b043295b"
      },
      "execution_count": 122,
      "outputs": [
        {
          "output_type": "execute_result",
          "data": {
            "text/plain": [
              "False"
            ]
          },
          "metadata": {},
          "execution_count": 122
        }
      ]
    },
    {
      "cell_type": "markdown",
      "source": [
        "**Concatenating and combining lists**"
      ],
      "metadata": {
        "id": "jnkBPO5_mgkB"
      }
    },
    {
      "cell_type": "code",
      "source": [
        "# Concatenate two lists using the + operator\n",
        "[4, None, 'foo'] + [7, 8, (2, 3)]"
      ],
      "metadata": {
        "colab": {
          "base_uri": "https://localhost:8080/"
        },
        "id": "w_cSpSHCQtpM",
        "outputId": "a6cb023d-a863-4de6-d931-96f3bea193d5"
      },
      "execution_count": 123,
      "outputs": [
        {
          "output_type": "execute_result",
          "data": {
            "text/plain": [
              "[4, None, 'foo', 7, 8, (2, 3)]"
            ]
          },
          "metadata": {},
          "execution_count": 123
        }
      ]
    },
    {
      "cell_type": "code",
      "source": [
        "# Define a list\n",
        "x = [4, None, 'foo']\n",
        "# Extend the list by appending all the items from another iterable\n",
        "x.extend([7, 8, (2, 3)])\n",
        "# Display the modified list\n",
        "x"
      ],
      "metadata": {
        "colab": {
          "base_uri": "https://localhost:8080/"
        },
        "id": "WfODxDCHQzdS",
        "outputId": "14d4f87d-f7bb-438f-d21b-87a81436b28b"
      },
      "execution_count": 124,
      "outputs": [
        {
          "output_type": "execute_result",
          "data": {
            "text/plain": [
              "[4, None, 'foo', 7, 8, (2, 3)]"
            ]
          },
          "metadata": {},
          "execution_count": 124
        }
      ]
    },
    {
      "cell_type": "markdown",
      "source": [
        "**Sorting**"
      ],
      "metadata": {
        "id": "vQRW6PTnmzgf"
      }
    },
    {
      "cell_type": "code",
      "source": [
        "# Define a list of numbers\n",
        "a = [7, 2, 5, 1, 3]\n",
        "# Sort the list in place (ascending order)\n",
        "a.sort()\n",
        "# Display the sorted list\n",
        "a"
      ],
      "metadata": {
        "colab": {
          "base_uri": "https://localhost:8080/"
        },
        "id": "o1VkCta2Q4jO",
        "outputId": "1e2fec0e-06e1-4e84-8872-31c7a6fd3246"
      },
      "execution_count": 125,
      "outputs": [
        {
          "output_type": "execute_result",
          "data": {
            "text/plain": [
              "[1, 2, 3, 5, 7]"
            ]
          },
          "metadata": {},
          "execution_count": 125
        }
      ]
    },
    {
      "cell_type": "code",
      "source": [
        "# Define a list of strings\n",
        "b = ['saw', 'small', 'He', 'foxes', 'six']\n",
        "# Sort the list based on the length of the strings using the key argument\n",
        "b.sort(key=len)\n",
        "# Display the sorted list\n",
        "b"
      ],
      "metadata": {
        "colab": {
          "base_uri": "https://localhost:8080/"
        },
        "id": "NAHdkB_8Q6_i",
        "outputId": "e645437b-bb17-45bb-e8ab-264c45b351f9"
      },
      "execution_count": 126,
      "outputs": [
        {
          "output_type": "execute_result",
          "data": {
            "text/plain": [
              "['He', 'saw', 'six', 'small', 'foxes']"
            ]
          },
          "metadata": {},
          "execution_count": 126
        }
      ]
    },
    {
      "cell_type": "markdown",
      "source": [
        "**Binary search and maintaining a sorted list**"
      ],
      "metadata": {
        "id": "zFOolGMOnTjl"
      }
    },
    {
      "cell_type": "code",
      "source": [
        "import bisect\n"
      ],
      "metadata": {
        "id": "xWNQg8bZnVM0"
      },
      "execution_count": 167,
      "outputs": []
    },
    {
      "cell_type": "code",
      "source": [
        "c = [1, 2, 2, 2, 3, 4, 7]"
      ],
      "metadata": {
        "id": "2SlHmCeknZyW"
      },
      "execution_count": 169,
      "outputs": []
    },
    {
      "cell_type": "code",
      "source": [
        "bisect.bisect(c, 2)\n"
      ],
      "metadata": {
        "colab": {
          "base_uri": "https://localhost:8080/"
        },
        "id": "B1jMTyKvncGn",
        "outputId": "156942bc-ca1b-4b80-bca6-30ee60cdcc93"
      },
      "execution_count": 170,
      "outputs": [
        {
          "output_type": "execute_result",
          "data": {
            "text/plain": [
              "4"
            ]
          },
          "metadata": {},
          "execution_count": 170
        }
      ]
    },
    {
      "cell_type": "code",
      "source": [
        "bisect.bisect(c, 5)\n"
      ],
      "metadata": {
        "colab": {
          "base_uri": "https://localhost:8080/"
        },
        "id": "CVPj0SQOnei5",
        "outputId": "1eb4c35e-44b2-4568-cafe-5a541e0bd4f2"
      },
      "execution_count": 171,
      "outputs": [
        {
          "output_type": "execute_result",
          "data": {
            "text/plain": [
              "6"
            ]
          },
          "metadata": {},
          "execution_count": 171
        }
      ]
    },
    {
      "cell_type": "code",
      "source": [
        "bisect.insort(c, 6)"
      ],
      "metadata": {
        "id": "v7-v-yfBnhHI"
      },
      "execution_count": 172,
      "outputs": []
    },
    {
      "cell_type": "code",
      "source": [
        "c"
      ],
      "metadata": {
        "colab": {
          "base_uri": "https://localhost:8080/"
        },
        "id": "hClK1ZDknjYW",
        "outputId": "7df8062c-e98a-4cd4-cb53-cc96a5abb158"
      },
      "execution_count": 173,
      "outputs": [
        {
          "output_type": "execute_result",
          "data": {
            "text/plain": [
              "[1, 2, 2, 2, 3, 4, 6, 7]"
            ]
          },
          "metadata": {},
          "execution_count": 173
        }
      ]
    },
    {
      "cell_type": "markdown",
      "source": [
        "**Slicing**"
      ],
      "metadata": {
        "id": "HgD5yzrTnrlz"
      }
    },
    {
      "cell_type": "code",
      "source": [
        "# Define a list\n",
        "seq = [7, 2, 3, 7, 5, 6, 0, 1]\n",
        "# Slice the list to get elements from index 1 up to (but not including) index 5\n",
        "seq[1:5]"
      ],
      "metadata": {
        "colab": {
          "base_uri": "https://localhost:8080/"
        },
        "id": "KS9FkMiuQ-ti",
        "outputId": "096b46cc-3ccf-430c-ad6e-bdfb589da816"
      },
      "execution_count": 127,
      "outputs": [
        {
          "output_type": "execute_result",
          "data": {
            "text/plain": [
              "[2, 3, 7, 5]"
            ]
          },
          "metadata": {},
          "execution_count": 127
        }
      ]
    },
    {
      "cell_type": "code",
      "source": [
        "# Replace a slice of the list with new values\n",
        "seq[3:5] = [6, 3]\n",
        "# Display the modified list\n",
        "seq"
      ],
      "metadata": {
        "colab": {
          "base_uri": "https://localhost:8080/"
        },
        "id": "ys9ZdkLWRDpE",
        "outputId": "9642169b-803c-4a32-f260-11c213164906"
      },
      "execution_count": 128,
      "outputs": [
        {
          "output_type": "execute_result",
          "data": {
            "text/plain": [
              "[7, 2, 3, 6, 3, 6, 0, 1]"
            ]
          },
          "metadata": {},
          "execution_count": 128
        }
      ]
    },
    {
      "cell_type": "code",
      "source": [
        "# Slice the list from the beginning up to (but not including) index 5\n",
        "seq[:5]"
      ],
      "metadata": {
        "colab": {
          "base_uri": "https://localhost:8080/"
        },
        "id": "h5uJevsrRL4S",
        "outputId": "65a8dece-6d48-4d6f-bfab-427d78e40c71"
      },
      "execution_count": 129,
      "outputs": [
        {
          "output_type": "execute_result",
          "data": {
            "text/plain": [
              "[7, 2, 3, 6, 3]"
            ]
          },
          "metadata": {},
          "execution_count": 129
        }
      ]
    },
    {
      "cell_type": "code",
      "source": [
        "# Slice the list from index 3 to the end\n",
        "seq[3:]"
      ],
      "metadata": {
        "colab": {
          "base_uri": "https://localhost:8080/"
        },
        "id": "ycrMlx39RZqE",
        "outputId": "55254e4b-9a9b-4eec-eda4-c0823c79ccc5"
      },
      "execution_count": 130,
      "outputs": [
        {
          "output_type": "execute_result",
          "data": {
            "text/plain": [
              "[6, 3, 6, 0, 1]"
            ]
          },
          "metadata": {},
          "execution_count": 130
        }
      ]
    },
    {
      "cell_type": "code",
      "source": [
        "# Slice the list to get the last 4 elements\n",
        "seq[-4:]\n",
        "# Slice the list using negative indices to get elements from the 6th from the end up to (but not including) the 2nd from the end\n",
        "seq[-6:-2]"
      ],
      "metadata": {
        "colab": {
          "base_uri": "https://localhost:8080/"
        },
        "id": "E-QvPxTqRceT",
        "outputId": "2839f904-4771-484e-8c80-1b451723a546"
      },
      "execution_count": 131,
      "outputs": [
        {
          "output_type": "execute_result",
          "data": {
            "text/plain": [
              "[3, 6, 3, 6]"
            ]
          },
          "metadata": {},
          "execution_count": 131
        }
      ]
    },
    {
      "cell_type": "code",
      "source": [
        "# Slice the list with a step of 2 (every other element)\n",
        "seq[::2]"
      ],
      "metadata": {
        "colab": {
          "base_uri": "https://localhost:8080/"
        },
        "id": "k3EzQEs8RjuD",
        "outputId": "fe55abfb-ffb2-4269-882b-64e4b4fadc95"
      },
      "execution_count": 132,
      "outputs": [
        {
          "output_type": "execute_result",
          "data": {
            "text/plain": [
              "[7, 3, 3, 0]"
            ]
          },
          "metadata": {},
          "execution_count": 132
        }
      ]
    },
    {
      "cell_type": "code",
      "source": [
        "# Slice the list with a step of -1 to reverse the list\n",
        "seq[::-1]"
      ],
      "metadata": {
        "colab": {
          "base_uri": "https://localhost:8080/"
        },
        "id": "I47hJhCnRoL7",
        "outputId": "f6e008cd-656a-40ae-9721-0d6b324aba14"
      },
      "execution_count": 133,
      "outputs": [
        {
          "output_type": "execute_result",
          "data": {
            "text/plain": [
              "[1, 0, 6, 3, 6, 3, 2, 7]"
            ]
          },
          "metadata": {},
          "execution_count": 133
        }
      ]
    },
    {
      "cell_type": "markdown",
      "source": [
        "#**Built-in Sequence Functions**\n",
        "\n",
        "**enumerate**"
      ],
      "metadata": {
        "id": "JZ4ZHDnQoNgb"
      }
    },
    {
      "cell_type": "markdown",
      "source": [
        "**dict**"
      ],
      "metadata": {
        "id": "WZ95BVeNo_c-"
      }
    },
    {
      "cell_type": "code",
      "source": [
        "# Create an empty dictionary\n",
        "empty_dict = {}\n",
        "# Create a dictionary with key-value pairs\n",
        "d1 = {\"a\": \"somw value\", 'b': [1, 2, 3, 4]}\n",
        "# Display the dictionary\n",
        "d1"
      ],
      "metadata": {
        "colab": {
          "base_uri": "https://localhost:8080/"
        },
        "id": "cq3BS6jiRtOj",
        "outputId": "15e00009-e652-4cd9-a9bc-fa20c0c735fd"
      },
      "execution_count": 134,
      "outputs": [
        {
          "output_type": "execute_result",
          "data": {
            "text/plain": [
              "{'a': 'somw value', 'b': [1, 2, 3, 4]}"
            ]
          },
          "metadata": {},
          "execution_count": 134
        }
      ]
    },
    {
      "cell_type": "code",
      "source": [
        "# Add a new key-value pair to the dictionary\n",
        "d1[7] = 'an integer'\n",
        "# Display the modified dictionary\n",
        "d1"
      ],
      "metadata": {
        "colab": {
          "base_uri": "https://localhost:8080/"
        },
        "id": "uAL_IfpjR7o0",
        "outputId": "1aa943a1-d636-4e90-d8f9-c2125f345807"
      },
      "execution_count": 135,
      "outputs": [
        {
          "output_type": "execute_result",
          "data": {
            "text/plain": [
              "{'a': 'somw value', 'b': [1, 2, 3, 4], 7: 'an integer'}"
            ]
          },
          "metadata": {},
          "execution_count": 135
        }
      ]
    },
    {
      "cell_type": "code",
      "source": [
        "# Access the value associated with the key 'b'\n",
        "d1['b']"
      ],
      "metadata": {
        "colab": {
          "base_uri": "https://localhost:8080/"
        },
        "id": "8QwYpYEPSIhW",
        "outputId": "cdc04f87-c24f-4878-dd37-373219756e05"
      },
      "execution_count": 136,
      "outputs": [
        {
          "output_type": "execute_result",
          "data": {
            "text/plain": [
              "[1, 2, 3, 4]"
            ]
          },
          "metadata": {},
          "execution_count": 136
        }
      ]
    },
    {
      "cell_type": "code",
      "source": [
        "# Add another key-value pair to the dictionary\n",
        "d1[5] = 'some value'\n",
        "\n",
        "# Display the modified dictionary\n",
        "d1"
      ],
      "metadata": {
        "colab": {
          "base_uri": "https://localhost:8080/"
        },
        "id": "VxSPQ9RmSNMt",
        "outputId": "f891922f-b68f-4fbc-db6c-149f6668d2de"
      },
      "execution_count": 137,
      "outputs": [
        {
          "output_type": "execute_result",
          "data": {
            "text/plain": [
              "{'a': 'somw value', 'b': [1, 2, 3, 4], 7: 'an integer', 5: 'some value'}"
            ]
          },
          "metadata": {},
          "execution_count": 137
        }
      ]
    },
    {
      "cell_type": "code",
      "source": [
        "# Add yet another key-value pair to the dictionary\n",
        "d1['dummy'] = 'another value'\n",
        "# Display the modified dictionary\n",
        "d1"
      ],
      "metadata": {
        "colab": {
          "base_uri": "https://localhost:8080/"
        },
        "id": "V6HDgdsoSR7V",
        "outputId": "932cce9f-04eb-422e-8c6e-0d787f3cf1d3"
      },
      "execution_count": 138,
      "outputs": [
        {
          "output_type": "execute_result",
          "data": {
            "text/plain": [
              "{'a': 'somw value',\n",
              " 'b': [1, 2, 3, 4],\n",
              " 7: 'an integer',\n",
              " 5: 'some value',\n",
              " 'dummy': 'another value'}"
            ]
          },
          "metadata": {},
          "execution_count": 138
        }
      ]
    },
    {
      "cell_type": "code",
      "source": [
        "# Delete a key-value pair from the dictionary using the del keyword\n",
        "del d1[5]\n",
        "# Display the modified dictionary\n",
        "d1"
      ],
      "metadata": {
        "colab": {
          "base_uri": "https://localhost:8080/"
        },
        "id": "zObQc37CSYLv",
        "outputId": "9e649840-9a76-4687-b9b9-db5aa8decdd1"
      },
      "execution_count": 139,
      "outputs": [
        {
          "output_type": "execute_result",
          "data": {
            "text/plain": [
              "{'a': 'somw value',\n",
              " 'b': [1, 2, 3, 4],\n",
              " 7: 'an integer',\n",
              " 'dummy': 'another value'}"
            ]
          },
          "metadata": {},
          "execution_count": 139
        }
      ]
    },
    {
      "cell_type": "code",
      "source": [
        "# Remove a key-value pair from the dictionary and return the value using the pop() method\n",
        "ret = d1.pop('dummy')\n",
        "# Display the returned value\n",
        "ret\n",
        "# Display the modified dictionary\n",
        "d1"
      ],
      "metadata": {
        "colab": {
          "base_uri": "https://localhost:8080/"
        },
        "id": "-HIdhdABScdV",
        "outputId": "822f1106-5157-4a41-e5e5-addfa6fc7443"
      },
      "execution_count": 140,
      "outputs": [
        {
          "output_type": "execute_result",
          "data": {
            "text/plain": [
              "{'a': 'somw value', 'b': [1, 2, 3, 4], 7: 'an integer'}"
            ]
          },
          "metadata": {},
          "execution_count": 140
        }
      ]
    },
    {
      "cell_type": "code",
      "source": [
        "# Get a list of all keys in the dictionary\n",
        "list(d1.keys())"
      ],
      "metadata": {
        "colab": {
          "base_uri": "https://localhost:8080/"
        },
        "id": "qDw_IN_ZSiqF",
        "outputId": "df0d784d-1bbc-44b7-8f36-f861701f7caa"
      },
      "execution_count": 141,
      "outputs": [
        {
          "output_type": "execute_result",
          "data": {
            "text/plain": [
              "['a', 'b', 7]"
            ]
          },
          "metadata": {},
          "execution_count": 141
        }
      ]
    },
    {
      "cell_type": "code",
      "source": [
        "# Get a list of all values in the dictionary\n",
        "list(d1.values())"
      ],
      "metadata": {
        "colab": {
          "base_uri": "https://localhost:8080/"
        },
        "id": "RFwBX2RmSnh1",
        "outputId": "52f094a2-a587-4753-e6ed-a0c05175637d"
      },
      "execution_count": 142,
      "outputs": [
        {
          "output_type": "execute_result",
          "data": {
            "text/plain": [
              "['somw value', [1, 2, 3, 4], 'an integer']"
            ]
          },
          "metadata": {},
          "execution_count": 142
        }
      ]
    },
    {
      "cell_type": "code",
      "source": [
        "# Get a list of key-value pairs (as tuples) in the dictionary\n",
        "list(d1.items())"
      ],
      "metadata": {
        "colab": {
          "base_uri": "https://localhost:8080/"
        },
        "id": "RysmORrnSsCb",
        "outputId": "e166562b-3459-4b3e-c9ec-6b4a69e0ddf7"
      },
      "execution_count": 143,
      "outputs": [
        {
          "output_type": "execute_result",
          "data": {
            "text/plain": [
              "[('a', 'somw value'), ('b', [1, 2, 3, 4]), (7, 'an integer')]"
            ]
          },
          "metadata": {},
          "execution_count": 143
        }
      ]
    },
    {
      "cell_type": "code",
      "source": [
        "# Update the dictionary with key-value pairs from another dictionary or iterable of key-value pairs\n",
        "d1.update({'b': \"foo\", 'c': 12})\n",
        "# Display the modified dictionary\n",
        "d1"
      ],
      "metadata": {
        "colab": {
          "base_uri": "https://localhost:8080/"
        },
        "id": "0Pef06SpSwQG",
        "outputId": "f7000816-6ad0-430d-8303-7eb6a3967c44"
      },
      "execution_count": 144,
      "outputs": [
        {
          "output_type": "execute_result",
          "data": {
            "text/plain": [
              "{'a': 'somw value', 'b': 'foo', 7: 'an integer', 'c': 12}"
            ]
          },
          "metadata": {},
          "execution_count": 144
        }
      ]
    },
    {
      "cell_type": "markdown",
      "source": [
        "**Creating dicts from sequences**\n"
      ],
      "metadata": {
        "id": "e6OhDh60pNGv"
      }
    },
    {
      "cell_type": "code",
      "source": [
        "# Create a zip object that pairs elements from two iterables\n",
        "tuples = zip(range(5), reversed(range(5)))\n",
        "# Display the zip object\n",
        "tuples"
      ],
      "metadata": {
        "colab": {
          "base_uri": "https://localhost:8080/"
        },
        "id": "6SAdP5MUS6G2",
        "outputId": "fb312083-9ea6-48a8-808e-769d19ffd5ad"
      },
      "execution_count": 145,
      "outputs": [
        {
          "output_type": "execute_result",
          "data": {
            "text/plain": [
              "<zip at 0x786b8c6932c0>"
            ]
          },
          "metadata": {},
          "execution_count": 145
        }
      ]
    },
    {
      "cell_type": "code",
      "source": [
        "# Convert the zip object to a dictionary\n",
        "mapping = dict(tuples)\n",
        "# Display the dictionary\n",
        "mapping"
      ],
      "metadata": {
        "colab": {
          "base_uri": "https://localhost:8080/"
        },
        "id": "BCt1gupZS_SG",
        "outputId": "03142bd4-46b0-4827-db6c-488d3688778b"
      },
      "execution_count": 146,
      "outputs": [
        {
          "output_type": "execute_result",
          "data": {
            "text/plain": [
              "{0: 4, 1: 3, 2: 2, 3: 1, 4: 0}"
            ]
          },
          "metadata": {},
          "execution_count": 146
        }
      ]
    },
    {
      "cell_type": "markdown",
      "source": [
        "**Default values**"
      ],
      "metadata": {
        "id": "qeXSyIcJp1yV"
      }
    },
    {
      "cell_type": "code",
      "source": [
        "# Define a list of words\n",
        "words = ['apple', 'bat', 'bar', 'atom', 'book']\n",
        "\n",
        "# Create an empty dictionary to store words grouped by their first letter\n",
        "by_letter = {}\n",
        "\n",
        "# Iterate through the list of words\n",
        "for word in words:\n",
        "    # Get the first letter of the word\n",
        "    letter = word[0]\n",
        "    # Check if the letter is already a key in the dictionary\n",
        "    if letter not in by_letter:\n",
        "        # If not, create a new key with the letter and a list containing the current word\n",
        "        by_letter[letter] = [word]\n",
        "    else:\n",
        "        # If the letter is already a key, append the current word to the existing list\n",
        "        by_letter[letter].append(word)\n",
        "\n",
        "# Display the resulting dictionary\n",
        "by_letter"
      ],
      "metadata": {
        "id": "ZBLKqcXRTGnG",
        "colab": {
          "base_uri": "https://localhost:8080/"
        },
        "outputId": "5da12da1-c1e3-4b35-e8b9-c404a300ca82"
      },
      "execution_count": 147,
      "outputs": [
        {
          "output_type": "execute_result",
          "data": {
            "text/plain": [
              "{'a': ['apple', 'atom'], 'b': ['bat', 'bar', 'book']}"
            ]
          },
          "metadata": {},
          "execution_count": 147
        }
      ]
    },
    {
      "cell_type": "code",
      "source": [
        "# Create an empty dictionary\n",
        "by_letter = {}\n",
        "\n",
        "# Iterate through the list of words\n",
        "for word in words:\n",
        "  # Get the first letter of the word\n",
        "  letter = word[0]\n",
        "  # Use setdefault() to get the list for the letter (creating an empty list if the key doesn't exist)\n",
        "  # Then append the current word to the list\n",
        "  by_letter.setdefault(letter, []).append(word)\n",
        "\n",
        "# Display the resulting dictionary\n",
        "by_letter"
      ],
      "metadata": {
        "colab": {
          "base_uri": "https://localhost:8080/"
        },
        "id": "_M0EpNs_gieS",
        "outputId": "25570219-0542-426a-9131-387c602135a3"
      },
      "execution_count": 148,
      "outputs": [
        {
          "output_type": "execute_result",
          "data": {
            "text/plain": [
              "{'a': ['apple', 'atom'], 'b': ['bat', 'bar', 'book']}"
            ]
          },
          "metadata": {},
          "execution_count": 148
        }
      ]
    },
    {
      "cell_type": "code",
      "source": [
        "# Import the defaultdict class from the collections module\n",
        "from collections import defaultdict\n",
        "\n",
        "# Create a defaultdict with a default factory of list (automatically creates a list for new keys)\n",
        "by_letter = defaultdict(list)\n",
        "# Iterate through the list of words\n",
        "for word in words:\n",
        "  # Append the word to the list associated with its first letter\n",
        "  by_letter[word[0]].append(word)\n",
        "\n",
        "# Display the resulting defaultdict\n",
        "by_letter"
      ],
      "metadata": {
        "colab": {
          "base_uri": "https://localhost:8080/"
        },
        "id": "_fQO0gzjgtz_",
        "outputId": "8cbb1336-9b90-4349-c746-cb9de7aef5f9"
      },
      "execution_count": 149,
      "outputs": [
        {
          "output_type": "execute_result",
          "data": {
            "text/plain": [
              "defaultdict(list, {'a': ['apple', 'atom'], 'b': ['bat', 'bar', 'book']})"
            ]
          },
          "metadata": {},
          "execution_count": 149
        }
      ]
    },
    {
      "cell_type": "markdown",
      "source": [
        "**Valid dict key types**"
      ],
      "metadata": {
        "id": "1bUJiIM9qINS"
      }
    },
    {
      "cell_type": "code",
      "source": [
        "# Get the hash value of a string (strings are hashable)\n",
        "hash(\"string\")\n",
        "# Get the hash value of a tuple containing hashable elements (tuples are hashable if their contents are hashable)\n",
        "hash((1, 2,(2, 3)))\n",
        "# Attempt to get the hash value of a tuple containing a list (will raise a TypeError because lists are mutable and thus not hashable)\n",
        "hash((1, 2,[2, 3])) # Fails because list are mutable"
      ],
      "metadata": {
        "colab": {
          "base_uri": "https://localhost:8080/",
          "height": 183
        },
        "id": "IviUFk7BhNQP",
        "outputId": "0886b152-a3dd-46e3-f161-89035899b295"
      },
      "execution_count": 150,
      "outputs": [
        {
          "output_type": "error",
          "ename": "TypeError",
          "evalue": "unhashable type: 'list'",
          "traceback": [
            "\u001b[0;31m---------------------------------------------------------------------------\u001b[0m",
            "\u001b[0;31mTypeError\u001b[0m                                 Traceback (most recent call last)",
            "\u001b[0;32m/tmp/ipython-input-150-2249248007.py\u001b[0m in \u001b[0;36m<cell line: 0>\u001b[0;34m()\u001b[0m\n\u001b[1;32m      4\u001b[0m \u001b[0mhash\u001b[0m\u001b[0;34m(\u001b[0m\u001b[0;34m(\u001b[0m\u001b[0;36m1\u001b[0m\u001b[0;34m,\u001b[0m \u001b[0;36m2\u001b[0m\u001b[0;34m,\u001b[0m\u001b[0;34m(\u001b[0m\u001b[0;36m2\u001b[0m\u001b[0;34m,\u001b[0m \u001b[0;36m3\u001b[0m\u001b[0;34m)\u001b[0m\u001b[0;34m)\u001b[0m\u001b[0;34m)\u001b[0m\u001b[0;34m\u001b[0m\u001b[0;34m\u001b[0m\u001b[0m\n\u001b[1;32m      5\u001b[0m \u001b[0;31m# Attempt to get the hash value of a tuple containing a list (will raise a TypeError because lists are mutable and thus not hashable)\u001b[0m\u001b[0;34m\u001b[0m\u001b[0;34m\u001b[0m\u001b[0m\n\u001b[0;32m----> 6\u001b[0;31m \u001b[0mhash\u001b[0m\u001b[0;34m(\u001b[0m\u001b[0;34m(\u001b[0m\u001b[0;36m1\u001b[0m\u001b[0;34m,\u001b[0m \u001b[0;36m2\u001b[0m\u001b[0;34m,\u001b[0m\u001b[0;34m[\u001b[0m\u001b[0;36m2\u001b[0m\u001b[0;34m,\u001b[0m \u001b[0;36m3\u001b[0m\u001b[0;34m]\u001b[0m\u001b[0;34m)\u001b[0m\u001b[0;34m)\u001b[0m \u001b[0;31m# Fails because list are mutable\u001b[0m\u001b[0;34m\u001b[0m\u001b[0;34m\u001b[0m\u001b[0m\n\u001b[0m",
            "\u001b[0;31mTypeError\u001b[0m: unhashable type: 'list'"
          ]
        }
      ]
    },
    {
      "cell_type": "code",
      "source": [
        "# Create an empty dictionary\n",
        "d = {}\n",
        "# Add a key-value pair to the dictionary where the key is a tuple (tuples are hashable)\n",
        "d[tuple([1, 2, 3])] = 5\n",
        "# Display the dictionary\n",
        "d"
      ],
      "metadata": {
        "colab": {
          "base_uri": "https://localhost:8080/"
        },
        "id": "ZUfVZaFphpjX",
        "outputId": "fb6622df-a2f6-4bf3-9090-608235e3e75c"
      },
      "execution_count": 151,
      "outputs": [
        {
          "output_type": "execute_result",
          "data": {
            "text/plain": [
              "{(1, 2, 3): 5}"
            ]
          },
          "metadata": {},
          "execution_count": 151
        }
      ]
    },
    {
      "cell_type": "markdown",
      "source": [
        "**set**"
      ],
      "metadata": {
        "id": "OSl60JsVqRBJ"
      }
    },
    {
      "cell_type": "code",
      "source": [
        "# Create a set from a list with duplicate elements (sets automatically remove duplicates)\n",
        "set([2, 2, 2, 1, 3, 3])\n",
        "# Create a set using set literal notation with duplicate elements\n",
        "{2, 2, 2, 1, 3, 3}"
      ],
      "metadata": {
        "colab": {
          "base_uri": "https://localhost:8080/"
        },
        "id": "Ep3FjTZChzAU",
        "outputId": "93924374-234f-43ee-cdae-5ea8c9fdde8b"
      },
      "execution_count": 152,
      "outputs": [
        {
          "output_type": "execute_result",
          "data": {
            "text/plain": [
              "{1, 2, 3}"
            ]
          },
          "metadata": {},
          "execution_count": 152
        }
      ]
    },
    {
      "cell_type": "code",
      "source": [
        "# Define two sets\n",
        "a = {1, 2, 3, 4, 5}\n",
        "b = {3, 4, 5, 6, 7, 8}"
      ],
      "metadata": {
        "id": "kws3ZNLgh95g"
      },
      "execution_count": 153,
      "outputs": []
    },
    {
      "cell_type": "code",
      "source": [
        "# Perform a set union operation (elements in either set)\n",
        "a.union(b)\n",
        "\n",
        "# Perform a set union operation using the | operator\n",
        "a | b"
      ],
      "metadata": {
        "colab": {
          "base_uri": "https://localhost:8080/"
        },
        "id": "1Q0wNM48iA-X",
        "outputId": "e154892d-b2bc-4efd-951f-907e408e8822"
      },
      "execution_count": 154,
      "outputs": [
        {
          "output_type": "execute_result",
          "data": {
            "text/plain": [
              "{1, 2, 3, 4, 5, 6, 7, 8}"
            ]
          },
          "metadata": {},
          "execution_count": 154
        }
      ]
    },
    {
      "cell_type": "code",
      "source": [
        "# Perform a set intersection operation (elements common to both sets)\n",
        "a.intersection(b)\n",
        "# Perform a set intersection operation using the & operator\n",
        "a & b"
      ],
      "metadata": {
        "colab": {
          "base_uri": "https://localhost:8080/"
        },
        "id": "TEmjLR9FiHgx",
        "outputId": "b567643e-eeea-4907-9a09-3988a7ede77c"
      },
      "execution_count": 155,
      "outputs": [
        {
          "output_type": "execute_result",
          "data": {
            "text/plain": [
              "{3, 4, 5}"
            ]
          },
          "metadata": {},
          "execution_count": 155
        }
      ]
    },
    {
      "cell_type": "code",
      "source": [
        "# Create a copy of set a\n",
        "c = a.copy()\n",
        "# Perform an in-place union with set b\n",
        "c |= b\n",
        "# Display the modified set c\n",
        "c"
      ],
      "metadata": {
        "colab": {
          "base_uri": "https://localhost:8080/"
        },
        "id": "YRLlTHEfiip3",
        "outputId": "9dcfd484-42ef-429e-bdc0-0be9e2ed8497"
      },
      "execution_count": 156,
      "outputs": [
        {
          "output_type": "execute_result",
          "data": {
            "text/plain": [
              "{1, 2, 3, 4, 5, 6, 7, 8}"
            ]
          },
          "metadata": {},
          "execution_count": 156
        }
      ]
    },
    {
      "cell_type": "code",
      "source": [
        "# Create a copy of set a\n",
        "d = a.copy()\n",
        "# Perform an in-place intersection with set b\n",
        "d &= b\n",
        "# Display the modified set d\n",
        "d"
      ],
      "metadata": {
        "colab": {
          "base_uri": "https://localhost:8080/"
        },
        "id": "7NVlJL7VisBI",
        "outputId": "1452d2b0-3dba-4aaa-e3eb-d1cdde862c7b"
      },
      "execution_count": 157,
      "outputs": [
        {
          "output_type": "execute_result",
          "data": {
            "text/plain": [
              "{3, 4, 5}"
            ]
          },
          "metadata": {},
          "execution_count": 157
        }
      ]
    },
    {
      "cell_type": "code",
      "source": [
        "# Define a list\n",
        "my_data = [1, 2, 3, 4]\n",
        "# Create a set containing a tuple created from the list (tuples are hashable, lists are not)\n",
        "my_set = {tuple(my_data)}\n",
        "# Display the set\n",
        "my_set"
      ],
      "metadata": {
        "colab": {
          "base_uri": "https://localhost:8080/"
        },
        "id": "SQcoXPfYi4WM",
        "outputId": "6a0998b2-9988-4bf0-92be-834aec83c19c"
      },
      "execution_count": 158,
      "outputs": [
        {
          "output_type": "execute_result",
          "data": {
            "text/plain": [
              "{(1, 2, 3, 4)}"
            ]
          },
          "metadata": {},
          "execution_count": 158
        }
      ]
    },
    {
      "cell_type": "code",
      "source": [
        "# Define a set\n",
        "a_set = {1, 2, 3, 4, 5}\n",
        "\n",
        "# Check if the set {1, 2, 3} is a subset of a_set\n",
        "{1, 2, 3}.issubset(a_set)"
      ],
      "metadata": {
        "colab": {
          "base_uri": "https://localhost:8080/"
        },
        "id": "TfKtibiqjCIw",
        "outputId": "2b3c99b5-85a5-444d-de47-7379b46b0aeb"
      },
      "execution_count": 159,
      "outputs": [
        {
          "output_type": "execute_result",
          "data": {
            "text/plain": [
              "True"
            ]
          },
          "metadata": {},
          "execution_count": 159
        }
      ]
    },
    {
      "cell_type": "code",
      "source": [
        "# Check if a_set is a subset of the set {1, 2, 3}\n",
        "a_set.issubset({1, 2, 3})"
      ],
      "metadata": {
        "colab": {
          "base_uri": "https://localhost:8080/"
        },
        "id": "2MdQxYfojYow",
        "outputId": "fa4dda39-b78f-43dd-eb50-cefb96a6b8a6"
      },
      "execution_count": 160,
      "outputs": [
        {
          "output_type": "execute_result",
          "data": {
            "text/plain": [
              "False"
            ]
          },
          "metadata": {},
          "execution_count": 160
        }
      ]
    },
    {
      "cell_type": "code",
      "source": [
        "# Check if two sets are equal (order does not matter in sets)\n",
        "{1, 2, 3} == {3, 2, 1}"
      ],
      "metadata": {
        "colab": {
          "base_uri": "https://localhost:8080/"
        },
        "id": "UFcT6tP5jbkq",
        "outputId": "86160614-3b4d-47e6-9904-f3b128270b9d"
      },
      "execution_count": 161,
      "outputs": [
        {
          "output_type": "execute_result",
          "data": {
            "text/plain": [
              "True"
            ]
          },
          "metadata": {},
          "execution_count": 161
        }
      ]
    },
    {
      "cell_type": "markdown",
      "source": [
        "**sorted**"
      ],
      "metadata": {
        "id": "LZ9vOyF9oiso"
      }
    },
    {
      "cell_type": "code",
      "source": [
        "# Sort a list (returns a new sorted list)\n",
        "sorted([7, 1, 2, 6, 0, 3, 2])\n",
        "# Sort a string (sorts the characters and returns a list of characters)\n",
        "sorted('horse race')"
      ],
      "metadata": {
        "colab": {
          "base_uri": "https://localhost:8080/"
        },
        "id": "PszLp4WijjRq",
        "outputId": "b6c49c29-57d9-45e8-f5d6-d4b8be77c2b4"
      },
      "execution_count": 162,
      "outputs": [
        {
          "output_type": "execute_result",
          "data": {
            "text/plain": [
              "[' ', 'a', 'c', 'e', 'e', 'h', 'o', 'r', 'r', 's']"
            ]
          },
          "metadata": {},
          "execution_count": 162
        }
      ]
    },
    {
      "cell_type": "markdown",
      "source": [
        "**zip**"
      ],
      "metadata": {
        "id": "RLPQv60SomkR"
      }
    },
    {
      "cell_type": "code",
      "source": [
        "# Define two lists\n",
        "seq1 = [\"foo\", 'bar', \"baz\"]\n",
        "seq2 = ['one', 'two', 'three']\n",
        "# Create a zip object that pairs elements from seq1 and seq2\n",
        "zipped = zip(seq1, seq2)\n",
        "# Convert the zip object to a list of tuples\n",
        "list(zipped)"
      ],
      "metadata": {
        "colab": {
          "base_uri": "https://localhost:8080/"
        },
        "id": "XLJZGq2HjtxZ",
        "outputId": "7ead7097-2e1f-437b-ddcc-e3fd9b7281e8"
      },
      "execution_count": 163,
      "outputs": [
        {
          "output_type": "execute_result",
          "data": {
            "text/plain": [
              "[('foo', 'one'), ('bar', 'two'), ('baz', 'three')]"
            ]
          },
          "metadata": {},
          "execution_count": 163
        }
      ]
    },
    {
      "cell_type": "code",
      "source": [
        "# Define a third list\n",
        "seq3 = [False, True]\n",
        "# Create a zip object that pairs elements from three lists (stops at the shortest list)\n",
        "list(zip(seq1, seq2, seq3))"
      ],
      "metadata": {
        "colab": {
          "base_uri": "https://localhost:8080/"
        },
        "id": "Ajc35eSqj66h",
        "outputId": "10e9ec53-dd67-48f0-d891-ea0e893ebad5"
      },
      "execution_count": 164,
      "outputs": [
        {
          "output_type": "execute_result",
          "data": {
            "text/plain": [
              "[('foo', 'one', False), ('bar', 'two', True)]"
            ]
          },
          "metadata": {},
          "execution_count": 164
        }
      ]
    },
    {
      "cell_type": "code",
      "source": [
        "# Iterate over two sequences simultaneously using zip and get the index using enumerate\n",
        "for index, (a, b) in enumerate(zip(seq1, seq2)):\n",
        "    # Print the index and the paired elements\n",
        "    print(f\"{index}: {a}, {b}\")"
      ],
      "metadata": {
        "colab": {
          "base_uri": "https://localhost:8080/"
        },
        "id": "h1qPZ-cokJBB",
        "outputId": "a59a47ab-d226-480e-91bc-b4950ee09e17"
      },
      "execution_count": 165,
      "outputs": [
        {
          "output_type": "stream",
          "name": "stdout",
          "text": [
            "0: foo, one\n",
            "1: bar, two\n",
            "2: baz, three\n"
          ]
        }
      ]
    },
    {
      "cell_type": "markdown",
      "source": [
        "**reversed**"
      ],
      "metadata": {
        "id": "ghPpWkqKox40"
      }
    },
    {
      "cell_type": "code",
      "source": [
        "# Create a reversed iterator for a range of numbers\n",
        "list(reversed(range(10)))"
      ],
      "metadata": {
        "colab": {
          "base_uri": "https://localhost:8080/"
        },
        "id": "1_ijZ23XkKix",
        "outputId": "78c958ed-6ec8-4099-b630-4195856a9433"
      },
      "execution_count": 166,
      "outputs": [
        {
          "output_type": "execute_result",
          "data": {
            "text/plain": [
              "[9, 8, 7, 6, 5, 4, 3, 2, 1, 0]"
            ]
          },
          "metadata": {},
          "execution_count": 166
        }
      ]
    }
  ]
}