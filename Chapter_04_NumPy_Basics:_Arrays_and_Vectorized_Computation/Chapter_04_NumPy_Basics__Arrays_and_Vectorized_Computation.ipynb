{
  "nbformat": 4,
  "nbformat_minor": 0,
  "metadata": {
    "colab": {
      "provenance": [],
      "authorship_tag": "ABX9TyNLPbsADuU0rHKZoKKoCgIF",
      "include_colab_link": true
    },
    "kernelspec": {
      "name": "python3",
      "display_name": "Python 3"
    },
    "language_info": {
      "name": "python"
    }
  },
  "cells": [
    {
      "cell_type": "markdown",
      "metadata": {
        "id": "view-in-github",
        "colab_type": "text"
      },
      "source": [
        "<a href=\"https://colab.research.google.com/github/Saifullah785/python-for-data-analysis-notes/blob/main/Chapter_04_NumPy_Basics%3A_Arrays_and_Vectorized_Computation/Chapter_04_NumPy_Basics__Arrays_and_Vectorized_Computation.ipynb\" target=\"_parent\"><img src=\"https://colab.research.google.com/assets/colab-badge.svg\" alt=\"Open In Colab\"/></a>"
      ]
    },
    {
      "cell_type": "markdown",
      "source": [
        "# **NumPy_Basics:_Arrays_and_Vectorized_Computation**"
      ],
      "metadata": {
        "id": "F_aGJg3qHgPU"
      }
    },
    {
      "cell_type": "code",
      "execution_count": 2,
      "metadata": {
        "id": "Sb5zBDtQHK1A"
      },
      "outputs": [],
      "source": [
        "# Import necessary libraries\n",
        "import numpy as np\n",
        "np.random.seed(12345) # Set a random seed for reproducibility\n",
        "import matplotlib.pyplot as plt # Import matplotlib for plotting (though not used in this notebook yet)\n",
        "plt.rc('figure', figsize=(10, 6)) # Set default figure size for matplotlib plots\n",
        "np.set_printoptions(precision=4, suppress=True) # Set NumPy print options for better readability"
      ]
    },
    {
      "cell_type": "code",
      "source": [
        "# Create a large NumPy array and a large Python list\n",
        "import numpy as np\n",
        "my_arr = np.arange(1000000) # Create a NumPy array with numbers from 0 to 999999\n",
        "my_list = list(range(1000000)) # Create a Python list with numbers from 0 to 999999"
      ],
      "metadata": {
        "id": "-3V9VPtbyi4r"
      },
      "execution_count": 3,
      "outputs": []
    },
    {
      "cell_type": "code",
      "source": [
        "# Display the NumPy array\n",
        "my_arr"
      ],
      "metadata": {
        "colab": {
          "base_uri": "https://localhost:8080/"
        },
        "id": "RU-yADmJyoJh",
        "outputId": "cbf5d2d0-de2d-4a7b-e596-a1ddcf44e66a"
      },
      "execution_count": 120,
      "outputs": [
        {
          "output_type": "execute_result",
          "data": {
            "text/plain": [
              "array([     0,      1,      2, ..., 999997, 999998, 999999])"
            ]
          },
          "metadata": {},
          "execution_count": 120
        }
      ]
    },
    {
      "cell_type": "code",
      "source": [
        "# Compare the performance of NumPy array multiplication and Python list multiplication\n",
        "%timeit my_arr2 = my_arr * 2 # Measure time for multiplying NumPy array by 2\n",
        "%timeit my_list2 = [x * 2 for x in my_list] # Measure time for multiplying Python list by 2 using a list comprehension"
      ],
      "metadata": {
        "colab": {
          "base_uri": "https://localhost:8080/"
        },
        "id": "Z0pk7a2_yp5c",
        "outputId": "f0ecb233-cb0d-4931-a070-4878ae8d2776"
      },
      "execution_count": 5,
      "outputs": [
        {
          "output_type": "stream",
          "name": "stdout",
          "text": [
            "2.13 ms ± 206 µs per loop (mean ± std. dev. of 7 runs, 100 loops each)\n",
            "61.2 ms ± 19.6 ms per loop (mean ± std. dev. of 7 runs, 10 loops each)\n"
          ]
        }
      ]
    },
    {
      "cell_type": "code",
      "source": [
        "# Create a 2D NumPy array\n",
        "import numpy as np\n",
        "data = np.array([[1.5, -0.1, 3],[0, -3, 6.5]]) # Create a 2x3 NumPy array\n",
        "data # Display the array"
      ],
      "metadata": {
        "colab": {
          "base_uri": "https://localhost:8080/"
        },
        "id": "JliYeVgAy9_k",
        "outputId": "25ab8687-daa1-4447-d6f4-c30c7ee1c430"
      },
      "execution_count": 121,
      "outputs": [
        {
          "output_type": "execute_result",
          "data": {
            "text/plain": [
              "array([[ 1.5, -0.1,  3. ],\n",
              "       [ 0. , -3. ,  6.5]])"
            ]
          },
          "metadata": {},
          "execution_count": 121
        }
      ]
    },
    {
      "cell_type": "code",
      "source": [
        "# Perform element-wise operations on the NumPy array\n",
        "data * 10 # Multiply each element by 10\n",
        "\n",
        "data + data # Add the array to itself (element-wise addition)"
      ],
      "metadata": {
        "colab": {
          "base_uri": "https://localhost:8080/"
        },
        "id": "EO97kSyRzNcy",
        "outputId": "d79ddb1e-d640-4b0f-bb36-d3cc03e0de6c"
      },
      "execution_count": 122,
      "outputs": [
        {
          "output_type": "execute_result",
          "data": {
            "text/plain": [
              "array([[ 3. , -0.2,  6. ],\n",
              "       [ 0. , -6. , 13. ]])"
            ]
          },
          "metadata": {},
          "execution_count": 122
        }
      ]
    },
    {
      "cell_type": "code",
      "source": [
        "# Check the shape and data type of the NumPy array\n",
        "data.shape # Get the dimensions of the array (rows, columns)\n",
        "data.dtype # Get the data type of the array elements"
      ],
      "metadata": {
        "colab": {
          "base_uri": "https://localhost:8080/"
        },
        "id": "kPkblseszWa6",
        "outputId": "58ce823e-5bad-41e7-9138-7358963eacda"
      },
      "execution_count": 123,
      "outputs": [
        {
          "output_type": "execute_result",
          "data": {
            "text/plain": [
              "dtype('float64')"
            ]
          },
          "metadata": {},
          "execution_count": 123
        }
      ]
    },
    {
      "cell_type": "code",
      "source": [
        "# Create a 1D NumPy array from a Python list\n",
        "data1 = [6, 7.5, 8, 0, 1] # Python list\n",
        "arr1 = np.array(data1) # Convert list to NumPy array\n",
        "arr1 # Display the array"
      ],
      "metadata": {
        "colab": {
          "base_uri": "https://localhost:8080/"
        },
        "id": "phN5ARDvzaTB",
        "outputId": "11196535-b9ed-4275-d23b-c5157472b004"
      },
      "execution_count": 124,
      "outputs": [
        {
          "output_type": "execute_result",
          "data": {
            "text/plain": [
              "array([6. , 7.5, 8. , 0. , 1. ])"
            ]
          },
          "metadata": {},
          "execution_count": 124
        }
      ]
    },
    {
      "cell_type": "code",
      "source": [
        "# Create a 2D NumPy array from a list of lists\n",
        "data2 = [[1, 2, 3, 4], [5, 6, 7, 8]] # Python list of lists\n",
        "arr2 = np.array(data2) # Convert list of lists to NumPy array\n",
        "arr2 # Display the array"
      ],
      "metadata": {
        "colab": {
          "base_uri": "https://localhost:8080/"
        },
        "id": "DUeQVa4KzlMy",
        "outputId": "6cb9d610-b09d-4cc5-d056-6c398ca3042a"
      },
      "execution_count": 125,
      "outputs": [
        {
          "output_type": "execute_result",
          "data": {
            "text/plain": [
              "array([[1, 2, 3, 4],\n",
              "       [5, 6, 7, 8]])"
            ]
          },
          "metadata": {},
          "execution_count": 125
        }
      ]
    },
    {
      "cell_type": "code",
      "source": [
        "# Check the number of dimensions of the 2D array\n",
        "arr2.ndim # Get the number of dimensions"
      ],
      "metadata": {
        "colab": {
          "base_uri": "https://localhost:8080/"
        },
        "id": "yi_jfunVzyRC",
        "outputId": "5286509b-ed26-438e-b56e-8d50850ea3ab"
      },
      "execution_count": 126,
      "outputs": [
        {
          "output_type": "execute_result",
          "data": {
            "text/plain": [
              "2"
            ]
          },
          "metadata": {},
          "execution_count": 126
        }
      ]
    },
    {
      "cell_type": "code",
      "source": [
        "# Check the shape of the 2D array\n",
        "arr2.shape # Get the dimensions (rows, columns)"
      ],
      "metadata": {
        "colab": {
          "base_uri": "https://localhost:8080/"
        },
        "id": "j1heFJfSz2da",
        "outputId": "9f8f0e57-bdf0-4e1e-b205-59e357d1565d"
      },
      "execution_count": 127,
      "outputs": [
        {
          "output_type": "execute_result",
          "data": {
            "text/plain": [
              "(2, 4)"
            ]
          },
          "metadata": {},
          "execution_count": 127
        }
      ]
    },
    {
      "cell_type": "code",
      "source": [
        "# Check the data types of the 1D and 2D arrays\n",
        "arr1.dtype # Data type of arr1\n",
        "arr2.dtype # Data type of arr2"
      ],
      "metadata": {
        "colab": {
          "base_uri": "https://localhost:8080/"
        },
        "id": "WEKtKmx1z3sy",
        "outputId": "a1dbb73d-9da8-4c2d-d3e9-1c573947c218"
      },
      "execution_count": 128,
      "outputs": [
        {
          "output_type": "execute_result",
          "data": {
            "text/plain": [
              "dtype('int64')"
            ]
          },
          "metadata": {},
          "execution_count": 128
        }
      ]
    },
    {
      "cell_type": "code",
      "source": [
        "# Create a 1D array of zeros\n",
        "np.zeros(10) # Create an array of 10 zeros with default float dtype"
      ],
      "metadata": {
        "colab": {
          "base_uri": "https://localhost:8080/"
        },
        "id": "2-TFxXWQ0A4a",
        "outputId": "e9e7abe5-9bfd-4c19-94d9-238fd0a8307e"
      },
      "execution_count": 129,
      "outputs": [
        {
          "output_type": "execute_result",
          "data": {
            "text/plain": [
              "array([0., 0., 0., 0., 0., 0., 0., 0., 0., 0.])"
            ]
          },
          "metadata": {},
          "execution_count": 129
        }
      ]
    },
    {
      "cell_type": "code",
      "source": [
        "# Create a 2D array of zeros\n",
        "np.zeros((3, 6)) # Create a 3x6 array of zeros"
      ],
      "metadata": {
        "colab": {
          "base_uri": "https://localhost:8080/"
        },
        "id": "DiAEDGE30NJC",
        "outputId": "3231fdc9-5179-4576-9af2-a8eea65f2e3e"
      },
      "execution_count": 130,
      "outputs": [
        {
          "output_type": "execute_result",
          "data": {
            "text/plain": [
              "array([[0., 0., 0., 0., 0., 0.],\n",
              "       [0., 0., 0., 0., 0., 0.],\n",
              "       [0., 0., 0., 0., 0., 0.]])"
            ]
          },
          "metadata": {},
          "execution_count": 130
        }
      ]
    },
    {
      "cell_type": "code",
      "source": [
        "# Create an empty 3D array\n",
        "np.empty((2, 3, 2)) # Create a 2x3x2 array with uninitialized (arbitrary) data"
      ],
      "metadata": {
        "colab": {
          "base_uri": "https://localhost:8080/"
        },
        "id": "DG4LcMi10Opb",
        "outputId": "c55ce24f-7854-4b02-8668-4cb2939b9678"
      },
      "execution_count": 131,
      "outputs": [
        {
          "output_type": "execute_result",
          "data": {
            "text/plain": [
              "array([[[0., 0.],\n",
              "        [0., 0.],\n",
              "        [0., 0.]],\n",
              "\n",
              "       [[0., 0.],\n",
              "        [0., 0.],\n",
              "        [0., 0.]]])"
            ]
          },
          "metadata": {},
          "execution_count": 131
        }
      ]
    },
    {
      "cell_type": "code",
      "source": [
        "# Create a 1D array with a range of numbers\n",
        "np.arange(15) # Create an array with numbers from 0 to 14"
      ],
      "metadata": {
        "colab": {
          "base_uri": "https://localhost:8080/"
        },
        "id": "DyUd0HUI0Slo",
        "outputId": "26785a1a-b324-49c6-ead7-97945bca5454"
      },
      "execution_count": 132,
      "outputs": [
        {
          "output_type": "execute_result",
          "data": {
            "text/plain": [
              "array([ 0,  1,  2,  3,  4,  5,  6,  7,  8,  9, 10, 11, 12, 13, 14])"
            ]
          },
          "metadata": {},
          "execution_count": 132
        }
      ]
    },
    {
      "cell_type": "code",
      "source": [
        "# Create NumPy arrays with specified data types\n",
        "arr1 = np.array([1, 2, 3], dtype = np.float64) # Create array with float64 dtype\n",
        "arr2 = np.array([1, 2, 3], dtype = np.int32) # Create array with int32 dtype\n",
        "\n",
        "arr1.dtype # Check the data type of arr1"
      ],
      "metadata": {
        "colab": {
          "base_uri": "https://localhost:8080/"
        },
        "id": "yA77grK90Yup",
        "outputId": "b18f85af-eaac-427b-f994-54b4e797819e"
      },
      "execution_count": 133,
      "outputs": [
        {
          "output_type": "execute_result",
          "data": {
            "text/plain": [
              "dtype('float64')"
            ]
          },
          "metadata": {},
          "execution_count": 133
        }
      ]
    },
    {
      "cell_type": "code",
      "source": [
        "# Check the data type of arr2\n",
        "arr2.dtype # Data type of arr2"
      ],
      "metadata": {
        "colab": {
          "base_uri": "https://localhost:8080/"
        },
        "id": "zMBLMscd0vWT",
        "outputId": "dfc5d730-4c9e-4830-dbc6-25eeb9be54e2"
      },
      "execution_count": 134,
      "outputs": [
        {
          "output_type": "execute_result",
          "data": {
            "text/plain": [
              "dtype('int32')"
            ]
          },
          "metadata": {},
          "execution_count": 134
        }
      ]
    },
    {
      "cell_type": "code",
      "source": [
        "# Create an integer array and check its data type\n",
        "arr = np.array([1, 2, 3, 4, 5]) # Create an integer array\n",
        "\n",
        "arr.dtype # Check the data type"
      ],
      "metadata": {
        "colab": {
          "base_uri": "https://localhost:8080/"
        },
        "id": "GRxCR8mY0yB6",
        "outputId": "12d988f5-ea5b-4978-d95c-17c862076a70"
      },
      "execution_count": 135,
      "outputs": [
        {
          "output_type": "execute_result",
          "data": {
            "text/plain": [
              "dtype('int64')"
            ]
          },
          "metadata": {},
          "execution_count": 135
        }
      ]
    },
    {
      "cell_type": "code",
      "source": [
        "# Cast the integer array to a float array\n",
        "float_arr = arr.astype(np.float64) # Convert array elements to float64\n",
        "float_arr # Display the new array"
      ],
      "metadata": {
        "colab": {
          "base_uri": "https://localhost:8080/"
        },
        "id": "HiKwP5Je055r",
        "outputId": "45c79978-e35a-409b-ebb9-853c2684a8ed"
      },
      "execution_count": 136,
      "outputs": [
        {
          "output_type": "execute_result",
          "data": {
            "text/plain": [
              "array([1., 2., 3., 4., 5.])"
            ]
          },
          "metadata": {},
          "execution_count": 136
        }
      ]
    },
    {
      "cell_type": "code",
      "source": [
        "# Check the data type of the new float array\n",
        "float_arr.dtype # Check the data type"
      ],
      "metadata": {
        "colab": {
          "base_uri": "https://localhost:8080/"
        },
        "id": "er3H0sfp1ACi",
        "outputId": "37897c36-3fbb-4ac1-ec40-104761cd2d1a"
      },
      "execution_count": 137,
      "outputs": [
        {
          "output_type": "execute_result",
          "data": {
            "text/plain": [
              "dtype('float64')"
            ]
          },
          "metadata": {},
          "execution_count": 137
        }
      ]
    },
    {
      "cell_type": "code",
      "source": [
        "# Create a float array\n",
        "arr = np.array([3.7, -1.2, -2.6, 0.5, 12.9, 10.1]) # Create a float array\n",
        "arr # Display the array"
      ],
      "metadata": {
        "colab": {
          "base_uri": "https://localhost:8080/"
        },
        "id": "KXLoQEDO1Crk",
        "outputId": "11b70137-cb5f-47b9-8442-a41d440de4fa"
      },
      "execution_count": 138,
      "outputs": [
        {
          "output_type": "execute_result",
          "data": {
            "text/plain": [
              "array([ 3.7, -1.2, -2.6,  0.5, 12.9, 10.1])"
            ]
          },
          "metadata": {},
          "execution_count": 138
        }
      ]
    },
    {
      "cell_type": "code",
      "source": [
        "# Cast the float array to an integer array (truncates decimal part)\n",
        "arr.astype(np.int32) # Convert array elements to int32"
      ],
      "metadata": {
        "colab": {
          "base_uri": "https://localhost:8080/"
        },
        "id": "1FQ-VDxf1IT7",
        "outputId": "87c15c3c-9ad6-4563-ee57-876a3900d44b"
      },
      "execution_count": 139,
      "outputs": [
        {
          "output_type": "execute_result",
          "data": {
            "text/plain": [
              "array([ 3, -1, -2,  0, 12, 10], dtype=int32)"
            ]
          },
          "metadata": {},
          "execution_count": 139
        }
      ]
    },
    {
      "cell_type": "code",
      "source": [
        "# Convert an array of numeric strings to a float array\n",
        "numeric_strings = np.array(['1.25', '-9.6', '42'], dtype = np.bytes_) # Create an array of bytes representing numbers\n",
        "numeric_strings.astype(float) # Convert the elements to float"
      ],
      "metadata": {
        "colab": {
          "base_uri": "https://localhost:8080/"
        },
        "id": "qfBhUbMm1LH7",
        "outputId": "35e40edd-245f-49ac-dd6f-0844710761d8"
      },
      "execution_count": 140,
      "outputs": [
        {
          "output_type": "execute_result",
          "data": {
            "text/plain": [
              "array([ 1.25, -9.6 , 42.  ])"
            ]
          },
          "metadata": {},
          "execution_count": 140
        }
      ]
    },
    {
      "cell_type": "code",
      "source": [
        "# Cast an integer array to the data type of another array\n",
        "int_array = np.arange(10) # Create an integer array\n",
        "calibers = np.array([.22, .270, .357, .380, .44, .50], dtype = np.float64) # Create a float array\n",
        "int_array.astype(calibers.dtype) # Convert int_array to the dtype of calibers (float64)"
      ],
      "metadata": {
        "colab": {
          "base_uri": "https://localhost:8080/"
        },
        "id": "fU5OpfqZ1tKS",
        "outputId": "6305bb62-d2fe-4570-eaf9-a0eb4422bfba"
      },
      "execution_count": 141,
      "outputs": [
        {
          "output_type": "execute_result",
          "data": {
            "text/plain": [
              "array([0., 1., 2., 3., 4., 5., 6., 7., 8., 9.])"
            ]
          },
          "metadata": {},
          "execution_count": 141
        }
      ]
    },
    {
      "cell_type": "code",
      "source": [
        "# Create an array of zeros with an unsigned 32-bit integer data type\n",
        "zero_uint32 = np.zeros(8, dtype = 'u4') # Create an array of 8 zeros with unsigned 32-bit integer dtype\n",
        "zero_uint32 # Display the array"
      ],
      "metadata": {
        "colab": {
          "base_uri": "https://localhost:8080/"
        },
        "id": "Gcf0yMUT15U0",
        "outputId": "49485b68-5abb-4486-b000-a29022448008"
      },
      "execution_count": 142,
      "outputs": [
        {
          "output_type": "execute_result",
          "data": {
            "text/plain": [
              "array([0, 0, 0, 0, 0, 0, 0, 0], dtype=uint32)"
            ]
          },
          "metadata": {},
          "execution_count": 142
        }
      ]
    },
    {
      "cell_type": "code",
      "source": [
        "# Create a 2D NumPy array\n",
        "arr = np.array ([[1., 2., 3.], [4., 5., 6.]]) # Create a 2x3 array\n",
        "arr # Display the array"
      ],
      "metadata": {
        "colab": {
          "base_uri": "https://localhost:8080/"
        },
        "id": "fBhpVV4K2Dly",
        "outputId": "aef96f16-0c1c-4871-e23e-f9d7b2c58507"
      },
      "execution_count": 143,
      "outputs": [
        {
          "output_type": "execute_result",
          "data": {
            "text/plain": [
              "array([[1., 2., 3.],\n",
              "       [4., 5., 6.]])"
            ]
          },
          "metadata": {},
          "execution_count": 143
        }
      ]
    },
    {
      "cell_type": "code",
      "source": [
        "# Perform element-wise multiplication\n",
        "arr * arr # Multiply each element by itself"
      ],
      "metadata": {
        "colab": {
          "base_uri": "https://localhost:8080/"
        },
        "id": "FKabUiaa2LDU",
        "outputId": "1a3fcfbc-d02f-4239-9d94-779e72ae09d6"
      },
      "execution_count": 144,
      "outputs": [
        {
          "output_type": "execute_result",
          "data": {
            "text/plain": [
              "array([[ 1.,  4.,  9.],\n",
              "       [16., 25., 36.]])"
            ]
          },
          "metadata": {},
          "execution_count": 144
        }
      ]
    },
    {
      "cell_type": "code",
      "source": [
        "# Perform element-wise subtraction\n",
        "arr - arr # Subtract each element from itself"
      ],
      "metadata": {
        "colab": {
          "base_uri": "https://localhost:8080/"
        },
        "id": "dcVb0W3M2O8C",
        "outputId": "3dff58ab-dbcd-4243-d5cc-34893bce284d"
      },
      "execution_count": 145,
      "outputs": [
        {
          "output_type": "execute_result",
          "data": {
            "text/plain": [
              "array([[0., 0., 0.],\n",
              "       [0., 0., 0.]])"
            ]
          },
          "metadata": {},
          "execution_count": 145
        }
      ]
    },
    {
      "cell_type": "code",
      "source": [
        "# Perform element-wise division\n",
        "1 / arr # Divide 1 by each element"
      ],
      "metadata": {
        "colab": {
          "base_uri": "https://localhost:8080/"
        },
        "id": "VJN24ayf2Q5q",
        "outputId": "b20486cb-d8ce-4da5-9ace-ad3d0015d754"
      },
      "execution_count": 146,
      "outputs": [
        {
          "output_type": "execute_result",
          "data": {
            "text/plain": [
              "array([[1.    , 0.5   , 0.3333],\n",
              "       [0.25  , 0.2   , 0.1667]])"
            ]
          },
          "metadata": {},
          "execution_count": 146
        }
      ]
    },
    {
      "cell_type": "code",
      "source": [
        "# Perform element-wise exponentiation\n",
        "arr **2 # Square each element"
      ],
      "metadata": {
        "colab": {
          "base_uri": "https://localhost:8080/"
        },
        "id": "ZIAIFpr_2Vwq",
        "outputId": "291df269-ef7c-4458-ef0c-d6110db8c94a"
      },
      "execution_count": 147,
      "outputs": [
        {
          "output_type": "execute_result",
          "data": {
            "text/plain": [
              "array([[ 1.,  4.,  9.],\n",
              "       [16., 25., 36.]])"
            ]
          },
          "metadata": {},
          "execution_count": 147
        }
      ]
    },
    {
      "cell_type": "code",
      "source": [
        "# Create another 2D NumPy array\n",
        "arr2 = np.array([[0., 4., 1.], [7., 2., 12.]]) # Create a new 2x3 array\n",
        "arr2 # Display the array"
      ],
      "metadata": {
        "colab": {
          "base_uri": "https://localhost:8080/"
        },
        "id": "NqIXrBFJ2Yxa",
        "outputId": "67085804-afd1-4a70-8e4a-608d549bffd7"
      },
      "execution_count": 148,
      "outputs": [
        {
          "output_type": "execute_result",
          "data": {
            "text/plain": [
              "array([[ 0.,  4.,  1.],\n",
              "       [ 7.,  2., 12.]])"
            ]
          },
          "metadata": {},
          "execution_count": 148
        }
      ]
    },
    {
      "cell_type": "code",
      "source": [
        "# Perform element-wise comparison\n",
        "arr2 > arr # Compare elements of arr2 with corresponding elements of arr"
      ],
      "metadata": {
        "colab": {
          "base_uri": "https://localhost:8080/"
        },
        "id": "oY19hb_U2mfT",
        "outputId": "0d66a2f9-610f-47e2-d0e1-8e6df2f0c2c7"
      },
      "execution_count": 149,
      "outputs": [
        {
          "output_type": "execute_result",
          "data": {
            "text/plain": [
              "array([[False,  True, False],\n",
              "       [ True, False,  True]])"
            ]
          },
          "metadata": {},
          "execution_count": 149
        }
      ]
    },
    {
      "cell_type": "code",
      "source": [
        "# Create a 1D array\n",
        "arr = np.arange(10) # Create an array with numbers from 0 to 9\n",
        "\n",
        "arr # Display the array"
      ],
      "metadata": {
        "colab": {
          "base_uri": "https://localhost:8080/"
        },
        "id": "HS45OHB22qhz",
        "outputId": "bad91d46-56e5-4a24-b83e-6ed786dfcc3d"
      },
      "execution_count": 150,
      "outputs": [
        {
          "output_type": "execute_result",
          "data": {
            "text/plain": [
              "array([0, 1, 2, 3, 4, 5, 6, 7, 8, 9])"
            ]
          },
          "metadata": {},
          "execution_count": 150
        }
      ]
    },
    {
      "cell_type": "code",
      "source": [
        "# Access an element at a specific index\n",
        "arr[5] # Get the element at index 5 (0-based indexing)"
      ],
      "metadata": {
        "colab": {
          "base_uri": "https://localhost:8080/"
        },
        "id": "ofYM8zXP20l0",
        "outputId": "4661614d-0a60-475f-8aa0-519eefbe558d"
      },
      "execution_count": 151,
      "outputs": [
        {
          "output_type": "execute_result",
          "data": {
            "text/plain": [
              "np.int64(5)"
            ]
          },
          "metadata": {},
          "execution_count": 151
        }
      ]
    },
    {
      "cell_type": "code",
      "source": [
        "# Access a slice of the array\n",
        "arr[5:8] # Get elements from index 5 up to (but not including) index 8"
      ],
      "metadata": {
        "colab": {
          "base_uri": "https://localhost:8080/"
        },
        "id": "TUpeud79231L",
        "outputId": "e27ff325-2f2e-4c35-cd56-12f094e11155"
      },
      "execution_count": 152,
      "outputs": [
        {
          "output_type": "execute_result",
          "data": {
            "text/plain": [
              "array([5, 6, 7])"
            ]
          },
          "metadata": {},
          "execution_count": 152
        }
      ]
    },
    {
      "cell_type": "code",
      "source": [
        "# Assign a value to a slice of the array\n",
        "arr[5:8] = 12 # Set elements from index 5 to 7 to the value 12"
      ],
      "metadata": {
        "id": "57Iaa7UF25zK"
      },
      "execution_count": 153,
      "outputs": []
    },
    {
      "cell_type": "code",
      "source": [
        "# Display the modified array\n",
        "arr # Display the array"
      ],
      "metadata": {
        "colab": {
          "base_uri": "https://localhost:8080/"
        },
        "id": "bNwsL-1E28Bd",
        "outputId": "84025233-44de-44cb-e06e-7735e1bb66e7"
      },
      "execution_count": 154,
      "outputs": [
        {
          "output_type": "execute_result",
          "data": {
            "text/plain": [
              "array([ 0,  1,  2,  3,  4, 12, 12, 12,  8,  9])"
            ]
          },
          "metadata": {},
          "execution_count": 154
        }
      ]
    },
    {
      "cell_type": "code",
      "source": [
        "# Create a slice of the array\n",
        "arr_slice = arr[5:8] # Create a view of the array from index 5 to 7\n",
        "arr_slice # Display the slice"
      ],
      "metadata": {
        "colab": {
          "base_uri": "https://localhost:8080/"
        },
        "id": "tZebaL7l2-un",
        "outputId": "5400ba4f-d385-41fd-dad6-f2c16ce74e67"
      },
      "execution_count": 155,
      "outputs": [
        {
          "output_type": "execute_result",
          "data": {
            "text/plain": [
              "array([12, 12, 12])"
            ]
          },
          "metadata": {},
          "execution_count": 155
        }
      ]
    },
    {
      "cell_type": "code",
      "source": [
        "# Modify an element in the slice (this also modifies the original array)\n",
        "arr_slice[1] = 12345 # Change the element at index 1 of the slice (which is index 6 of the original array)\n",
        "arr # Display the original array to see the change"
      ],
      "metadata": {
        "colab": {
          "base_uri": "https://localhost:8080/"
        },
        "id": "MQt7Wdqc3G7J",
        "outputId": "0f23fac9-aee8-4243-d2f7-62cae0ffbd1f"
      },
      "execution_count": 156,
      "outputs": [
        {
          "output_type": "execute_result",
          "data": {
            "text/plain": [
              "array([    0,     1,     2,     3,     4,    12, 12345,    12,     8,\n",
              "           9])"
            ]
          },
          "metadata": {},
          "execution_count": 156
        }
      ]
    },
    {
      "cell_type": "code",
      "source": [
        "# Modify the entire slice (this also modifies the original array)\n",
        "arr_slice[:] = 64 # Set all elements in the slice to 64\n",
        "arr # Display the original array to see the change"
      ],
      "metadata": {
        "colab": {
          "base_uri": "https://localhost:8080/"
        },
        "id": "0DOvChyQ3Osc",
        "outputId": "075143a9-54d8-4cec-8569-cd90bc6c9ec2"
      },
      "execution_count": 157,
      "outputs": [
        {
          "output_type": "execute_result",
          "data": {
            "text/plain": [
              "array([ 0,  1,  2,  3,  4, 64, 64, 64,  8,  9])"
            ]
          },
          "metadata": {},
          "execution_count": 157
        }
      ]
    },
    {
      "cell_type": "code",
      "source": [
        "# Create a 2D array\n",
        "arr2d = np.array([[1, 2, 3], [4, 5, 6], [7, 8, 9]]) # Create a 3x3 array\n",
        "arr2d # Display the array"
      ],
      "metadata": {
        "colab": {
          "base_uri": "https://localhost:8080/"
        },
        "id": "zeBCErCu3dkN",
        "outputId": "1f4f702e-61fa-4504-8c76-e43ae3fdb959"
      },
      "execution_count": 158,
      "outputs": [
        {
          "output_type": "execute_result",
          "data": {
            "text/plain": [
              "array([[1, 2, 3],\n",
              "       [4, 5, 6],\n",
              "       [7, 8, 9]])"
            ]
          },
          "metadata": {},
          "execution_count": 158
        }
      ]
    },
    {
      "cell_type": "code",
      "source": [
        "# Access an element in a 2D array using double brackets\n",
        "arr2d[0][2] # Get the element at row 0, column 2"
      ],
      "metadata": {
        "colab": {
          "base_uri": "https://localhost:8080/"
        },
        "id": "ZzVuZd_K3i71",
        "outputId": "5d3b3356-b243-49a7-da1d-707460b1cd4d"
      },
      "execution_count": 159,
      "outputs": [
        {
          "output_type": "execute_result",
          "data": {
            "text/plain": [
              "np.int64(3)"
            ]
          },
          "metadata": {},
          "execution_count": 159
        }
      ]
    },
    {
      "cell_type": "code",
      "source": [
        "# Access an element in a 2D array using single brackets with comma separation (preferred)\n",
        "arr2d[0, 2] # Get the element at row 0, column 2"
      ],
      "metadata": {
        "colab": {
          "base_uri": "https://localhost:8080/"
        },
        "id": "eMM5DiaJ3qxl",
        "outputId": "b9476300-c0f1-49c0-ba71-3548ce8fc409"
      },
      "execution_count": 160,
      "outputs": [
        {
          "output_type": "execute_result",
          "data": {
            "text/plain": [
              "np.int64(3)"
            ]
          },
          "metadata": {},
          "execution_count": 160
        }
      ]
    },
    {
      "cell_type": "code",
      "source": [
        "# Create a 3D array\n",
        "arr3d = np.array([[[1, 2, 3], [4, 5, 6]], [[7, 8, 9], [10, 11, 12]]]) # Create a 2x2x3 array\n",
        "arr3d # Display the array"
      ],
      "metadata": {
        "colab": {
          "base_uri": "https://localhost:8080/"
        },
        "id": "UnpXlllZ3uGD",
        "outputId": "13253a9b-11d8-49bc-a6e0-08e582eab3be"
      },
      "execution_count": 161,
      "outputs": [
        {
          "output_type": "execute_result",
          "data": {
            "text/plain": [
              "array([[[ 1,  2,  3],\n",
              "        [ 4,  5,  6]],\n",
              "\n",
              "       [[ 7,  8,  9],\n",
              "        [10, 11, 12]]])"
            ]
          },
          "metadata": {},
          "execution_count": 161
        }
      ]
    },
    {
      "cell_type": "code",
      "source": [
        "# Access a 2D slice (a \"layer\") from the 3D array\n",
        "arr3d[0] # Get the first 2D array (at index 0)"
      ],
      "metadata": {
        "colab": {
          "base_uri": "https://localhost:8080/"
        },
        "id": "m2hNFVnh34wm",
        "outputId": "e7a27c69-8206-43df-debe-311a8c617a83"
      },
      "execution_count": 162,
      "outputs": [
        {
          "output_type": "execute_result",
          "data": {
            "text/plain": [
              "array([[1, 2, 3],\n",
              "       [4, 5, 6]])"
            ]
          },
          "metadata": {},
          "execution_count": 162
        }
      ]
    },
    {
      "cell_type": "code",
      "source": [
        "# Create a copy of a slice from the 3D array\n",
        "old_values = arr3d[0].copy() # Create a copy of the first 2D array\n",
        "old_values # Display the copy"
      ],
      "metadata": {
        "colab": {
          "base_uri": "https://localhost:8080/"
        },
        "id": "YF6IU8mW3_Ih",
        "outputId": "3d12cb92-7b69-4839-f518-f76150d92aba"
      },
      "execution_count": 163,
      "outputs": [
        {
          "output_type": "execute_result",
          "data": {
            "text/plain": [
              "array([[1, 2, 3],\n",
              "       [4, 5, 6]])"
            ]
          },
          "metadata": {},
          "execution_count": 163
        }
      ]
    },
    {
      "cell_type": "code",
      "source": [
        "# Assign a scalar value to a 2D slice of the 3D array\n",
        "arr3d[0] = 42 # Set all elements in the first 2D array to 42\n",
        "arr3d # Display the modified 3D array"
      ],
      "metadata": {
        "colab": {
          "base_uri": "https://localhost:8080/"
        },
        "id": "j7vTRaTO4FO4",
        "outputId": "be74d67e-0799-4dec-cd97-d30db8dc7e7f"
      },
      "execution_count": 164,
      "outputs": [
        {
          "output_type": "execute_result",
          "data": {
            "text/plain": [
              "array([[[42, 42, 42],\n",
              "        [42, 42, 42]],\n",
              "\n",
              "       [[ 7,  8,  9],\n",
              "        [10, 11, 12]]])"
            ]
          },
          "metadata": {},
          "execution_count": 164
        }
      ]
    },
    {
      "cell_type": "code",
      "source": [
        "# Restore the original values to the 2D slice using the copy\n",
        "arr3d[0] = old_values # Assign the copied values back to the first 2D array\n",
        "arr3d # Display the restored 3D array"
      ],
      "metadata": {
        "colab": {
          "base_uri": "https://localhost:8080/"
        },
        "id": "qFzvJz9W4Lzl",
        "outputId": "d8b30705-28a1-4a95-bea9-dbcc1d5f1ea6"
      },
      "execution_count": 165,
      "outputs": [
        {
          "output_type": "execute_result",
          "data": {
            "text/plain": [
              "array([[[ 1,  2,  3],\n",
              "        [ 4,  5,  6]],\n",
              "\n",
              "       [[ 7,  8,  9],\n",
              "        [10, 11, 12]]])"
            ]
          },
          "metadata": {},
          "execution_count": 165
        }
      ]
    },
    {
      "cell_type": "code",
      "source": [
        "# Access a 1D slice (a \"row\") from a 2D slice of the 3D array\n",
        "arr3d[1, 0] # Get the first row (at index 0) of the second 2D array (at index 1)"
      ],
      "metadata": {
        "colab": {
          "base_uri": "https://localhost:8080/"
        },
        "id": "s-IWuRn04Wc4",
        "outputId": "0f2fed3f-5e49-4e35-ebd4-f00d6e590e12"
      },
      "execution_count": 166,
      "outputs": [
        {
          "output_type": "execute_result",
          "data": {
            "text/plain": [
              "array([7, 8, 9])"
            ]
          },
          "metadata": {},
          "execution_count": 166
        }
      ]
    },
    {
      "cell_type": "code",
      "source": [
        "# Create a variable referencing a 2D slice from the 3D array\n",
        "x = arr3d[1] # x is a view of the second 2D array\n",
        "x # Display x"
      ],
      "metadata": {
        "colab": {
          "base_uri": "https://localhost:8080/"
        },
        "id": "JtQ7ASoX4U_T",
        "outputId": "4873cb24-87ba-4e67-e115-1d55681033be"
      },
      "execution_count": 167,
      "outputs": [
        {
          "output_type": "execute_result",
          "data": {
            "text/plain": [
              "array([[ 7,  8,  9],\n",
              "       [10, 11, 12]])"
            ]
          },
          "metadata": {},
          "execution_count": 167
        }
      ]
    },
    {
      "cell_type": "code",
      "source": [
        "# Access a row from the referenced 2D slice\n",
        "x[0] # Get the first row of the 2D array x"
      ],
      "metadata": {
        "colab": {
          "base_uri": "https://localhost:8080/"
        },
        "id": "wB5BCYmi4flG",
        "outputId": "8ca77aa3-e61f-436a-d3fc-1d30e43cf21b"
      },
      "execution_count": 168,
      "outputs": [
        {
          "output_type": "execute_result",
          "data": {
            "text/plain": [
              "array([7, 8, 9])"
            ]
          },
          "metadata": {},
          "execution_count": 168
        }
      ]
    },
    {
      "cell_type": "code",
      "source": [
        "# Display the 1D array 'arr'\n",
        "arr # Display the array"
      ],
      "metadata": {
        "colab": {
          "base_uri": "https://localhost:8080/"
        },
        "id": "7V5Wu6au4ihD",
        "outputId": "f82915a7-5cbb-47ba-a0b3-a839a09c204e"
      },
      "execution_count": 169,
      "outputs": [
        {
          "output_type": "execute_result",
          "data": {
            "text/plain": [
              "array([ 0,  1,  2,  3,  4, 64, 64, 64,  8,  9])"
            ]
          },
          "metadata": {},
          "execution_count": 169
        }
      ]
    },
    {
      "cell_type": "code",
      "source": [
        "# Access a slice from the 1D array\n",
        "arr[1:6] # Get elements from index 1 up to (but not including) index 6"
      ],
      "metadata": {
        "colab": {
          "base_uri": "https://localhost:8080/"
        },
        "id": "dYe6kxg14lzp",
        "outputId": "315da213-f0d2-4363-bb4d-9c738ad05b5a"
      },
      "execution_count": 170,
      "outputs": [
        {
          "output_type": "execute_result",
          "data": {
            "text/plain": [
              "array([ 1,  2,  3,  4, 64])"
            ]
          },
          "metadata": {},
          "execution_count": 170
        }
      ]
    },
    {
      "cell_type": "code",
      "source": [
        "# Display the 2D array 'arr2d'\n",
        "arr2d # Display the array"
      ],
      "metadata": {
        "colab": {
          "base_uri": "https://localhost:8080/"
        },
        "id": "umzCnzVI4pLw",
        "outputId": "e7849615-a913-4b6f-849b-98611f570c49"
      },
      "execution_count": 171,
      "outputs": [
        {
          "output_type": "execute_result",
          "data": {
            "text/plain": [
              "array([[1, 2, 3],\n",
              "       [4, 5, 6],\n",
              "       [7, 8, 9]])"
            ]
          },
          "metadata": {},
          "execution_count": 171
        }
      ]
    },
    {
      "cell_type": "code",
      "source": [
        "# Access the first two rows of the 2D array\n",
        "arr2d[:2] # Get rows from the beginning up to (but not including) index 2"
      ],
      "metadata": {
        "colab": {
          "base_uri": "https://localhost:8080/"
        },
        "id": "wEdpXARs4sMx",
        "outputId": "191a97f5-c4a8-4c32-9180-6f58cf48b5a1"
      },
      "execution_count": 172,
      "outputs": [
        {
          "output_type": "execute_result",
          "data": {
            "text/plain": [
              "array([[1, 2, 3],\n",
              "       [4, 5, 6]])"
            ]
          },
          "metadata": {},
          "execution_count": 172
        }
      ]
    },
    {
      "cell_type": "code",
      "source": [
        "# Access a slice of rows and columns from the 2D array\n",
        "arr2d[:2, 1:] # Get rows from the beginning up to index 2, and columns from index 1 to the end"
      ],
      "metadata": {
        "colab": {
          "base_uri": "https://localhost:8080/"
        },
        "id": "oHnBcHF04uMD",
        "outputId": "b3cae577-3885-41c3-a8d2-9e334eeec2fb"
      },
      "execution_count": 173,
      "outputs": [
        {
          "output_type": "execute_result",
          "data": {
            "text/plain": [
              "array([[2, 3],\n",
              "       [5, 6]])"
            ]
          },
          "metadata": {},
          "execution_count": 173
        }
      ]
    },
    {
      "cell_type": "code",
      "source": [
        "# Access a specific row and a slice of columns, resulting in a lower-dimensional array\n",
        "lower_dim_slice = arr2d[1, :2] # Get the second row (index 1) and columns from the beginning up to index 2\n",
        "lower_dim_slice # Display the resulting 1D array"
      ],
      "metadata": {
        "colab": {
          "base_uri": "https://localhost:8080/"
        },
        "id": "odEhaflc40sB",
        "outputId": "8decea38-c24b-4320-c393-02f7e1f16ad7"
      },
      "execution_count": 174,
      "outputs": [
        {
          "output_type": "execute_result",
          "data": {
            "text/plain": [
              "array([4, 5])"
            ]
          },
          "metadata": {},
          "execution_count": 174
        }
      ]
    },
    {
      "cell_type": "code",
      "source": [
        "# Check the shape of the lower-dimensional slice\n",
        "lower_dim_slice.shape # Get the dimensions of the slice"
      ],
      "metadata": {
        "colab": {
          "base_uri": "https://localhost:8080/"
        },
        "id": "t5z1hp2344YR",
        "outputId": "65db8f05-2d11-476d-8d46-f144c1c72cc4"
      },
      "execution_count": 175,
      "outputs": [
        {
          "output_type": "execute_result",
          "data": {
            "text/plain": [
              "(2,)"
            ]
          },
          "metadata": {},
          "execution_count": 175
        }
      ]
    },
    {
      "cell_type": "code",
      "source": [
        "# Display the 2D array 'arr2d' again\n",
        "arr2d # Display the array"
      ],
      "metadata": {
        "colab": {
          "base_uri": "https://localhost:8080/"
        },
        "id": "koD3h4WR5FJ0",
        "outputId": "a8191b41-9cd6-4dc3-ac17-310ac989e69e"
      },
      "execution_count": 176,
      "outputs": [
        {
          "output_type": "execute_result",
          "data": {
            "text/plain": [
              "array([[1, 2, 3],\n",
              "       [4, 5, 6],\n",
              "       [7, 8, 9]])"
            ]
          },
          "metadata": {},
          "execution_count": 176
        }
      ]
    },
    {
      "cell_type": "code",
      "source": [
        "# Access a slice of rows and a specific column\n",
        "arr2d[:2, 2] # Get rows from the beginning up to index 2, and the column at index 2"
      ],
      "metadata": {
        "colab": {
          "base_uri": "https://localhost:8080/"
        },
        "id": "7LtO5EmS46F-",
        "outputId": "947c9510-c37a-4845-e2d3-546a57111510"
      },
      "execution_count": 177,
      "outputs": [
        {
          "output_type": "execute_result",
          "data": {
            "text/plain": [
              "array([3, 6])"
            ]
          },
          "metadata": {},
          "execution_count": 177
        }
      ]
    },
    {
      "cell_type": "code",
      "source": [
        "# Access all rows and the first column\n",
        "arr2d[:, :1] # Get all rows and the column from the beginning up to (but not including) index 1 (results in a 2D array with 1 column)"
      ],
      "metadata": {
        "colab": {
          "base_uri": "https://localhost:8080/"
        },
        "id": "SgTvh76p49-o",
        "outputId": "60f85dd2-3747-4466-fff7-23630c7a3db0"
      },
      "execution_count": 178,
      "outputs": [
        {
          "output_type": "execute_result",
          "data": {
            "text/plain": [
              "array([[1],\n",
              "       [4],\n",
              "       [7]])"
            ]
          },
          "metadata": {},
          "execution_count": 178
        }
      ]
    },
    {
      "cell_type": "code",
      "source": [
        "# Assign a scalar value to a slice of rows and columns\n",
        "arr2d[:2, 1:] = 0 # Set elements in the first two rows and from the second column onwards to 0"
      ],
      "metadata": {
        "id": "L7gItx7o5EKF"
      },
      "execution_count": 179,
      "outputs": []
    },
    {
      "cell_type": "code",
      "source": [
        "# Display the modified 2D array\n",
        "arr2d # Display the array after modification"
      ],
      "metadata": {
        "colab": {
          "base_uri": "https://localhost:8080/"
        },
        "id": "ebPMfmtL5LPt",
        "outputId": "609ecb7f-8fef-423e-d647-548fcc2c80ea"
      },
      "execution_count": 180,
      "outputs": [
        {
          "output_type": "execute_result",
          "data": {
            "text/plain": [
              "array([[1, 0, 0],\n",
              "       [4, 0, 0],\n",
              "       [7, 8, 9]])"
            ]
          },
          "metadata": {},
          "execution_count": 180
        }
      ]
    },
    {
      "cell_type": "code",
      "source": [
        "names = np.array(['Bob', 'Joe', 'Will', 'Bob', 'Will', 'Joe', 'Joe']) # Create an array of names\n",
        "names # Display the array\n",
        "\n",
        "data = np.array([[4,7],[0,2],[-5, 6], [0, 0], [1, 2],\n",
        "                 [-12, -4], [3, 4]]) # Create a 2D array of data\n",
        "names # Display the names array again\n",
        "data # Display the data array again"
      ],
      "metadata": {
        "colab": {
          "base_uri": "https://localhost:8080/"
        },
        "id": "qClZscVXGXCW",
        "outputId": "6bb0fedf-c41d-4bcf-d52d-67d276ba51f7"
      },
      "execution_count": 181,
      "outputs": [
        {
          "output_type": "execute_result",
          "data": {
            "text/plain": [
              "array([[  4,   7],\n",
              "       [  0,   2],\n",
              "       [ -5,   6],\n",
              "       [  0,   0],\n",
              "       [  1,   2],\n",
              "       [-12,  -4],\n",
              "       [  3,   4]])"
            ]
          },
          "metadata": {},
          "execution_count": 181
        }
      ]
    },
    {
      "cell_type": "code",
      "source": [
        "# Perform a boolean comparison on the names array\n",
        "names == \"bob\" # Check which elements in names are equal to \"bob\" (case-sensitive)"
      ],
      "metadata": {
        "colab": {
          "base_uri": "https://localhost:8080/"
        },
        "id": "JKqULMT_HFNI",
        "outputId": "87424469-1e4f-4529-a7ab-f28134bfbfe1"
      },
      "execution_count": 182,
      "outputs": [
        {
          "output_type": "execute_result",
          "data": {
            "text/plain": [
              "array([False, False, False, False, False, False, False])"
            ]
          },
          "metadata": {},
          "execution_count": 182
        }
      ]
    },
    {
      "cell_type": "code",
      "source": [
        "# Use boolean indexing to select rows from data where names is \"bob\"\n",
        "data[names == \"bob\"] # Select rows from data where the corresponding element in names is True"
      ],
      "metadata": {
        "colab": {
          "base_uri": "https://localhost:8080/"
        },
        "id": "RV6S3GlSHI-V",
        "outputId": "5a6b290e-d689-4beb-a403-3d31368484a5"
      },
      "execution_count": 183,
      "outputs": [
        {
          "output_type": "execute_result",
          "data": {
            "text/plain": [
              "array([], shape=(0, 2), dtype=int64)"
            ]
          },
          "metadata": {},
          "execution_count": 183
        }
      ]
    },
    {
      "cell_type": "code",
      "source": [
        "# Use boolean indexing and column slicing to select data\n",
        "data[names == \"bob\", 1:] # Select rows where names is \"bob\" and columns from index 1 to the end"
      ],
      "metadata": {
        "colab": {
          "base_uri": "https://localhost:8080/"
        },
        "id": "tIEwGaICHPMO",
        "outputId": "ec1aef03-3f68-44b2-d75d-3d38f8f1c7bf"
      },
      "execution_count": 184,
      "outputs": [
        {
          "output_type": "execute_result",
          "data": {
            "text/plain": [
              "array([], shape=(0, 1), dtype=int64)"
            ]
          },
          "metadata": {},
          "execution_count": 184
        }
      ]
    },
    {
      "cell_type": "code",
      "source": [
        "# Use boolean indexing and specific column selection to select data\n",
        "data[names == 'bob', 1] # Select rows where names is \"bob\" and the element at column index 1"
      ],
      "metadata": {
        "colab": {
          "base_uri": "https://localhost:8080/"
        },
        "id": "CTF0oJLZHUAd",
        "outputId": "488533a7-629f-4546-d2c0-6639e17fb04e"
      },
      "execution_count": 185,
      "outputs": [
        {
          "output_type": "execute_result",
          "data": {
            "text/plain": [
              "array([], dtype=int64)"
            ]
          },
          "metadata": {},
          "execution_count": 185
        }
      ]
    },
    {
      "cell_type": "code",
      "source": [
        "# Perform boolean comparisons and negation\n",
        "names != 'bob' # Check which elements in names are not equal to \"bob\"\n",
        "\n",
        "~(names == 'bob') # Negate the boolean array from the previous comparison (equivalent to names != 'bob')\n",
        "\n",
        "data[~(names == 'bob')] # Use the negated boolean array to select rows from data where names is not \"bob\""
      ],
      "metadata": {
        "colab": {
          "base_uri": "https://localhost:8080/"
        },
        "id": "vVE5T62YHYSM",
        "outputId": "70f5eaef-8a26-453c-c30e-b04395f2eddf"
      },
      "execution_count": 186,
      "outputs": [
        {
          "output_type": "execute_result",
          "data": {
            "text/plain": [
              "array([[  4,   7],\n",
              "       [  0,   2],\n",
              "       [ -5,   6],\n",
              "       [  0,   0],\n",
              "       [  1,   2],\n",
              "       [-12,  -4],\n",
              "       [  3,   4]])"
            ]
          },
          "metadata": {},
          "execution_count": 186
        }
      ]
    },
    {
      "cell_type": "code",
      "source": [
        "# Create a boolean condition and use it for indexing\n",
        "cond = names == 'Bob' # Create a boolean array where True indicates \"Bob\"\n",
        "\n",
        "data[~cond] # Use the negated boolean array to select rows from data where names is not \"Bob\""
      ],
      "metadata": {
        "colab": {
          "base_uri": "https://localhost:8080/"
        },
        "id": "4Qcbig8WHh8N",
        "outputId": "8c1df5d9-c870-4017-dd64-7ad00a1c92f2"
      },
      "execution_count": 187,
      "outputs": [
        {
          "output_type": "execute_result",
          "data": {
            "text/plain": [
              "array([[  0,   2],\n",
              "       [ -5,   6],\n",
              "       [  1,   2],\n",
              "       [-12,  -4],\n",
              "       [  3,   4]])"
            ]
          },
          "metadata": {},
          "execution_count": 187
        }
      ]
    },
    {
      "cell_type": "code",
      "source": [
        "# Combine boolean conditions using the OR operator\n",
        "mask = (names == 'Bob') | (names == 'Will') # Create a boolean mask where True indicates \"Bob\" or \"Will\"\n",
        "\n",
        "mask # Display the boolean mask\n",
        "\n",
        "data[mask] # Use the mask to select rows from data where names is \"Bob\" or \"Will\""
      ],
      "metadata": {
        "colab": {
          "base_uri": "https://localhost:8080/"
        },
        "id": "YQdbJPnSHo51",
        "outputId": "fffa189b-79e2-46ae-9b50-24e23a9d966a"
      },
      "execution_count": 188,
      "outputs": [
        {
          "output_type": "execute_result",
          "data": {
            "text/plain": [
              "array([[ 4,  7],\n",
              "       [-5,  6],\n",
              "       [ 0,  0],\n",
              "       [ 1,  2]])"
            ]
          },
          "metadata": {},
          "execution_count": 188
        }
      ]
    },
    {
      "cell_type": "code",
      "source": [
        "# Use a boolean array to set values in a data array\n",
        "data[data < 0] = 0 # Set all elements in data that are less than 0 to 0\n",
        "data # Display the modified data array"
      ],
      "metadata": {
        "colab": {
          "base_uri": "https://localhost:8080/"
        },
        "id": "VY49LDo9HwZP",
        "outputId": "21384793-bdd0-48d1-ef3c-41e5603b5cd0"
      },
      "execution_count": 189,
      "outputs": [
        {
          "output_type": "execute_result",
          "data": {
            "text/plain": [
              "array([[4, 7],\n",
              "       [0, 2],\n",
              "       [0, 6],\n",
              "       [0, 0],\n",
              "       [1, 2],\n",
              "       [0, 0],\n",
              "       [3, 4]])"
            ]
          },
          "metadata": {},
          "execution_count": 189
        }
      ]
    },
    {
      "cell_type": "code",
      "source": [
        "# Use a boolean array to set values in rows of a data array\n",
        "data[names != 'Joe'] =7 # Set all rows in data where the corresponding name is not \"Joe\" to the value 7\n",
        "data # Display the modified data array"
      ],
      "metadata": {
        "colab": {
          "base_uri": "https://localhost:8080/"
        },
        "id": "31mt29DkH1O9",
        "outputId": "f7a53a45-60c3-44ce-b090-94f8b6aac0a1"
      },
      "execution_count": 190,
      "outputs": [
        {
          "output_type": "execute_result",
          "data": {
            "text/plain": [
              "array([[7, 7],\n",
              "       [0, 2],\n",
              "       [7, 7],\n",
              "       [7, 7],\n",
              "       [7, 7],\n",
              "       [0, 0],\n",
              "       [3, 4]])"
            ]
          },
          "metadata": {},
          "execution_count": 190
        }
      ]
    },
    {
      "cell_type": "code",
      "source": [
        "# Create an 8x4 array of zeros and assign row indices to each row\n",
        "arr = np.zeros((8, 4)) # Create an 8x4 array of zeros\n",
        "for i in range(8): # Iterate through each row index\n",
        "  arr[i] = i # Assign the row index as the value for all elements in that row\n",
        "arr # Display the array"
      ],
      "metadata": {
        "colab": {
          "base_uri": "https://localhost:8080/"
        },
        "id": "k4H94h_lH8P2",
        "outputId": "f0e9adc0-26de-4c84-e61a-4c5a60be8127"
      },
      "execution_count": 191,
      "outputs": [
        {
          "output_type": "execute_result",
          "data": {
            "text/plain": [
              "array([[0., 0., 0., 0.],\n",
              "       [1., 1., 1., 1.],\n",
              "       [2., 2., 2., 2.],\n",
              "       [3., 3., 3., 3.],\n",
              "       [4., 4., 4., 4.],\n",
              "       [5., 5., 5., 5.],\n",
              "       [6., 6., 6., 6.],\n",
              "       [7., 7., 7., 7.]])"
            ]
          },
          "metadata": {},
          "execution_count": 191
        }
      ]
    },
    {
      "cell_type": "code",
      "source": [
        "# Select rows from an array using a list of indices\n",
        "arr[[4, 3, 0, 6]] # Select rows at index 4, 3, 0, and 6 in that order"
      ],
      "metadata": {
        "colab": {
          "base_uri": "https://localhost:8080/"
        },
        "id": "K9HY6C5cIKx5",
        "outputId": "7320f012-cccb-44c2-f391-f219ec4c398d"
      },
      "execution_count": 192,
      "outputs": [
        {
          "output_type": "execute_result",
          "data": {
            "text/plain": [
              "array([[4., 4., 4., 4.],\n",
              "       [3., 3., 3., 3.],\n",
              "       [0., 0., 0., 0.],\n",
              "       [6., 6., 6., 6.]])"
            ]
          },
          "metadata": {},
          "execution_count": 192
        }
      ]
    },
    {
      "cell_type": "code",
      "source": [
        "# Select rows from an array using a list of negative indices\n",
        "arr[[-3, -5, -7]] # Select rows at index -3, -5, and -7 (counting from the end)"
      ],
      "metadata": {
        "colab": {
          "base_uri": "https://localhost:8080/"
        },
        "id": "VODikVgOIO42",
        "outputId": "0cad926a-814a-4c47-b031-c77d9327d307"
      },
      "execution_count": 193,
      "outputs": [
        {
          "output_type": "execute_result",
          "data": {
            "text/plain": [
              "array([[5., 5., 5., 5.],\n",
              "       [3., 3., 3., 3.],\n",
              "       [1., 1., 1., 1.]])"
            ]
          },
          "metadata": {},
          "execution_count": 193
        }
      ]
    },
    {
      "cell_type": "code",
      "source": [
        "# Create and reshape an array with a range of numbers\n",
        "arr = np.arange(32).reshape((8, 4)) # Create an array with numbers from 0 to 31 and reshape it to 8 rows and 4 columns\n",
        "arr # Display the array"
      ],
      "metadata": {
        "colab": {
          "base_uri": "https://localhost:8080/"
        },
        "id": "60DVo5qhIUJO",
        "outputId": "d5d6428c-b88c-45cc-8a30-ccaf73df290a"
      },
      "execution_count": 194,
      "outputs": [
        {
          "output_type": "execute_result",
          "data": {
            "text/plain": [
              "array([[ 0,  1,  2,  3],\n",
              "       [ 4,  5,  6,  7],\n",
              "       [ 8,  9, 10, 11],\n",
              "       [12, 13, 14, 15],\n",
              "       [16, 17, 18, 19],\n",
              "       [20, 21, 22, 23],\n",
              "       [24, 25, 26, 27],\n",
              "       [28, 29, 30, 31]])"
            ]
          },
          "metadata": {},
          "execution_count": 194
        }
      ]
    },
    {
      "cell_type": "code",
      "source": [
        "# Select specific elements from different rows and columns using paired lists of indices\n",
        "arr[[1, 5, 7, 2], [0, 3, 1, 2]] # Select elements at (row 1, col 0), (row 5, col 3), (row 7, col 1), and (row 2, col 2)"
      ],
      "metadata": {
        "colab": {
          "base_uri": "https://localhost:8080/"
        },
        "id": "bQP5IfU-IX39",
        "outputId": "3cb2b8a4-554b-4d03-90e4-3bbc3d249199"
      },
      "execution_count": 195,
      "outputs": [
        {
          "output_type": "execute_result",
          "data": {
            "text/plain": [
              "array([ 4, 23, 29, 10])"
            ]
          },
          "metadata": {},
          "execution_count": 195
        }
      ]
    },
    {
      "cell_type": "code",
      "source": [
        "# Select rows using a list of indices and then select columns from the resulting array using a list of indices\n",
        "arr[[1, 5, 7, 2]][:, [0, 3, 1, 2]] # First select rows 1, 5, 7, and 2, then from this new array, select columns 0, 3, 1, and 2"
      ],
      "metadata": {
        "colab": {
          "base_uri": "https://localhost:8080/"
        },
        "id": "HrMJ4oiqIit2",
        "outputId": "5479d346-683d-4ec4-80da-7c598a73b4eb"
      },
      "execution_count": 196,
      "outputs": [
        {
          "output_type": "execute_result",
          "data": {
            "text/plain": [
              "array([[ 4,  7,  5,  6],\n",
              "       [20, 23, 21, 22],\n",
              "       [28, 31, 29, 30],\n",
              "       [ 8, 11,  9, 10]])"
            ]
          },
          "metadata": {},
          "execution_count": 196
        }
      ]
    },
    {
      "cell_type": "code",
      "source": [
        "# Select rows using a list of indices and then select columns from the resulting array using a list of indices (same as previous cell)\n",
        "arr [[1, 5, 7, 2]][:, [0, 3, 1, 2]]"
      ],
      "metadata": {
        "colab": {
          "base_uri": "https://localhost:8080/"
        },
        "id": "o0SQnZrYIq_N",
        "outputId": "b1b5dd0b-198d-479e-e4ac-11706f247245"
      },
      "execution_count": 197,
      "outputs": [
        {
          "output_type": "execute_result",
          "data": {
            "text/plain": [
              "array([[ 4,  7,  5,  6],\n",
              "       [20, 23, 21, 22],\n",
              "       [28, 31, 29, 30],\n",
              "       [ 8, 11,  9, 10]])"
            ]
          },
          "metadata": {},
          "execution_count": 197
        }
      ]
    },
    {
      "cell_type": "code",
      "source": [
        "# Select rows and columns using lists of indices and assign a value to the selected elements\n",
        "arr [[1, 5, 7, 2]][:, [0, 3, 1, 2]] = 0 # Select the specified elements and set their values to 0\n",
        "arr # Display the modified array"
      ],
      "metadata": {
        "colab": {
          "base_uri": "https://localhost:8080/"
        },
        "id": "lhJ_eX1AI2xt",
        "outputId": "39aa16ca-ff44-4e35-f55c-39f9a39717f8"
      },
      "execution_count": 198,
      "outputs": [
        {
          "output_type": "execute_result",
          "data": {
            "text/plain": [
              "array([[ 0,  1,  2,  3],\n",
              "       [ 4,  5,  6,  7],\n",
              "       [ 8,  9, 10, 11],\n",
              "       [12, 13, 14, 15],\n",
              "       [16, 17, 18, 19],\n",
              "       [20, 21, 22, 23],\n",
              "       [24, 25, 26, 27],\n",
              "       [28, 29, 30, 31]])"
            ]
          },
          "metadata": {},
          "execution_count": 198
        }
      ]
    },
    {
      "cell_type": "code",
      "source": [
        "# Create and reshape an array with a range of numbers\n",
        "arr = np.arange(15).reshape((3, 5)) # Create an array with numbers from 0 to 14 and reshape it to 3 rows and 5 columns\n",
        "arr # Display the array"
      ],
      "metadata": {
        "colab": {
          "base_uri": "https://localhost:8080/"
        },
        "id": "5Q5K2pGzI-um",
        "outputId": "4cc00c6c-4e02-493c-d879-c7d40bca76e9"
      },
      "execution_count": 199,
      "outputs": [
        {
          "output_type": "execute_result",
          "data": {
            "text/plain": [
              "array([[ 0,  1,  2,  3,  4],\n",
              "       [ 5,  6,  7,  8,  9],\n",
              "       [10, 11, 12, 13, 14]])"
            ]
          },
          "metadata": {},
          "execution_count": 199
        }
      ]
    },
    {
      "cell_type": "code",
      "source": [
        "# Transpose the array\n",
        "arr.T # Return the transpose of the array (rows become columns, and columns become rows)"
      ],
      "metadata": {
        "colab": {
          "base_uri": "https://localhost:8080/"
        },
        "id": "DTyWWgOPJoX0",
        "outputId": "c2fa2e35-6390-4d4d-c832-42261507df41"
      },
      "execution_count": 200,
      "outputs": [
        {
          "output_type": "execute_result",
          "data": {
            "text/plain": [
              "array([[ 0,  5, 10],\n",
              "       [ 1,  6, 11],\n",
              "       [ 2,  7, 12],\n",
              "       [ 3,  8, 13],\n",
              "       [ 4,  9, 14]])"
            ]
          },
          "metadata": {},
          "execution_count": 200
        }
      ]
    },
    {
      "cell_type": "code",
      "source": [
        "# Create a new 2D NumPy array\n",
        "arr = np.array([[0, 1, 0], [1, 2, -2], [6, 3, 2], [-1, 0, -1],[1, 0, 1]]) # Create a 5x3 array\n",
        "arr # Display the array"
      ],
      "metadata": {
        "colab": {
          "base_uri": "https://localhost:8080/"
        },
        "id": "hwiUf1yLJGmN",
        "outputId": "8225febe-fe88-477b-ff69-8c0dd929efa0"
      },
      "execution_count": 201,
      "outputs": [
        {
          "output_type": "execute_result",
          "data": {
            "text/plain": [
              "array([[ 0,  1,  0],\n",
              "       [ 1,  2, -2],\n",
              "       [ 6,  3,  2],\n",
              "       [-1,  0, -1],\n",
              "       [ 1,  0,  1]])"
            ]
          },
          "metadata": {},
          "execution_count": 201
        }
      ]
    },
    {
      "cell_type": "code",
      "source": [
        "# Perform matrix multiplication using np.dot()\n",
        "np.dot(arr.T, arr) # Compute the dot product of the transpose of arr and arr"
      ],
      "metadata": {
        "colab": {
          "base_uri": "https://localhost:8080/"
        },
        "id": "YK6F6FiqJcrW",
        "outputId": "5185f8ba-150f-47a2-b7cf-faa6af2fec1d"
      },
      "execution_count": 202,
      "outputs": [
        {
          "output_type": "execute_result",
          "data": {
            "text/plain": [
              "array([[39, 20, 12],\n",
              "       [20, 14,  2],\n",
              "       [12,  2, 10]])"
            ]
          },
          "metadata": {},
          "execution_count": 202
        }
      ]
    },
    {
      "cell_type": "code",
      "source": [
        "# Perform matrix multiplication using the @ operator (preferred in newer Python versions)\n",
        "arr.T @ arr # Compute the matrix multiplication of the transpose of arr and arr"
      ],
      "metadata": {
        "colab": {
          "base_uri": "https://localhost:8080/"
        },
        "id": "-o6A9z0XJfxH",
        "outputId": "983db4a0-9319-4178-8d9f-2fe37fbe8217"
      },
      "execution_count": 203,
      "outputs": [
        {
          "output_type": "execute_result",
          "data": {
            "text/plain": [
              "array([[39, 20, 12],\n",
              "       [20, 14,  2],\n",
              "       [12,  2, 10]])"
            ]
          },
          "metadata": {},
          "execution_count": 203
        }
      ]
    },
    {
      "cell_type": "code",
      "source": [
        "# Display the array 'arr'\n",
        "arr # Display the array"
      ],
      "metadata": {
        "colab": {
          "base_uri": "https://localhost:8080/"
        },
        "id": "r6DPd0EaJ8DV",
        "outputId": "66464587-0a86-423d-8a34-056a56e4963b"
      },
      "execution_count": 204,
      "outputs": [
        {
          "output_type": "execute_result",
          "data": {
            "text/plain": [
              "array([[ 0,  1,  0],\n",
              "       [ 1,  2, -2],\n",
              "       [ 6,  3,  2],\n",
              "       [-1,  0, -1],\n",
              "       [ 1,  0,  1]])"
            ]
          },
          "metadata": {},
          "execution_count": 204
        }
      ]
    },
    {
      "cell_type": "code",
      "source": [
        "# Swap the axes of the array\n",
        "arr.swapaxes(0, 1) # Swap the first axis (rows) with the second axis (columns)"
      ],
      "metadata": {
        "colab": {
          "base_uri": "https://localhost:8080/"
        },
        "id": "I8j-DfTLJ-Yt",
        "outputId": "7dbf5757-07e5-49dc-9470-a79b109eb53e"
      },
      "execution_count": 205,
      "outputs": [
        {
          "output_type": "execute_result",
          "data": {
            "text/plain": [
              "array([[ 0,  1,  6, -1,  1],\n",
              "       [ 1,  2,  3,  0,  0],\n",
              "       [ 0, -2,  2, -1,  1]])"
            ]
          },
          "metadata": {},
          "execution_count": 205
        }
      ]
    },
    {
      "cell_type": "code",
      "source": [
        "# Generate random samples from a standard normal distribution\n",
        "samples = np.random.standard_normal(size=(4, 4)) # Generate a 4x4 array of random numbers from the standard normal distribution (mean=0, std dev=1)\n",
        "samples # Display the array"
      ],
      "metadata": {
        "colab": {
          "base_uri": "https://localhost:8080/"
        },
        "id": "TtNQcwCxKB81",
        "outputId": "de93c9cd-6123-410e-ffe3-053e1685ae0d"
      },
      "execution_count": 206,
      "outputs": [
        {
          "output_type": "execute_result",
          "data": {
            "text/plain": [
              "array([[ 0.3253, -0.545 , -0.2917,  0.4335],\n",
              "       [ 1.5696,  0.744 ,  0.2316, -0.7761],\n",
              "       [ 0.9028, -1.0175,  0.5353,  0.9282],\n",
              "       [ 1.1146, -0.6235, -0.0597, -0.0189]])"
            ]
          },
          "metadata": {},
          "execution_count": 206
        }
      ]
    },
    {
      "cell_type": "code",
      "source": [
        "from random import normalvariate # Import normalvariate function from the random module\n",
        "N = 1000000 # Set the number of samples\n",
        "\n",
        "%timeit samples = [normalvariate(0, 1) for _ in range(N)] # Measure the time to generate N samples using Python's normalvariate\n",
        "%timeit np.random.standard_normal(N) # Measure the time to generate N samples using NumPy's standard_normal"
      ],
      "metadata": {
        "colab": {
          "base_uri": "https://localhost:8080/"
        },
        "id": "bqBa7ytzKKmt",
        "outputId": "b28eb524-5ad6-4902-c98b-6838e7dae296"
      },
      "execution_count": 207,
      "outputs": [
        {
          "output_type": "stream",
          "name": "stdout",
          "text": [
            "663 ms ± 35.6 ms per loop (mean ± std. dev. of 7 runs, 1 loop each)\n",
            "29.6 ms ± 1.93 ms per loop (mean ± std. dev. of 7 runs, 10 loops each)\n"
          ]
        }
      ]
    },
    {
      "cell_type": "code",
      "source": [
        "# Create a new random number generator instance with a seed\n",
        "rng = np.random.default_rng(seed=12345) # Create a new Generator object with a specified seed for reproducibility\n",
        "data = rng.standard_normal ((2, 3)) # Generate a 2x3 array of random numbers using the new generator"
      ],
      "metadata": {
        "id": "RispLZT0KVrm"
      },
      "execution_count": 208,
      "outputs": []
    },
    {
      "cell_type": "code",
      "source": [
        "# Check the type of the random number generator object\n",
        "type(rng) # Get the type of the 'rng' object"
      ],
      "metadata": {
        "colab": {
          "base_uri": "https://localhost:8080/"
        },
        "id": "KRp-_9DLKg2_",
        "outputId": "560ca086-d42b-40a7-fe00-249e40ff06e4"
      },
      "execution_count": 209,
      "outputs": [
        {
          "output_type": "execute_result",
          "data": {
            "text/plain": [
              "numpy.random._generator.Generator"
            ]
          },
          "metadata": {},
          "execution_count": 209
        }
      ]
    },
    {
      "cell_type": "code",
      "source": [
        "# Create a 1D array with a range of numbers\n",
        "arr = np.arange(10) # Create an array with numbers from 0 to 9\n",
        "arr # Display the array"
      ],
      "metadata": {
        "colab": {
          "base_uri": "https://localhost:8080/"
        },
        "id": "Xmnj4EOUKkz1",
        "outputId": "0ed37f01-1699-4af6-8a11-13baf44b81cc"
      },
      "execution_count": 210,
      "outputs": [
        {
          "output_type": "execute_result",
          "data": {
            "text/plain": [
              "array([0, 1, 2, 3, 4, 5, 6, 7, 8, 9])"
            ]
          },
          "metadata": {},
          "execution_count": 210
        }
      ]
    },
    {
      "cell_type": "code",
      "source": [
        "# Compute the square root of each element in the array\n",
        "np.sqrt(arr) # Apply the square root function element-wise to the array"
      ],
      "metadata": {
        "colab": {
          "base_uri": "https://localhost:8080/"
        },
        "id": "Y4JaeZAVKsy9",
        "outputId": "2d33056d-7a52-408d-d7f3-c982c7bf1e18"
      },
      "execution_count": 211,
      "outputs": [
        {
          "output_type": "execute_result",
          "data": {
            "text/plain": [
              "array([0.    , 1.    , 1.4142, 1.7321, 2.    , 2.2361, 2.4495, 2.6458,\n",
              "       2.8284, 3.    ])"
            ]
          },
          "metadata": {},
          "execution_count": 211
        }
      ]
    },
    {
      "cell_type": "code",
      "source": [
        "# Compute the exponential of each element in the array\n",
        "np.exp(arr) # Apply the exponential function (e^x) element-wise to the array"
      ],
      "metadata": {
        "colab": {
          "base_uri": "https://localhost:8080/"
        },
        "id": "K2MoDm4KKwFN",
        "outputId": "c0e8b060-c59a-4687-d20f-84e920fa7797"
      },
      "execution_count": 212,
      "outputs": [
        {
          "output_type": "execute_result",
          "data": {
            "text/plain": [
              "array([   1.    ,    2.7183,    7.3891,   20.0855,   54.5982,  148.4132,\n",
              "        403.4288, 1096.6332, 2980.958 , 8103.0839])"
            ]
          },
          "metadata": {},
          "execution_count": 212
        }
      ]
    },
    {
      "cell_type": "code",
      "source": [
        "# Generate two arrays of random numbers from a standard normal distribution\n",
        "x = rng.standard_normal(8) # Generate an array of 8 random numbers\n",
        "y = rng.standard_normal(8) # Generate another array of 8 random numbers\n",
        "x # Display the array x"
      ],
      "metadata": {
        "colab": {
          "base_uri": "https://localhost:8080/"
        },
        "id": "zAuX1YWUK1s5",
        "outputId": "ad1cde8c-8676-422f-d838-5c562f92125d"
      },
      "execution_count": 213,
      "outputs": [
        {
          "output_type": "execute_result",
          "data": {
            "text/plain": [
              "array([-1.3678,  0.6489,  0.3611, -1.9529,  2.3474,  0.9685, -0.7594,\n",
              "        0.9022])"
            ]
          },
          "metadata": {},
          "execution_count": 213
        }
      ]
    },
    {
      "cell_type": "code",
      "source": [
        "# Display the array y\n",
        "y # Display the array y"
      ],
      "metadata": {
        "colab": {
          "base_uri": "https://localhost:8080/"
        },
        "id": "IpqrvTQoK4Z1",
        "outputId": "c7e17be9-2118-4a8a-8849-0332ad94fd1f"
      },
      "execution_count": 214,
      "outputs": [
        {
          "output_type": "execute_result",
          "data": {
            "text/plain": [
              "array([-0.467 , -0.0607,  0.7888, -1.2567,  0.5759,  1.399 ,  1.3223,\n",
              "       -0.2997])"
            ]
          },
          "metadata": {},
          "execution_count": 214
        }
      ]
    },
    {
      "cell_type": "code",
      "source": [
        "# Compute the element-wise maximum of two arrays\n",
        "np.maximum(x, y) # Return an array containing the element-wise maximum of x and y"
      ],
      "metadata": {
        "colab": {
          "base_uri": "https://localhost:8080/"
        },
        "id": "RgN0_yh6K5je",
        "outputId": "73c9ced0-b608-4f94-f0db-9f7a10aa065c"
      },
      "execution_count": 215,
      "outputs": [
        {
          "output_type": "execute_result",
          "data": {
            "text/plain": [
              "array([-0.467 ,  0.6489,  0.7888, -1.2567,  2.3474,  1.399 ,  1.3223,\n",
              "        0.9022])"
            ]
          },
          "metadata": {},
          "execution_count": 215
        }
      ]
    },
    {
      "cell_type": "code",
      "source": [
        "# Generate an array of random numbers and scale them\n",
        "arr = rng.standard_normal(7) * 5 # Generate an array of 7 random numbers and multiply each by 5\n",
        "arr # Display the array"
      ],
      "metadata": {
        "colab": {
          "base_uri": "https://localhost:8080/"
        },
        "id": "1oY7wbtNK_mG",
        "outputId": "4f24cc4c-fd07-42a3-dd17-612a0de0ff50"
      },
      "execution_count": 216,
      "outputs": [
        {
          "output_type": "execute_result",
          "data": {
            "text/plain": [
              "array([ 4.5146, -8.1079, -0.7909,  2.2474, -6.718 , -0.4084,  8.6237])"
            ]
          },
          "metadata": {},
          "execution_count": 216
        }
      ]
    },
    {
      "cell_type": "code",
      "source": [
        "# Separate the fractional and integer parts of each element in an array\n",
        "remainder, whole_part = np.modf(arr) # Return the fractional and integer parts of each element as two separate arrays\n",
        "remainder # Display the remainder array"
      ],
      "metadata": {
        "colab": {
          "base_uri": "https://localhost:8080/"
        },
        "id": "miDjTzZBLNj2",
        "outputId": "045b0b88-be12-4e7a-a9f7-59f76665a619"
      },
      "execution_count": 217,
      "outputs": [
        {
          "output_type": "execute_result",
          "data": {
            "text/plain": [
              "array([ 0.5146, -0.1079, -0.7909,  0.2474, -0.718 , -0.4084,  0.6237])"
            ]
          },
          "metadata": {},
          "execution_count": 217
        }
      ]
    },
    {
      "cell_type": "code",
      "source": [
        "# Display the whole part array\n",
        "whole_part # Display the whole_part array"
      ],
      "metadata": {
        "colab": {
          "base_uri": "https://localhost:8080/"
        },
        "id": "BtdXUngeLXSa",
        "outputId": "0e5db9cd-e72c-4d5a-c8ce-f572a9879b81"
      },
      "execution_count": 218,
      "outputs": [
        {
          "output_type": "execute_result",
          "data": {
            "text/plain": [
              "array([ 4., -8., -0.,  2., -6., -0.,  8.])"
            ]
          },
          "metadata": {},
          "execution_count": 218
        }
      ]
    },
    {
      "cell_type": "code",
      "source": [
        "# Display an array and perform element-wise addition into a new array\n",
        "arr # Display the array 'arr'\n",
        "out = np.zeros_like(arr) # Create an array of zeros with the same shape and dtype as 'arr'\n",
        "np.add(arr, 1) # Add 1 to each element of 'arr' (result is not stored)"
      ],
      "metadata": {
        "colab": {
          "base_uri": "https://localhost:8080/"
        },
        "id": "nmjuxcCLLaOe",
        "outputId": "2b08f079-3e6b-47ae-b9aa-0ff2baa2443d"
      },
      "execution_count": 219,
      "outputs": [
        {
          "output_type": "execute_result",
          "data": {
            "text/plain": [
              "array([ 5.5146, -7.1079,  0.2091,  3.2474, -5.718 ,  0.5916,  9.6237])"
            ]
          },
          "metadata": {},
          "execution_count": 219
        }
      ]
    },
    {
      "cell_type": "code",
      "source": [
        "# Perform element-wise addition and store the result in a specified output array\n",
        "np.add(arr, 1, out= out) # Add 1 to each element of 'arr' and store the result in the 'out' array\n",
        "out # Display the 'out' array"
      ],
      "metadata": {
        "colab": {
          "base_uri": "https://localhost:8080/"
        },
        "id": "QGuIjUejLjcw",
        "outputId": "81dc65eb-9059-43d8-ef05-0049afa3e79a"
      },
      "execution_count": 220,
      "outputs": [
        {
          "output_type": "execute_result",
          "data": {
            "text/plain": [
              "array([ 5.5146, -7.1079,  0.2091,  3.2474, -5.718 ,  0.5916,  9.6237])"
            ]
          },
          "metadata": {},
          "execution_count": 220
        }
      ]
    },
    {
      "cell_type": "code",
      "source": [
        "# Create a grid of points using np.meshgrid\n",
        "points = np.arange(-5, 5, 0.001) # Create a 1D array of numbers from -5 to 5 with a step of 0.001\n",
        "xs, ys = np.meshgrid(points, points) # Create 2D coordinate arrays from the 1D array 'points'\n",
        "ys # Display the 'ys' array"
      ],
      "metadata": {
        "colab": {
          "base_uri": "https://localhost:8080/"
        },
        "id": "EPCDlHXtLpJt",
        "outputId": "d0178c52-3c0b-47a6-8112-9d63b5a8d155"
      },
      "execution_count": 221,
      "outputs": [
        {
          "output_type": "execute_result",
          "data": {
            "text/plain": [
              "array([[-5.   , -5.   , -5.   , ..., -5.   , -5.   , -5.   ],\n",
              "       [-4.999, -4.999, -4.999, ..., -4.999, -4.999, -4.999],\n",
              "       [-4.998, -4.998, -4.998, ..., -4.998, -4.998, -4.998],\n",
              "       ...,\n",
              "       [ 4.997,  4.997,  4.997, ...,  4.997,  4.997,  4.997],\n",
              "       [ 4.998,  4.998,  4.998, ...,  4.998,  4.998,  4.998],\n",
              "       [ 4.999,  4.999,  4.999, ...,  4.999,  4.999,  4.999]])"
            ]
          },
          "metadata": {},
          "execution_count": 221
        }
      ]
    },
    {
      "cell_type": "code",
      "source": [
        "# Compute a function of the meshgrid coordinates\n",
        "z = np.sqrt(xs ** 2 + ys ** 2) # Compute the square root of the sum of squares of corresponding elements in xs and ys\n",
        "z # Display the resulting array 'z'"
      ],
      "metadata": {
        "colab": {
          "base_uri": "https://localhost:8080/"
        },
        "id": "1mkllVhsL_UG",
        "outputId": "cd9ff82e-7277-4082-d489-fc9abe05940c"
      },
      "execution_count": 222,
      "outputs": [
        {
          "output_type": "execute_result",
          "data": {
            "text/plain": [
              "array([[7.0711, 7.0704, 7.0697, ..., 7.0689, 7.0697, 7.0704],\n",
              "       [7.0704, 7.0697, 7.0689, ..., 7.0682, 7.0689, 7.0697],\n",
              "       [7.0697, 7.0689, 7.0682, ..., 7.0675, 7.0682, 7.0689],\n",
              "       ...,\n",
              "       [7.0689, 7.0682, 7.0675, ..., 7.0668, 7.0675, 7.0682],\n",
              "       [7.0697, 7.0689, 7.0682, ..., 7.0675, 7.0682, 7.0689],\n",
              "       [7.0704, 7.0697, 7.0689, ..., 7.0682, 7.0689, 7.0697]])"
            ]
          },
          "metadata": {},
          "execution_count": 222
        }
      ]
    },
    {
      "cell_type": "code",
      "source": [],
      "metadata": {
        "id": "wcCMWpD3ME6G"
      },
      "execution_count": null,
      "outputs": []
    }
  ]
}