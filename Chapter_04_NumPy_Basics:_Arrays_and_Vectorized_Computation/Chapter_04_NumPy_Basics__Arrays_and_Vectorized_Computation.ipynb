{
  "nbformat": 4,
  "nbformat_minor": 0,
  "metadata": {
    "colab": {
      "provenance": [],
      "authorship_tag": "ABX9TyNMvDAS5JbIpic/wMHqFOZl",
      "include_colab_link": true
    },
    "kernelspec": {
      "name": "python3",
      "display_name": "Python 3"
    },
    "language_info": {
      "name": "python"
    }
  },
  "cells": [
    {
      "cell_type": "markdown",
      "metadata": {
        "id": "view-in-github",
        "colab_type": "text"
      },
      "source": [
        "<a href=\"https://colab.research.google.com/github/Saifullah785/python-for-data-analysis-notes/blob/main/Chapter_04_NumPy_Basics%3A_Arrays_and_Vectorized_Computation/Chapter_04_NumPy_Basics__Arrays_and_Vectorized_Computation.ipynb\" target=\"_parent\"><img src=\"https://colab.research.google.com/assets/colab-badge.svg\" alt=\"Open In Colab\"/></a>"
      ]
    },
    {
      "cell_type": "markdown",
      "source": [
        "# **NumPy_Basics:_Arrays_and_Vectorized_Computation**"
      ],
      "metadata": {
        "id": "F_aGJg3qHgPU"
      }
    },
    {
      "cell_type": "code",
      "execution_count": 90,
      "metadata": {
        "id": "Sb5zBDtQHK1A"
      },
      "outputs": [],
      "source": [
        "# Import necessary libraries\n",
        "import numpy as np\n",
        "np.random.seed(12345) # Set a random seed for reproducibility\n",
        "import matplotlib.pyplot as plt # Import matplotlib for plotting (though not used in this notebook yet)\n",
        "plt.rc('figure', figsize=(10, 6)) # Set default figure size for matplotlib plots\n",
        "np.set_printoptions(precision=4, suppress=True) # Set NumPy print options for better readability"
      ]
    },
    {
      "cell_type": "code",
      "source": [
        "# Create a large NumPy array and a large Python list\n",
        "import numpy as np\n",
        "my_arr = np.arange(1000000) # Create a NumPy array with numbers from 0 to 999999\n",
        "my_list = list(range(1000000)) # Create a Python list with numbers from 0 to 999999"
      ],
      "metadata": {
        "id": "-3V9VPtbyi4r"
      },
      "execution_count": 91,
      "outputs": []
    },
    {
      "cell_type": "code",
      "source": [
        "# Display the NumPy array\n",
        "my_arr"
      ],
      "metadata": {
        "colab": {
          "base_uri": "https://localhost:8080/"
        },
        "id": "RU-yADmJyoJh",
        "outputId": "60f9218b-8c1c-46d1-c1a4-cd9a8d5c6de3"
      },
      "execution_count": 92,
      "outputs": [
        {
          "output_type": "execute_result",
          "data": {
            "text/plain": [
              "array([     0,      1,      2, ..., 999997, 999998, 999999])"
            ]
          },
          "metadata": {},
          "execution_count": 92
        }
      ]
    },
    {
      "cell_type": "code",
      "source": [
        "# Compare the performance of NumPy array multiplication and Python list multiplication\n",
        "%timeit my_arr2 = my_arr * 2 # Measure time for multiplying NumPy array by 2\n",
        "%timeit my_list2 = [x * 2 for x in my_list] # Measure time for multiplying Python list by 2 using a list comprehension"
      ],
      "metadata": {
        "colab": {
          "base_uri": "https://localhost:8080/"
        },
        "id": "Z0pk7a2_yp5c",
        "outputId": "f2764f29-5560-4c39-bf5f-8e27dd0e9a10"
      },
      "execution_count": 93,
      "outputs": [
        {
          "output_type": "stream",
          "name": "stdout",
          "text": [
            "1.08 ms ± 105 µs per loop (mean ± std. dev. of 7 runs, 1000 loops each)\n",
            "50.5 ms ± 2.01 ms per loop (mean ± std. dev. of 7 runs, 10 loops each)\n"
          ]
        }
      ]
    },
    {
      "cell_type": "code",
      "source": [
        "# Create a 2D NumPy array\n",
        "import numpy as np\n",
        "data = np.array([[1.5, -0.1, 3],[0, -3, 6.5]]) # Create a 2x3 NumPy array\n",
        "data # Display the array"
      ],
      "metadata": {
        "colab": {
          "base_uri": "https://localhost:8080/"
        },
        "id": "JliYeVgAy9_k",
        "outputId": "93bd3ddc-0828-467d-90ba-82ec5eb6666a"
      },
      "execution_count": 94,
      "outputs": [
        {
          "output_type": "execute_result",
          "data": {
            "text/plain": [
              "array([[ 1.5, -0.1,  3. ],\n",
              "       [ 0. , -3. ,  6.5]])"
            ]
          },
          "metadata": {},
          "execution_count": 94
        }
      ]
    },
    {
      "cell_type": "code",
      "source": [
        "# Perform element-wise operations on the NumPy array\n",
        "data * 10 # Multiply each element by 10\n",
        "\n",
        "data + data # Add the array to itself (element-wise addition)"
      ],
      "metadata": {
        "colab": {
          "base_uri": "https://localhost:8080/"
        },
        "id": "EO97kSyRzNcy",
        "outputId": "1cb13e0d-e2e9-41aa-a8ef-3bee9f453a50"
      },
      "execution_count": 95,
      "outputs": [
        {
          "output_type": "execute_result",
          "data": {
            "text/plain": [
              "array([[ 3. , -0.2,  6. ],\n",
              "       [ 0. , -6. , 13. ]])"
            ]
          },
          "metadata": {},
          "execution_count": 95
        }
      ]
    },
    {
      "cell_type": "code",
      "source": [
        "# Check the shape and data type of the NumPy array\n",
        "data.shape # Get the dimensions of the array (rows, columns)\n",
        "data.dtype # Get the data type of the array elements"
      ],
      "metadata": {
        "colab": {
          "base_uri": "https://localhost:8080/"
        },
        "id": "kPkblseszWa6",
        "outputId": "0af9f7db-6ecd-439c-cf49-50f92275e8fa"
      },
      "execution_count": 96,
      "outputs": [
        {
          "output_type": "execute_result",
          "data": {
            "text/plain": [
              "dtype('float64')"
            ]
          },
          "metadata": {},
          "execution_count": 96
        }
      ]
    },
    {
      "cell_type": "code",
      "source": [
        "# Create a 1D NumPy array from a Python list\n",
        "data1 = [6, 7.5, 8, 0, 1] # Python list\n",
        "arr1 = np.array(data1) # Convert list to NumPy array\n",
        "arr1 # Display the array"
      ],
      "metadata": {
        "colab": {
          "base_uri": "https://localhost:8080/"
        },
        "id": "phN5ARDvzaTB",
        "outputId": "9af90453-af5e-4f9f-f569-d5836f6db7a8"
      },
      "execution_count": 97,
      "outputs": [
        {
          "output_type": "execute_result",
          "data": {
            "text/plain": [
              "array([6. , 7.5, 8. , 0. , 1. ])"
            ]
          },
          "metadata": {},
          "execution_count": 97
        }
      ]
    },
    {
      "cell_type": "code",
      "source": [
        "# Create a 2D NumPy array from a list of lists\n",
        "data2 = [[1, 2, 3, 4], [5, 6, 7, 8]] # Python list of lists\n",
        "arr2 = np.array(data2) # Convert list of lists to NumPy array\n",
        "arr2 # Display the array"
      ],
      "metadata": {
        "colab": {
          "base_uri": "https://localhost:8080/"
        },
        "id": "DUeQVa4KzlMy",
        "outputId": "f11961ef-1018-4225-f833-264243d0138c"
      },
      "execution_count": 98,
      "outputs": [
        {
          "output_type": "execute_result",
          "data": {
            "text/plain": [
              "array([[1, 2, 3, 4],\n",
              "       [5, 6, 7, 8]])"
            ]
          },
          "metadata": {},
          "execution_count": 98
        }
      ]
    },
    {
      "cell_type": "code",
      "source": [
        "# Check the number of dimensions of the 2D array\n",
        "arr2.ndim # Get the number of dimensions"
      ],
      "metadata": {
        "colab": {
          "base_uri": "https://localhost:8080/"
        },
        "id": "yi_jfunVzyRC",
        "outputId": "b73813e2-8c07-4a42-9145-8182ba814707"
      },
      "execution_count": 99,
      "outputs": [
        {
          "output_type": "execute_result",
          "data": {
            "text/plain": [
              "2"
            ]
          },
          "metadata": {},
          "execution_count": 99
        }
      ]
    },
    {
      "cell_type": "code",
      "source": [
        "# Check the shape of the 2D array\n",
        "arr2.shape # Get the dimensions (rows, columns)"
      ],
      "metadata": {
        "colab": {
          "base_uri": "https://localhost:8080/"
        },
        "id": "j1heFJfSz2da",
        "outputId": "529d9022-1a7a-4bad-b05a-bf22510bb78e"
      },
      "execution_count": 100,
      "outputs": [
        {
          "output_type": "execute_result",
          "data": {
            "text/plain": [
              "(2, 4)"
            ]
          },
          "metadata": {},
          "execution_count": 100
        }
      ]
    },
    {
      "cell_type": "code",
      "source": [
        "# Check the data types of the 1D and 2D arrays\n",
        "arr1.dtype # Data type of arr1\n",
        "arr2.dtype # Data type of arr2"
      ],
      "metadata": {
        "colab": {
          "base_uri": "https://localhost:8080/"
        },
        "id": "WEKtKmx1z3sy",
        "outputId": "19415f52-9642-4909-b8c0-7f89ff3f796d"
      },
      "execution_count": 101,
      "outputs": [
        {
          "output_type": "execute_result",
          "data": {
            "text/plain": [
              "dtype('int64')"
            ]
          },
          "metadata": {},
          "execution_count": 101
        }
      ]
    },
    {
      "cell_type": "code",
      "source": [
        "# Create a 1D array of zeros\n",
        "np.zeros(10) # Create an array of 10 zeros with default float dtype"
      ],
      "metadata": {
        "colab": {
          "base_uri": "https://localhost:8080/"
        },
        "id": "2-TFxXWQ0A4a",
        "outputId": "a5e85fb4-3418-4608-b720-8df88141b691"
      },
      "execution_count": 102,
      "outputs": [
        {
          "output_type": "execute_result",
          "data": {
            "text/plain": [
              "array([0., 0., 0., 0., 0., 0., 0., 0., 0., 0.])"
            ]
          },
          "metadata": {},
          "execution_count": 102
        }
      ]
    },
    {
      "cell_type": "code",
      "source": [
        "# Create a 2D array of zeros\n",
        "np.zeros((3, 6)) # Create a 3x6 array of zeros"
      ],
      "metadata": {
        "colab": {
          "base_uri": "https://localhost:8080/"
        },
        "id": "DiAEDGE30NJC",
        "outputId": "b75371f1-cd2e-4bdb-dc4a-448351d09972"
      },
      "execution_count": 103,
      "outputs": [
        {
          "output_type": "execute_result",
          "data": {
            "text/plain": [
              "array([[0., 0., 0., 0., 0., 0.],\n",
              "       [0., 0., 0., 0., 0., 0.],\n",
              "       [0., 0., 0., 0., 0., 0.]])"
            ]
          },
          "metadata": {},
          "execution_count": 103
        }
      ]
    },
    {
      "cell_type": "code",
      "source": [
        "# Create an empty 3D array\n",
        "np.empty((2, 3, 2)) # Create a 2x3x2 array with uninitialized (arbitrary) data"
      ],
      "metadata": {
        "colab": {
          "base_uri": "https://localhost:8080/"
        },
        "id": "DG4LcMi10Opb",
        "outputId": "6a3c3b58-51d5-47b6-f6da-1c00dfa17709"
      },
      "execution_count": 104,
      "outputs": [
        {
          "output_type": "execute_result",
          "data": {
            "text/plain": [
              "array([[[0., 0.],\n",
              "        [0., 0.],\n",
              "        [0., 0.]],\n",
              "\n",
              "       [[0., 0.],\n",
              "        [0., 0.],\n",
              "        [0., 0.]]])"
            ]
          },
          "metadata": {},
          "execution_count": 104
        }
      ]
    },
    {
      "cell_type": "code",
      "source": [
        "# Create a 1D array with a range of numbers\n",
        "np.arange(15) # Create an array with numbers from 0 to 14"
      ],
      "metadata": {
        "colab": {
          "base_uri": "https://localhost:8080/"
        },
        "id": "DyUd0HUI0Slo",
        "outputId": "188c7100-aa95-442a-de89-8dbd9272f870"
      },
      "execution_count": 105,
      "outputs": [
        {
          "output_type": "execute_result",
          "data": {
            "text/plain": [
              "array([ 0,  1,  2,  3,  4,  5,  6,  7,  8,  9, 10, 11, 12, 13, 14])"
            ]
          },
          "metadata": {},
          "execution_count": 105
        }
      ]
    },
    {
      "cell_type": "code",
      "source": [
        "# Create NumPy arrays with specified data types\n",
        "arr1 = np.array([1, 2, 3], dtype = np.float64) # Create array with float64 dtype\n",
        "arr2 = np.array([1, 2, 3], dtype = np.int32) # Create array with int32 dtype\n",
        "\n",
        "arr1.dtype # Check the data type of arr1"
      ],
      "metadata": {
        "colab": {
          "base_uri": "https://localhost:8080/"
        },
        "id": "yA77grK90Yup",
        "outputId": "1afe6d50-65f0-4c41-c85d-3d2f3af30841"
      },
      "execution_count": 106,
      "outputs": [
        {
          "output_type": "execute_result",
          "data": {
            "text/plain": [
              "dtype('float64')"
            ]
          },
          "metadata": {},
          "execution_count": 106
        }
      ]
    },
    {
      "cell_type": "code",
      "source": [
        "# Check the data type of arr2\n",
        "arr2.dtype # Data type of arr2"
      ],
      "metadata": {
        "colab": {
          "base_uri": "https://localhost:8080/"
        },
        "id": "zMBLMscd0vWT",
        "outputId": "7ee21efe-225b-4b2e-c70f-b31509bfa3f1"
      },
      "execution_count": 107,
      "outputs": [
        {
          "output_type": "execute_result",
          "data": {
            "text/plain": [
              "dtype('int32')"
            ]
          },
          "metadata": {},
          "execution_count": 107
        }
      ]
    },
    {
      "cell_type": "code",
      "source": [
        "# Create an integer array and check its data type\n",
        "arr = np.array([1, 2, 3, 4, 5]) # Create an integer array\n",
        "\n",
        "arr.dtype # Check the data type"
      ],
      "metadata": {
        "colab": {
          "base_uri": "https://localhost:8080/"
        },
        "id": "GRxCR8mY0yB6",
        "outputId": "13b3bf63-d4d1-4d49-bc40-92130cbf391d"
      },
      "execution_count": 108,
      "outputs": [
        {
          "output_type": "execute_result",
          "data": {
            "text/plain": [
              "dtype('int64')"
            ]
          },
          "metadata": {},
          "execution_count": 108
        }
      ]
    },
    {
      "cell_type": "code",
      "source": [
        "# Cast the integer array to a float array\n",
        "float_arr = arr.astype(np.float64) # Convert array elements to float64\n",
        "float_arr # Display the new array"
      ],
      "metadata": {
        "colab": {
          "base_uri": "https://localhost:8080/"
        },
        "id": "HiKwP5Je055r",
        "outputId": "bf986381-6b24-4921-fddb-d98349a75198"
      },
      "execution_count": 109,
      "outputs": [
        {
          "output_type": "execute_result",
          "data": {
            "text/plain": [
              "array([1., 2., 3., 4., 5.])"
            ]
          },
          "metadata": {},
          "execution_count": 109
        }
      ]
    },
    {
      "cell_type": "code",
      "source": [
        "# Check the data type of the new float array\n",
        "float_arr.dtype # Check the data type"
      ],
      "metadata": {
        "colab": {
          "base_uri": "https://localhost:8080/"
        },
        "id": "er3H0sfp1ACi",
        "outputId": "971b71bd-36e2-4cfa-9aed-63f3aba0c105"
      },
      "execution_count": 110,
      "outputs": [
        {
          "output_type": "execute_result",
          "data": {
            "text/plain": [
              "dtype('float64')"
            ]
          },
          "metadata": {},
          "execution_count": 110
        }
      ]
    },
    {
      "cell_type": "code",
      "source": [
        "# Create a float array\n",
        "arr = np.array([3.7, -1.2, -2.6, 0.5, 12.9, 10.1]) # Create a float array\n",
        "arr # Display the array"
      ],
      "metadata": {
        "colab": {
          "base_uri": "https://localhost:8080/"
        },
        "id": "KXLoQEDO1Crk",
        "outputId": "4bc2f7b3-95d8-4997-c5eb-0caf786b88a2"
      },
      "execution_count": 111,
      "outputs": [
        {
          "output_type": "execute_result",
          "data": {
            "text/plain": [
              "array([ 3.7, -1.2, -2.6,  0.5, 12.9, 10.1])"
            ]
          },
          "metadata": {},
          "execution_count": 111
        }
      ]
    },
    {
      "cell_type": "code",
      "source": [
        "# Cast the float array to an integer array (truncates decimal part)\n",
        "arr.astype(np.int32) # Convert array elements to int32"
      ],
      "metadata": {
        "colab": {
          "base_uri": "https://localhost:8080/"
        },
        "id": "1FQ-VDxf1IT7",
        "outputId": "5c6c987b-a2ba-4802-e8f1-2bc60750be54"
      },
      "execution_count": 112,
      "outputs": [
        {
          "output_type": "execute_result",
          "data": {
            "text/plain": [
              "array([ 3, -1, -2,  0, 12, 10], dtype=int32)"
            ]
          },
          "metadata": {},
          "execution_count": 112
        }
      ]
    },
    {
      "cell_type": "code",
      "source": [
        "# Convert an array of numeric strings to a float array\n",
        "numeric_strings = np.array(['1.25', '-9.6', '42'], dtype = np.bytes_) # Create an array of bytes representing numbers\n",
        "numeric_strings.astype(float) # Convert the elements to float"
      ],
      "metadata": {
        "colab": {
          "base_uri": "https://localhost:8080/"
        },
        "id": "qfBhUbMm1LH7",
        "outputId": "1e29d6a1-7822-4048-b73e-8a8fc20b90b8"
      },
      "execution_count": 113,
      "outputs": [
        {
          "output_type": "execute_result",
          "data": {
            "text/plain": [
              "array([ 1.25, -9.6 , 42.  ])"
            ]
          },
          "metadata": {},
          "execution_count": 113
        }
      ]
    },
    {
      "cell_type": "code",
      "source": [
        "# Cast an integer array to the data type of another array\n",
        "int_array = np.arange(10) # Create an integer array\n",
        "calibers = np.array([.22, .270, .357, .380, .44, .50], dtype = np.float64) # Create a float array\n",
        "int_array.astype(calibers.dtype) # Convert int_array to the dtype of calibers (float64)"
      ],
      "metadata": {
        "colab": {
          "base_uri": "https://localhost:8080/"
        },
        "id": "fU5OpfqZ1tKS",
        "outputId": "d1cf1b0b-412a-4aa6-c538-f7be25d2815c"
      },
      "execution_count": 114,
      "outputs": [
        {
          "output_type": "execute_result",
          "data": {
            "text/plain": [
              "array([0., 1., 2., 3., 4., 5., 6., 7., 8., 9.])"
            ]
          },
          "metadata": {},
          "execution_count": 114
        }
      ]
    },
    {
      "cell_type": "code",
      "source": [
        "# Create an array of zeros with an unsigned 32-bit integer data type\n",
        "zero_uint32 = np.zeros(8, dtype = 'u4') # Create an array of 8 zeros with unsigned 32-bit integer dtype\n",
        "zero_uint32 # Display the array"
      ],
      "metadata": {
        "colab": {
          "base_uri": "https://localhost:8080/"
        },
        "id": "Gcf0yMUT15U0",
        "outputId": "ade94439-a444-4d9e-97ae-2072780a3fa1"
      },
      "execution_count": 115,
      "outputs": [
        {
          "output_type": "execute_result",
          "data": {
            "text/plain": [
              "array([0, 0, 0, 0, 0, 0, 0, 0], dtype=uint32)"
            ]
          },
          "metadata": {},
          "execution_count": 115
        }
      ]
    },
    {
      "cell_type": "code",
      "source": [
        "# Create a 2D NumPy array\n",
        "arr = np.array ([[1., 2., 3.], [4., 5., 6.]]) # Create a 2x3 array\n",
        "arr # Display the array"
      ],
      "metadata": {
        "colab": {
          "base_uri": "https://localhost:8080/"
        },
        "id": "fBhpVV4K2Dly",
        "outputId": "d6a556f4-03f1-4159-8dab-70c45653bdf3"
      },
      "execution_count": 116,
      "outputs": [
        {
          "output_type": "execute_result",
          "data": {
            "text/plain": [
              "array([[1., 2., 3.],\n",
              "       [4., 5., 6.]])"
            ]
          },
          "metadata": {},
          "execution_count": 116
        }
      ]
    },
    {
      "cell_type": "code",
      "source": [
        "# Perform element-wise multiplication\n",
        "arr * arr # Multiply each element by itself"
      ],
      "metadata": {
        "colab": {
          "base_uri": "https://localhost:8080/"
        },
        "id": "FKabUiaa2LDU",
        "outputId": "955c7b47-1e10-467d-f41e-e026a3892445"
      },
      "execution_count": 117,
      "outputs": [
        {
          "output_type": "execute_result",
          "data": {
            "text/plain": [
              "array([[ 1.,  4.,  9.],\n",
              "       [16., 25., 36.]])"
            ]
          },
          "metadata": {},
          "execution_count": 117
        }
      ]
    },
    {
      "cell_type": "code",
      "source": [
        "# Perform element-wise subtraction\n",
        "arr - arr # Subtract each element from itself"
      ],
      "metadata": {
        "colab": {
          "base_uri": "https://localhost:8080/"
        },
        "id": "dcVb0W3M2O8C",
        "outputId": "3e092cea-b2eb-425d-b313-7b718586a186"
      },
      "execution_count": 118,
      "outputs": [
        {
          "output_type": "execute_result",
          "data": {
            "text/plain": [
              "array([[0., 0., 0.],\n",
              "       [0., 0., 0.]])"
            ]
          },
          "metadata": {},
          "execution_count": 118
        }
      ]
    },
    {
      "cell_type": "code",
      "source": [
        "# Perform element-wise division\n",
        "1 / arr # Divide 1 by each element"
      ],
      "metadata": {
        "colab": {
          "base_uri": "https://localhost:8080/"
        },
        "id": "VJN24ayf2Q5q",
        "outputId": "b00f95bc-f003-4e37-f9ef-01e4aa773814"
      },
      "execution_count": 119,
      "outputs": [
        {
          "output_type": "execute_result",
          "data": {
            "text/plain": [
              "array([[1.    , 0.5   , 0.3333],\n",
              "       [0.25  , 0.2   , 0.1667]])"
            ]
          },
          "metadata": {},
          "execution_count": 119
        }
      ]
    },
    {
      "cell_type": "code",
      "source": [
        "# Perform element-wise exponentiation\n",
        "arr **2 # Square each element"
      ],
      "metadata": {
        "colab": {
          "base_uri": "https://localhost:8080/"
        },
        "id": "ZIAIFpr_2Vwq",
        "outputId": "f11fa0c3-79bf-4cc0-c602-aaa9969aa6d9"
      },
      "execution_count": 120,
      "outputs": [
        {
          "output_type": "execute_result",
          "data": {
            "text/plain": [
              "array([[ 1.,  4.,  9.],\n",
              "       [16., 25., 36.]])"
            ]
          },
          "metadata": {},
          "execution_count": 120
        }
      ]
    },
    {
      "cell_type": "code",
      "source": [
        "# Create another 2D NumPy array\n",
        "arr2 = np.array([[0., 4., 1.], [7., 2., 12.]]) # Create a new 2x3 array\n",
        "arr2 # Display the array"
      ],
      "metadata": {
        "colab": {
          "base_uri": "https://localhost:8080/"
        },
        "id": "NqIXrBFJ2Yxa",
        "outputId": "6e40a0f0-2b21-445f-b0f8-8c6b1a51154c"
      },
      "execution_count": 121,
      "outputs": [
        {
          "output_type": "execute_result",
          "data": {
            "text/plain": [
              "array([[ 0.,  4.,  1.],\n",
              "       [ 7.,  2., 12.]])"
            ]
          },
          "metadata": {},
          "execution_count": 121
        }
      ]
    },
    {
      "cell_type": "code",
      "source": [
        "# Perform element-wise comparison\n",
        "arr2 > arr # Compare elements of arr2 with corresponding elements of arr"
      ],
      "metadata": {
        "colab": {
          "base_uri": "https://localhost:8080/"
        },
        "id": "oY19hb_U2mfT",
        "outputId": "5f30c20c-d995-48f6-e8e7-f6d33bba82c0"
      },
      "execution_count": 122,
      "outputs": [
        {
          "output_type": "execute_result",
          "data": {
            "text/plain": [
              "array([[False,  True, False],\n",
              "       [ True, False,  True]])"
            ]
          },
          "metadata": {},
          "execution_count": 122
        }
      ]
    },
    {
      "cell_type": "code",
      "source": [
        "# Create a 1D array\n",
        "arr = np.arange(10) # Create an array with numbers from 0 to 9\n",
        "\n",
        "arr # Display the array"
      ],
      "metadata": {
        "colab": {
          "base_uri": "https://localhost:8080/"
        },
        "id": "HS45OHB22qhz",
        "outputId": "aa76f004-06ba-452f-b58a-cdcdc9e304d3"
      },
      "execution_count": 123,
      "outputs": [
        {
          "output_type": "execute_result",
          "data": {
            "text/plain": [
              "array([0, 1, 2, 3, 4, 5, 6, 7, 8, 9])"
            ]
          },
          "metadata": {},
          "execution_count": 123
        }
      ]
    },
    {
      "cell_type": "code",
      "source": [
        "# Access an element at a specific index\n",
        "arr[5] # Get the element at index 5 (0-based indexing)"
      ],
      "metadata": {
        "colab": {
          "base_uri": "https://localhost:8080/"
        },
        "id": "ofYM8zXP20l0",
        "outputId": "4f7c9f54-1973-48e7-9cd0-08b18172c103"
      },
      "execution_count": 124,
      "outputs": [
        {
          "output_type": "execute_result",
          "data": {
            "text/plain": [
              "np.int64(5)"
            ]
          },
          "metadata": {},
          "execution_count": 124
        }
      ]
    },
    {
      "cell_type": "code",
      "source": [
        "# Access a slice of the array\n",
        "arr[5:8] # Get elements from index 5 up to (but not including) index 8"
      ],
      "metadata": {
        "colab": {
          "base_uri": "https://localhost:8080/"
        },
        "id": "TUpeud79231L",
        "outputId": "37f9eeaa-f8af-4027-e8c3-2670e77289e0"
      },
      "execution_count": 125,
      "outputs": [
        {
          "output_type": "execute_result",
          "data": {
            "text/plain": [
              "array([5, 6, 7])"
            ]
          },
          "metadata": {},
          "execution_count": 125
        }
      ]
    },
    {
      "cell_type": "code",
      "source": [
        "# Assign a value to a slice of the array\n",
        "arr[5:8] = 12 # Set elements from index 5 to 7 to the value 12"
      ],
      "metadata": {
        "id": "57Iaa7UF25zK"
      },
      "execution_count": 126,
      "outputs": []
    },
    {
      "cell_type": "code",
      "source": [
        "# Display the modified array\n",
        "arr # Display the array"
      ],
      "metadata": {
        "colab": {
          "base_uri": "https://localhost:8080/"
        },
        "id": "bNwsL-1E28Bd",
        "outputId": "56ec144c-e95c-4d73-8c8d-3057710a12b7"
      },
      "execution_count": 127,
      "outputs": [
        {
          "output_type": "execute_result",
          "data": {
            "text/plain": [
              "array([ 0,  1,  2,  3,  4, 12, 12, 12,  8,  9])"
            ]
          },
          "metadata": {},
          "execution_count": 127
        }
      ]
    },
    {
      "cell_type": "code",
      "source": [
        "# Create a slice of the array\n",
        "arr_slice = arr[5:8] # Create a view of the array from index 5 to 7\n",
        "arr_slice # Display the slice"
      ],
      "metadata": {
        "colab": {
          "base_uri": "https://localhost:8080/"
        },
        "id": "tZebaL7l2-un",
        "outputId": "06c88889-c658-4e29-85f7-367dae4be893"
      },
      "execution_count": 128,
      "outputs": [
        {
          "output_type": "execute_result",
          "data": {
            "text/plain": [
              "array([12, 12, 12])"
            ]
          },
          "metadata": {},
          "execution_count": 128
        }
      ]
    },
    {
      "cell_type": "code",
      "source": [
        "# Modify an element in the slice (this also modifies the original array)\n",
        "arr_slice[1] = 12345 # Change the element at index 1 of the slice (which is index 6 of the original array)\n",
        "arr # Display the original array to see the change"
      ],
      "metadata": {
        "colab": {
          "base_uri": "https://localhost:8080/"
        },
        "id": "MQt7Wdqc3G7J",
        "outputId": "7d6306aa-0f76-4f55-be7b-e2f06a7f0f5e"
      },
      "execution_count": 129,
      "outputs": [
        {
          "output_type": "execute_result",
          "data": {
            "text/plain": [
              "array([    0,     1,     2,     3,     4,    12, 12345,    12,     8,\n",
              "           9])"
            ]
          },
          "metadata": {},
          "execution_count": 129
        }
      ]
    },
    {
      "cell_type": "code",
      "source": [
        "# Modify the entire slice (this also modifies the original array)\n",
        "arr_slice[:] = 64 # Set all elements in the slice to 64\n",
        "arr # Display the original array to see the change"
      ],
      "metadata": {
        "colab": {
          "base_uri": "https://localhost:8080/"
        },
        "id": "0DOvChyQ3Osc",
        "outputId": "30084c01-c4df-4fb6-c43b-64c08adb0731"
      },
      "execution_count": 130,
      "outputs": [
        {
          "output_type": "execute_result",
          "data": {
            "text/plain": [
              "array([ 0,  1,  2,  3,  4, 64, 64, 64,  8,  9])"
            ]
          },
          "metadata": {},
          "execution_count": 130
        }
      ]
    },
    {
      "cell_type": "code",
      "source": [
        "# Create a 2D array\n",
        "arr2d = np.array([[1, 2, 3], [4, 5, 6], [7, 8, 9]]) # Create a 3x3 array\n",
        "arr2d # Display the array"
      ],
      "metadata": {
        "colab": {
          "base_uri": "https://localhost:8080/"
        },
        "id": "zeBCErCu3dkN",
        "outputId": "055b933f-2aa8-46dd-9f30-195a2ea4ce0b"
      },
      "execution_count": 131,
      "outputs": [
        {
          "output_type": "execute_result",
          "data": {
            "text/plain": [
              "array([[1, 2, 3],\n",
              "       [4, 5, 6],\n",
              "       [7, 8, 9]])"
            ]
          },
          "metadata": {},
          "execution_count": 131
        }
      ]
    },
    {
      "cell_type": "code",
      "source": [
        "# Access an element in a 2D array using double brackets\n",
        "arr2d[0][2] # Get the element at row 0, column 2"
      ],
      "metadata": {
        "colab": {
          "base_uri": "https://localhost:8080/"
        },
        "id": "ZzVuZd_K3i71",
        "outputId": "62e030a8-b10c-4194-ff34-f59799c14b9f"
      },
      "execution_count": 132,
      "outputs": [
        {
          "output_type": "execute_result",
          "data": {
            "text/plain": [
              "np.int64(3)"
            ]
          },
          "metadata": {},
          "execution_count": 132
        }
      ]
    },
    {
      "cell_type": "code",
      "source": [
        "# Access an element in a 2D array using single brackets with comma separation (preferred)\n",
        "arr2d[0, 2] # Get the element at row 0, column 2"
      ],
      "metadata": {
        "colab": {
          "base_uri": "https://localhost:8080/"
        },
        "id": "eMM5DiaJ3qxl",
        "outputId": "b30f396b-9a92-4ea6-96f0-da39d85e0a47"
      },
      "execution_count": 133,
      "outputs": [
        {
          "output_type": "execute_result",
          "data": {
            "text/plain": [
              "np.int64(3)"
            ]
          },
          "metadata": {},
          "execution_count": 133
        }
      ]
    },
    {
      "cell_type": "code",
      "source": [
        "# Create a 3D array\n",
        "arr3d = np.array([[[1, 2, 3], [4, 5, 6]], [[7, 8, 9], [10, 11, 12]]]) # Create a 2x2x3 array\n",
        "arr3d # Display the array"
      ],
      "metadata": {
        "colab": {
          "base_uri": "https://localhost:8080/"
        },
        "id": "UnpXlllZ3uGD",
        "outputId": "af7de71f-a844-4c7b-b4d1-f41441a64517"
      },
      "execution_count": 134,
      "outputs": [
        {
          "output_type": "execute_result",
          "data": {
            "text/plain": [
              "array([[[ 1,  2,  3],\n",
              "        [ 4,  5,  6]],\n",
              "\n",
              "       [[ 7,  8,  9],\n",
              "        [10, 11, 12]]])"
            ]
          },
          "metadata": {},
          "execution_count": 134
        }
      ]
    },
    {
      "cell_type": "code",
      "source": [
        "# Access a 2D slice (a \"layer\") from the 3D array\n",
        "arr3d[0] # Get the first 2D array (at index 0)"
      ],
      "metadata": {
        "colab": {
          "base_uri": "https://localhost:8080/"
        },
        "id": "m2hNFVnh34wm",
        "outputId": "2963152f-0741-4e21-bfae-a41a9f1e87bc"
      },
      "execution_count": 135,
      "outputs": [
        {
          "output_type": "execute_result",
          "data": {
            "text/plain": [
              "array([[1, 2, 3],\n",
              "       [4, 5, 6]])"
            ]
          },
          "metadata": {},
          "execution_count": 135
        }
      ]
    },
    {
      "cell_type": "code",
      "source": [
        "# Create a copy of a slice from the 3D array\n",
        "old_values = arr3d[0].copy() # Create a copy of the first 2D array\n",
        "old_values # Display the copy"
      ],
      "metadata": {
        "colab": {
          "base_uri": "https://localhost:8080/"
        },
        "id": "YF6IU8mW3_Ih",
        "outputId": "61de14d8-43e5-44d1-f5f8-f97cdb6f96da"
      },
      "execution_count": 136,
      "outputs": [
        {
          "output_type": "execute_result",
          "data": {
            "text/plain": [
              "array([[1, 2, 3],\n",
              "       [4, 5, 6]])"
            ]
          },
          "metadata": {},
          "execution_count": 136
        }
      ]
    },
    {
      "cell_type": "code",
      "source": [
        "# Assign a scalar value to a 2D slice of the 3D array\n",
        "arr3d[0] = 42 # Set all elements in the first 2D array to 42\n",
        "arr3d # Display the modified 3D array"
      ],
      "metadata": {
        "colab": {
          "base_uri": "https://localhost:8080/"
        },
        "id": "j7vTRaTO4FO4",
        "outputId": "84e9538d-d4d6-43c0-fb50-4c1c8b1297c0"
      },
      "execution_count": 137,
      "outputs": [
        {
          "output_type": "execute_result",
          "data": {
            "text/plain": [
              "array([[[42, 42, 42],\n",
              "        [42, 42, 42]],\n",
              "\n",
              "       [[ 7,  8,  9],\n",
              "        [10, 11, 12]]])"
            ]
          },
          "metadata": {},
          "execution_count": 137
        }
      ]
    },
    {
      "cell_type": "code",
      "source": [
        "# Restore the original values to the 2D slice using the copy\n",
        "arr3d[0] = old_values # Assign the copied values back to the first 2D array\n",
        "arr3d # Display the restored 3D array"
      ],
      "metadata": {
        "colab": {
          "base_uri": "https://localhost:8080/"
        },
        "id": "qFzvJz9W4Lzl",
        "outputId": "a2a8a6a9-427a-4328-807a-fec62a003a88"
      },
      "execution_count": 138,
      "outputs": [
        {
          "output_type": "execute_result",
          "data": {
            "text/plain": [
              "array([[[ 1,  2,  3],\n",
              "        [ 4,  5,  6]],\n",
              "\n",
              "       [[ 7,  8,  9],\n",
              "        [10, 11, 12]]])"
            ]
          },
          "metadata": {},
          "execution_count": 138
        }
      ]
    },
    {
      "cell_type": "code",
      "source": [
        "# Access a 1D slice (a \"row\") from a 2D slice of the 3D array\n",
        "arr3d[1, 0] # Get the first row (at index 0) of the second 2D array (at index 1)"
      ],
      "metadata": {
        "colab": {
          "base_uri": "https://localhost:8080/"
        },
        "id": "s-IWuRn04Wc4",
        "outputId": "ccbb330f-dbf1-4ce3-9b06-ab6ba3da2cd1"
      },
      "execution_count": 139,
      "outputs": [
        {
          "output_type": "execute_result",
          "data": {
            "text/plain": [
              "array([7, 8, 9])"
            ]
          },
          "metadata": {},
          "execution_count": 139
        }
      ]
    },
    {
      "cell_type": "code",
      "source": [
        "# Create a variable referencing a 2D slice from the 3D array\n",
        "x = arr3d[1] # x is a view of the second 2D array\n",
        "x # Display x"
      ],
      "metadata": {
        "colab": {
          "base_uri": "https://localhost:8080/"
        },
        "id": "JtQ7ASoX4U_T",
        "outputId": "2b6896df-5c7e-4a60-c7a7-ed696da64b8f"
      },
      "execution_count": 140,
      "outputs": [
        {
          "output_type": "execute_result",
          "data": {
            "text/plain": [
              "array([[ 7,  8,  9],\n",
              "       [10, 11, 12]])"
            ]
          },
          "metadata": {},
          "execution_count": 140
        }
      ]
    },
    {
      "cell_type": "code",
      "source": [
        "# Access a row from the referenced 2D slice\n",
        "x[0] # Get the first row of the 2D array x"
      ],
      "metadata": {
        "colab": {
          "base_uri": "https://localhost:8080/"
        },
        "id": "wB5BCYmi4flG",
        "outputId": "9439f957-af2b-468c-c8d0-e8f6d52ae1c7"
      },
      "execution_count": 141,
      "outputs": [
        {
          "output_type": "execute_result",
          "data": {
            "text/plain": [
              "array([7, 8, 9])"
            ]
          },
          "metadata": {},
          "execution_count": 141
        }
      ]
    },
    {
      "cell_type": "code",
      "source": [
        "# Display the 1D array 'arr'\n",
        "arr # Display the array"
      ],
      "metadata": {
        "colab": {
          "base_uri": "https://localhost:8080/"
        },
        "id": "7V5Wu6au4ihD",
        "outputId": "7a8f982b-9ee4-403e-84f2-7109da2d2a38"
      },
      "execution_count": 142,
      "outputs": [
        {
          "output_type": "execute_result",
          "data": {
            "text/plain": [
              "array([ 0,  1,  2,  3,  4, 64, 64, 64,  8,  9])"
            ]
          },
          "metadata": {},
          "execution_count": 142
        }
      ]
    },
    {
      "cell_type": "code",
      "source": [
        "# Access a slice from the 1D array\n",
        "arr[1:6] # Get elements from index 1 up to (but not including) index 6"
      ],
      "metadata": {
        "colab": {
          "base_uri": "https://localhost:8080/"
        },
        "id": "dYe6kxg14lzp",
        "outputId": "67d333f9-0011-4b39-9e73-7cf6fe3a58dc"
      },
      "execution_count": 143,
      "outputs": [
        {
          "output_type": "execute_result",
          "data": {
            "text/plain": [
              "array([ 1,  2,  3,  4, 64])"
            ]
          },
          "metadata": {},
          "execution_count": 143
        }
      ]
    },
    {
      "cell_type": "code",
      "source": [
        "# Display the 2D array 'arr2d'\n",
        "arr2d # Display the array"
      ],
      "metadata": {
        "colab": {
          "base_uri": "https://localhost:8080/"
        },
        "id": "umzCnzVI4pLw",
        "outputId": "19f36a87-a5c7-4ec6-f7a8-b59114fa9036"
      },
      "execution_count": 144,
      "outputs": [
        {
          "output_type": "execute_result",
          "data": {
            "text/plain": [
              "array([[1, 2, 3],\n",
              "       [4, 5, 6],\n",
              "       [7, 8, 9]])"
            ]
          },
          "metadata": {},
          "execution_count": 144
        }
      ]
    },
    {
      "cell_type": "code",
      "source": [
        "# Access the first two rows of the 2D array\n",
        "arr2d[:2] # Get rows from the beginning up to (but not including) index 2"
      ],
      "metadata": {
        "colab": {
          "base_uri": "https://localhost:8080/"
        },
        "id": "wEdpXARs4sMx",
        "outputId": "31e3ebad-d5ee-4b23-a6c8-5e9dba3e185a"
      },
      "execution_count": 145,
      "outputs": [
        {
          "output_type": "execute_result",
          "data": {
            "text/plain": [
              "array([[1, 2, 3],\n",
              "       [4, 5, 6]])"
            ]
          },
          "metadata": {},
          "execution_count": 145
        }
      ]
    },
    {
      "cell_type": "code",
      "source": [
        "# Access a slice of rows and columns from the 2D array\n",
        "arr2d[:2, 1:] # Get rows from the beginning up to index 2, and columns from index 1 to the end"
      ],
      "metadata": {
        "colab": {
          "base_uri": "https://localhost:8080/"
        },
        "id": "oHnBcHF04uMD",
        "outputId": "41446b9f-a9be-451e-8444-65d65abd5b32"
      },
      "execution_count": 146,
      "outputs": [
        {
          "output_type": "execute_result",
          "data": {
            "text/plain": [
              "array([[2, 3],\n",
              "       [5, 6]])"
            ]
          },
          "metadata": {},
          "execution_count": 146
        }
      ]
    },
    {
      "cell_type": "code",
      "source": [
        "# Access a specific row and a slice of columns, resulting in a lower-dimensional array\n",
        "lower_dim_slice = arr2d[1, :2] # Get the second row (index 1) and columns from the beginning up to index 2\n",
        "lower_dim_slice # Display the resulting 1D array"
      ],
      "metadata": {
        "colab": {
          "base_uri": "https://localhost:8080/"
        },
        "id": "odEhaflc40sB",
        "outputId": "1e987fe7-f17d-4596-f7bb-12886ba3e991"
      },
      "execution_count": 147,
      "outputs": [
        {
          "output_type": "execute_result",
          "data": {
            "text/plain": [
              "array([4, 5])"
            ]
          },
          "metadata": {},
          "execution_count": 147
        }
      ]
    },
    {
      "cell_type": "code",
      "source": [
        "# Check the shape of the lower-dimensional slice\n",
        "lower_dim_slice.shape # Get the dimensions of the slice"
      ],
      "metadata": {
        "colab": {
          "base_uri": "https://localhost:8080/"
        },
        "id": "t5z1hp2344YR",
        "outputId": "f83a157e-24d2-474c-8ff4-06843d5f36f0"
      },
      "execution_count": 148,
      "outputs": [
        {
          "output_type": "execute_result",
          "data": {
            "text/plain": [
              "(2,)"
            ]
          },
          "metadata": {},
          "execution_count": 148
        }
      ]
    },
    {
      "cell_type": "code",
      "source": [
        "# Display the 2D array 'arr2d' again\n",
        "arr2d # Display the array"
      ],
      "metadata": {
        "colab": {
          "base_uri": "https://localhost:8080/"
        },
        "id": "koD3h4WR5FJ0",
        "outputId": "498a169f-95d5-46f2-b34f-f87b8fd9d2d5"
      },
      "execution_count": 149,
      "outputs": [
        {
          "output_type": "execute_result",
          "data": {
            "text/plain": [
              "array([[1, 2, 3],\n",
              "       [4, 5, 6],\n",
              "       [7, 8, 9]])"
            ]
          },
          "metadata": {},
          "execution_count": 149
        }
      ]
    },
    {
      "cell_type": "code",
      "source": [
        "# Access a slice of rows and a specific column\n",
        "arr2d[:2, 2] # Get rows from the beginning up to index 2, and the column at index 2"
      ],
      "metadata": {
        "colab": {
          "base_uri": "https://localhost:8080/"
        },
        "id": "7LtO5EmS46F-",
        "outputId": "6eca4b1e-9b32-4dcd-854c-bae293444aa6"
      },
      "execution_count": 150,
      "outputs": [
        {
          "output_type": "execute_result",
          "data": {
            "text/plain": [
              "array([3, 6])"
            ]
          },
          "metadata": {},
          "execution_count": 150
        }
      ]
    },
    {
      "cell_type": "code",
      "source": [
        "# Access all rows and the first column\n",
        "arr2d[:, :1] # Get all rows and the column from the beginning up to (but not including) index 1 (results in a 2D array with 1 column)"
      ],
      "metadata": {
        "colab": {
          "base_uri": "https://localhost:8080/"
        },
        "id": "SgTvh76p49-o",
        "outputId": "cb4224a4-5731-4ba6-9e66-2f43dd1a840a"
      },
      "execution_count": 151,
      "outputs": [
        {
          "output_type": "execute_result",
          "data": {
            "text/plain": [
              "array([[1],\n",
              "       [4],\n",
              "       [7]])"
            ]
          },
          "metadata": {},
          "execution_count": 151
        }
      ]
    },
    {
      "cell_type": "code",
      "source": [
        "# Assign a scalar value to a slice of rows and columns\n",
        "arr2d[:2, 1:] = 0 # Set elements in the first two rows and from the second column onwards to 0"
      ],
      "metadata": {
        "id": "L7gItx7o5EKF"
      },
      "execution_count": 152,
      "outputs": []
    },
    {
      "cell_type": "code",
      "source": [
        "# Display the modified 2D array\n",
        "arr2d # Display the array after modification"
      ],
      "metadata": {
        "colab": {
          "base_uri": "https://localhost:8080/"
        },
        "id": "ebPMfmtL5LPt",
        "outputId": "69259925-ad73-4c0b-8589-8f34e2922203"
      },
      "execution_count": 153,
      "outputs": [
        {
          "output_type": "execute_result",
          "data": {
            "text/plain": [
              "array([[1, 0, 0],\n",
              "       [4, 0, 0],\n",
              "       [7, 8, 9]])"
            ]
          },
          "metadata": {},
          "execution_count": 153
        }
      ]
    }
  ]
}