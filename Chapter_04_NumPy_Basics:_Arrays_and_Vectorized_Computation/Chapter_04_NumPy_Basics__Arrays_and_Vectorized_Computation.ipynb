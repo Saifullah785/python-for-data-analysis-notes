{
  "nbformat": 4,
  "nbformat_minor": 0,
  "metadata": {
    "colab": {
      "provenance": [],
      "authorship_tag": "ABX9TyO0syA6cKJilSlMjgnNaY7R",
      "include_colab_link": true
    },
    "kernelspec": {
      "name": "python3",
      "display_name": "Python 3"
    },
    "language_info": {
      "name": "python"
    }
  },
  "cells": [
    {
      "cell_type": "markdown",
      "metadata": {
        "id": "view-in-github",
        "colab_type": "text"
      },
      "source": [
        "<a href=\"https://colab.research.google.com/github/Saifullah785/python-for-data-analysis-notes/blob/main/Chapter_04_NumPy_Basics%3A_Arrays_and_Vectorized_Computation/Chapter_04_NumPy_Basics__Arrays_and_Vectorized_Computation.ipynb\" target=\"_parent\"><img src=\"https://colab.research.google.com/assets/colab-badge.svg\" alt=\"Open In Colab\"/></a>"
      ]
    },
    {
      "cell_type": "markdown",
      "source": [
        "# **NumPy_Basics:_Arrays_and_Vectorized_Computation**"
      ],
      "metadata": {
        "id": "F_aGJg3qHgPU"
      }
    },
    {
      "cell_type": "code",
      "execution_count": 7,
      "metadata": {
        "id": "Sb5zBDtQHK1A"
      },
      "outputs": [],
      "source": [
        "# Import necessary libraries\n",
        "import numpy as np\n",
        "np.random.seed(12345) # Set a random seed for reproducibility\n",
        "import matplotlib.pyplot as plt # Import matplotlib for plotting (though not used in this notebook yet)\n",
        "plt.rc('figure', figsize=(10, 6)) # Set default figure size for matplotlib plots\n",
        "np.set_printoptions(precision=4, suppress=True) # Set NumPy print options for better readability"
      ]
    },
    {
      "cell_type": "code",
      "source": [
        "# Create a large NumPy array and a large Python list\n",
        "import numpy as np\n",
        "my_arr = np.arange(1000000) # Create a NumPy array with numbers from 0 to 999999\n",
        "my_list = list(range(1000000)) # Create a Python list with numbers from 0 to 999999"
      ],
      "metadata": {
        "id": "-3V9VPtbyi4r"
      },
      "execution_count": 8,
      "outputs": []
    },
    {
      "cell_type": "code",
      "source": [
        "# Display the NumPy array\n",
        "my_arr"
      ],
      "metadata": {
        "colab": {
          "base_uri": "https://localhost:8080/"
        },
        "id": "RU-yADmJyoJh",
        "outputId": "03012fd9-a2f6-4fed-a624-3ff0cfc5a135"
      },
      "execution_count": 9,
      "outputs": [
        {
          "output_type": "execute_result",
          "data": {
            "text/plain": [
              "array([     0,      1,      2, ..., 999997, 999998, 999999])"
            ]
          },
          "metadata": {},
          "execution_count": 9
        }
      ]
    },
    {
      "cell_type": "code",
      "source": [
        "# Compare the performance of NumPy array multiplication and Python list multiplication\n",
        "%timeit my_arr2 = my_arr * 2 # Measure time for multiplying NumPy array by 2\n",
        "%timeit my_list2 = [x * 2 for x in my_list] # Measure time for multiplying Python list by 2 using a list comprehension"
      ],
      "metadata": {
        "colab": {
          "base_uri": "https://localhost:8080/"
        },
        "id": "Z0pk7a2_yp5c",
        "outputId": "34ddddfc-3c29-4d69-8f12-e963acfa9538"
      },
      "execution_count": 10,
      "outputs": [
        {
          "output_type": "stream",
          "name": "stdout",
          "text": [
            "798 µs ± 20.7 µs per loop (mean ± std. dev. of 7 runs, 1000 loops each)\n",
            "58.8 ms ± 14.3 ms per loop (mean ± std. dev. of 7 runs, 10 loops each)\n"
          ]
        }
      ]
    },
    {
      "cell_type": "code",
      "source": [
        "# Create a 2D NumPy array\n",
        "import numpy as np\n",
        "data = np.array([[1.5, -0.1, 3],[0, -3, 6.5]]) # Create a 2x3 NumPy array\n",
        "data # Display the array"
      ],
      "metadata": {
        "colab": {
          "base_uri": "https://localhost:8080/"
        },
        "id": "JliYeVgAy9_k",
        "outputId": "a4064050-b664-44ce-8eaa-c64bb652abc2"
      },
      "execution_count": 11,
      "outputs": [
        {
          "output_type": "execute_result",
          "data": {
            "text/plain": [
              "array([[ 1.5, -0.1,  3. ],\n",
              "       [ 0. , -3. ,  6.5]])"
            ]
          },
          "metadata": {},
          "execution_count": 11
        }
      ]
    },
    {
      "cell_type": "code",
      "source": [
        "# Perform element-wise operations on the NumPy array\n",
        "data * 10 # Multiply each element by 10\n",
        "\n",
        "data + data # Add the array to itself (element-wise addition)"
      ],
      "metadata": {
        "colab": {
          "base_uri": "https://localhost:8080/"
        },
        "id": "EO97kSyRzNcy",
        "outputId": "ddfa535f-d824-4e6c-e905-c96e973fdf33"
      },
      "execution_count": 12,
      "outputs": [
        {
          "output_type": "execute_result",
          "data": {
            "text/plain": [
              "array([[ 3. , -0.2,  6. ],\n",
              "       [ 0. , -6. , 13. ]])"
            ]
          },
          "metadata": {},
          "execution_count": 12
        }
      ]
    },
    {
      "cell_type": "code",
      "source": [
        "# Check the shape and data type of the NumPy array\n",
        "data.shape # Get the dimensions of the array (rows, columns)\n",
        "data.dtype # Get the data type of the array elements"
      ],
      "metadata": {
        "colab": {
          "base_uri": "https://localhost:8080/"
        },
        "id": "kPkblseszWa6",
        "outputId": "e5458682-f480-4411-b94e-1ff8358e60c1"
      },
      "execution_count": 13,
      "outputs": [
        {
          "output_type": "execute_result",
          "data": {
            "text/plain": [
              "dtype('float64')"
            ]
          },
          "metadata": {},
          "execution_count": 13
        }
      ]
    },
    {
      "cell_type": "code",
      "source": [
        "# Create a 1D NumPy array from a Python list\n",
        "data1 = [6, 7.5, 8, 0, 1] # Python list\n",
        "arr1 = np.array(data1) # Convert list to NumPy array\n",
        "arr1 # Display the array"
      ],
      "metadata": {
        "colab": {
          "base_uri": "https://localhost:8080/"
        },
        "id": "phN5ARDvzaTB",
        "outputId": "203d7b66-195b-41df-fbfb-cc5b5a7ce511"
      },
      "execution_count": 14,
      "outputs": [
        {
          "output_type": "execute_result",
          "data": {
            "text/plain": [
              "array([6. , 7.5, 8. , 0. , 1. ])"
            ]
          },
          "metadata": {},
          "execution_count": 14
        }
      ]
    },
    {
      "cell_type": "code",
      "source": [
        "# Create a 2D NumPy array from a list of lists\n",
        "data2 = [[1, 2, 3, 4], [5, 6, 7, 8]] # Python list of lists\n",
        "arr2 = np.array(data2) # Convert list of lists to NumPy array\n",
        "arr2 # Display the array"
      ],
      "metadata": {
        "colab": {
          "base_uri": "https://localhost:8080/"
        },
        "id": "DUeQVa4KzlMy",
        "outputId": "fedcca68-e684-4b2d-cd89-194ac933a382"
      },
      "execution_count": 15,
      "outputs": [
        {
          "output_type": "execute_result",
          "data": {
            "text/plain": [
              "array([[1, 2, 3, 4],\n",
              "       [5, 6, 7, 8]])"
            ]
          },
          "metadata": {},
          "execution_count": 15
        }
      ]
    },
    {
      "cell_type": "code",
      "source": [
        "# Check the number of dimensions of the 2D array\n",
        "arr2.ndim # Get the number of dimensions"
      ],
      "metadata": {
        "colab": {
          "base_uri": "https://localhost:8080/"
        },
        "id": "yi_jfunVzyRC",
        "outputId": "3129388a-2de0-491a-f0ad-776fbea86519"
      },
      "execution_count": 16,
      "outputs": [
        {
          "output_type": "execute_result",
          "data": {
            "text/plain": [
              "2"
            ]
          },
          "metadata": {},
          "execution_count": 16
        }
      ]
    },
    {
      "cell_type": "code",
      "source": [
        "# Check the shape of the 2D array\n",
        "arr2.shape # Get the dimensions (rows, columns)"
      ],
      "metadata": {
        "colab": {
          "base_uri": "https://localhost:8080/"
        },
        "id": "j1heFJfSz2da",
        "outputId": "68ca365e-0800-4ae6-db75-ae7be30fe63e"
      },
      "execution_count": 17,
      "outputs": [
        {
          "output_type": "execute_result",
          "data": {
            "text/plain": [
              "(2, 4)"
            ]
          },
          "metadata": {},
          "execution_count": 17
        }
      ]
    },
    {
      "cell_type": "code",
      "source": [
        "# Check the data types of the 1D and 2D arrays\n",
        "arr1.dtype # Data type of arr1\n",
        "arr2.dtype # Data type of arr2"
      ],
      "metadata": {
        "colab": {
          "base_uri": "https://localhost:8080/"
        },
        "id": "WEKtKmx1z3sy",
        "outputId": "3556c877-66b4-450e-db56-219b17ddb55e"
      },
      "execution_count": 18,
      "outputs": [
        {
          "output_type": "execute_result",
          "data": {
            "text/plain": [
              "dtype('int64')"
            ]
          },
          "metadata": {},
          "execution_count": 18
        }
      ]
    },
    {
      "cell_type": "code",
      "source": [
        "# Create a 1D array of zeros\n",
        "np.zeros(10) # Create an array of 10 zeros with default float dtype"
      ],
      "metadata": {
        "colab": {
          "base_uri": "https://localhost:8080/"
        },
        "id": "2-TFxXWQ0A4a",
        "outputId": "dfd8642b-13d2-41c0-87a6-6378923f61ff"
      },
      "execution_count": 19,
      "outputs": [
        {
          "output_type": "execute_result",
          "data": {
            "text/plain": [
              "array([0., 0., 0., 0., 0., 0., 0., 0., 0., 0.])"
            ]
          },
          "metadata": {},
          "execution_count": 19
        }
      ]
    },
    {
      "cell_type": "code",
      "source": [
        "# Create a 2D array of zeros\n",
        "np.zeros((3, 6)) # Create a 3x6 array of zeros"
      ],
      "metadata": {
        "colab": {
          "base_uri": "https://localhost:8080/"
        },
        "id": "DiAEDGE30NJC",
        "outputId": "dc860a7f-5d83-43c5-80ef-e03420d3ed28"
      },
      "execution_count": 20,
      "outputs": [
        {
          "output_type": "execute_result",
          "data": {
            "text/plain": [
              "array([[0., 0., 0., 0., 0., 0.],\n",
              "       [0., 0., 0., 0., 0., 0.],\n",
              "       [0., 0., 0., 0., 0., 0.]])"
            ]
          },
          "metadata": {},
          "execution_count": 20
        }
      ]
    },
    {
      "cell_type": "code",
      "source": [
        "# Create an empty 3D array\n",
        "np.empty((2, 3, 2)) # Create a 2x3x2 array with uninitialized (arbitrary) data"
      ],
      "metadata": {
        "colab": {
          "base_uri": "https://localhost:8080/"
        },
        "id": "DG4LcMi10Opb",
        "outputId": "24dc7d61-4958-46b4-8924-d6a19c0eada5"
      },
      "execution_count": 21,
      "outputs": [
        {
          "output_type": "execute_result",
          "data": {
            "text/plain": [
              "array([[[0., 0.],\n",
              "        [0., 0.],\n",
              "        [0., 0.]],\n",
              "\n",
              "       [[0., 0.],\n",
              "        [0., 0.],\n",
              "        [0., 0.]]])"
            ]
          },
          "metadata": {},
          "execution_count": 21
        }
      ]
    },
    {
      "cell_type": "code",
      "source": [
        "# Create a 1D array with a range of numbers\n",
        "np.arange(15) # Create an array with numbers from 0 to 14"
      ],
      "metadata": {
        "colab": {
          "base_uri": "https://localhost:8080/"
        },
        "id": "DyUd0HUI0Slo",
        "outputId": "e7dfa476-8bcd-490a-bcf0-da808cd25114"
      },
      "execution_count": 22,
      "outputs": [
        {
          "output_type": "execute_result",
          "data": {
            "text/plain": [
              "array([ 0,  1,  2,  3,  4,  5,  6,  7,  8,  9, 10, 11, 12, 13, 14])"
            ]
          },
          "metadata": {},
          "execution_count": 22
        }
      ]
    },
    {
      "cell_type": "code",
      "source": [
        "# Create NumPy arrays with specified data types\n",
        "arr1 = np.array([1, 2, 3], dtype = np.float64) # Create array with float64 dtype\n",
        "arr2 = np.array([1, 2, 3], dtype = np.int32) # Create array with int32 dtype\n",
        "\n",
        "arr1.dtype # Check the data type of arr1"
      ],
      "metadata": {
        "colab": {
          "base_uri": "https://localhost:8080/"
        },
        "id": "yA77grK90Yup",
        "outputId": "5916e365-3c00-427b-fdd7-060363015648"
      },
      "execution_count": 23,
      "outputs": [
        {
          "output_type": "execute_result",
          "data": {
            "text/plain": [
              "dtype('float64')"
            ]
          },
          "metadata": {},
          "execution_count": 23
        }
      ]
    },
    {
      "cell_type": "code",
      "source": [
        "# Check the data type of arr2\n",
        "arr2.dtype # Data type of arr2"
      ],
      "metadata": {
        "colab": {
          "base_uri": "https://localhost:8080/"
        },
        "id": "zMBLMscd0vWT",
        "outputId": "6232a7ff-9b89-499a-ddd4-326a7a84510d"
      },
      "execution_count": 24,
      "outputs": [
        {
          "output_type": "execute_result",
          "data": {
            "text/plain": [
              "dtype('int32')"
            ]
          },
          "metadata": {},
          "execution_count": 24
        }
      ]
    },
    {
      "cell_type": "code",
      "source": [
        "# Create an integer array and check its data type\n",
        "arr = np.array([1, 2, 3, 4, 5]) # Create an integer array\n",
        "\n",
        "arr.dtype # Check the data type"
      ],
      "metadata": {
        "colab": {
          "base_uri": "https://localhost:8080/"
        },
        "id": "GRxCR8mY0yB6",
        "outputId": "3c4804d2-9c67-4b03-b807-6303fc1d82d3"
      },
      "execution_count": 25,
      "outputs": [
        {
          "output_type": "execute_result",
          "data": {
            "text/plain": [
              "dtype('int64')"
            ]
          },
          "metadata": {},
          "execution_count": 25
        }
      ]
    },
    {
      "cell_type": "code",
      "source": [
        "# Cast the integer array to a float array\n",
        "float_arr = arr.astype(np.float64) # Convert array elements to float64\n",
        "float_arr # Display the new array"
      ],
      "metadata": {
        "colab": {
          "base_uri": "https://localhost:8080/"
        },
        "id": "HiKwP5Je055r",
        "outputId": "e3b73b1e-c544-4acc-c417-d30d637614e4"
      },
      "execution_count": 26,
      "outputs": [
        {
          "output_type": "execute_result",
          "data": {
            "text/plain": [
              "array([1., 2., 3., 4., 5.])"
            ]
          },
          "metadata": {},
          "execution_count": 26
        }
      ]
    },
    {
      "cell_type": "code",
      "source": [
        "# Check the data type of the new float array\n",
        "float_arr.dtype # Check the data type"
      ],
      "metadata": {
        "colab": {
          "base_uri": "https://localhost:8080/"
        },
        "id": "er3H0sfp1ACi",
        "outputId": "35f41bd4-bd22-4a33-829c-c9178bfd0448"
      },
      "execution_count": 27,
      "outputs": [
        {
          "output_type": "execute_result",
          "data": {
            "text/plain": [
              "dtype('float64')"
            ]
          },
          "metadata": {},
          "execution_count": 27
        }
      ]
    },
    {
      "cell_type": "code",
      "source": [
        "# Create a float array\n",
        "arr = np.array([3.7, -1.2, -2.6, 0.5, 12.9, 10.1]) # Create a float array\n",
        "arr # Display the array"
      ],
      "metadata": {
        "colab": {
          "base_uri": "https://localhost:8080/"
        },
        "id": "KXLoQEDO1Crk",
        "outputId": "a9df53d9-252e-4cc6-a348-d3bec1a9749d"
      },
      "execution_count": 28,
      "outputs": [
        {
          "output_type": "execute_result",
          "data": {
            "text/plain": [
              "array([ 3.7, -1.2, -2.6,  0.5, 12.9, 10.1])"
            ]
          },
          "metadata": {},
          "execution_count": 28
        }
      ]
    },
    {
      "cell_type": "code",
      "source": [
        "# Cast the float array to an integer array (truncates decimal part)\n",
        "arr.astype(np.int32) # Convert array elements to int32"
      ],
      "metadata": {
        "colab": {
          "base_uri": "https://localhost:8080/"
        },
        "id": "1FQ-VDxf1IT7",
        "outputId": "002b3d81-4a43-48ed-b0e3-73f1d4538fe2"
      },
      "execution_count": 29,
      "outputs": [
        {
          "output_type": "execute_result",
          "data": {
            "text/plain": [
              "array([ 3, -1, -2,  0, 12, 10], dtype=int32)"
            ]
          },
          "metadata": {},
          "execution_count": 29
        }
      ]
    },
    {
      "cell_type": "code",
      "source": [
        "# Convert an array of numeric strings to a float array\n",
        "numeric_strings = np.array(['1.25', '-9.6', '42'], dtype = np.bytes_) # Create an array of bytes representing numbers\n",
        "numeric_strings.astype(float) # Convert the elements to float"
      ],
      "metadata": {
        "colab": {
          "base_uri": "https://localhost:8080/"
        },
        "id": "qfBhUbMm1LH7",
        "outputId": "1da8be72-5a97-46fa-acf6-e3a96be251b9"
      },
      "execution_count": 30,
      "outputs": [
        {
          "output_type": "execute_result",
          "data": {
            "text/plain": [
              "array([ 1.25, -9.6 , 42.  ])"
            ]
          },
          "metadata": {},
          "execution_count": 30
        }
      ]
    },
    {
      "cell_type": "code",
      "source": [
        "# Cast an integer array to the data type of another array\n",
        "int_array = np.arange(10) # Create an integer array\n",
        "calibers = np.array([.22, .270, .357, .380, .44, .50], dtype = np.float64) # Create a float array\n",
        "int_array.astype(calibers.dtype) # Convert int_array to the dtype of calibers (float64)"
      ],
      "metadata": {
        "colab": {
          "base_uri": "https://localhost:8080/"
        },
        "id": "fU5OpfqZ1tKS",
        "outputId": "cb25ab21-6eed-4615-edc1-22409753c957"
      },
      "execution_count": 31,
      "outputs": [
        {
          "output_type": "execute_result",
          "data": {
            "text/plain": [
              "array([0., 1., 2., 3., 4., 5., 6., 7., 8., 9.])"
            ]
          },
          "metadata": {},
          "execution_count": 31
        }
      ]
    },
    {
      "cell_type": "code",
      "source": [
        "# Create an array of zeros with an unsigned 32-bit integer data type\n",
        "zero_uint32 = np.zeros(8, dtype = 'u4') # Create an array of 8 zeros with unsigned 32-bit integer dtype\n",
        "zero_uint32 # Display the array"
      ],
      "metadata": {
        "colab": {
          "base_uri": "https://localhost:8080/"
        },
        "id": "Gcf0yMUT15U0",
        "outputId": "b9fff3f7-367e-4344-8e57-fd9a10f9a7d9"
      },
      "execution_count": 32,
      "outputs": [
        {
          "output_type": "execute_result",
          "data": {
            "text/plain": [
              "array([0, 0, 0, 0, 0, 0, 0, 0], dtype=uint32)"
            ]
          },
          "metadata": {},
          "execution_count": 32
        }
      ]
    },
    {
      "cell_type": "markdown",
      "source": [
        "# **Arithmetic with NumPy Arrays**"
      ],
      "metadata": {
        "id": "9sSGdLwPb3EM"
      }
    },
    {
      "cell_type": "code",
      "source": [
        "# Create a 2D NumPy array\n",
        "arr = np.array ([[1., 2., 3.], [4., 5., 6.]]) # Create a 2x3 array\n",
        "arr # Display the array"
      ],
      "metadata": {
        "colab": {
          "base_uri": "https://localhost:8080/"
        },
        "id": "fBhpVV4K2Dly",
        "outputId": "388a1bba-e341-4612-b958-385c0f2484f2"
      },
      "execution_count": 33,
      "outputs": [
        {
          "output_type": "execute_result",
          "data": {
            "text/plain": [
              "array([[1., 2., 3.],\n",
              "       [4., 5., 6.]])"
            ]
          },
          "metadata": {},
          "execution_count": 33
        }
      ]
    },
    {
      "cell_type": "code",
      "source": [
        "# Perform element-wise multiplication\n",
        "arr * arr # Multiply each element by itself"
      ],
      "metadata": {
        "colab": {
          "base_uri": "https://localhost:8080/"
        },
        "id": "FKabUiaa2LDU",
        "outputId": "7de81611-4234-42ad-fb69-b172d6578a29"
      },
      "execution_count": 34,
      "outputs": [
        {
          "output_type": "execute_result",
          "data": {
            "text/plain": [
              "array([[ 1.,  4.,  9.],\n",
              "       [16., 25., 36.]])"
            ]
          },
          "metadata": {},
          "execution_count": 34
        }
      ]
    },
    {
      "cell_type": "code",
      "source": [
        "# Perform element-wise subtraction\n",
        "arr - arr # Subtract each element from itself"
      ],
      "metadata": {
        "colab": {
          "base_uri": "https://localhost:8080/"
        },
        "id": "dcVb0W3M2O8C",
        "outputId": "8731f497-50d8-402d-cb93-609b4a3c9008"
      },
      "execution_count": 35,
      "outputs": [
        {
          "output_type": "execute_result",
          "data": {
            "text/plain": [
              "array([[0., 0., 0.],\n",
              "       [0., 0., 0.]])"
            ]
          },
          "metadata": {},
          "execution_count": 35
        }
      ]
    },
    {
      "cell_type": "code",
      "source": [
        "# Perform element-wise division\n",
        "1 / arr # Divide 1 by each element"
      ],
      "metadata": {
        "colab": {
          "base_uri": "https://localhost:8080/"
        },
        "id": "VJN24ayf2Q5q",
        "outputId": "bd772baf-da8a-48c1-c4a0-9b3d76d97b78"
      },
      "execution_count": 36,
      "outputs": [
        {
          "output_type": "execute_result",
          "data": {
            "text/plain": [
              "array([[1.    , 0.5   , 0.3333],\n",
              "       [0.25  , 0.2   , 0.1667]])"
            ]
          },
          "metadata": {},
          "execution_count": 36
        }
      ]
    },
    {
      "cell_type": "code",
      "source": [
        "# Perform element-wise exponentiation\n",
        "arr **2 # Square each element"
      ],
      "metadata": {
        "colab": {
          "base_uri": "https://localhost:8080/"
        },
        "id": "ZIAIFpr_2Vwq",
        "outputId": "662a0f9e-df66-4a5d-d9da-32268a2fef8e"
      },
      "execution_count": 37,
      "outputs": [
        {
          "output_type": "execute_result",
          "data": {
            "text/plain": [
              "array([[ 1.,  4.,  9.],\n",
              "       [16., 25., 36.]])"
            ]
          },
          "metadata": {},
          "execution_count": 37
        }
      ]
    },
    {
      "cell_type": "code",
      "source": [
        "# Create another 2D NumPy array\n",
        "arr2 = np.array([[0., 4., 1.], [7., 2., 12.]]) # Create a new 2x3 array\n",
        "arr2 # Display the array"
      ],
      "metadata": {
        "colab": {
          "base_uri": "https://localhost:8080/"
        },
        "id": "NqIXrBFJ2Yxa",
        "outputId": "8bd67474-4631-4bcf-a2d8-01f4cf030093"
      },
      "execution_count": 38,
      "outputs": [
        {
          "output_type": "execute_result",
          "data": {
            "text/plain": [
              "array([[ 0.,  4.,  1.],\n",
              "       [ 7.,  2., 12.]])"
            ]
          },
          "metadata": {},
          "execution_count": 38
        }
      ]
    },
    {
      "cell_type": "code",
      "source": [
        "# Perform element-wise comparison\n",
        "arr2 > arr # Compare elements of arr2 with corresponding elements of arr"
      ],
      "metadata": {
        "colab": {
          "base_uri": "https://localhost:8080/"
        },
        "id": "oY19hb_U2mfT",
        "outputId": "3a14b2c8-d008-415a-983f-7136f5d6ed11"
      },
      "execution_count": 39,
      "outputs": [
        {
          "output_type": "execute_result",
          "data": {
            "text/plain": [
              "array([[False,  True, False],\n",
              "       [ True, False,  True]])"
            ]
          },
          "metadata": {},
          "execution_count": 39
        }
      ]
    },
    {
      "cell_type": "code",
      "source": [
        "# Create a 1D array\n",
        "arr = np.arange(10) # Create an array with numbers from 0 to 9\n",
        "\n",
        "arr # Display the array"
      ],
      "metadata": {
        "colab": {
          "base_uri": "https://localhost:8080/"
        },
        "id": "HS45OHB22qhz",
        "outputId": "0179aee7-2267-4d37-bf26-1515eae10a08"
      },
      "execution_count": 40,
      "outputs": [
        {
          "output_type": "execute_result",
          "data": {
            "text/plain": [
              "array([0, 1, 2, 3, 4, 5, 6, 7, 8, 9])"
            ]
          },
          "metadata": {},
          "execution_count": 40
        }
      ]
    },
    {
      "cell_type": "code",
      "source": [
        "# Access an element at a specific index\n",
        "arr[5] # Get the element at index 5 (0-based indexing)"
      ],
      "metadata": {
        "colab": {
          "base_uri": "https://localhost:8080/"
        },
        "id": "ofYM8zXP20l0",
        "outputId": "373a69bc-b733-40e1-8df0-57da5d40ecfa"
      },
      "execution_count": 41,
      "outputs": [
        {
          "output_type": "execute_result",
          "data": {
            "text/plain": [
              "np.int64(5)"
            ]
          },
          "metadata": {},
          "execution_count": 41
        }
      ]
    },
    {
      "cell_type": "code",
      "source": [
        "# Access a slice of the array\n",
        "arr[5:8] # Get elements from index 5 up to (but not including) index 8"
      ],
      "metadata": {
        "colab": {
          "base_uri": "https://localhost:8080/"
        },
        "id": "TUpeud79231L",
        "outputId": "730cf131-e7dd-4206-d324-49b3f30c4b36"
      },
      "execution_count": 42,
      "outputs": [
        {
          "output_type": "execute_result",
          "data": {
            "text/plain": [
              "array([5, 6, 7])"
            ]
          },
          "metadata": {},
          "execution_count": 42
        }
      ]
    },
    {
      "cell_type": "code",
      "source": [
        "# Assign a value to a slice of the array\n",
        "arr[5:8] = 12 # Set elements from index 5 to 7 to the value 12"
      ],
      "metadata": {
        "id": "57Iaa7UF25zK"
      },
      "execution_count": 43,
      "outputs": []
    },
    {
      "cell_type": "code",
      "source": [
        "# Display the modified array\n",
        "arr # Display the array"
      ],
      "metadata": {
        "colab": {
          "base_uri": "https://localhost:8080/"
        },
        "id": "bNwsL-1E28Bd",
        "outputId": "b080ae71-7df0-423f-c616-2dad66012c12"
      },
      "execution_count": 44,
      "outputs": [
        {
          "output_type": "execute_result",
          "data": {
            "text/plain": [
              "array([ 0,  1,  2,  3,  4, 12, 12, 12,  8,  9])"
            ]
          },
          "metadata": {},
          "execution_count": 44
        }
      ]
    },
    {
      "cell_type": "code",
      "source": [
        "# Create a slice of the array\n",
        "arr_slice = arr[5:8] # Create a view of the array from index 5 to 7\n",
        "arr_slice # Display the slice"
      ],
      "metadata": {
        "colab": {
          "base_uri": "https://localhost:8080/"
        },
        "id": "tZebaL7l2-un",
        "outputId": "a12937a2-95fa-42b9-c096-79dd0084620f"
      },
      "execution_count": 45,
      "outputs": [
        {
          "output_type": "execute_result",
          "data": {
            "text/plain": [
              "array([12, 12, 12])"
            ]
          },
          "metadata": {},
          "execution_count": 45
        }
      ]
    },
    {
      "cell_type": "code",
      "source": [
        "# Modify an element in the slice (this also modifies the original array)\n",
        "arr_slice[1] = 12345 # Change the element at index 1 of the slice (which is index 6 of the original array)\n",
        "arr # Display the original array to see the change"
      ],
      "metadata": {
        "colab": {
          "base_uri": "https://localhost:8080/"
        },
        "id": "MQt7Wdqc3G7J",
        "outputId": "7bb25286-235c-4b8d-c1aa-5224b73fd61f"
      },
      "execution_count": 46,
      "outputs": [
        {
          "output_type": "execute_result",
          "data": {
            "text/plain": [
              "array([    0,     1,     2,     3,     4,    12, 12345,    12,     8,\n",
              "           9])"
            ]
          },
          "metadata": {},
          "execution_count": 46
        }
      ]
    },
    {
      "cell_type": "code",
      "source": [
        "# Modify the entire slice (this also modifies the original array)\n",
        "arr_slice[:] = 64 # Set all elements in the slice to 64\n",
        "arr # Display the original array to see the change"
      ],
      "metadata": {
        "colab": {
          "base_uri": "https://localhost:8080/"
        },
        "id": "0DOvChyQ3Osc",
        "outputId": "4372ff76-cfce-4aea-ed52-8965e7d62127"
      },
      "execution_count": 47,
      "outputs": [
        {
          "output_type": "execute_result",
          "data": {
            "text/plain": [
              "array([ 0,  1,  2,  3,  4, 64, 64, 64,  8,  9])"
            ]
          },
          "metadata": {},
          "execution_count": 47
        }
      ]
    },
    {
      "cell_type": "code",
      "source": [
        "# Create a 2D array\n",
        "arr2d = np.array([[1, 2, 3], [4, 5, 6], [7, 8, 9]]) # Create a 3x3 array\n",
        "arr2d # Display the array"
      ],
      "metadata": {
        "colab": {
          "base_uri": "https://localhost:8080/"
        },
        "id": "zeBCErCu3dkN",
        "outputId": "1a4ed220-4956-48be-ceea-2242fbb2581f"
      },
      "execution_count": 48,
      "outputs": [
        {
          "output_type": "execute_result",
          "data": {
            "text/plain": [
              "array([[1, 2, 3],\n",
              "       [4, 5, 6],\n",
              "       [7, 8, 9]])"
            ]
          },
          "metadata": {},
          "execution_count": 48
        }
      ]
    },
    {
      "cell_type": "code",
      "source": [
        "# Access an element in a 2D array using double brackets\n",
        "arr2d[0][2] # Get the element at row 0, column 2"
      ],
      "metadata": {
        "colab": {
          "base_uri": "https://localhost:8080/"
        },
        "id": "ZzVuZd_K3i71",
        "outputId": "504dbcd4-32f9-4770-c0ef-2f53006041a3"
      },
      "execution_count": 49,
      "outputs": [
        {
          "output_type": "execute_result",
          "data": {
            "text/plain": [
              "np.int64(3)"
            ]
          },
          "metadata": {},
          "execution_count": 49
        }
      ]
    },
    {
      "cell_type": "code",
      "source": [
        "# Access an element in a 2D array using single brackets with comma separation (preferred)\n",
        "arr2d[0, 2] # Get the element at row 0, column 2"
      ],
      "metadata": {
        "colab": {
          "base_uri": "https://localhost:8080/"
        },
        "id": "eMM5DiaJ3qxl",
        "outputId": "ded2478f-3246-447a-dc64-301b83855263"
      },
      "execution_count": 50,
      "outputs": [
        {
          "output_type": "execute_result",
          "data": {
            "text/plain": [
              "np.int64(3)"
            ]
          },
          "metadata": {},
          "execution_count": 50
        }
      ]
    },
    {
      "cell_type": "code",
      "source": [
        "# Create a 3D array\n",
        "arr3d = np.array([[[1, 2, 3], [4, 5, 6]], [[7, 8, 9], [10, 11, 12]]]) # Create a 2x2x3 array\n",
        "arr3d # Display the array"
      ],
      "metadata": {
        "colab": {
          "base_uri": "https://localhost:8080/"
        },
        "id": "UnpXlllZ3uGD",
        "outputId": "e3c0fa93-57ab-44fe-c75e-6efd41965549"
      },
      "execution_count": 51,
      "outputs": [
        {
          "output_type": "execute_result",
          "data": {
            "text/plain": [
              "array([[[ 1,  2,  3],\n",
              "        [ 4,  5,  6]],\n",
              "\n",
              "       [[ 7,  8,  9],\n",
              "        [10, 11, 12]]])"
            ]
          },
          "metadata": {},
          "execution_count": 51
        }
      ]
    },
    {
      "cell_type": "code",
      "source": [
        "# Access a 2D slice (a \"layer\") from the 3D array\n",
        "arr3d[0] # Get the first 2D array (at index 0)"
      ],
      "metadata": {
        "colab": {
          "base_uri": "https://localhost:8080/"
        },
        "id": "m2hNFVnh34wm",
        "outputId": "9d736f17-04c5-4b39-bc63-28cd3951eb93"
      },
      "execution_count": 52,
      "outputs": [
        {
          "output_type": "execute_result",
          "data": {
            "text/plain": [
              "array([[1, 2, 3],\n",
              "       [4, 5, 6]])"
            ]
          },
          "metadata": {},
          "execution_count": 52
        }
      ]
    },
    {
      "cell_type": "code",
      "source": [
        "# Create a copy of a slice from the 3D array\n",
        "old_values = arr3d[0].copy() # Create a copy of the first 2D array\n",
        "old_values # Display the copy"
      ],
      "metadata": {
        "colab": {
          "base_uri": "https://localhost:8080/"
        },
        "id": "YF6IU8mW3_Ih",
        "outputId": "7623ea11-b067-4f47-c13c-8b351f9eadaf"
      },
      "execution_count": 53,
      "outputs": [
        {
          "output_type": "execute_result",
          "data": {
            "text/plain": [
              "array([[1, 2, 3],\n",
              "       [4, 5, 6]])"
            ]
          },
          "metadata": {},
          "execution_count": 53
        }
      ]
    },
    {
      "cell_type": "code",
      "source": [
        "# Assign a scalar value to a 2D slice of the 3D array\n",
        "arr3d[0] = 42 # Set all elements in the first 2D array to 42\n",
        "arr3d # Display the modified 3D array"
      ],
      "metadata": {
        "colab": {
          "base_uri": "https://localhost:8080/"
        },
        "id": "j7vTRaTO4FO4",
        "outputId": "102dab15-cdbd-410c-9de7-77c7d63f4bd3"
      },
      "execution_count": 54,
      "outputs": [
        {
          "output_type": "execute_result",
          "data": {
            "text/plain": [
              "array([[[42, 42, 42],\n",
              "        [42, 42, 42]],\n",
              "\n",
              "       [[ 7,  8,  9],\n",
              "        [10, 11, 12]]])"
            ]
          },
          "metadata": {},
          "execution_count": 54
        }
      ]
    },
    {
      "cell_type": "code",
      "source": [
        "# Restore the original values to the 2D slice using the copy\n",
        "arr3d[0] = old_values # Assign the copied values back to the first 2D array\n",
        "arr3d # Display the restored 3D array"
      ],
      "metadata": {
        "colab": {
          "base_uri": "https://localhost:8080/"
        },
        "id": "qFzvJz9W4Lzl",
        "outputId": "bc3cd041-7148-47d6-b7f9-4af6235af721"
      },
      "execution_count": 55,
      "outputs": [
        {
          "output_type": "execute_result",
          "data": {
            "text/plain": [
              "array([[[ 1,  2,  3],\n",
              "        [ 4,  5,  6]],\n",
              "\n",
              "       [[ 7,  8,  9],\n",
              "        [10, 11, 12]]])"
            ]
          },
          "metadata": {},
          "execution_count": 55
        }
      ]
    },
    {
      "cell_type": "code",
      "source": [
        "# Access a 1D slice (a \"row\") from a 2D slice of the 3D array\n",
        "arr3d[1, 0] # Get the first row (at index 0) of the second 2D array (at index 1)"
      ],
      "metadata": {
        "colab": {
          "base_uri": "https://localhost:8080/"
        },
        "id": "s-IWuRn04Wc4",
        "outputId": "03702525-5783-498a-9478-b1202bef9b09"
      },
      "execution_count": 56,
      "outputs": [
        {
          "output_type": "execute_result",
          "data": {
            "text/plain": [
              "array([7, 8, 9])"
            ]
          },
          "metadata": {},
          "execution_count": 56
        }
      ]
    },
    {
      "cell_type": "code",
      "source": [
        "# Create a variable referencing a 2D slice from the 3D array\n",
        "x = arr3d[1] # x is a view of the second 2D array\n",
        "x # Display x"
      ],
      "metadata": {
        "colab": {
          "base_uri": "https://localhost:8080/"
        },
        "id": "JtQ7ASoX4U_T",
        "outputId": "e83614cd-e88e-4120-84b6-3924a313c146"
      },
      "execution_count": 57,
      "outputs": [
        {
          "output_type": "execute_result",
          "data": {
            "text/plain": [
              "array([[ 7,  8,  9],\n",
              "       [10, 11, 12]])"
            ]
          },
          "metadata": {},
          "execution_count": 57
        }
      ]
    },
    {
      "cell_type": "code",
      "source": [
        "# Access a row from the referenced 2D slice\n",
        "x[0] # Get the first row of the 2D array x"
      ],
      "metadata": {
        "colab": {
          "base_uri": "https://localhost:8080/"
        },
        "id": "wB5BCYmi4flG",
        "outputId": "487c16eb-5e1d-4c07-dc35-3abadec1bc9e"
      },
      "execution_count": 58,
      "outputs": [
        {
          "output_type": "execute_result",
          "data": {
            "text/plain": [
              "array([7, 8, 9])"
            ]
          },
          "metadata": {},
          "execution_count": 58
        }
      ]
    },
    {
      "cell_type": "markdown",
      "source": [
        " **Indexing with slices**"
      ],
      "metadata": {
        "id": "szsx0ZBwbhTp"
      }
    },
    {
      "cell_type": "code",
      "source": [
        "# Display the 1D array 'arr'\n",
        "arr # Display the array"
      ],
      "metadata": {
        "colab": {
          "base_uri": "https://localhost:8080/"
        },
        "id": "7V5Wu6au4ihD",
        "outputId": "e92ce807-8e0a-4a67-8da4-28f6f03c4afc"
      },
      "execution_count": 59,
      "outputs": [
        {
          "output_type": "execute_result",
          "data": {
            "text/plain": [
              "array([ 0,  1,  2,  3,  4, 64, 64, 64,  8,  9])"
            ]
          },
          "metadata": {},
          "execution_count": 59
        }
      ]
    },
    {
      "cell_type": "code",
      "source": [
        "# Access a slice from the 1D array\n",
        "arr[1:6] # Get elements from index 1 up to (but not including) index 6"
      ],
      "metadata": {
        "colab": {
          "base_uri": "https://localhost:8080/"
        },
        "id": "dYe6kxg14lzp",
        "outputId": "19377425-8138-48da-9786-bb7702c53501"
      },
      "execution_count": 60,
      "outputs": [
        {
          "output_type": "execute_result",
          "data": {
            "text/plain": [
              "array([ 1,  2,  3,  4, 64])"
            ]
          },
          "metadata": {},
          "execution_count": 60
        }
      ]
    },
    {
      "cell_type": "code",
      "source": [
        "# Display the 2D array 'arr2d'\n",
        "arr2d # Display the array"
      ],
      "metadata": {
        "colab": {
          "base_uri": "https://localhost:8080/"
        },
        "id": "umzCnzVI4pLw",
        "outputId": "9f52e0c5-a317-44f2-ec1d-624b1be8a05f"
      },
      "execution_count": 61,
      "outputs": [
        {
          "output_type": "execute_result",
          "data": {
            "text/plain": [
              "array([[1, 2, 3],\n",
              "       [4, 5, 6],\n",
              "       [7, 8, 9]])"
            ]
          },
          "metadata": {},
          "execution_count": 61
        }
      ]
    },
    {
      "cell_type": "code",
      "source": [
        "# Access the first two rows of the 2D array\n",
        "arr2d[:2] # Get rows from the beginning up to (but not including) index 2"
      ],
      "metadata": {
        "colab": {
          "base_uri": "https://localhost:8080/"
        },
        "id": "wEdpXARs4sMx",
        "outputId": "f3f1d2b1-0b5c-4c37-a702-87f096e4fa4a"
      },
      "execution_count": 62,
      "outputs": [
        {
          "output_type": "execute_result",
          "data": {
            "text/plain": [
              "array([[1, 2, 3],\n",
              "       [4, 5, 6]])"
            ]
          },
          "metadata": {},
          "execution_count": 62
        }
      ]
    },
    {
      "cell_type": "code",
      "source": [
        "# Access a slice of rows and columns from the 2D array\n",
        "arr2d[:2, 1:] # Get rows from the beginning up to index 2, and columns from index 1 to the end"
      ],
      "metadata": {
        "colab": {
          "base_uri": "https://localhost:8080/"
        },
        "id": "oHnBcHF04uMD",
        "outputId": "78bfb9c9-835d-491b-8dcb-a3a3ea494ccf"
      },
      "execution_count": 63,
      "outputs": [
        {
          "output_type": "execute_result",
          "data": {
            "text/plain": [
              "array([[2, 3],\n",
              "       [5, 6]])"
            ]
          },
          "metadata": {},
          "execution_count": 63
        }
      ]
    },
    {
      "cell_type": "code",
      "source": [
        "# Access a specific row and a slice of columns, resulting in a lower-dimensional array\n",
        "lower_dim_slice = arr2d[1, :2] # Get the second row (index 1) and columns from the beginning up to index 2\n",
        "lower_dim_slice # Display the resulting 1D array"
      ],
      "metadata": {
        "colab": {
          "base_uri": "https://localhost:8080/"
        },
        "id": "odEhaflc40sB",
        "outputId": "0b562ca1-79f9-49a8-8903-91993c12f638"
      },
      "execution_count": 64,
      "outputs": [
        {
          "output_type": "execute_result",
          "data": {
            "text/plain": [
              "array([4, 5])"
            ]
          },
          "metadata": {},
          "execution_count": 64
        }
      ]
    },
    {
      "cell_type": "code",
      "source": [
        "# Check the shape of the lower-dimensional slice\n",
        "lower_dim_slice.shape # Get the dimensions of the slice"
      ],
      "metadata": {
        "colab": {
          "base_uri": "https://localhost:8080/"
        },
        "id": "t5z1hp2344YR",
        "outputId": "2e86151d-97dc-499f-85cb-36c910f8da8f"
      },
      "execution_count": 65,
      "outputs": [
        {
          "output_type": "execute_result",
          "data": {
            "text/plain": [
              "(2,)"
            ]
          },
          "metadata": {},
          "execution_count": 65
        }
      ]
    },
    {
      "cell_type": "code",
      "source": [
        "# Display the 2D array 'arr2d' again\n",
        "arr2d # Display the array"
      ],
      "metadata": {
        "colab": {
          "base_uri": "https://localhost:8080/"
        },
        "id": "koD3h4WR5FJ0",
        "outputId": "1dc1e77a-a874-40d1-f224-ea3564d084f0"
      },
      "execution_count": 66,
      "outputs": [
        {
          "output_type": "execute_result",
          "data": {
            "text/plain": [
              "array([[1, 2, 3],\n",
              "       [4, 5, 6],\n",
              "       [7, 8, 9]])"
            ]
          },
          "metadata": {},
          "execution_count": 66
        }
      ]
    },
    {
      "cell_type": "code",
      "source": [
        "# Access a slice of rows and a specific column\n",
        "arr2d[:2, 2] # Get rows from the beginning up to index 2, and the column at index 2"
      ],
      "metadata": {
        "colab": {
          "base_uri": "https://localhost:8080/"
        },
        "id": "7LtO5EmS46F-",
        "outputId": "894dfa6b-4f7f-4918-f62a-2e07b904676c"
      },
      "execution_count": 67,
      "outputs": [
        {
          "output_type": "execute_result",
          "data": {
            "text/plain": [
              "array([3, 6])"
            ]
          },
          "metadata": {},
          "execution_count": 67
        }
      ]
    },
    {
      "cell_type": "code",
      "source": [
        "# Access all rows and the first column\n",
        "arr2d[:, :1] # Get all rows and the column from the beginning up to (but not including) index 1 (results in a 2D array with 1 column)"
      ],
      "metadata": {
        "colab": {
          "base_uri": "https://localhost:8080/"
        },
        "id": "SgTvh76p49-o",
        "outputId": "8627a107-8c0f-4c6b-fa09-3847657b6170"
      },
      "execution_count": 68,
      "outputs": [
        {
          "output_type": "execute_result",
          "data": {
            "text/plain": [
              "array([[1],\n",
              "       [4],\n",
              "       [7]])"
            ]
          },
          "metadata": {},
          "execution_count": 68
        }
      ]
    },
    {
      "cell_type": "code",
      "source": [
        "# Assign a scalar value to a slice of rows and columns\n",
        "arr2d[:2, 1:] = 0 # Set elements in the first two rows and from the second column onwards to 0"
      ],
      "metadata": {
        "id": "L7gItx7o5EKF"
      },
      "execution_count": 69,
      "outputs": []
    },
    {
      "cell_type": "code",
      "source": [
        "# Display the modified 2D array\n",
        "arr2d # Display the array after modification"
      ],
      "metadata": {
        "colab": {
          "base_uri": "https://localhost:8080/"
        },
        "id": "ebPMfmtL5LPt",
        "outputId": "18ab8b12-10bd-4686-db0b-60265684889f"
      },
      "execution_count": 70,
      "outputs": [
        {
          "output_type": "execute_result",
          "data": {
            "text/plain": [
              "array([[1, 0, 0],\n",
              "       [4, 0, 0],\n",
              "       [7, 8, 9]])"
            ]
          },
          "metadata": {},
          "execution_count": 70
        }
      ]
    },
    {
      "cell_type": "markdown",
      "source": [
        "# **Boolean Indexing**"
      ],
      "metadata": {
        "id": "ROCZyy9YbDLG"
      }
    },
    {
      "cell_type": "code",
      "source": [
        "names = np.array(['Bob', 'Joe', 'Will', 'Bob', 'Will', 'Joe', 'Joe']) # Create an array of names\n",
        "names # Display the array\n",
        "\n",
        "data = np.array([[4,7],[0,2],[-5, 6], [0, 0], [1, 2],\n",
        "                 [-12, -4], [3, 4]]) # Create a 2D array of data\n",
        "names # Display the names array again\n",
        "data # Display the data array again"
      ],
      "metadata": {
        "colab": {
          "base_uri": "https://localhost:8080/"
        },
        "id": "qClZscVXGXCW",
        "outputId": "5b916b8a-94f4-432c-cd53-faf396a939c7"
      },
      "execution_count": 71,
      "outputs": [
        {
          "output_type": "execute_result",
          "data": {
            "text/plain": [
              "array([[  4,   7],\n",
              "       [  0,   2],\n",
              "       [ -5,   6],\n",
              "       [  0,   0],\n",
              "       [  1,   2],\n",
              "       [-12,  -4],\n",
              "       [  3,   4]])"
            ]
          },
          "metadata": {},
          "execution_count": 71
        }
      ]
    },
    {
      "cell_type": "code",
      "source": [
        "names"
      ],
      "metadata": {
        "colab": {
          "base_uri": "https://localhost:8080/"
        },
        "id": "xxjts0EXbN0F",
        "outputId": "beee4b38-989e-4c34-c6e4-3b2ec5b1d8c6"
      },
      "execution_count": 191,
      "outputs": [
        {
          "output_type": "execute_result",
          "data": {
            "text/plain": [
              "array(['Bob', 'Joe', 'Will', 'Bob', 'Will', 'Joe', 'Joe'], dtype='<U4')"
            ]
          },
          "metadata": {},
          "execution_count": 191
        }
      ]
    },
    {
      "cell_type": "code",
      "source": [
        "data = np.random.randn(7, 4)\n",
        "data\n"
      ],
      "metadata": {
        "colab": {
          "base_uri": "https://localhost:8080/"
        },
        "id": "7RYpEqB_bJbT",
        "outputId": "c21bcdfb-6836-4681-b09b-5e85af2983c3"
      },
      "execution_count": 190,
      "outputs": [
        {
          "output_type": "execute_result",
          "data": {
            "text/plain": [
              "array([[-0.5613,  1.405 ,  1.3036,  0.416 ],\n",
              "       [-0.7509, -0.8193,  1.1027,  1.7742],\n",
              "       [-1.4508,  0.8444, -0.2556,  0.741 ],\n",
              "       [-0.5923, -0.7135, -0.0174,  0.6297],\n",
              "       [-0.2802,  0.7259, -0.9095, -0.3907],\n",
              "       [ 0.6144, -1.0141,  0.5725,  0.9463],\n",
              "       [-0.4814,  0.068 , -0.5219, -1.1392]])"
            ]
          },
          "metadata": {},
          "execution_count": 190
        }
      ]
    },
    {
      "cell_type": "code",
      "source": [
        "# Perform a boolean comparison on the names array\n",
        "names == \"bob\" # Check which elements in names are equal to \"bob\" (case-sensitive)"
      ],
      "metadata": {
        "colab": {
          "base_uri": "https://localhost:8080/"
        },
        "id": "JKqULMT_HFNI",
        "outputId": "51a6750b-27e6-4d61-c53c-d1ee4a0f4ab8"
      },
      "execution_count": 72,
      "outputs": [
        {
          "output_type": "execute_result",
          "data": {
            "text/plain": [
              "array([False, False, False, False, False, False, False])"
            ]
          },
          "metadata": {},
          "execution_count": 72
        }
      ]
    },
    {
      "cell_type": "code",
      "source": [
        "# Use boolean indexing to select rows from data where names is \"bob\"\n",
        "data[names == \"bob\"] # Select rows from data where the corresponding element in names is True"
      ],
      "metadata": {
        "colab": {
          "base_uri": "https://localhost:8080/"
        },
        "id": "RV6S3GlSHI-V",
        "outputId": "1c0e5868-9040-429d-fdd1-538d004d81bc"
      },
      "execution_count": 73,
      "outputs": [
        {
          "output_type": "execute_result",
          "data": {
            "text/plain": [
              "array([], shape=(0, 2), dtype=int64)"
            ]
          },
          "metadata": {},
          "execution_count": 73
        }
      ]
    },
    {
      "cell_type": "code",
      "source": [
        "# Use boolean indexing and column slicing to select data\n",
        "data[names == \"bob\", 1:] # Select rows where names is \"bob\" and columns from index 1 to the end"
      ],
      "metadata": {
        "colab": {
          "base_uri": "https://localhost:8080/"
        },
        "id": "tIEwGaICHPMO",
        "outputId": "f29e3507-1147-4f8c-fe25-e201f5db8284"
      },
      "execution_count": 74,
      "outputs": [
        {
          "output_type": "execute_result",
          "data": {
            "text/plain": [
              "array([], shape=(0, 1), dtype=int64)"
            ]
          },
          "metadata": {},
          "execution_count": 74
        }
      ]
    },
    {
      "cell_type": "code",
      "source": [
        "# Use boolean indexing and specific column selection to select data\n",
        "data[names == 'bob', 1] # Select rows where names is \"bob\" and the element at column index 1"
      ],
      "metadata": {
        "colab": {
          "base_uri": "https://localhost:8080/"
        },
        "id": "CTF0oJLZHUAd",
        "outputId": "c0bb6904-3514-4fee-9898-2eb3a6b8525d"
      },
      "execution_count": 75,
      "outputs": [
        {
          "output_type": "execute_result",
          "data": {
            "text/plain": [
              "array([], dtype=int64)"
            ]
          },
          "metadata": {},
          "execution_count": 75
        }
      ]
    },
    {
      "cell_type": "code",
      "source": [
        "# Perform boolean comparisons and negation\n",
        "names != 'bob' # Check which elements in names are not equal to \"bob\"\n",
        "\n",
        "~(names == 'bob') # Negate the boolean array from the previous comparison (equivalent to names != 'bob')\n",
        "\n",
        "data[~(names == 'bob')] # Use the negated boolean array to select rows from data where names is not \"bob\""
      ],
      "metadata": {
        "colab": {
          "base_uri": "https://localhost:8080/"
        },
        "id": "vVE5T62YHYSM",
        "outputId": "94c5e0cd-1357-4c58-ebec-ad19a2484416"
      },
      "execution_count": 76,
      "outputs": [
        {
          "output_type": "execute_result",
          "data": {
            "text/plain": [
              "array([[  4,   7],\n",
              "       [  0,   2],\n",
              "       [ -5,   6],\n",
              "       [  0,   0],\n",
              "       [  1,   2],\n",
              "       [-12,  -4],\n",
              "       [  3,   4]])"
            ]
          },
          "metadata": {},
          "execution_count": 76
        }
      ]
    },
    {
      "cell_type": "code",
      "source": [
        "# Create a boolean condition and use it for indexing\n",
        "cond = names == 'Bob' # Create a boolean array where True indicates \"Bob\"\n",
        "\n",
        "data[~cond] # Use the negated boolean array to select rows from data where names is not \"Bob\""
      ],
      "metadata": {
        "colab": {
          "base_uri": "https://localhost:8080/"
        },
        "id": "4Qcbig8WHh8N",
        "outputId": "e8158740-de51-49fb-bd86-9e1023ed4679"
      },
      "execution_count": 77,
      "outputs": [
        {
          "output_type": "execute_result",
          "data": {
            "text/plain": [
              "array([[  0,   2],\n",
              "       [ -5,   6],\n",
              "       [  1,   2],\n",
              "       [-12,  -4],\n",
              "       [  3,   4]])"
            ]
          },
          "metadata": {},
          "execution_count": 77
        }
      ]
    },
    {
      "cell_type": "code",
      "source": [
        "# Combine boolean conditions using the OR operator\n",
        "mask = (names == 'Bob') | (names == 'Will') # Create a boolean mask where True indicates \"Bob\" or \"Will\"\n",
        "\n",
        "mask # Display the boolean mask\n",
        "\n",
        "data[mask] # Use the mask to select rows from data where names is \"Bob\" or \"Will\""
      ],
      "metadata": {
        "colab": {
          "base_uri": "https://localhost:8080/"
        },
        "id": "YQdbJPnSHo51",
        "outputId": "71e09fcb-fd58-490a-cb24-06d2274af7e7"
      },
      "execution_count": 78,
      "outputs": [
        {
          "output_type": "execute_result",
          "data": {
            "text/plain": [
              "array([[ 4,  7],\n",
              "       [-5,  6],\n",
              "       [ 0,  0],\n",
              "       [ 1,  2]])"
            ]
          },
          "metadata": {},
          "execution_count": 78
        }
      ]
    },
    {
      "cell_type": "code",
      "source": [
        "# Use a boolean array to set values in a data array\n",
        "data[data < 0] = 0 # Set all elements in data that are less than 0 to 0\n",
        "data # Display the modified data array"
      ],
      "metadata": {
        "colab": {
          "base_uri": "https://localhost:8080/"
        },
        "id": "VY49LDo9HwZP",
        "outputId": "85096f2c-d62c-4da4-8a65-1a1988f3d693"
      },
      "execution_count": 79,
      "outputs": [
        {
          "output_type": "execute_result",
          "data": {
            "text/plain": [
              "array([[4, 7],\n",
              "       [0, 2],\n",
              "       [0, 6],\n",
              "       [0, 0],\n",
              "       [1, 2],\n",
              "       [0, 0],\n",
              "       [3, 4]])"
            ]
          },
          "metadata": {},
          "execution_count": 79
        }
      ]
    },
    {
      "cell_type": "code",
      "source": [
        "# Use a boolean array to set values in rows of a data array\n",
        "data[names != 'Joe'] =7 # Set all rows in data where the corresponding name is not \"Joe\" to the value 7\n",
        "data # Display the modified data array"
      ],
      "metadata": {
        "colab": {
          "base_uri": "https://localhost:8080/"
        },
        "id": "31mt29DkH1O9",
        "outputId": "ca739154-7693-4891-b333-8a447cb870a9"
      },
      "execution_count": 80,
      "outputs": [
        {
          "output_type": "execute_result",
          "data": {
            "text/plain": [
              "array([[7, 7],\n",
              "       [0, 2],\n",
              "       [7, 7],\n",
              "       [7, 7],\n",
              "       [7, 7],\n",
              "       [0, 0],\n",
              "       [3, 4]])"
            ]
          },
          "metadata": {},
          "execution_count": 80
        }
      ]
    },
    {
      "cell_type": "markdown",
      "source": [
        "# **Fancy Indexing**\n"
      ],
      "metadata": {
        "id": "u-NKxoBVau5y"
      }
    },
    {
      "cell_type": "code",
      "source": [
        "# Create an 8x4 array of zeros and assign row indices to each row\n",
        "arr = np.zeros((8, 4)) # Create an 8x4 array of zeros\n",
        "for i in range(8): # Iterate through each row index\n",
        "  arr[i] = i # Assign the row index as the value for all elements in that row\n",
        "arr # Display the array"
      ],
      "metadata": {
        "colab": {
          "base_uri": "https://localhost:8080/"
        },
        "id": "k4H94h_lH8P2",
        "outputId": "59fe3798-06a2-4e8f-ac6e-791dbd5aee3e"
      },
      "execution_count": 81,
      "outputs": [
        {
          "output_type": "execute_result",
          "data": {
            "text/plain": [
              "array([[0., 0., 0., 0.],\n",
              "       [1., 1., 1., 1.],\n",
              "       [2., 2., 2., 2.],\n",
              "       [3., 3., 3., 3.],\n",
              "       [4., 4., 4., 4.],\n",
              "       [5., 5., 5., 5.],\n",
              "       [6., 6., 6., 6.],\n",
              "       [7., 7., 7., 7.]])"
            ]
          },
          "metadata": {},
          "execution_count": 81
        }
      ]
    },
    {
      "cell_type": "code",
      "source": [
        "# Select rows from an array using a list of indices\n",
        "arr[[4, 3, 0, 6]] # Select rows at index 4, 3, 0, and 6 in that order"
      ],
      "metadata": {
        "colab": {
          "base_uri": "https://localhost:8080/"
        },
        "id": "K9HY6C5cIKx5",
        "outputId": "c2141c49-3451-4c46-ccbb-84c6b7596872"
      },
      "execution_count": 82,
      "outputs": [
        {
          "output_type": "execute_result",
          "data": {
            "text/plain": [
              "array([[4., 4., 4., 4.],\n",
              "       [3., 3., 3., 3.],\n",
              "       [0., 0., 0., 0.],\n",
              "       [6., 6., 6., 6.]])"
            ]
          },
          "metadata": {},
          "execution_count": 82
        }
      ]
    },
    {
      "cell_type": "code",
      "source": [
        "# Select rows from an array using a list of negative indices\n",
        "arr[[-3, -5, -7]] # Select rows at index -3, -5, and -7 (counting from the end)"
      ],
      "metadata": {
        "colab": {
          "base_uri": "https://localhost:8080/"
        },
        "id": "VODikVgOIO42",
        "outputId": "0a0bfad7-f488-4e07-c7a2-694b229a0c70"
      },
      "execution_count": 83,
      "outputs": [
        {
          "output_type": "execute_result",
          "data": {
            "text/plain": [
              "array([[5., 5., 5., 5.],\n",
              "       [3., 3., 3., 3.],\n",
              "       [1., 1., 1., 1.]])"
            ]
          },
          "metadata": {},
          "execution_count": 83
        }
      ]
    },
    {
      "cell_type": "code",
      "source": [
        "# Create and reshape an array with a range of numbers\n",
        "arr = np.arange(32).reshape((8, 4)) # Create an array with numbers from 0 to 31 and reshape it to 8 rows and 4 columns\n",
        "arr # Display the array"
      ],
      "metadata": {
        "colab": {
          "base_uri": "https://localhost:8080/"
        },
        "id": "60DVo5qhIUJO",
        "outputId": "3667cb6c-dfaa-4b06-b484-f645a2af60f3"
      },
      "execution_count": 84,
      "outputs": [
        {
          "output_type": "execute_result",
          "data": {
            "text/plain": [
              "array([[ 0,  1,  2,  3],\n",
              "       [ 4,  5,  6,  7],\n",
              "       [ 8,  9, 10, 11],\n",
              "       [12, 13, 14, 15],\n",
              "       [16, 17, 18, 19],\n",
              "       [20, 21, 22, 23],\n",
              "       [24, 25, 26, 27],\n",
              "       [28, 29, 30, 31]])"
            ]
          },
          "metadata": {},
          "execution_count": 84
        }
      ]
    },
    {
      "cell_type": "code",
      "source": [
        "# Select specific elements from different rows and columns using paired lists of indices\n",
        "arr[[1, 5, 7, 2], [0, 3, 1, 2]] # Select elements at (row 1, col 0), (row 5, col 3), (row 7, col 1), and (row 2, col 2)"
      ],
      "metadata": {
        "colab": {
          "base_uri": "https://localhost:8080/"
        },
        "id": "bQP5IfU-IX39",
        "outputId": "4a87b436-ac1c-4c15-a39e-93f61ffb92b0"
      },
      "execution_count": 85,
      "outputs": [
        {
          "output_type": "execute_result",
          "data": {
            "text/plain": [
              "array([ 4, 23, 29, 10])"
            ]
          },
          "metadata": {},
          "execution_count": 85
        }
      ]
    },
    {
      "cell_type": "code",
      "source": [
        "# Select rows using a list of indices and then select columns from the resulting array using a list of indices\n",
        "arr[[1, 5, 7, 2]][:, [0, 3, 1, 2]] # First select rows 1, 5, 7, and 2, then from this new array, select columns 0, 3, 1, and 2"
      ],
      "metadata": {
        "colab": {
          "base_uri": "https://localhost:8080/"
        },
        "id": "HrMJ4oiqIit2",
        "outputId": "f9c6b26b-4655-4812-d814-f72c6d06f9a8"
      },
      "execution_count": 86,
      "outputs": [
        {
          "output_type": "execute_result",
          "data": {
            "text/plain": [
              "array([[ 4,  7,  5,  6],\n",
              "       [20, 23, 21, 22],\n",
              "       [28, 31, 29, 30],\n",
              "       [ 8, 11,  9, 10]])"
            ]
          },
          "metadata": {},
          "execution_count": 86
        }
      ]
    },
    {
      "cell_type": "code",
      "source": [
        "# Select rows using a list of indices and then select columns from the resulting array using a list of indices (same as previous cell)\n",
        "arr [[1, 5, 7, 2]][:, [0, 3, 1, 2]]"
      ],
      "metadata": {
        "colab": {
          "base_uri": "https://localhost:8080/"
        },
        "id": "o0SQnZrYIq_N",
        "outputId": "a4c8a06f-769c-47be-9737-b443d3c647a1"
      },
      "execution_count": 87,
      "outputs": [
        {
          "output_type": "execute_result",
          "data": {
            "text/plain": [
              "array([[ 4,  7,  5,  6],\n",
              "       [20, 23, 21, 22],\n",
              "       [28, 31, 29, 30],\n",
              "       [ 8, 11,  9, 10]])"
            ]
          },
          "metadata": {},
          "execution_count": 87
        }
      ]
    },
    {
      "cell_type": "code",
      "source": [
        "# Select rows and columns using lists of indices and assign a value to the selected elements\n",
        "arr [[1, 5, 7, 2]][:, [0, 3, 1, 2]] = 0 # Select the specified elements and set their values to 0\n",
        "arr # Display the modified array"
      ],
      "metadata": {
        "colab": {
          "base_uri": "https://localhost:8080/"
        },
        "id": "lhJ_eX1AI2xt",
        "outputId": "b6b45353-e3c5-4439-b70b-750909103456"
      },
      "execution_count": 88,
      "outputs": [
        {
          "output_type": "execute_result",
          "data": {
            "text/plain": [
              "array([[ 0,  1,  2,  3],\n",
              "       [ 4,  5,  6,  7],\n",
              "       [ 8,  9, 10, 11],\n",
              "       [12, 13, 14, 15],\n",
              "       [16, 17, 18, 19],\n",
              "       [20, 21, 22, 23],\n",
              "       [24, 25, 26, 27],\n",
              "       [28, 29, 30, 31]])"
            ]
          },
          "metadata": {},
          "execution_count": 88
        }
      ]
    },
    {
      "cell_type": "markdown",
      "source": [
        "# **Transposing Arrays and Swapping Axes**"
      ],
      "metadata": {
        "id": "5jJRzleJadUT"
      }
    },
    {
      "cell_type": "code",
      "source": [
        "# Create and reshape an array with a range of numbers\n",
        "arr = np.arange(15).reshape((3, 5)) # Create an array with numbers from 0 to 14 and reshape it to 3 rows and 5 columns\n",
        "arr # Display the array"
      ],
      "metadata": {
        "colab": {
          "base_uri": "https://localhost:8080/"
        },
        "id": "5Q5K2pGzI-um",
        "outputId": "7118bbaf-b41b-4c0c-bc46-c7a689e1c82e"
      },
      "execution_count": 89,
      "outputs": [
        {
          "output_type": "execute_result",
          "data": {
            "text/plain": [
              "array([[ 0,  1,  2,  3,  4],\n",
              "       [ 5,  6,  7,  8,  9],\n",
              "       [10, 11, 12, 13, 14]])"
            ]
          },
          "metadata": {},
          "execution_count": 89
        }
      ]
    },
    {
      "cell_type": "code",
      "source": [
        "# Transpose the array\n",
        "arr.T # Return the transpose of the array (rows become columns, and columns become rows)"
      ],
      "metadata": {
        "colab": {
          "base_uri": "https://localhost:8080/"
        },
        "id": "DTyWWgOPJoX0",
        "outputId": "3737e932-ad52-43fd-895e-ae273a835c85"
      },
      "execution_count": 90,
      "outputs": [
        {
          "output_type": "execute_result",
          "data": {
            "text/plain": [
              "array([[ 0,  5, 10],\n",
              "       [ 1,  6, 11],\n",
              "       [ 2,  7, 12],\n",
              "       [ 3,  8, 13],\n",
              "       [ 4,  9, 14]])"
            ]
          },
          "metadata": {},
          "execution_count": 90
        }
      ]
    },
    {
      "cell_type": "code",
      "source": [
        "# Create a new 2D NumPy array\n",
        "arr = np.array([[0, 1, 0], [1, 2, -2], [6, 3, 2], [-1, 0, -1],[1, 0, 1]]) # Create a 5x3 array\n",
        "arr # Display the array"
      ],
      "metadata": {
        "colab": {
          "base_uri": "https://localhost:8080/"
        },
        "id": "hwiUf1yLJGmN",
        "outputId": "b6d2e74b-0ce1-4d31-da61-22d745da51fa"
      },
      "execution_count": 91,
      "outputs": [
        {
          "output_type": "execute_result",
          "data": {
            "text/plain": [
              "array([[ 0,  1,  0],\n",
              "       [ 1,  2, -2],\n",
              "       [ 6,  3,  2],\n",
              "       [-1,  0, -1],\n",
              "       [ 1,  0,  1]])"
            ]
          },
          "metadata": {},
          "execution_count": 91
        }
      ]
    },
    {
      "cell_type": "code",
      "source": [
        "# Perform matrix multiplication using np.dot()\n",
        "np.dot(arr.T, arr) # Compute the dot product of the transpose of arr and arr"
      ],
      "metadata": {
        "colab": {
          "base_uri": "https://localhost:8080/"
        },
        "id": "YK6F6FiqJcrW",
        "outputId": "38c3046b-9c78-43a5-e1cd-a4f4c7224e1f"
      },
      "execution_count": 92,
      "outputs": [
        {
          "output_type": "execute_result",
          "data": {
            "text/plain": [
              "array([[39, 20, 12],\n",
              "       [20, 14,  2],\n",
              "       [12,  2, 10]])"
            ]
          },
          "metadata": {},
          "execution_count": 92
        }
      ]
    },
    {
      "cell_type": "code",
      "source": [
        "# Perform matrix multiplication using the @ operator (preferred in newer Python versions)\n",
        "arr.T @ arr # Compute the matrix multiplication of the transpose of arr and arr"
      ],
      "metadata": {
        "colab": {
          "base_uri": "https://localhost:8080/"
        },
        "id": "-o6A9z0XJfxH",
        "outputId": "51ec1125-5e31-44a2-8281-a849f7d79805"
      },
      "execution_count": 93,
      "outputs": [
        {
          "output_type": "execute_result",
          "data": {
            "text/plain": [
              "array([[39, 20, 12],\n",
              "       [20, 14,  2],\n",
              "       [12,  2, 10]])"
            ]
          },
          "metadata": {},
          "execution_count": 93
        }
      ]
    },
    {
      "cell_type": "code",
      "source": [
        "# Display the array 'arr'\n",
        "arr # Display the array"
      ],
      "metadata": {
        "colab": {
          "base_uri": "https://localhost:8080/"
        },
        "id": "r6DPd0EaJ8DV",
        "outputId": "4650c7a4-cb05-4ce6-f47c-fc340e653c28"
      },
      "execution_count": 94,
      "outputs": [
        {
          "output_type": "execute_result",
          "data": {
            "text/plain": [
              "array([[ 0,  1,  0],\n",
              "       [ 1,  2, -2],\n",
              "       [ 6,  3,  2],\n",
              "       [-1,  0, -1],\n",
              "       [ 1,  0,  1]])"
            ]
          },
          "metadata": {},
          "execution_count": 94
        }
      ]
    },
    {
      "cell_type": "code",
      "source": [
        "# Swap the axes of the array\n",
        "arr.swapaxes(0, 1) # Swap the first axis (rows) with the second axis (columns)"
      ],
      "metadata": {
        "colab": {
          "base_uri": "https://localhost:8080/"
        },
        "id": "I8j-DfTLJ-Yt",
        "outputId": "0c8668b9-c01b-4f7f-e1c8-8ec17c232230"
      },
      "execution_count": 95,
      "outputs": [
        {
          "output_type": "execute_result",
          "data": {
            "text/plain": [
              "array([[ 0,  1,  6, -1,  1],\n",
              "       [ 1,  2,  3,  0,  0],\n",
              "       [ 0, -2,  2, -1,  1]])"
            ]
          },
          "metadata": {},
          "execution_count": 95
        }
      ]
    },
    {
      "cell_type": "code",
      "source": [
        "# Generate random samples from a standard normal distribution\n",
        "samples = np.random.standard_normal(size=(4, 4)) # Generate a 4x4 array of random numbers from the standard normal distribution (mean=0, std dev=1)\n",
        "samples # Display the array"
      ],
      "metadata": {
        "colab": {
          "base_uri": "https://localhost:8080/"
        },
        "id": "TtNQcwCxKB81",
        "outputId": "91deccd0-087b-46ca-bb72-a4e507bfd83d"
      },
      "execution_count": 96,
      "outputs": [
        {
          "output_type": "execute_result",
          "data": {
            "text/plain": [
              "array([[-0.2047,  0.4789, -0.5194, -0.5557],\n",
              "       [ 1.9658,  1.3934,  0.0929,  0.2817],\n",
              "       [ 0.769 ,  1.2464,  1.0072, -1.2962],\n",
              "       [ 0.275 ,  0.2289,  1.3529,  0.8864]])"
            ]
          },
          "metadata": {},
          "execution_count": 96
        }
      ]
    },
    {
      "cell_type": "code",
      "source": [
        "from random import normalvariate # Import normalvariate function from the random module\n",
        "N = 1000000 # Set the number of samples\n",
        "\n",
        "%timeit samples = [normalvariate(0, 1) for _ in range(N)] # Measure the time to generate N samples using Python's normalvariate\n",
        "%timeit np.random.standard_normal(N) # Measure the time to generate N samples using NumPy's standard_normal"
      ],
      "metadata": {
        "colab": {
          "base_uri": "https://localhost:8080/"
        },
        "id": "bqBa7ytzKKmt",
        "outputId": "554c8330-6108-47cd-8642-e81591ff55e9"
      },
      "execution_count": 97,
      "outputs": [
        {
          "output_type": "stream",
          "name": "stdout",
          "text": [
            "685 ms ± 26.2 ms per loop (mean ± std. dev. of 7 runs, 1 loop each)\n",
            "38.3 ms ± 7.92 ms per loop (mean ± std. dev. of 7 runs, 10 loops each)\n"
          ]
        }
      ]
    },
    {
      "cell_type": "code",
      "source": [
        "# Create a new random number generator instance with a seed\n",
        "rng = np.random.default_rng(seed=12345) # Create a new Generator object with a specified seed for reproducibility\n",
        "data = rng.standard_normal ((2, 3)) # Generate a 2x3 array of random numbers using the new generator"
      ],
      "metadata": {
        "id": "RispLZT0KVrm"
      },
      "execution_count": 98,
      "outputs": []
    },
    {
      "cell_type": "code",
      "source": [
        "# Check the type of the random number generator object\n",
        "type(rng) # Get the type of the 'rng' object"
      ],
      "metadata": {
        "colab": {
          "base_uri": "https://localhost:8080/"
        },
        "id": "KRp-_9DLKg2_",
        "outputId": "32ed0bc0-4518-45e7-82ac-ddc5a9bc4824"
      },
      "execution_count": 99,
      "outputs": [
        {
          "output_type": "execute_result",
          "data": {
            "text/plain": [
              "numpy.random._generator.Generator"
            ]
          },
          "metadata": {},
          "execution_count": 99
        }
      ]
    },
    {
      "cell_type": "markdown",
      "source": [
        "# **4.2 Universal Functions: Fast Element-Wise Array Functions**\n"
      ],
      "metadata": {
        "id": "VO0yIOk7Z4CH"
      }
    },
    {
      "cell_type": "code",
      "source": [
        "# Create a 1D array with a range of numbers\n",
        "arr = np.arange(10) # Create an array with numbers from 0 to 9\n",
        "arr # Display the array"
      ],
      "metadata": {
        "colab": {
          "base_uri": "https://localhost:8080/"
        },
        "id": "Xmnj4EOUKkz1",
        "outputId": "0e031993-e208-4a43-e39b-478dd5796258"
      },
      "execution_count": 100,
      "outputs": [
        {
          "output_type": "execute_result",
          "data": {
            "text/plain": [
              "array([0, 1, 2, 3, 4, 5, 6, 7, 8, 9])"
            ]
          },
          "metadata": {},
          "execution_count": 100
        }
      ]
    },
    {
      "cell_type": "code",
      "source": [
        "# Compute the square root of each element in the array\n",
        "np.sqrt(arr) # Apply the square root function element-wise to the array"
      ],
      "metadata": {
        "colab": {
          "base_uri": "https://localhost:8080/"
        },
        "id": "Y4JaeZAVKsy9",
        "outputId": "d2866ba3-e668-4b33-a2a9-f3d398c32637"
      },
      "execution_count": 101,
      "outputs": [
        {
          "output_type": "execute_result",
          "data": {
            "text/plain": [
              "array([0.    , 1.    , 1.4142, 1.7321, 2.    , 2.2361, 2.4495, 2.6458,\n",
              "       2.8284, 3.    ])"
            ]
          },
          "metadata": {},
          "execution_count": 101
        }
      ]
    },
    {
      "cell_type": "code",
      "source": [
        "# Compute the exponential of each element in the array\n",
        "np.exp(arr) # Apply the exponential function (e^x) element-wise to the array"
      ],
      "metadata": {
        "colab": {
          "base_uri": "https://localhost:8080/"
        },
        "id": "K2MoDm4KKwFN",
        "outputId": "0275505b-aa67-4162-eabc-3cd66686f121"
      },
      "execution_count": 102,
      "outputs": [
        {
          "output_type": "execute_result",
          "data": {
            "text/plain": [
              "array([   1.    ,    2.7183,    7.3891,   20.0855,   54.5982,  148.4132,\n",
              "        403.4288, 1096.6332, 2980.958 , 8103.0839])"
            ]
          },
          "metadata": {},
          "execution_count": 102
        }
      ]
    },
    {
      "cell_type": "code",
      "source": [
        "# Generate two arrays of random numbers from a standard normal distribution\n",
        "x = rng.standard_normal(8) # Generate an array of 8 random numbers\n",
        "y = rng.standard_normal(8) # Generate another array of 8 random numbers\n",
        "x # Display the array x"
      ],
      "metadata": {
        "colab": {
          "base_uri": "https://localhost:8080/"
        },
        "id": "zAuX1YWUK1s5",
        "outputId": "22a34d89-9222-4b82-f7f4-f3ac2233b41e"
      },
      "execution_count": 103,
      "outputs": [
        {
          "output_type": "execute_result",
          "data": {
            "text/plain": [
              "array([-1.3678,  0.6489,  0.3611, -1.9529,  2.3474,  0.9685, -0.7594,\n",
              "        0.9022])"
            ]
          },
          "metadata": {},
          "execution_count": 103
        }
      ]
    },
    {
      "cell_type": "code",
      "source": [
        "# Display the array y\n",
        "y # Display the array y"
      ],
      "metadata": {
        "colab": {
          "base_uri": "https://localhost:8080/"
        },
        "id": "IpqrvTQoK4Z1",
        "outputId": "01a492bc-1070-41a3-800f-b2a599f9f8a2"
      },
      "execution_count": 104,
      "outputs": [
        {
          "output_type": "execute_result",
          "data": {
            "text/plain": [
              "array([-0.467 , -0.0607,  0.7888, -1.2567,  0.5759,  1.399 ,  1.3223,\n",
              "       -0.2997])"
            ]
          },
          "metadata": {},
          "execution_count": 104
        }
      ]
    },
    {
      "cell_type": "code",
      "source": [
        "# Compute the element-wise maximum of two arrays\n",
        "np.maximum(x, y) # Return an array containing the element-wise maximum of x and y"
      ],
      "metadata": {
        "colab": {
          "base_uri": "https://localhost:8080/"
        },
        "id": "RgN0_yh6K5je",
        "outputId": "e1e83e2c-1db9-491b-fbee-7692cb75f424"
      },
      "execution_count": 105,
      "outputs": [
        {
          "output_type": "execute_result",
          "data": {
            "text/plain": [
              "array([-0.467 ,  0.6489,  0.7888, -1.2567,  2.3474,  1.399 ,  1.3223,\n",
              "        0.9022])"
            ]
          },
          "metadata": {},
          "execution_count": 105
        }
      ]
    },
    {
      "cell_type": "code",
      "source": [
        "# Generate an array of random numbers and scale them\n",
        "arr = rng.standard_normal(7) * 5 # Generate an array of 7 random numbers and multiply each by 5\n",
        "arr # Display the array"
      ],
      "metadata": {
        "colab": {
          "base_uri": "https://localhost:8080/"
        },
        "id": "1oY7wbtNK_mG",
        "outputId": "ab732c17-cb2c-4bc0-9550-75a492260f84"
      },
      "execution_count": 106,
      "outputs": [
        {
          "output_type": "execute_result",
          "data": {
            "text/plain": [
              "array([ 4.5146, -8.1079, -0.7909,  2.2474, -6.718 , -0.4084,  8.6237])"
            ]
          },
          "metadata": {},
          "execution_count": 106
        }
      ]
    },
    {
      "cell_type": "code",
      "source": [
        "# Separate the fractional and integer parts of each element in an array\n",
        "remainder, whole_part = np.modf(arr) # Return the fractional and integer parts of each element as two separate arrays\n",
        "remainder # Display the remainder array"
      ],
      "metadata": {
        "colab": {
          "base_uri": "https://localhost:8080/"
        },
        "id": "miDjTzZBLNj2",
        "outputId": "9fb2f21a-faed-4d96-8745-2fd792e59c39"
      },
      "execution_count": 107,
      "outputs": [
        {
          "output_type": "execute_result",
          "data": {
            "text/plain": [
              "array([ 0.5146, -0.1079, -0.7909,  0.2474, -0.718 , -0.4084,  0.6237])"
            ]
          },
          "metadata": {},
          "execution_count": 107
        }
      ]
    },
    {
      "cell_type": "code",
      "source": [
        "# Display the whole part array\n",
        "whole_part # Display the whole_part array"
      ],
      "metadata": {
        "colab": {
          "base_uri": "https://localhost:8080/"
        },
        "id": "BtdXUngeLXSa",
        "outputId": "b9cc45ea-207c-467e-c8cb-f956dff1150a"
      },
      "execution_count": 108,
      "outputs": [
        {
          "output_type": "execute_result",
          "data": {
            "text/plain": [
              "array([ 4., -8., -0.,  2., -6., -0.,  8.])"
            ]
          },
          "metadata": {},
          "execution_count": 108
        }
      ]
    },
    {
      "cell_type": "code",
      "source": [
        "# Display an array and perform element-wise addition into a new array\n",
        "arr # Display the array 'arr'\n",
        "out = np.zeros_like(arr) # Create an array of zeros with the same shape and dtype as 'arr'\n",
        "np.add(arr, 1) # Add 1 to each element of 'arr' (result is not stored)"
      ],
      "metadata": {
        "colab": {
          "base_uri": "https://localhost:8080/"
        },
        "id": "nmjuxcCLLaOe",
        "outputId": "5d3c304c-0a9d-4099-be25-774e34e7689b"
      },
      "execution_count": 109,
      "outputs": [
        {
          "output_type": "execute_result",
          "data": {
            "text/plain": [
              "array([ 5.5146, -7.1079,  0.2091,  3.2474, -5.718 ,  0.5916,  9.6237])"
            ]
          },
          "metadata": {},
          "execution_count": 109
        }
      ]
    },
    {
      "cell_type": "code",
      "source": [
        "# Perform element-wise addition and store the result in a specified output array\n",
        "np.add(arr, 1, out= out) # Add 1 to each element of 'arr' and store the result in the 'out' array\n",
        "out # Display the 'out' array"
      ],
      "metadata": {
        "colab": {
          "base_uri": "https://localhost:8080/"
        },
        "id": "QGuIjUejLjcw",
        "outputId": "55e110d8-08c0-42e9-e67b-bd2e1fabacd0"
      },
      "execution_count": 110,
      "outputs": [
        {
          "output_type": "execute_result",
          "data": {
            "text/plain": [
              "array([ 5.5146, -7.1079,  0.2091,  3.2474, -5.718 ,  0.5916,  9.6237])"
            ]
          },
          "metadata": {},
          "execution_count": 110
        }
      ]
    },
    {
      "cell_type": "markdown",
      "source": [
        "# **4.3 Array-Oriented Programming with Arrays**"
      ],
      "metadata": {
        "id": "0--TaW0EZkdw"
      }
    },
    {
      "cell_type": "code",
      "source": [
        "# Create a grid of points using np.meshgrid\n",
        "points = np.arange(-5, 5, 0.001) # Create a 1D array of numbers from -5 to 5 with a step of 0.001\n",
        "xs, ys = np.meshgrid(points, points) # Create 2D coordinate arrays from the 1D array 'points'\n",
        "ys # Display the 'ys' array"
      ],
      "metadata": {
        "colab": {
          "base_uri": "https://localhost:8080/"
        },
        "id": "EPCDlHXtLpJt",
        "outputId": "b99833ff-1cda-4050-8b94-97222f5c8e9c"
      },
      "execution_count": 111,
      "outputs": [
        {
          "output_type": "execute_result",
          "data": {
            "text/plain": [
              "array([[-5.   , -5.   , -5.   , ..., -5.   , -5.   , -5.   ],\n",
              "       [-4.999, -4.999, -4.999, ..., -4.999, -4.999, -4.999],\n",
              "       [-4.998, -4.998, -4.998, ..., -4.998, -4.998, -4.998],\n",
              "       ...,\n",
              "       [ 4.997,  4.997,  4.997, ...,  4.997,  4.997,  4.997],\n",
              "       [ 4.998,  4.998,  4.998, ...,  4.998,  4.998,  4.998],\n",
              "       [ 4.999,  4.999,  4.999, ...,  4.999,  4.999,  4.999]])"
            ]
          },
          "metadata": {},
          "execution_count": 111
        }
      ]
    },
    {
      "cell_type": "code",
      "source": [
        "# Compute a function of the meshgrid coordinates\n",
        "z = np.sqrt(xs ** 2 + ys ** 2) # Compute the square root of the sum of squares of corresponding elements in xs and ys\n",
        "z # Display the resulting array 'z'"
      ],
      "metadata": {
        "colab": {
          "base_uri": "https://localhost:8080/"
        },
        "id": "1mkllVhsL_UG",
        "outputId": "e6b9381f-ee1d-4be3-cdf3-c55ac6d7fb46"
      },
      "execution_count": 112,
      "outputs": [
        {
          "output_type": "execute_result",
          "data": {
            "text/plain": [
              "array([[7.0711, 7.0704, 7.0697, ..., 7.0689, 7.0697, 7.0704],\n",
              "       [7.0704, 7.0697, 7.0689, ..., 7.0682, 7.0689, 7.0697],\n",
              "       [7.0697, 7.0689, 7.0682, ..., 7.0675, 7.0682, 7.0689],\n",
              "       ...,\n",
              "       [7.0689, 7.0682, 7.0675, ..., 7.0668, 7.0675, 7.0682],\n",
              "       [7.0697, 7.0689, 7.0682, ..., 7.0675, 7.0682, 7.0689],\n",
              "       [7.0704, 7.0697, 7.0689, ..., 7.0682, 7.0689, 7.0697]])"
            ]
          },
          "metadata": {},
          "execution_count": 112
        }
      ]
    },
    {
      "cell_type": "code",
      "source": [
        "import matplotlib.pyplot as plt\n",
        "plt.imshow(z, cmap = plt.cm.gray, extent=[-5, 5, -5, 5])\n",
        "plt.colorbar()\n",
        "plt.title(\"Image plot of $\\sqrt{x^2 + y^2}$ for a grid of values\")"
      ],
      "metadata": {
        "id": "wcCMWpD3ME6G",
        "colab": {
          "base_uri": "https://localhost:8080/",
          "height": 573
        },
        "outputId": "a4638f2a-29dd-43b6-f283-2708cb16bdaf"
      },
      "execution_count": 113,
      "outputs": [
        {
          "output_type": "execute_result",
          "data": {
            "text/plain": [
              "Text(0.5, 1.0, 'Image plot of $\\\\sqrt{x^2 + y^2}$ for a grid of values')"
            ]
          },
          "metadata": {},
          "execution_count": 113
        },
        {
          "output_type": "display_data",
          "data": {
            "text/plain": [
              "<Figure size 1000x600 with 2 Axes>"
            ],
            "image/png": "[encoded data removed]"
          },
          "metadata": {}
        }
      ]
    },
    {
      "cell_type": "markdown",
      "source": [
        "# **Expressing Conditional Logic as Array Operations**\n"
      ],
      "metadata": {
        "id": "ncIDCAocYcu2"
      }
    },
    {
      "cell_type": "code",
      "source": [
        "plt.draw()"
      ],
      "metadata": {
        "colab": {
          "base_uri": "https://localhost:8080/",
          "height": 35
        },
        "id": "YUy3JswGMlBv",
        "outputId": "09e19e6a-aa2e-4626-de62-1bc73137d248"
      },
      "execution_count": 114,
      "outputs": [
        {
          "output_type": "display_data",
          "data": {
            "text/plain": [
              "<Figure size 1000x600 with 0 Axes>"
            ]
          },
          "metadata": {}
        }
      ]
    },
    {
      "cell_type": "code",
      "source": [
        "plt.close('all')"
      ],
      "metadata": {
        "id": "ZylpRhyBMk9A"
      },
      "execution_count": 115,
      "outputs": []
    },
    {
      "cell_type": "code",
      "source": [
        "xarr = np.array([1.1, 1.2, 1.3, 1.4, 1.5]) # Create an array of values\n",
        "yarr = np.array([2.1, 2.2, 2.3, 2.4, 2.5]) # Create another array of values\n",
        "cond = np.array([True, False, True, True, False]) # Create an array of boolean conditions"
      ],
      "metadata": {
        "id": "XjM0syKNMk4U"
      },
      "execution_count": 116,
      "outputs": []
    },
    {
      "cell_type": "code",
      "source": [
        "result =[(x if c else y) for x, y, c in zip(xarr, yarr, cond)] # Use list comprehension to create a new array based on conditions\n",
        "result # Display the resulting array"
      ],
      "metadata": {
        "colab": {
          "base_uri": "https://localhost:8080/"
        },
        "id": "z4Yr226XMk1N",
        "outputId": "25b0e89f-adf4-4fab-d875-c175a0ca5488"
      },
      "execution_count": 118,
      "outputs": [
        {
          "output_type": "execute_result",
          "data": {
            "text/plain": [
              "[np.float64(1.1),\n",
              " np.float64(2.2),\n",
              " np.float64(1.3),\n",
              " np.float64(1.4),\n",
              " np.float64(2.5)]"
            ]
          },
          "metadata": {},
          "execution_count": 118
        }
      ]
    },
    {
      "cell_type": "code",
      "source": [
        "result = np.where(cond, xarr, yarr) # Use np.where to create a new array based on conditions\n",
        "result # Display the resulting array"
      ],
      "metadata": {
        "colab": {
          "base_uri": "https://localhost:8080/"
        },
        "id": "W7fTvLWgMkyJ",
        "outputId": "94fd8f26-10a7-4bdc-ee55-3d18e5ae19b9"
      },
      "execution_count": 119,
      "outputs": [
        {
          "output_type": "execute_result",
          "data": {
            "text/plain": [
              "array([1.1, 2.2, 1.3, 1.4, 2.5])"
            ]
          },
          "metadata": {},
          "execution_count": 119
        }
      ]
    },
    {
      "cell_type": "code",
      "source": [
        "arr = rng.standard_normal((4, 4)) # Create a 4x4 array of random numbers\n",
        "arr # Display the array"
      ],
      "metadata": {
        "colab": {
          "base_uri": "https://localhost:8080/"
        },
        "id": "cGQdRr9NMkoA",
        "outputId": "e2e49a2c-f044-4b91-efc4-9d7daf075741"
      },
      "execution_count": 120,
      "outputs": [
        {
          "output_type": "execute_result",
          "data": {
            "text/plain": [
              "array([[ 2.6182,  0.7774,  0.8286, -0.959 ],\n",
              "       [-1.2094, -1.4123,  0.5415,  0.7519],\n",
              "       [-0.6588, -1.2287,  0.2576,  0.3129],\n",
              "       [-0.1308,  1.27  , -0.093 , -0.0662]])"
            ]
          },
          "metadata": {},
          "execution_count": 120
        }
      ]
    },
    {
      "cell_type": "code",
      "source": [
        "arr > 0 # Check which elements in the array are greater than 0\n",
        "np.where(arr > 0, 2, -2) # Use np.where to create a new array based on conditions: if element > 0, result is 2, otherwise -2"
      ],
      "metadata": {
        "colab": {
          "base_uri": "https://localhost:8080/"
        },
        "id": "wVGbFemMMkkq",
        "outputId": "d4b02ca4-686f-4ffa-8bc2-c190b8241b67"
      },
      "execution_count": 122,
      "outputs": [
        {
          "output_type": "execute_result",
          "data": {
            "text/plain": [
              "array([[ 2,  2,  2, -2],\n",
              "       [-2, -2,  2,  2],\n",
              "       [-2, -2,  2,  2],\n",
              "       [-2,  2, -2, -2]])"
            ]
          },
          "metadata": {},
          "execution_count": 122
        }
      ]
    },
    {
      "cell_type": "code",
      "source": [
        "np.where(arr > 0, 2, arr) # Use np.where to create a new array based on conditions: if element > 0, result is 2, otherwise keep the original element value"
      ],
      "metadata": {
        "colab": {
          "base_uri": "https://localhost:8080/"
        },
        "id": "TYYRnXBBMkhc",
        "outputId": "c2f260ff-a100-400e-851e-3bbb33993333"
      },
      "execution_count": 123,
      "outputs": [
        {
          "output_type": "execute_result",
          "data": {
            "text/plain": [
              "array([[ 2.    ,  2.    ,  2.    , -0.959 ],\n",
              "       [-1.2094, -1.4123,  2.    ,  2.    ],\n",
              "       [-0.6588, -1.2287,  2.    ,  2.    ],\n",
              "       [-0.1308,  2.    , -0.093 , -0.0662]])"
            ]
          },
          "metadata": {},
          "execution_count": 123
        }
      ]
    },
    {
      "cell_type": "code",
      "source": [
        "arr = rng.standard_normal((5, 4)) # Create a 5x4 array of random numbers\n",
        "arr # Display the array"
      ],
      "metadata": {
        "colab": {
          "base_uri": "https://localhost:8080/"
        },
        "id": "RP-HRLcwMkVg",
        "outputId": "9af040f2-cd01-412e-b54b-584368f4054d"
      },
      "execution_count": 124,
      "outputs": [
        {
          "output_type": "execute_result",
          "data": {
            "text/plain": [
              "array([[-1.1082,  0.136 ,  1.3471,  0.0611],\n",
              "       [ 0.0709,  0.4337,  0.2775,  0.5303],\n",
              "       [ 0.5367,  0.6184, -0.795 ,  0.3   ],\n",
              "       [-1.6027,  0.2668, -1.2616, -0.0713],\n",
              "       [ 0.474 , -0.4149,  0.0977, -1.6404]])"
            ]
          },
          "metadata": {},
          "execution_count": 124
        }
      ]
    },
    {
      "cell_type": "code",
      "source": [
        "arr.mean() # Compute the mean of all elements in the array\n",
        "np.mean(arr) # Compute the mean of all elements in the array (equivalent to arr.mean())\n",
        "arr.sum() # Compute the sum of all elements in the array"
      ],
      "metadata": {
        "colab": {
          "base_uri": "https://localhost:8080/"
        },
        "id": "w5pvOZCCNqLa",
        "outputId": "ccaa732d-0b38-4947-9363-669ba001c64b"
      },
      "execution_count": 127,
      "outputs": [
        {
          "output_type": "execute_result",
          "data": {
            "text/plain": [
              "np.float64(-1.743948891486906)"
            ]
          },
          "metadata": {},
          "execution_count": 127
        }
      ]
    },
    {
      "cell_type": "code",
      "source": [
        "arr.mean(axis=1) # Compute the mean of elements along axis 1 (rows)"
      ],
      "metadata": {
        "colab": {
          "base_uri": "https://localhost:8080/"
        },
        "id": "LvaBUI_0Nwjq",
        "outputId": "45645910-5f53-4750-aad9-2a5f6cdcc7d4"
      },
      "execution_count": 128,
      "outputs": [
        {
          "output_type": "execute_result",
          "data": {
            "text/plain": [
              "array([ 0.109 ,  0.3281,  0.165 , -0.6672, -0.3709])"
            ]
          },
          "metadata": {},
          "execution_count": 128
        }
      ]
    },
    {
      "cell_type": "code",
      "source": [
        "arr.sum(axis=0) # Compute the sum of elements along axis 0 (columns)"
      ],
      "metadata": {
        "colab": {
          "base_uri": "https://localhost:8080/"
        },
        "id": "OtYMnA0_N2Py",
        "outputId": "7314e01d-1cd3-4ece-be9e-e381934b8ed5"
      },
      "execution_count": 129,
      "outputs": [
        {
          "output_type": "execute_result",
          "data": {
            "text/plain": [
              "array([-1.6292,  1.0399, -0.3344, -0.8203])"
            ]
          },
          "metadata": {},
          "execution_count": 129
        }
      ]
    },
    {
      "cell_type": "code",
      "source": [
        "arr = np.array([0, 1, 2, 3, 4, 5, 6, 7]) # Create a 1D array\n",
        "arr.cumsum() # Compute the cumulative sum of elements"
      ],
      "metadata": {
        "colab": {
          "base_uri": "https://localhost:8080/"
        },
        "id": "kX1G89aVN8C6",
        "outputId": "a1d8f3bb-dd79-40b6-fb15-eec01ac06c8d"
      },
      "execution_count": 130,
      "outputs": [
        {
          "output_type": "execute_result",
          "data": {
            "text/plain": [
              "array([ 0,  1,  3,  6, 10, 15, 21, 28])"
            ]
          },
          "metadata": {},
          "execution_count": 130
        }
      ]
    },
    {
      "cell_type": "code",
      "source": [
        "arr = np.array([[0, 1, 2],[3, 4, 5],[6, 7, 8]]) # Create a 3x3 array\n",
        "arr # Display the array"
      ],
      "metadata": {
        "colab": {
          "base_uri": "https://localhost:8080/"
        },
        "id": "Ytdis9PfN_6V",
        "outputId": "e730cc86-a8b8-460e-a3c1-9c1bd3141a31"
      },
      "execution_count": 131,
      "outputs": [
        {
          "output_type": "execute_result",
          "data": {
            "text/plain": [
              "array([[0, 1, 2],\n",
              "       [3, 4, 5],\n",
              "       [6, 7, 8]])"
            ]
          },
          "metadata": {},
          "execution_count": 131
        }
      ]
    },
    {
      "cell_type": "code",
      "source": [
        "arr.cumsum(axis=0) # Compute the cumulative sum of elements along axis 0 (columns)"
      ],
      "metadata": {
        "colab": {
          "base_uri": "https://localhost:8080/"
        },
        "id": "s7wLcLreOLWD",
        "outputId": "bb2de84c-a7d1-4445-e455-8f4be3452447"
      },
      "execution_count": 132,
      "outputs": [
        {
          "output_type": "execute_result",
          "data": {
            "text/plain": [
              "array([[ 0,  1,  2],\n",
              "       [ 3,  5,  7],\n",
              "       [ 9, 12, 15]])"
            ]
          },
          "metadata": {},
          "execution_count": 132
        }
      ]
    },
    {
      "cell_type": "code",
      "source": [
        "arr.cumsum(axis=1) # Compute the cumulative sum of elements along axis 1 (rows)"
      ],
      "metadata": {
        "colab": {
          "base_uri": "https://localhost:8080/"
        },
        "id": "6M12iFhbOSQy",
        "outputId": "d3d40440-ff56-4e43-9b0c-57d05da11551"
      },
      "execution_count": 133,
      "outputs": [
        {
          "output_type": "execute_result",
          "data": {
            "text/plain": [
              "array([[ 0,  1,  3],\n",
              "       [ 3,  7, 12],\n",
              "       [ 6, 13, 21]])"
            ]
          },
          "metadata": {},
          "execution_count": 133
        }
      ]
    },
    {
      "cell_type": "code",
      "source": [
        "arr = rng.standard_normal(100) # Create a 1D array of 100 random numbers\n",
        "(arr> 0).sum() # Number of positive values\n",
        "(arr <= 0).sum() # Number of non-positive values"
      ],
      "metadata": {
        "colab": {
          "base_uri": "https://localhost:8080/"
        },
        "id": "jxngZIakObAi",
        "outputId": "5c280907-5dee-4803-dab6-9afd86f729ec"
      },
      "execution_count": 134,
      "outputs": [
        {
          "output_type": "execute_result",
          "data": {
            "text/plain": [
              "np.int64(52)"
            ]
          },
          "metadata": {},
          "execution_count": 134
        }
      ]
    },
    {
      "cell_type": "code",
      "source": [
        "bools = np.array([False, False, True, False]) # Create a boolean array\n",
        "bools.any() # Check if any element in the boolean array is True"
      ],
      "metadata": {
        "colab": {
          "base_uri": "https://localhost:8080/"
        },
        "id": "jZe4fvc9OqVZ",
        "outputId": "38ad75dc-e872-481d-80ee-ef6575fd892b"
      },
      "execution_count": 135,
      "outputs": [
        {
          "output_type": "execute_result",
          "data": {
            "text/plain": [
              "np.True_"
            ]
          },
          "metadata": {},
          "execution_count": 135
        }
      ]
    },
    {
      "cell_type": "code",
      "source": [
        "bools.all() # Check if all elements in the boolean array are True"
      ],
      "metadata": {
        "colab": {
          "base_uri": "https://localhost:8080/"
        },
        "id": "iS0QUcvyOwui",
        "outputId": "34530e07-953a-45be-b2f9-5d396253aae9"
      },
      "execution_count": 136,
      "outputs": [
        {
          "output_type": "execute_result",
          "data": {
            "text/plain": [
              "np.False_"
            ]
          },
          "metadata": {},
          "execution_count": 136
        }
      ]
    },
    {
      "cell_type": "code",
      "source": [
        "arr = rng.standard_normal(6) # Create a 1D array of 6 random numbers\n",
        "arr # Display the array"
      ],
      "metadata": {
        "colab": {
          "base_uri": "https://localhost:8080/"
        },
        "id": "uN3as3rTO1Ar",
        "outputId": "b4167bcb-6efe-4dd4-9510-40e4ed17e2e3"
      },
      "execution_count": 137,
      "outputs": [
        {
          "output_type": "execute_result",
          "data": {
            "text/plain": [
              "array([ 0.0773, -0.6839, -0.7208,  1.1206, -0.0548, -0.0824])"
            ]
          },
          "metadata": {},
          "execution_count": 137
        }
      ]
    },
    {
      "cell_type": "code",
      "source": [
        "arr.sort() # Sort the array in-place\n",
        "arr # Display the sorted array"
      ],
      "metadata": {
        "colab": {
          "base_uri": "https://localhost:8080/"
        },
        "id": "rZnWnM6gO7_6",
        "outputId": "e2455f03-1cb7-4d43-b9a0-5b79dce97ab6"
      },
      "execution_count": 139,
      "outputs": [
        {
          "output_type": "execute_result",
          "data": {
            "text/plain": [
              "array([-0.7208, -0.6839, -0.0824, -0.0548,  0.0773,  1.1206])"
            ]
          },
          "metadata": {},
          "execution_count": 139
        }
      ]
    },
    {
      "cell_type": "code",
      "source": [
        "arr = rng.standard_normal((5, 3)) # Create a 5x3 array of random numbers\n",
        "arr # Display the array"
      ],
      "metadata": {
        "colab": {
          "base_uri": "https://localhost:8080/"
        },
        "id": "7OmMkJ-EPCiN",
        "outputId": "ecf4fbe8-5278-4fe2-d81b-016f881c403a"
      },
      "execution_count": 140,
      "outputs": [
        {
          "output_type": "execute_result",
          "data": {
            "text/plain": [
              "array([[ 0.936 ,  1.2385,  1.2728],\n",
              "       [ 0.4059, -0.0503,  0.2893],\n",
              "       [ 0.1793,  1.3975,  0.292 ],\n",
              "       [ 0.6384, -0.0279,  1.3711],\n",
              "       [-2.0528,  0.3805,  0.7554]])"
            ]
          },
          "metadata": {},
          "execution_count": 140
        }
      ]
    },
    {
      "cell_type": "code",
      "source": [
        "arr.sort(axis=0) # Sort the array along axis 0 (columns) in-place\n",
        "arr # Display the sorted array"
      ],
      "metadata": {
        "colab": {
          "base_uri": "https://localhost:8080/"
        },
        "id": "TMNupG6zPH1C",
        "outputId": "72eb7689-2b2c-4472-b367-383e81c7aad7"
      },
      "execution_count": 141,
      "outputs": [
        {
          "output_type": "execute_result",
          "data": {
            "text/plain": [
              "array([[-2.0528, -0.0503,  0.2893],\n",
              "       [ 0.1793, -0.0279,  0.292 ],\n",
              "       [ 0.4059,  0.3805,  0.7554],\n",
              "       [ 0.6384,  1.2385,  1.2728],\n",
              "       [ 0.936 ,  1.3975,  1.3711]])"
            ]
          },
          "metadata": {},
          "execution_count": 141
        }
      ]
    },
    {
      "cell_type": "code",
      "source": [
        "arr.sort(axis=1) # Sort the array along axis 1 (rows) in-place\n",
        "arr # Display the sorted array"
      ],
      "metadata": {
        "colab": {
          "base_uri": "https://localhost:8080/"
        },
        "id": "gxf-15OUPP-K",
        "outputId": "7c81e5f0-c6dc-4235-f517-9908dd420e03"
      },
      "execution_count": 142,
      "outputs": [
        {
          "output_type": "execute_result",
          "data": {
            "text/plain": [
              "array([[-2.0528, -0.0503,  0.2893],\n",
              "       [-0.0279,  0.1793,  0.292 ],\n",
              "       [ 0.3805,  0.4059,  0.7554],\n",
              "       [ 0.6384,  1.2385,  1.2728],\n",
              "       [ 0.936 ,  1.3711,  1.3975]])"
            ]
          },
          "metadata": {},
          "execution_count": 142
        }
      ]
    },
    {
      "cell_type": "code",
      "source": [
        "arr2 = np.array([5, -10, 7, 1 ,0, -3]) # Create a 1D array\n",
        "sorted_arr2 = np.sort(arr2) # Create a new sorted array (doesn't modify original)\n",
        "sorted_arr2 # Display the new sorted array"
      ],
      "metadata": {
        "colab": {
          "base_uri": "https://localhost:8080/"
        },
        "id": "WsZZwEuIPT6i",
        "outputId": "739aea49-322f-4f13-e634-f28bdf4fb570"
      },
      "execution_count": 143,
      "outputs": [
        {
          "output_type": "execute_result",
          "data": {
            "text/plain": [
              "array([-10,  -3,   0,   1,   5,   7])"
            ]
          },
          "metadata": {},
          "execution_count": 143
        }
      ]
    },
    {
      "cell_type": "markdown",
      "source": [
        "# **Unique and Other Set Logic**"
      ],
      "metadata": {
        "id": "X0cicRv9X06w"
      }
    },
    {
      "cell_type": "code",
      "source": [
        "names = np.array(['Bob', 'Joe', 'Will', 'Bob', 'Will', 'Joe', 'Joe']) # Create an array of names\n",
        "np.unique(names) # Find the unique elements in the array"
      ],
      "metadata": {
        "colab": {
          "base_uri": "https://localhost:8080/"
        },
        "id": "nQu0PfE0PkQy",
        "outputId": "ecbf9621-9e6e-4e1f-eef3-e3b14d5ac070"
      },
      "execution_count": 144,
      "outputs": [
        {
          "output_type": "execute_result",
          "data": {
            "text/plain": [
              "array(['Bob', 'Joe', 'Will'], dtype='<U4')"
            ]
          },
          "metadata": {},
          "execution_count": 144
        }
      ]
    },
    {
      "cell_type": "code",
      "source": [
        "ints = np.array([3, 3, 3, 2, 2, 1, 1, 4, 4]) # Create an integer array\n",
        "np.unique(ints) # Find the unique elements in the array"
      ],
      "metadata": {
        "colab": {
          "base_uri": "https://localhost:8080/"
        },
        "id": "kdrGCVuPPqSC",
        "outputId": "eb1a96d0-6058-4713-b24a-403ba87689d9"
      },
      "execution_count": 145,
      "outputs": [
        {
          "output_type": "execute_result",
          "data": {
            "text/plain": [
              "array([1, 2, 3, 4])"
            ]
          },
          "metadata": {},
          "execution_count": 145
        }
      ]
    },
    {
      "cell_type": "code",
      "source": [
        "sorted(set(names)) # Find unique elements using Python's set and sort the result"
      ],
      "metadata": {
        "colab": {
          "base_uri": "https://localhost:8080/"
        },
        "id": "-E80axtxPuJa",
        "outputId": "59a6096f-9085-4560-f329-b284b379a4dd"
      },
      "execution_count": 146,
      "outputs": [
        {
          "output_type": "execute_result",
          "data": {
            "text/plain": [
              "[np.str_('Bob'), np.str_('Joe'), np.str_('Will')]"
            ]
          },
          "metadata": {},
          "execution_count": 146
        }
      ]
    },
    {
      "cell_type": "code",
      "source": [
        "values = np.array([6, 0, 0, 3, 2, 5, 6]) # Create an array of values\n",
        "np.in1d(values, [2, 3, 6]) # Check if each element in 'values' is present in the list [2, 3, 6]"
      ],
      "metadata": {
        "colab": {
          "base_uri": "https://localhost:8080/"
        },
        "id": "V80y0XOGPzba",
        "outputId": "8f09fb10-8bd5-4695-84fa-0849da391558"
      },
      "execution_count": 147,
      "outputs": [
        {
          "output_type": "stream",
          "name": "stderr",
          "text": [
            "/tmp/ipython-input-147-1741557438.py:2: DeprecationWarning: `in1d` is deprecated. Use `np.isin` instead.\n",
            "  np.in1d(values, [2, 3, 6])\n"
          ]
        },
        {
          "output_type": "execute_result",
          "data": {
            "text/plain": [
              "array([ True, False, False,  True,  True, False,  True])"
            ]
          },
          "metadata": {},
          "execution_count": 147
        }
      ]
    },
    {
      "cell_type": "markdown",
      "source": [
        "# **4.4 File Input and Output with Arrays**"
      ],
      "metadata": {
        "id": "BWoJ5QSAXnFk"
      }
    },
    {
      "cell_type": "code",
      "source": [
        "arr = np.arange(10) # Create an array\n",
        "np.save('some_array', arr) # Save the array to a binary file named 'some_array.npy'"
      ],
      "metadata": {
        "id": "IvaSs8GwP5pJ"
      },
      "execution_count": 148,
      "outputs": []
    },
    {
      "cell_type": "code",
      "source": [
        "np.load('some_array.npy') # Load the array from the 'some_array.npy' file"
      ],
      "metadata": {
        "colab": {
          "base_uri": "https://localhost:8080/"
        },
        "id": "nU3nDiDHP-mr",
        "outputId": "774d8c81-4e09-4879-8ae0-0b1d84fcf53b"
      },
      "execution_count": 149,
      "outputs": [
        {
          "output_type": "execute_result",
          "data": {
            "text/plain": [
              "array([0, 1, 2, 3, 4, 5, 6, 7, 8, 9])"
            ]
          },
          "metadata": {},
          "execution_count": 149
        }
      ]
    },
    {
      "cell_type": "code",
      "source": [
        "np.savez(\"array_archive.npz\", a=arr, b=arr) # Save multiple arrays into a single compressed .npz archive"
      ],
      "metadata": {
        "id": "6sZJRnu3QCSC"
      },
      "execution_count": 152,
      "outputs": []
    },
    {
      "cell_type": "code",
      "source": [
        "arch = np.load('array_archive.npz') # Load the data from the .npz archive\n",
        "arch['b'] # Access the array named 'b' from the archive"
      ],
      "metadata": {
        "colab": {
          "base_uri": "https://localhost:8080/"
        },
        "id": "qlKWloEKQeYl",
        "outputId": "b178fd08-efc4-4720-caf0-7ae557762da3"
      },
      "execution_count": 153,
      "outputs": [
        {
          "output_type": "execute_result",
          "data": {
            "text/plain": [
              "array([0, 1, 2, 3, 4, 5, 6, 7, 8, 9])"
            ]
          },
          "metadata": {},
          "execution_count": 153
        }
      ]
    },
    {
      "cell_type": "code",
      "source": [
        "np.savez_compressed('arrays_compressed.npz', a=arr, b=arr) # Save multiple arrays into a compressed .npz archive"
      ],
      "metadata": {
        "id": "g4p_rYAnQeTB"
      },
      "execution_count": 154,
      "outputs": []
    },
    {
      "cell_type": "code",
      "source": [
        "!rm some_array.npy # Remove the 'some_array.npy' file using a shell command\n",
        "!rm array_archive.npz # Remove the 'array_archive.npz' file using a shell command\n",
        "!rm arrays_compressed.npz # Remove the 'arrays_compressed.npz' file using a shell command"
      ],
      "metadata": {
        "id": "R4n0bu4fQePt"
      },
      "execution_count": 155,
      "outputs": []
    },
    {
      "cell_type": "markdown",
      "source": [
        "# **4.5 Linear Algebra**"
      ],
      "metadata": {
        "id": "zirvROdbXeIO"
      }
    },
    {
      "cell_type": "code",
      "source": [
        "x = np.array([[1.,2.,3.,], [4.,5.,6.]]) # Create a 2x3 array\n",
        "y = np.array([[6.,23.], [-1, 7], [8, 9]]) # Create a 3x2 array\n",
        "x # Display array x"
      ],
      "metadata": {
        "colab": {
          "base_uri": "https://localhost:8080/"
        },
        "id": "6ClcI8rFQeKq",
        "outputId": "32fbbea2-0a89-4dc0-c34d-800fe426c4e0"
      },
      "execution_count": 156,
      "outputs": [
        {
          "output_type": "execute_result",
          "data": {
            "text/plain": [
              "array([[1., 2., 3.],\n",
              "       [4., 5., 6.]])"
            ]
          },
          "metadata": {},
          "execution_count": 156
        }
      ]
    },
    {
      "cell_type": "code",
      "source": [
        "y # Display array y"
      ],
      "metadata": {
        "colab": {
          "base_uri": "https://localhost:8080/"
        },
        "id": "31o6ZVZWQeHN",
        "outputId": "c2f74cd7-82d8-4d11-f853-6d9f8852400c"
      },
      "execution_count": 157,
      "outputs": [
        {
          "output_type": "execute_result",
          "data": {
            "text/plain": [
              "array([[ 6., 23.],\n",
              "       [-1.,  7.],\n",
              "       [ 8.,  9.]])"
            ]
          },
          "metadata": {},
          "execution_count": 157
        }
      ]
    },
    {
      "cell_type": "code",
      "source": [
        "x.dot(y) # Perform matrix multiplication of x and y using the dot method"
      ],
      "metadata": {
        "colab": {
          "base_uri": "https://localhost:8080/"
        },
        "id": "wg-7vKSXQeCy",
        "outputId": "6d009059-f46c-4b22-9186-fb16a40358fc"
      },
      "execution_count": 158,
      "outputs": [
        {
          "output_type": "execute_result",
          "data": {
            "text/plain": [
              "array([[ 28.,  64.],\n",
              "       [ 67., 181.]])"
            ]
          },
          "metadata": {},
          "execution_count": 158
        }
      ]
    },
    {
      "cell_type": "code",
      "source": [
        "x @ np.ones(3) # Perform matrix multiplication of x and a 1D array of ones using the @ operator"
      ],
      "metadata": {
        "colab": {
          "base_uri": "https://localhost:8080/"
        },
        "id": "JWITwFuaQsm9",
        "outputId": "14d623e7-6aef-4f48-8548-479159513ec1"
      },
      "execution_count": 159,
      "outputs": [
        {
          "output_type": "execute_result",
          "data": {
            "text/plain": [
              "array([ 6., 15.])"
            ]
          },
          "metadata": {},
          "execution_count": 159
        }
      ]
    },
    {
      "cell_type": "code",
      "source": [
        "from numpy.linalg import inv, qr # Import inverse and QR decomposition functions\n",
        "X = np.random.randn(5, 5) # Create a 5x5 array of random numbers from a standard normal distribution\n",
        "mat = X.T.dot(X) # Compute the matrix product of the transpose of X and X\n",
        "inv(mat) # Compute the inverse of the matrix 'mat'"
      ],
      "metadata": {
        "colab": {
          "base_uri": "https://localhost:8080/"
        },
        "id": "LnKAvp9uQsj1",
        "outputId": "944afa64-b22e-4407-fa5b-f2a55bbf2cb2"
      },
      "execution_count": 160,
      "outputs": [
        {
          "output_type": "execute_result",
          "data": {
            "text/plain": [
              "array([[ 1.1776, -1.6613,  2.2555,  1.3622, -0.602 ],\n",
              "       [-1.6613,  4.151 , -5.2716, -3.1114,  1.6079],\n",
              "       [ 2.2555, -5.2716,  7.1696,  4.2369, -1.9683],\n",
              "       [ 1.3622, -3.1114,  4.2369,  3.0837, -1.0896],\n",
              "       [-0.602 ,  1.6079, -1.9683, -1.0896,  0.9056]])"
            ]
          },
          "metadata": {},
          "execution_count": 160
        }
      ]
    },
    {
      "cell_type": "code",
      "source": [
        "from numpy.linalg import inv, qr # Import inverse and QR decomposition functions\n",
        "X = rng.standard_normal((5, 5)) # Create a 5x5 array of random numbers using the rng object\n",
        "mat = X.T @ X # Compute the matrix product of the transpose of X and X using the @ operator\n",
        "inv(mat) # Compute the inverse of the matrix 'mat'"
      ],
      "metadata": {
        "colab": {
          "base_uri": "https://localhost:8080/"
        },
        "id": "QjigdL-YRV3u",
        "outputId": "3bf74067-9c83-4986-b96d-defc345057f8"
      },
      "execution_count": 162,
      "outputs": [
        {
          "output_type": "execute_result",
          "data": {
            "text/plain": [
              "array([[  3.4993,   2.8444,   3.5956, -16.5538,   4.4733],\n",
              "       [  2.8444,   2.5667,   2.9002, -13.5774,   3.7678],\n",
              "       [  3.5956,   2.9002,   4.4823, -18.3453,   4.7066],\n",
              "       [-16.5538, -13.5774, -18.3453,  84.0102, -22.0484],\n",
              "       [  4.4733,   3.7678,   4.7066, -22.0484,   6.0525]])"
            ]
          },
          "metadata": {},
          "execution_count": 162
        }
      ]
    },
    {
      "cell_type": "code",
      "source": [
        "mat @ inv(mat) # Perform matrix multiplication of 'mat' and its inverse using the @ operator (should result in an identity matrix)"
      ],
      "metadata": {
        "colab": {
          "base_uri": "https://localhost:8080/"
        },
        "id": "M0gbpMaRRcHX",
        "outputId": "3b43414a-9fc8-4207-bbd9-0c3827c9c727"
      },
      "execution_count": 163,
      "outputs": [
        {
          "output_type": "execute_result",
          "data": {
            "text/plain": [
              "array([[ 1.,  0., -0.,  0., -0.],\n",
              "       [ 0.,  1.,  0.,  0., -0.],\n",
              "       [ 0., -0.,  1., -0., -0.],\n",
              "       [ 0., -0.,  0.,  1., -0.],\n",
              "       [ 0., -0.,  0., -0.,  1.]])"
            ]
          },
          "metadata": {},
          "execution_count": 163
        }
      ]
    },
    {
      "cell_type": "code",
      "source": [
        "mat.dot(inv(mat)) # Perform matrix multiplication of 'mat' and its inverse using the dot method (should result in an identity matrix)"
      ],
      "metadata": {
        "colab": {
          "base_uri": "https://localhost:8080/"
        },
        "id": "T5ZKz8EhQsgM",
        "outputId": "70dc6a6b-dbc0-4324-b85b-58c37c600264"
      },
      "execution_count": 161,
      "outputs": [
        {
          "output_type": "execute_result",
          "data": {
            "text/plain": [
              "array([[ 1.,  0.,  0.,  0., -0.],\n",
              "       [ 0.,  1.,  0.,  0.,  0.],\n",
              "       [ 0.,  0.,  1., -0.,  0.],\n",
              "       [-0.,  0., -0.,  1.,  0.],\n",
              "       [-0., -0.,  0., -0.,  1.]])"
            ]
          },
          "metadata": {},
          "execution_count": 161
        }
      ]
    },
    {
      "cell_type": "markdown",
      "source": [
        "# **4.7 Example: Random Walks**"
      ],
      "metadata": {
        "id": "JcEJpFqcW-gY"
      }
    },
    {
      "cell_type": "code",
      "source": [
        "import random # Import the random module\n",
        "position = 0 # Initialize the position\n",
        "walk = [position] # Initialize the walk list with the starting position\n",
        "nsteps = 1000 # Set the number of steps\n",
        "for _ in range(nsteps): # Loop for the specified number of steps\n",
        "  step = 1 if random.randint(0, 1) else -1 # Randomly choose either 1 or -1 as the step size\n",
        "  position += step # Update the position\n",
        "  walk.append(position) # Append the new position to the walk list"
      ],
      "metadata": {
        "id": "eKOyh1_TQsci"
      },
      "execution_count": 164,
      "outputs": []
    },
    {
      "cell_type": "code",
      "source": [
        "plt.figure() # Create a new figure for plotting"
      ],
      "metadata": {
        "colab": {
          "base_uri": "https://localhost:8080/",
          "height": 53
        },
        "id": "RQzcYZxnR6Ky",
        "outputId": "eecbea30-57e6-4195-b9d0-6d804ab32b43"
      },
      "execution_count": 165,
      "outputs": [
        {
          "output_type": "execute_result",
          "data": {
            "text/plain": [
              "<Figure size 1000x600 with 0 Axes>"
            ]
          },
          "metadata": {},
          "execution_count": 165
        },
        {
          "output_type": "display_data",
          "data": {
            "text/plain": [
              "<Figure size 1000x600 with 0 Axes>"
            ]
          },
          "metadata": {}
        }
      ]
    },
    {
      "cell_type": "code",
      "source": [
        "plt.plot(walk[:100]) # Plot the first 100 steps of the walk"
      ],
      "metadata": {
        "colab": {
          "base_uri": "https://localhost:8080/",
          "height": 540
        },
        "id": "HcMsu5LbSAZj",
        "outputId": "b355b5c3-a95a-4aa4-baa1-3743d3b031e3"
      },
      "execution_count": 166,
      "outputs": [
        {
          "output_type": "execute_result",
          "data": {
            "text/plain": [
              "[<matplotlib.lines.Line2D at 0x7d93ed985fd0>]"
            ]
          },
          "metadata": {},
          "execution_count": 166
        },
        {
          "output_type": "display_data",
          "data": {
            "text/plain": [
              "<Figure size 1000x600 with 1 Axes>"
            ],
            "image/png": "[encoded data removed]"
          },
          "metadata": {}
        }
      ]
    },
    {
      "cell_type": "code",
      "source": [
        "nsteps = 1000 # Set the number of steps\n",
        "rng = np.random.default_rng(seed=12345) # Create a new random number generator with a seed\n",
        "draws = rng.integers(0, 2, size= nsteps) # Generate random integers (0 or 1) for each step\n",
        "steps = np.where(draws == 0, 1, -1) # Convert 0s to 1s and 1s to -1s to represent steps\n",
        "walk = steps.cumsum() # Compute the cumulative sum of steps to get the walk positions"
      ],
      "metadata": {
        "id": "PkFCk14bSEBy"
      },
      "execution_count": 175,
      "outputs": []
    },
    {
      "cell_type": "code",
      "source": [
        "walk.min() # Find the minimum value in the walk array"
      ],
      "metadata": {
        "colab": {
          "base_uri": "https://localhost:8080/"
        },
        "id": "M4sYmR6CSwfH",
        "outputId": "f45dfd50-03dd-4400-8bfd-b249d45ccb14"
      },
      "execution_count": 176,
      "outputs": [
        {
          "output_type": "execute_result",
          "data": {
            "text/plain": [
              "np.int64(-8)"
            ]
          },
          "metadata": {},
          "execution_count": 176
        }
      ]
    },
    {
      "cell_type": "code",
      "source": [
        "walk.max() # Find the maximum value in the walk array"
      ],
      "metadata": {
        "colab": {
          "base_uri": "https://localhost:8080/"
        },
        "id": "iSSIAg2YS06u",
        "outputId": "4b13bbab-fc3c-4a42-8685-94821c068321"
      },
      "execution_count": 177,
      "outputs": [
        {
          "output_type": "execute_result",
          "data": {
            "text/plain": [
              "np.int64(50)"
            ]
          },
          "metadata": {},
          "execution_count": 177
        }
      ]
    },
    {
      "cell_type": "code",
      "source": [
        "(np.abs(walk) >= 10).argmax() # Find the index of the first step where the absolute value of the walk is greater than or equal to 10"
      ],
      "metadata": {
        "colab": {
          "base_uri": "https://localhost:8080/"
        },
        "id": "4DDol-o-S_EL",
        "outputId": "9be93bd3-394a-4a5b-d9ac-2cf85b490972"
      },
      "execution_count": 178,
      "outputs": [
        {
          "output_type": "execute_result",
          "data": {
            "text/plain": [
              "np.int64(155)"
            ]
          },
          "metadata": {},
          "execution_count": 178
        }
      ]
    },
    {
      "cell_type": "markdown",
      "source": [
        "# **Simulating Many Random Walks at Once**"
      ],
      "metadata": {
        "id": "6RRsqkA9W1oQ"
      }
    },
    {
      "cell_type": "code",
      "source": [
        "nwalks = 5000 # Set the number of random walks\n",
        "nsteps = 1000 # Set the number of steps in each walk\n",
        "draws = rng.integers(0, 2, size=(nwalks, nsteps)) # Generate a 2D array of random integers (0 or 1) for multiple walks\n",
        "steps = np.where(draws > 0, 1, -1) # Convert 0s to 1s and 1s to -1s to represent steps for multiple walks\n",
        "walks = steps.cumsum(axis=1) # Compute the cumulative sum of steps along axis 1 (rows) to get the positions for each walk\n",
        "walks # Display the resulting 2D array of walks"
      ],
      "metadata": {
        "colab": {
          "base_uri": "https://localhost:8080/"
        },
        "id": "FAj0vLoVTDQx",
        "outputId": "6c0cb5ca-b1d4-415e-a754-b1e7b4ce5814"
      },
      "execution_count": 180,
      "outputs": [
        {
          "output_type": "execute_result",
          "data": {
            "text/plain": [
              "array([[  1,   2,   3, ...,  22,  23,  22],\n",
              "       [  1,   0,  -1, ..., -50, -49, -48],\n",
              "       [  1,   2,   3, ...,  50,  49,  48],\n",
              "       ...,\n",
              "       [ -1,  -2,  -1, ..., -10,  -9, -10],\n",
              "       [ -1,  -2,  -3, ...,   8,   9,   8],\n",
              "       [ -1,   0,   1, ...,  -4,  -3,  -2]])"
            ]
          },
          "metadata": {},
          "execution_count": 180
        }
      ]
    },
    {
      "cell_type": "code",
      "source": [
        "walks.max() # Find the maximum value across all walks"
      ],
      "metadata": {
        "colab": {
          "base_uri": "https://localhost:8080/"
        },
        "id": "cbDQAPxeTpb4",
        "outputId": "768d37b7-6838-4a05-eead-e3ac7612f2db"
      },
      "execution_count": 181,
      "outputs": [
        {
          "output_type": "execute_result",
          "data": {
            "text/plain": [
              "np.int64(114)"
            ]
          },
          "metadata": {},
          "execution_count": 181
        }
      ]
    },
    {
      "cell_type": "code",
      "source": [
        "walks.min() # Find the minimum value across all walks"
      ],
      "metadata": {
        "colab": {
          "base_uri": "https://localhost:8080/"
        },
        "id": "YGNrg4PyTrwl",
        "outputId": "2600da63-2d79-475b-f728-ff986059da7a"
      },
      "execution_count": 182,
      "outputs": [
        {
          "output_type": "execute_result",
          "data": {
            "text/plain": [
              "np.int64(-120)"
            ]
          },
          "metadata": {},
          "execution_count": 182
        }
      ]
    },
    {
      "cell_type": "code",
      "source": [
        "hits30 = (np.abs(walks) >=30).any(axis=1) # Check which walks reached an absolute value of 30 at any point\n",
        "hits30 # Display the boolean array indicating which walks hit 30"
      ],
      "metadata": {
        "colab": {
          "base_uri": "https://localhost:8080/"
        },
        "id": "AS344KjMTtpk",
        "outputId": "7fbd66cf-11f4-4ad0-803d-b5c33184ec95"
      },
      "execution_count": 183,
      "outputs": [
        {
          "output_type": "execute_result",
          "data": {
            "text/plain": [
              "array([False,  True,  True, ...,  True, False,  True])"
            ]
          },
          "metadata": {},
          "execution_count": 183
        }
      ]
    },
    {
      "cell_type": "code",
      "source": [
        "hits30.sum() # Count the number of walks that hit an absolute value of 30"
      ],
      "metadata": {
        "colab": {
          "base_uri": "https://localhost:8080/"
        },
        "id": "5osy_mCLT7OJ",
        "outputId": "c4523e1c-5d09-4581-879c-c17fe818c3b2"
      },
      "execution_count": 184,
      "outputs": [
        {
          "output_type": "execute_result",
          "data": {
            "text/plain": [
              "np.int64(3395)"
            ]
          },
          "metadata": {},
          "execution_count": 184
        }
      ]
    },
    {
      "cell_type": "code",
      "source": [
        "crossing_times = (np.abs(walks[hits30]) >= 30).argmax(axis=1) # For the walks that hit 30, find the index (step number) where the absolute value first reached or exceeded 30\n",
        "crossing_times # Display the array of crossing times"
      ],
      "metadata": {
        "colab": {
          "base_uri": "https://localhost:8080/"
        },
        "id": "Fbd-T4EWT96h",
        "outputId": "6fe4436b-bfa9-448b-8f0d-ff6b82d47e14"
      },
      "execution_count": 185,
      "outputs": [
        {
          "output_type": "execute_result",
          "data": {
            "text/plain": [
              "array([201, 491, 283, ..., 219, 259, 541])"
            ]
          },
          "metadata": {},
          "execution_count": 185
        }
      ]
    },
    {
      "cell_type": "code",
      "source": [
        "crossing_times.mean() # Compute the average crossing time for the walks that hit 30"
      ],
      "metadata": {
        "colab": {
          "base_uri": "https://localhost:8080/"
        },
        "id": "Xs78SYV9UE-L",
        "outputId": "ae8f8305-196f-49cb-e773-d509907923d1"
      },
      "execution_count": 186,
      "outputs": [
        {
          "output_type": "execute_result",
          "data": {
            "text/plain": [
              "np.float64(500.5699558173785)"
            ]
          },
          "metadata": {},
          "execution_count": 186
        }
      ]
    },
    {
      "cell_type": "code",
      "source": [
        "draw = 0.25 * rng.standard_normal((nwalks, nsteps)) # Generate a 2D array of random numbers from a normal distribution and scale them\n",
        "draw # Display the array"
      ],
      "metadata": {
        "colab": {
          "base_uri": "https://localhost:8080/"
        },
        "id": "KQ-xfAf9UHuI",
        "outputId": "d7c97096-5627-4cad-9780-c18f05b80042"
      },
      "execution_count": 188,
      "outputs": [
        {
          "output_type": "execute_result",
          "data": {
            "text/plain": [
              "array([[ 0.3934,  0.1918, -0.2688, ...,  0.065 ,  0.2307, -0.1466],\n",
              "       [ 0.075 , -0.2316,  0.3482, ...,  0.0909, -0.0789, -0.0277],\n",
              "       [-0.0005,  0.0938, -0.138 , ..., -0.2301,  0.3366,  0.164 ],\n",
              "       ...,\n",
              "       [-0.0896,  0.1516, -0.167 , ..., -0.0943, -0.5245,  0.3748],\n",
              "       [ 0.5234, -0.4155, -0.0951, ...,  0.3614,  0.019 ,  0.0119],\n",
              "       [ 0.127 ,  0.3038, -0.2153, ..., -0.2252, -0.2472,  0.194 ]])"
            ]
          },
          "metadata": {},
          "execution_count": 188
        }
      ]
    }
  ]
}