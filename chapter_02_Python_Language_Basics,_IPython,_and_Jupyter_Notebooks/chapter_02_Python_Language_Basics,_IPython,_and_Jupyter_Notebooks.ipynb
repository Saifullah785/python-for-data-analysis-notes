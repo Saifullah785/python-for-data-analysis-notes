{
  "nbformat": 4,
  "nbformat_minor": 0,
  "metadata": {
    "colab": {
      "provenance": [],
      "authorship_tag": "ABX9TyMeCxuckbB7hgpS0e8yLW3h",
      "include_colab_link": true
    },
    "kernelspec": {
      "name": "python3",
      "display_name": "Python 3"
    },
    "language_info": {
      "name": "python"
    }
  },
  "cells": [
    {
      "cell_type": "markdown",
      "metadata": {
        "id": "view-in-github",
        "colab_type": "text"
      },
      "source": [
        "<a href=\"https://colab.research.google.com/github/Saifullah785/python-for-data-analysis-notes/blob/main/chapter_02_Python_Language_Basics%2C_IPython%2C_and_Jupyter_Notebooks/chapter_02_Python_Language_Basics%2C_IPython%2C_and_Jupyter_Notebooks.ipynb\" target=\"_parent\"><img src=\"https://colab.research.google.com/assets/colab-badge.svg\" alt=\"Open In Colab\"/></a>"
      ]
    },
    {
      "cell_type": "code",
      "execution_count": 97,
      "metadata": {
        "id": "PwodceobSiUX"
      },
      "outputs": [],
      "source": [
        "import numpy as np\n",
        "np.random.seed(12345) # Set a random seed for reproducibility\n",
        "np.set_printoptions(precision=4, suppress=True) # Set print options for numpy arrays"
      ]
    },
    {
      "cell_type": "code",
      "source": [
        "import numpy as np\n",
        "# Create a list of 7 random numbers from a standard normal distribution\n",
        "data = [np.random.standard_normal() for i in range(7)]\n",
        "data"
      ],
      "metadata": {
        "colab": {
          "base_uri": "https://localhost:8080/"
        },
        "id": "KDxNJJcsUHDI",
        "outputId": "5ad59fc1-bfe0-4a29-d69e-1512b21d8f51"
      },
      "execution_count": 98,
      "outputs": [
        {
          "output_type": "execute_result",
          "data": {
            "text/plain": [
              "[-0.20470765948471295,\n",
              " 0.47894333805754824,\n",
              " -0.5194387150567381,\n",
              " -0.55573030434749,\n",
              " 1.9657805725027142,\n",
              " 1.3934058329729904,\n",
              " 0.09290787674371767]"
            ]
          },
          "metadata": {},
          "execution_count": 98
        }
      ]
    },
    {
      "cell_type": "code",
      "source": [
        "# Create a list named 'a' with elements 1, 2, and 3.\n",
        "a = [1, 2, 3]"
      ],
      "metadata": {
        "id": "N7_4ZfCfUkNI"
      },
      "execution_count": 99,
      "outputs": []
    },
    {
      "cell_type": "code",
      "source": [
        "# Assign the list 'a' to a new variable 'b'. 'b' now refers to the same list as 'a'.\n",
        "b = a\n",
        "b"
      ],
      "metadata": {
        "colab": {
          "base_uri": "https://localhost:8080/"
        },
        "id": "kG1Rhbu9UoY2",
        "outputId": "1d0c89c5-a6de-4803-a947-d622f3a8ea87"
      },
      "execution_count": 100,
      "outputs": [
        {
          "output_type": "execute_result",
          "data": {
            "text/plain": [
              "[1, 2, 3]"
            ]
          },
          "metadata": {},
          "execution_count": 100
        }
      ]
    },
    {
      "cell_type": "code",
      "source": [
        "# Append the integer 4 to the list 'a'. Since 'b' refers to the same list, 'b' will also show this change.\n",
        "a.append(4)\n",
        "b"
      ],
      "metadata": {
        "colab": {
          "base_uri": "https://localhost:8080/"
        },
        "id": "pHerdrbRUs6N",
        "outputId": "abf45937-f9a3-4a72-b77e-e0abf542b009"
      },
      "execution_count": 101,
      "outputs": [
        {
          "output_type": "execute_result",
          "data": {
            "text/plain": [
              "[1, 2, 3, 4]"
            ]
          },
          "metadata": {},
          "execution_count": 101
        }
      ]
    },
    {
      "cell_type": "code",
      "source": [
        "# Define a function named 'apend_element' that takes a list and an element as arguments.\n",
        "# The function appends the element to the end of the list.\n",
        "def apend_element(some_list, element):\n",
        "    some_list.append(element)"
      ],
      "metadata": {
        "id": "J4ib7P4YU6Tb"
      },
      "execution_count": 102,
      "outputs": []
    },
    {
      "cell_type": "code",
      "source": [
        "# Create a list named 'data' with elements 1, 2, and 3.\n",
        "data = [1, 2, 3]\n",
        "# Call the 'apend_element' function to append 4 to the 'data' list.\n",
        "apend_element(data, 4)\n",
        "# Display the modified 'data' list.\n",
        "data"
      ],
      "metadata": {
        "colab": {
          "base_uri": "https://localhost:8080/"
        },
        "id": "Vlu3w5wNVE_F",
        "outputId": "287f5c21-84b4-4a11-f370-b05d43f3aff4"
      },
      "execution_count": 103,
      "outputs": [
        {
          "output_type": "execute_result",
          "data": {
            "text/plain": [
              "[1, 2, 3, 4]"
            ]
          },
          "metadata": {},
          "execution_count": 103
        }
      ]
    },
    {
      "cell_type": "code",
      "source": [
        "# Assign the integer 5 to the variable 'a'.\n",
        "a = 5\n",
        "\n",
        "# Check and display the type of the variable 'a'.\n",
        "type(a)"
      ],
      "metadata": {
        "colab": {
          "base_uri": "https://localhost:8080/"
        },
        "id": "sSBA8E42VL-H",
        "outputId": "7e8175b7-f5fd-43e4-aef5-64aa080dfa67"
      },
      "execution_count": 104,
      "outputs": [
        {
          "output_type": "execute_result",
          "data": {
            "text/plain": [
              "int"
            ]
          },
          "metadata": {},
          "execution_count": 104
        }
      ]
    },
    {
      "cell_type": "code",
      "source": [
        "a = \"foo\"\n",
        "\n",
        "# Check and display the type of the variable 'a'.\n",
        "type(a)"
      ],
      "metadata": {
        "colab": {
          "base_uri": "https://localhost:8080/"
        },
        "id": "lCiTVvXsVV_1",
        "outputId": "2a153bf6-0fdb-43f4-b4a3-515a1f785c40"
      },
      "execution_count": 105,
      "outputs": [
        {
          "output_type": "execute_result",
          "data": {
            "text/plain": [
              "str"
            ]
          },
          "metadata": {},
          "execution_count": 105
        }
      ]
    },
    {
      "cell_type": "code",
      "source": [
        "# This will cause a TypeError because you cannot concatenate a string and an integer directly.\n",
        "\"5\" + 5"
      ],
      "metadata": {
        "colab": {
          "base_uri": "https://localhost:8080/",
          "height": 165
        },
        "id": "0QiVhaDHVbB0",
        "outputId": "5c572edb-349b-4509-cf62-9401e5ad4576"
      },
      "execution_count": 106,
      "outputs": [
        {
          "output_type": "error",
          "ename": "TypeError",
          "evalue": "can only concatenate str (not \"int\") to str",
          "traceback": [
            "\u001b[0;31m---------------------------------------------------------------------------\u001b[0m",
            "\u001b[0;31mTypeError\u001b[0m                                 Traceback (most recent call last)",
            "\u001b[0;32m/tmp/ipython-input-106-973795249.py\u001b[0m in \u001b[0;36m<cell line: 0>\u001b[0;34m()\u001b[0m\n\u001b[1;32m      1\u001b[0m \u001b[0;31m# This will cause a TypeError because you cannot concatenate a string and an integer directly.\u001b[0m\u001b[0;34m\u001b[0m\u001b[0;34m\u001b[0m\u001b[0m\n\u001b[0;32m----> 2\u001b[0;31m \u001b[0;34m\"5\"\u001b[0m \u001b[0;34m+\u001b[0m \u001b[0;36m5\u001b[0m\u001b[0;34m\u001b[0m\u001b[0;34m\u001b[0m\u001b[0m\n\u001b[0m",
            "\u001b[0;31mTypeError\u001b[0m: can only concatenate str (not \"int\") to str"
          ]
        }
      ]
    },
    {
      "cell_type": "code",
      "source": [
        "a = 4.5\n",
        "b = 2\n",
        "\n",
        "# string formatting , to be visited later\n",
        "print (f\"a is {type(a)}, b is {type(b)}\")\n",
        "a / b"
      ],
      "metadata": {
        "colab": {
          "base_uri": "https://localhost:8080/"
        },
        "id": "SwExgnnFVgL9",
        "outputId": "07c27571-d80a-4dd9-ee46-c8cfe7a2967c"
      },
      "execution_count": 12,
      "outputs": [
        {
          "output_type": "stream",
          "name": "stdout",
          "text": [
            "a is <class 'float'>, b is <class 'int'>\n"
          ]
        },
        {
          "output_type": "execute_result",
          "data": {
            "text/plain": [
              "2.25"
            ]
          },
          "metadata": {},
          "execution_count": 12
        }
      ]
    },
    {
      "cell_type": "code",
      "source": [
        "a = 5\n",
        "\n",
        "# Check if the variable 'a' is an instance of the integer type.\n",
        "isinstance(a, int)"
      ],
      "metadata": {
        "colab": {
          "base_uri": "https://localhost:8080/"
        },
        "id": "6FyJh_SMV2vu",
        "outputId": "3b93ca0f-9f6c-4284-c891-ebeabae6b0e5"
      },
      "execution_count": 107,
      "outputs": [
        {
          "output_type": "execute_result",
          "data": {
            "text/plain": [
              "True"
            ]
          },
          "metadata": {},
          "execution_count": 107
        }
      ]
    },
    {
      "cell_type": "code",
      "source": [
        "a = 5; b = 4.5\n",
        "\n",
        "# Check if variable 'a' is an instance of int or float.\n",
        "isinstance(a, (int, float))\n",
        "# Check if variable 'b' is an instance of int or float.\n",
        "isinstance(b, (int, float))"
      ],
      "metadata": {
        "colab": {
          "base_uri": "https://localhost:8080/"
        },
        "id": "stTIv08qXVR2",
        "outputId": "7274fb65-8f6c-419a-af83-8eaeb83f8ec5"
      },
      "execution_count": 108,
      "outputs": [
        {
          "output_type": "execute_result",
          "data": {
            "text/plain": [
              "True"
            ]
          },
          "metadata": {},
          "execution_count": 108
        }
      ]
    },
    {
      "cell_type": "code",
      "source": [
        "# Assign the string \"foo\" to the variable 'a'.\n",
        "a = \"foo\""
      ],
      "metadata": {
        "id": "YchlZfQfXzwd"
      },
      "execution_count": 109,
      "outputs": []
    },
    {
      "cell_type": "code",
      "source": [
        "# Get the 'split' attribute of the string 'a'. This returns the built-in method for splitting strings.\n",
        "getattr(a, \"split\")"
      ],
      "metadata": {
        "colab": {
          "base_uri": "https://localhost:8080/"
        },
        "id": "AbCSYGepYANf",
        "outputId": "2b009c15-9898-4ce6-dc81-c3db5f58fb7a"
      },
      "execution_count": 110,
      "outputs": [
        {
          "output_type": "execute_result",
          "data": {
            "text/plain": [
              "<function str.split(sep=None, maxsplit=-1)>"
            ]
          },
          "metadata": {},
          "execution_count": 110
        }
      ]
    },
    {
      "cell_type": "code",
      "source": [
        "# Define a function that checks if an object is iterable.\n",
        "def isiterable(obj):\n",
        "  try:\n",
        "    # Attempt to get an iterator for the object. If successful, it's iterable.\n",
        "    iter(obj)\n",
        "    return True\n",
        "  except TypeError:\n",
        "    # If a TypeError occurs, the object is not iterable.\n",
        "    return False"
      ],
      "metadata": {
        "id": "K4fzO9ieY2u2"
      },
      "execution_count": 111,
      "outputs": []
    },
    {
      "cell_type": "code",
      "source": [
        "# Check if the string \"a string\" is iterable using the isiterable function.\n",
        "isiterable(\"a string\")"
      ],
      "metadata": {
        "colab": {
          "base_uri": "https://localhost:8080/"
        },
        "id": "64CMp1MvZUMG",
        "outputId": "4cc5f681-f10f-4cd2-c132-5a73227d06fa"
      },
      "execution_count": 112,
      "outputs": [
        {
          "output_type": "execute_result",
          "data": {
            "text/plain": [
              "True"
            ]
          },
          "metadata": {},
          "execution_count": 112
        }
      ]
    },
    {
      "cell_type": "code",
      "source": [
        "# Check if the list [1, 2, 3] is iterable using the isiterable function.\n",
        "isiterable([1, 2, 3])"
      ],
      "metadata": {
        "colab": {
          "base_uri": "https://localhost:8080/"
        },
        "id": "sOkCuxAeZhPu",
        "outputId": "1b2ab850-e79d-4602-d04c-b20ad9052557"
      },
      "execution_count": 113,
      "outputs": [
        {
          "output_type": "execute_result",
          "data": {
            "text/plain": [
              "True"
            ]
          },
          "metadata": {},
          "execution_count": 113
        }
      ]
    },
    {
      "cell_type": "code",
      "source": [
        "# Check if the integer 5 is iterable using the isiterable function.\n",
        "isiterable(5)"
      ],
      "metadata": {
        "colab": {
          "base_uri": "https://localhost:8080/"
        },
        "id": "Ws2Kg01HZl7v",
        "outputId": "97b1671d-571b-48a6-90ff-6ae2e4a2aef1"
      },
      "execution_count": 114,
      "outputs": [
        {
          "output_type": "execute_result",
          "data": {
            "text/plain": [
              "False"
            ]
          },
          "metadata": {},
          "execution_count": 114
        }
      ]
    },
    {
      "cell_type": "code",
      "source": [
        "# Perform subtraction.\n",
        "5 - 7\n",
        "\n",
        "# Perform addition with a float.\n",
        "12 + 21.5\n",
        "\n",
        "# Perform a less than or equal to comparison.\n",
        "5 <= 2"
      ],
      "metadata": {
        "colab": {
          "base_uri": "https://localhost:8080/"
        },
        "id": "bZgiEXicZpqG",
        "outputId": "6f055af4-5c9a-410f-a151-34f3bfb4e400"
      },
      "execution_count": 115,
      "outputs": [
        {
          "output_type": "execute_result",
          "data": {
            "text/plain": [
              "False"
            ]
          },
          "metadata": {},
          "execution_count": 115
        }
      ]
    },
    {
      "cell_type": "code",
      "source": [
        "# Create a list 'a'.\n",
        "a = [1, 2, 3]\n",
        "# Assign 'a' to 'b'. 'b' now refers to the same list object as 'a'.\n",
        "b = a\n",
        "# Create a new list 'c' by copying elements from 'a'. 'c' is a different list object.\n",
        "c = list(a)\n",
        "\n",
        "# Check if 'a' and 'b' refer to the same object in memory.\n",
        "a is b"
      ],
      "metadata": {
        "colab": {
          "base_uri": "https://localhost:8080/"
        },
        "id": "8Jh_ZduuZ4TI",
        "outputId": "a2ad77f5-b815-4698-a12a-55b9c350011e"
      },
      "execution_count": 116,
      "outputs": [
        {
          "output_type": "execute_result",
          "data": {
            "text/plain": [
              "True"
            ]
          },
          "metadata": {},
          "execution_count": 116
        }
      ]
    },
    {
      "cell_type": "code",
      "source": [
        "# Check if 'a' and 'c' do not refer to the same object in memory.\n",
        "a is not c"
      ],
      "metadata": {
        "colab": {
          "base_uri": "https://localhost:8080/"
        },
        "id": "YceWCztxaIQG",
        "outputId": "566ad813-2ae4-4c0f-c682-92361ede7221"
      },
      "execution_count": 117,
      "outputs": [
        {
          "output_type": "execute_result",
          "data": {
            "text/plain": [
              "True"
            ]
          },
          "metadata": {},
          "execution_count": 117
        }
      ]
    },
    {
      "cell_type": "code",
      "source": [
        "# Check if the contents of list 'a' are equal to the contents of list 'c'.\n",
        "a == c"
      ],
      "metadata": {
        "colab": {
          "base_uri": "https://localhost:8080/"
        },
        "id": "0TsWpB8SaRAY",
        "outputId": "833cb7b4-6a2e-41d1-b34a-545f37fdc712"
      },
      "execution_count": 118,
      "outputs": [
        {
          "output_type": "execute_result",
          "data": {
            "text/plain": [
              "True"
            ]
          },
          "metadata": {},
          "execution_count": 118
        }
      ]
    },
    {
      "cell_type": "code",
      "source": [
        "# Assign the value None to the variable 'a'.\n",
        "a = None\n",
        "# Check if 'a' is None using the 'is' operator.\n",
        "a is None"
      ],
      "metadata": {
        "colab": {
          "base_uri": "https://localhost:8080/"
        },
        "id": "fuBNoBE-aS8-",
        "outputId": "336ff115-aa07-45d4-8af0-f85d9f4387f9"
      },
      "execution_count": 119,
      "outputs": [
        {
          "output_type": "execute_result",
          "data": {
            "text/plain": [
              "True"
            ]
          },
          "metadata": {},
          "execution_count": 119
        }
      ]
    },
    {
      "cell_type": "code",
      "source": [
        "# Create a list named 'a_list'.\n",
        "a_list = ['foo', 2, [4, 5]]\n",
        "\n",
        "# Modify the element at index 2 of the list 'a_list' to a tuple.\n",
        "a_list[2] = (3, 4)\n",
        "\n",
        "# Display the modified list.\n",
        "a_list"
      ],
      "metadata": {
        "colab": {
          "base_uri": "https://localhost:8080/"
        },
        "id": "2thkYSC3aagr",
        "outputId": "2da78988-6ea3-4dc9-f16f-5feceaeebbe4"
      },
      "execution_count": 120,
      "outputs": [
        {
          "output_type": "execute_result",
          "data": {
            "text/plain": [
              "['foo', 2, (3, 4)]"
            ]
          },
          "metadata": {},
          "execution_count": 120
        }
      ]
    },
    {
      "cell_type": "code",
      "source": [
        "# Create a tuple named 'a_tuple'. Tuples are immutable.\n",
        "a_tuple = (3, 5, (4, 5))\n",
        "# This will cause a TypeError because tuples do not support item assignment.\n",
        "a_tuple[1] = \"four\""
      ],
      "metadata": {
        "colab": {
          "base_uri": "https://localhost:8080/",
          "height": 183
        },
        "id": "jvg-OSnRay4u",
        "outputId": "b9b6b530-20b8-4623-9fa1-0601e4f44903"
      },
      "execution_count": 121,
      "outputs": [
        {
          "output_type": "error",
          "ename": "TypeError",
          "evalue": "'tuple' object does not support item assignment",
          "traceback": [
            "\u001b[0;31m---------------------------------------------------------------------------\u001b[0m",
            "\u001b[0;31mTypeError\u001b[0m                                 Traceback (most recent call last)",
            "\u001b[0;32m/tmp/ipython-input-121-3014284922.py\u001b[0m in \u001b[0;36m<cell line: 0>\u001b[0;34m()\u001b[0m\n\u001b[1;32m      2\u001b[0m \u001b[0ma_tuple\u001b[0m \u001b[0;34m=\u001b[0m \u001b[0;34m(\u001b[0m\u001b[0;36m3\u001b[0m\u001b[0;34m,\u001b[0m \u001b[0;36m5\u001b[0m\u001b[0;34m,\u001b[0m \u001b[0;34m(\u001b[0m\u001b[0;36m4\u001b[0m\u001b[0;34m,\u001b[0m \u001b[0;36m5\u001b[0m\u001b[0;34m)\u001b[0m\u001b[0;34m)\u001b[0m\u001b[0;34m\u001b[0m\u001b[0;34m\u001b[0m\u001b[0m\n\u001b[1;32m      3\u001b[0m \u001b[0;31m# This will cause a TypeError because tuples do not support item assignment.\u001b[0m\u001b[0;34m\u001b[0m\u001b[0;34m\u001b[0m\u001b[0m\n\u001b[0;32m----> 4\u001b[0;31m \u001b[0ma_tuple\u001b[0m\u001b[0;34m[\u001b[0m\u001b[0;36m1\u001b[0m\u001b[0;34m]\u001b[0m \u001b[0;34m=\u001b[0m \u001b[0;34m\"four\"\u001b[0m\u001b[0;34m\u001b[0m\u001b[0;34m\u001b[0m\u001b[0m\n\u001b[0m",
            "\u001b[0;31mTypeError\u001b[0m: 'tuple' object does not support item assignment"
          ]
        }
      ]
    },
    {
      "cell_type": "code",
      "source": [
        "# Assign an integer value to the variable 'ival'.\n",
        "ival = 17239871\n",
        "# Calculate the sixth power of 'ival'.\n",
        "ival ** 6"
      ],
      "metadata": {
        "colab": {
          "base_uri": "https://localhost:8080/"
        },
        "id": "aQAl8rUfa84_",
        "outputId": "c1649913-3e68-4896-b53b-8da4c5dec350"
      },
      "execution_count": 122,
      "outputs": [
        {
          "output_type": "execute_result",
          "data": {
            "text/plain": [
              "26254519291092456596965462913230729701102721"
            ]
          },
          "metadata": {},
          "execution_count": 122
        }
      ]
    },
    {
      "cell_type": "code",
      "source": [
        "# Perform float division (division that results in a float).\n",
        "3 / 2"
      ],
      "metadata": {
        "colab": {
          "base_uri": "https://localhost:8080/"
        },
        "id": "6lricBK1bNBv",
        "outputId": "33dff5a5-21c2-47a7-d271-3f062fb69ce7"
      },
      "execution_count": 123,
      "outputs": [
        {
          "output_type": "execute_result",
          "data": {
            "text/plain": [
              "1.5"
            ]
          },
          "metadata": {},
          "execution_count": 123
        }
      ]
    },
    {
      "cell_type": "code",
      "source": [
        "# Perform integer division (division that results in an integer, discarding the remainder).\n",
        "3 // 2"
      ],
      "metadata": {
        "colab": {
          "base_uri": "https://localhost:8080/"
        },
        "id": "vETjkwR_bPRw",
        "outputId": "b8837722-2ab1-406a-f21f-50b7f6ba696b"
      },
      "execution_count": 124,
      "outputs": [
        {
          "output_type": "execute_result",
          "data": {
            "text/plain": [
              "1"
            ]
          },
          "metadata": {},
          "execution_count": 124
        }
      ]
    },
    {
      "cell_type": "code",
      "source": [
        "# Create a multiline string and assign it to the variable 'c'.\n",
        "c = \"\"\"\n",
        "This is a longer string that\n",
        "spans multiple lines\n",
        "\"\"\""
      ],
      "metadata": {
        "id": "pjIuIog0bVXQ"
      },
      "execution_count": 125,
      "outputs": []
    },
    {
      "cell_type": "code",
      "source": [
        "# Count the number of newline characters (\"\\n\") in the multiline string 'c'.\n",
        "c.count(\"\\n\")"
      ],
      "metadata": {
        "colab": {
          "base_uri": "https://localhost:8080/"
        },
        "id": "N4rT3HC2bZF0",
        "outputId": "e1f77dfa-3419-4679-c634-ce50e870e21b"
      },
      "execution_count": 126,
      "outputs": [
        {
          "output_type": "execute_result",
          "data": {
            "text/plain": [
              "3"
            ]
          },
          "metadata": {},
          "execution_count": 126
        }
      ]
    },
    {
      "cell_type": "code",
      "source": [
        "# Assign a string to the variable 'a'.\n",
        "a = \"this is a string\"\n",
        "# This will cause a TypeError because strings are immutable and do not support item assignment.\n",
        "a[10] = \"f\""
      ],
      "metadata": {
        "colab": {
          "base_uri": "https://localhost:8080/",
          "height": 183
        },
        "id": "IUmRwG26blU9",
        "outputId": "f45006cf-8e0f-4fc1-af30-fc76fb2b8768"
      },
      "execution_count": 127,
      "outputs": [
        {
          "output_type": "error",
          "ename": "TypeError",
          "evalue": "'str' object does not support item assignment",
          "traceback": [
            "\u001b[0;31m---------------------------------------------------------------------------\u001b[0m",
            "\u001b[0;31mTypeError\u001b[0m                                 Traceback (most recent call last)",
            "\u001b[0;32m/tmp/ipython-input-127-1767500459.py\u001b[0m in \u001b[0;36m<cell line: 0>\u001b[0;34m()\u001b[0m\n\u001b[1;32m      2\u001b[0m \u001b[0ma\u001b[0m \u001b[0;34m=\u001b[0m \u001b[0;34m\"this is a string\"\u001b[0m\u001b[0;34m\u001b[0m\u001b[0;34m\u001b[0m\u001b[0m\n\u001b[1;32m      3\u001b[0m \u001b[0;31m# This will cause a TypeError because strings are immutable and do not support item assignment.\u001b[0m\u001b[0;34m\u001b[0m\u001b[0;34m\u001b[0m\u001b[0m\n\u001b[0;32m----> 4\u001b[0;31m \u001b[0ma\u001b[0m\u001b[0;34m[\u001b[0m\u001b[0;36m10\u001b[0m\u001b[0;34m]\u001b[0m \u001b[0;34m=\u001b[0m \u001b[0;34m\"f\"\u001b[0m\u001b[0;34m\u001b[0m\u001b[0;34m\u001b[0m\u001b[0m\n\u001b[0m",
            "\u001b[0;31mTypeError\u001b[0m: 'str' object does not support item assignment"
          ]
        }
      ]
    },
    {
      "cell_type": "code",
      "source": [
        "# Create a new string 'b' by replacing the substring \"string\" with \"longer string\" in the string 'a'.\n",
        "b = a.replace(\"string\", \"longer string\")\n",
        "# Display the new string 'b'.\n",
        "b"
      ],
      "metadata": {
        "colab": {
          "base_uri": "https://localhost:8080/",
          "height": 36
        },
        "id": "Ipld3McDbwgQ",
        "outputId": "654e9e6f-867d-4d7c-9e84-ef09f0f9cf32"
      },
      "execution_count": 128,
      "outputs": [
        {
          "output_type": "execute_result",
          "data": {
            "text/plain": [
              "'this is a longer string'"
            ],
            "application/vnd.google.colaboratory.intrinsic+json": {
              "type": "string"
            }
          },
          "metadata": {},
          "execution_count": 128
        }
      ]
    },
    {
      "cell_type": "code",
      "source": [
        "# Display the original string 'a' to show that it was not modified by the replace method.\n",
        "a"
      ],
      "metadata": {
        "colab": {
          "base_uri": "https://localhost:8080/",
          "height": 36
        },
        "id": "f2Xpf7eIb5nA",
        "outputId": "0aadeff4-924c-4de7-f0f7-ef449e53fcaf"
      },
      "execution_count": 129,
      "outputs": [
        {
          "output_type": "execute_result",
          "data": {
            "text/plain": [
              "'this is a string'"
            ],
            "application/vnd.google.colaboratory.intrinsic+json": {
              "type": "string"
            }
          },
          "metadata": {},
          "execution_count": 129
        }
      ]
    },
    {
      "cell_type": "code",
      "source": [
        "# Assign a float value to the variable 'a'.\n",
        "a = 5.6\n",
        "# Convert the float 'a' to a string and assign it to the variable 's'.\n",
        "s = str(a)\n",
        "# Print the string 's'.\n",
        "print(s)"
      ],
      "metadata": {
        "colab": {
          "base_uri": "https://localhost:8080/"
        },
        "id": "zreQYpOeb-bQ",
        "outputId": "1a304987-f1dd-46e5-dc0c-bde8bf862aab"
      },
      "execution_count": 130,
      "outputs": [
        {
          "output_type": "stream",
          "name": "stdout",
          "text": [
            "5.6\n"
          ]
        }
      ]
    },
    {
      "cell_type": "code",
      "source": [
        "# Assign a string to the variable 's'.\n",
        "s = 'python'\n",
        "# Convert the string 's' into a list of characters.\n",
        "list(s)\n",
        "# Slice the string 's' to get the first three characters.\n",
        "s[:3]"
      ],
      "metadata": {
        "colab": {
          "base_uri": "https://localhost:8080/",
          "height": 36
        },
        "id": "7FZZOIUicDhx",
        "outputId": "aef097ce-fa3d-43d3-f03b-a42a3e80b69e"
      },
      "execution_count": 131,
      "outputs": [
        {
          "output_type": "execute_result",
          "data": {
            "text/plain": [
              "'pyt'"
            ],
            "application/vnd.google.colaboratory.intrinsic+json": {
              "type": "string"
            }
          },
          "metadata": {},
          "execution_count": 131
        }
      ]
    },
    {
      "cell_type": "code",
      "source": [
        "# Assign a string with an escaped backslash to the variable 's'.\n",
        "s = \"12\\\\34\"\n",
        "# Print the string 's'. The escaped backslash is printed as a single backslash.\n",
        "print(s)"
      ],
      "metadata": {
        "colab": {
          "base_uri": "https://localhost:8080/"
        },
        "id": "9r89BhBxcJzq",
        "outputId": "8cc608fe-8e02-4889-90cb-33b7362b6e41"
      },
      "execution_count": 132,
      "outputs": [
        {
          "output_type": "stream",
          "name": "stdout",
          "text": [
            "12\\34\n"
          ]
        }
      ]
    },
    {
      "cell_type": "code",
      "source": [
        "# Assign a raw string to the variable 's'. Raw strings treat backslashes as literal characters.\n",
        "s = r\"this\\has\\no\\special\\characters\"\n",
        "# Display the raw string 's'. The backslashes are included in the string.\n",
        "s"
      ],
      "metadata": {
        "colab": {
          "base_uri": "https://localhost:8080/",
          "height": 36
        },
        "id": "trFKqr_fcNRv",
        "outputId": "dcc94b3f-409d-4b86-abb2-00ff21cbf68c"
      },
      "execution_count": 133,
      "outputs": [
        {
          "output_type": "execute_result",
          "data": {
            "text/plain": [
              "'this\\\\has\\\\no\\\\special\\\\characters'"
            ],
            "application/vnd.google.colaboratory.intrinsic+json": {
              "type": "string"
            }
          },
          "metadata": {},
          "execution_count": 133
        }
      ]
    },
    {
      "cell_type": "code",
      "source": [
        "# Assign the first part of a string to variable 'a'.\n",
        "a = 'this is the first half '\n",
        "# Assign the second part of a string to variable 'b'.\n",
        "b = 'and this is the second half'\n",
        "# Concatenate (join) the two strings 'a' and 'b'.\n",
        "a + b"
      ],
      "metadata": {
        "colab": {
          "base_uri": "https://localhost:8080/",
          "height": 36
        },
        "id": "ty783aGrcSHU",
        "outputId": "48ae0563-f03b-4b4d-ac01-2117a22ecb0c"
      },
      "execution_count": 134,
      "outputs": [
        {
          "output_type": "execute_result",
          "data": {
            "text/plain": [
              "'this is the first half and this is the second half'"
            ],
            "application/vnd.google.colaboratory.intrinsic+json": {
              "type": "string"
            }
          },
          "metadata": {},
          "execution_count": 134
        }
      ]
    },
    {
      "cell_type": "code",
      "source": [
        "# Create a format string template with placeholders for different data types.\n",
        "# {0: 2f} for a float with 2 decimal places, {1:s} for a string, {2:d} for an integer.\n",
        "template = \"{0: 2f} {1:s} are worth US${2:d}\""
      ],
      "metadata": {
        "id": "Hy1mXX3BcZBf"
      },
      "execution_count": 135,
      "outputs": []
    },
    {
      "cell_type": "code",
      "source": [
        "# This will cause an AttributeError because the method name 'formate' is misspelled.\n",
        "# The correct method name is 'format'.\n",
        "template.formate(88.46, \"Argentine Pesos\", 1)"
      ],
      "metadata": {
        "colab": {
          "base_uri": "https://localhost:8080/",
          "height": 183
        },
        "id": "sVQVtJgRcoUJ",
        "outputId": "2c518fe5-4929-45b0-e11c-7ef41b85526a"
      },
      "execution_count": 136,
      "outputs": [
        {
          "output_type": "error",
          "ename": "AttributeError",
          "evalue": "'str' object has no attribute 'formate'",
          "traceback": [
            "\u001b[0;31m---------------------------------------------------------------------------\u001b[0m",
            "\u001b[0;31mAttributeError\u001b[0m                            Traceback (most recent call last)",
            "\u001b[0;32m/tmp/ipython-input-136-954706364.py\u001b[0m in \u001b[0;36m<cell line: 0>\u001b[0;34m()\u001b[0m\n\u001b[1;32m      1\u001b[0m \u001b[0;31m# This will cause an AttributeError because the method name 'formate' is misspelled.\u001b[0m\u001b[0;34m\u001b[0m\u001b[0;34m\u001b[0m\u001b[0m\n\u001b[1;32m      2\u001b[0m \u001b[0;31m# The correct method name is 'format'.\u001b[0m\u001b[0;34m\u001b[0m\u001b[0;34m\u001b[0m\u001b[0m\n\u001b[0;32m----> 3\u001b[0;31m \u001b[0mtemplate\u001b[0m\u001b[0;34m.\u001b[0m\u001b[0mformate\u001b[0m\u001b[0;34m(\u001b[0m\u001b[0;36m88.46\u001b[0m\u001b[0;34m,\u001b[0m \u001b[0;34m\"Argentine Pesos\"\u001b[0m\u001b[0;34m,\u001b[0m \u001b[0;36m1\u001b[0m\u001b[0;34m)\u001b[0m\u001b[0;34m\u001b[0m\u001b[0;34m\u001b[0m\u001b[0m\n\u001b[0m",
            "\u001b[0;31mAttributeError\u001b[0m: 'str' object has no attribute 'formate'"
          ]
        }
      ]
    },
    {
      "cell_type": "code",
      "source": [
        "# Assign an integer value to the variable 'amount'.\n",
        "amount = 10\n",
        "# Assign a float value to the variable 'rate'.\n",
        "rate = 88.46\n",
        "# Assign a string value to the variable 'currency'.\n",
        "currency = \"Pesos\"\n",
        "# Create a formatted string using an f-string to display the amount, currency, and equivalent USD value.\n",
        "result = f\"{amount} {currency} is worth US${amount / rate}\""
      ],
      "metadata": {
        "id": "i_dqffGbc1EH"
      },
      "execution_count": 137,
      "outputs": []
    },
    {
      "cell_type": "code",
      "source": [
        "# Use an f-string with a formatting specifier \":2f\" to format the result of the division to 2 decimal places.\n",
        "f\"{amount} {currency} is worth US${amount / rate:2f}\""
      ],
      "metadata": {
        "colab": {
          "base_uri": "https://localhost:8080/",
          "height": 36
        },
        "id": "31rjxEwxc-YA",
        "outputId": "247508e2-9637-475c-c729-b805e7696f58"
      },
      "execution_count": 138,
      "outputs": [
        {
          "output_type": "execute_result",
          "data": {
            "text/plain": [
              "'10 Pesos is worth US$0.113045'"
            ],
            "application/vnd.google.colaboratory.intrinsic+json": {
              "type": "string"
            }
          },
          "metadata": {},
          "execution_count": 138
        }
      ]
    },
    {
      "cell_type": "code",
      "source": [
        "# Assign the string 'espanol' to the variable 'val'.\n",
        "val = 'espanol'\n",
        "# Display the value of 'val'.\n",
        "val"
      ],
      "metadata": {
        "colab": {
          "base_uri": "https://localhost:8080/",
          "height": 36
        },
        "id": "W8TJjLO2dMpf",
        "outputId": "843d2f4c-30f3-436f-d40f-1f92f0b44774"
      },
      "execution_count": 139,
      "outputs": [
        {
          "output_type": "execute_result",
          "data": {
            "text/plain": [
              "'espanol'"
            ],
            "application/vnd.google.colaboratory.intrinsic+json": {
              "type": "string"
            }
          },
          "metadata": {},
          "execution_count": 139
        }
      ]
    },
    {
      "cell_type": "code",
      "source": [
        "# Encode the string 'val' into a sequence of bytes using the UTF-8 encoding.\n",
        "val_utf8 = val.encode('utf-8')"
      ],
      "metadata": {
        "id": "6wMl0UtRdSUp"
      },
      "execution_count": 140,
      "outputs": []
    },
    {
      "cell_type": "code",
      "source": [
        "# Encode the string 'val' using the latin1 encoding.\n",
        "val.encode(\"latin1\")\n",
        "# Encode the string 'val' using the utf-16 encoding.\n",
        "val.encode(\"utf-16\")\n",
        "# Encode the string 'val' using the utf-16 little-endian encoding.\n",
        "val.encode(\"utf-16le\")"
      ],
      "metadata": {
        "colab": {
          "base_uri": "https://localhost:8080/"
        },
        "id": "fwDtlO7Jdg4_",
        "outputId": "c0b7bdb1-606c-437b-ede9-2018320aa6ee"
      },
      "execution_count": 141,
      "outputs": [
        {
          "output_type": "execute_result",
          "data": {
            "text/plain": [
              "b'e\\x00s\\x00p\\x00a\\x00n\\x00o\\x00l\\x00'"
            ]
          },
          "metadata": {},
          "execution_count": 141
        }
      ]
    },
    {
      "cell_type": "code",
      "source": [
        "# Evaluate the boolean expression \"True and True\". The 'and' operator returns True if both operands are True.\n",
        "True and True"
      ],
      "metadata": {
        "colab": {
          "base_uri": "https://localhost:8080/"
        },
        "id": "poK98Xhpdo0G",
        "outputId": "2f9b82cd-37be-46cf-923f-a82db0383611"
      },
      "execution_count": 142,
      "outputs": [
        {
          "output_type": "execute_result",
          "data": {
            "text/plain": [
              "True"
            ]
          },
          "metadata": {},
          "execution_count": 142
        }
      ]
    },
    {
      "cell_type": "code",
      "source": [
        "# Evaluate the boolean expression \"False or True\". The 'or' operator returns True if at least one operand is True.\n",
        "False or True"
      ],
      "metadata": {
        "colab": {
          "base_uri": "https://localhost:8080/"
        },
        "id": "lZ_GS7HbdsFr",
        "outputId": "ad6bdcd8-0557-45a0-ce1a-63ee2d785016"
      },
      "execution_count": 143,
      "outputs": [
        {
          "output_type": "execute_result",
          "data": {
            "text/plain": [
              "True"
            ]
          },
          "metadata": {},
          "execution_count": 143
        }
      ]
    },
    {
      "cell_type": "code",
      "source": [
        "# Convert the boolean value False to an integer. False is treated as 0.\n",
        "int(False)\n",
        "# Convert the boolean value True to an integer. True is treated as 1.\n",
        "int(True)"
      ],
      "metadata": {
        "colab": {
          "base_uri": "https://localhost:8080/"
        },
        "id": "lMHS4nYAdvqp",
        "outputId": "921fe7d7-1303-4adb-f335-376405a2f914"
      },
      "execution_count": 144,
      "outputs": [
        {
          "output_type": "execute_result",
          "data": {
            "text/plain": [
              "1"
            ]
          },
          "metadata": {},
          "execution_count": 144
        }
      ]
    },
    {
      "cell_type": "code",
      "source": [
        "# Assign boolean values to variables 'a' and 'b'.\n",
        "a = True\n",
        "b = False\n",
        "# Evaluate the logical negation of 'a'.\n",
        "not a\n",
        "# Evaluate the logical negation of 'b'.\n",
        "not b"
      ],
      "metadata": {
        "colab": {
          "base_uri": "https://localhost:8080/"
        },
        "id": "sI8AKgUnd1K3",
        "outputId": "0c7f2687-ac73-4414-eaae-cc0cc0f3870d"
      },
      "execution_count": 145,
      "outputs": [
        {
          "output_type": "execute_result",
          "data": {
            "text/plain": [
              "True"
            ]
          },
          "metadata": {},
          "execution_count": 145
        }
      ]
    },
    {
      "cell_type": "code",
      "source": [
        "# Assign a string representing a float to the variable 's'.\n",
        "s = \"3.14159\"\n",
        "# Convert the string 's' to a float and assign it to the variable 'fval'.\n",
        "fval = float(s)\n",
        "# Check and display the type of the variable 'fval'.\n",
        "type(fval)"
      ],
      "metadata": {
        "colab": {
          "base_uri": "https://localhost:8080/"
        },
        "id": "9XeJXGk1d8HJ",
        "outputId": "702f4aca-b600-44b0-f634-cd95329f785d"
      },
      "execution_count": 146,
      "outputs": [
        {
          "output_type": "execute_result",
          "data": {
            "text/plain": [
              "float"
            ]
          },
          "metadata": {},
          "execution_count": 146
        }
      ]
    },
    {
      "cell_type": "code",
      "source": [
        "# Convert the float 'fval' to an integer. The decimal part is truncated.\n",
        "int(fval)"
      ],
      "metadata": {
        "colab": {
          "base_uri": "https://localhost:8080/"
        },
        "id": "rZKSgxggeNiY",
        "outputId": "1db7d7bb-de06-4139-a54b-0a2b636c27c0"
      },
      "execution_count": 147,
      "outputs": [
        {
          "output_type": "execute_result",
          "data": {
            "text/plain": [
              "3"
            ]
          },
          "metadata": {},
          "execution_count": 147
        }
      ]
    },
    {
      "cell_type": "code",
      "source": [
        "# Convert the non-zero float 'fval' to a boolean. Non-zero numbers evaluate to True in a boolean context.\n",
        "bool(fval)"
      ],
      "metadata": {
        "colab": {
          "base_uri": "https://localhost:8080/"
        },
        "id": "usDKIqgweTEP",
        "outputId": "f0e6d017-e0ff-469a-db07-9d57d3191c1e"
      },
      "execution_count": 148,
      "outputs": [
        {
          "output_type": "execute_result",
          "data": {
            "text/plain": [
              "True"
            ]
          },
          "metadata": {},
          "execution_count": 148
        }
      ]
    },
    {
      "cell_type": "code",
      "source": [
        "# Convert the integer 0 to a boolean. 0 evaluates to False in a boolean context.\n",
        "bool(0)"
      ],
      "metadata": {
        "colab": {
          "base_uri": "https://localhost:8080/"
        },
        "id": "WheJ0pxReVWf",
        "outputId": "baba4c2e-3505-4675-86f2-d59cb7fd2f1f"
      },
      "execution_count": 149,
      "outputs": [
        {
          "output_type": "execute_result",
          "data": {
            "text/plain": [
              "False"
            ]
          },
          "metadata": {},
          "execution_count": 149
        }
      ]
    },
    {
      "cell_type": "code",
      "source": [
        "# Assign the value None to the variable 'a'.\n",
        "a = None\n",
        "# Check if 'a' is None using the 'is' operator.\n",
        "a is None"
      ],
      "metadata": {
        "colab": {
          "base_uri": "https://localhost:8080/"
        },
        "id": "S50w8YL7eYxO",
        "outputId": "9af18cb1-9ec2-4a4d-9b81-75bd03272478"
      },
      "execution_count": 150,
      "outputs": [
        {
          "output_type": "execute_result",
          "data": {
            "text/plain": [
              "True"
            ]
          },
          "metadata": {},
          "execution_count": 150
        }
      ]
    },
    {
      "cell_type": "code",
      "source": [
        "# Assign an integer value to the variable 'b'.\n",
        "b = 5\n",
        "# Check if 'b' is not None using the 'is not' operator.\n",
        "b is not None"
      ],
      "metadata": {
        "colab": {
          "base_uri": "https://localhost:8080/"
        },
        "id": "U2RJHzgYejaY",
        "outputId": "fe9eb131-2026-4ce8-9315-2db6086c3a1e"
      },
      "execution_count": 151,
      "outputs": [
        {
          "output_type": "execute_result",
          "data": {
            "text/plain": [
              "True"
            ]
          },
          "metadata": {},
          "execution_count": 151
        }
      ]
    },
    {
      "cell_type": "code",
      "source": [
        "# Import datetime, date, and time from the datetime module.\n",
        "from datetime import datetime, date, time\n",
        "# Create a datetime object with a specific year, month, day, hour, minute, and second.\n",
        "dt = datetime(2025, 6, 22, 21, 34, 21)\n",
        "# Access and display the day component of the datetime object.\n",
        "dt.day"
      ],
      "metadata": {
        "colab": {
          "base_uri": "https://localhost:8080/"
        },
        "id": "_BaGCEECeoZa",
        "outputId": "acce277d-e5ea-45e2-ac8d-8c57949cac69"
      },
      "execution_count": 152,
      "outputs": [
        {
          "output_type": "execute_result",
          "data": {
            "text/plain": [
              "22"
            ]
          },
          "metadata": {},
          "execution_count": 152
        }
      ]
    },
    {
      "cell_type": "code",
      "source": [
        "# Access and display the minute component of the datetime object.\n",
        "dt.minute"
      ],
      "metadata": {
        "colab": {
          "base_uri": "https://localhost:8080/"
        },
        "id": "agz6cnvVe9ET",
        "outputId": "e43a7860-7b76-4b82-8fc9-f3babc2c4cd4"
      },
      "execution_count": 153,
      "outputs": [
        {
          "output_type": "execute_result",
          "data": {
            "text/plain": [
              "34"
            ]
          },
          "metadata": {},
          "execution_count": 153
        }
      ]
    },
    {
      "cell_type": "code",
      "source": [
        "# Get the date part of the datetime object as a date object.\n",
        "dt.date()"
      ],
      "metadata": {
        "colab": {
          "base_uri": "https://localhost:8080/"
        },
        "id": "AXAPiB_wfD5v",
        "outputId": "7c95cd09-52ef-409f-b162-8321f7d599c9"
      },
      "execution_count": 154,
      "outputs": [
        {
          "output_type": "execute_result",
          "data": {
            "text/plain": [
              "datetime.date(2025, 6, 22)"
            ]
          },
          "metadata": {},
          "execution_count": 154
        }
      ]
    },
    {
      "cell_type": "code",
      "source": [
        "# Get the time part of the datetime object as a time object.\n",
        "dt.time()"
      ],
      "metadata": {
        "colab": {
          "base_uri": "https://localhost:8080/"
        },
        "id": "2Mbc8Bm7fHkJ",
        "outputId": "dadf162a-1faf-40b2-c0aa-0620c4d35f0a"
      },
      "execution_count": 155,
      "outputs": [
        {
          "output_type": "execute_result",
          "data": {
            "text/plain": [
              "datetime.time(21, 34, 21)"
            ]
          },
          "metadata": {},
          "execution_count": 155
        }
      ]
    },
    {
      "cell_type": "code",
      "source": [
        "# Format the datetime object as a string using the specified format codes (%Y for year, %m for month, %d for day, %H for hour, %M for minute).\n",
        "dt.strftime(\"%Y-%m-%d %H:%M\")"
      ],
      "metadata": {
        "colab": {
          "base_uri": "https://localhost:8080/",
          "height": 36
        },
        "id": "Y-XyxqxSfieC",
        "outputId": "b3aa912c-ee0f-417e-8b29-d93916a392e7"
      },
      "execution_count": 156,
      "outputs": [
        {
          "output_type": "execute_result",
          "data": {
            "text/plain": [
              "'2025-06-22 21:34'"
            ],
            "application/vnd.google.colaboratory.intrinsic+json": {
              "type": "string"
            }
          },
          "metadata": {},
          "execution_count": 156
        }
      ]
    },
    {
      "cell_type": "code",
      "source": [
        "# Create a new datetime object by replacing the minute and second of the original datetime object 'dt' with 0.\n",
        "dt_hour = dt.replace(minute=0, second=0)\n",
        "# Display the new datetime object.\n",
        "dt_hour"
      ],
      "metadata": {
        "colab": {
          "base_uri": "https://localhost:8080/"
        },
        "id": "tTYLWjSdf_2o",
        "outputId": "062aa7d3-6d5d-4dc3-a650-4a2abdf53899"
      },
      "execution_count": 157,
      "outputs": [
        {
          "output_type": "execute_result",
          "data": {
            "text/plain": [
              "datetime.datetime(2025, 6, 22, 21, 0)"
            ]
          },
          "metadata": {},
          "execution_count": 157
        }
      ]
    },
    {
      "cell_type": "code",
      "source": [
        "# Display the original datetime object 'dt' to show it remains unchanged by the replace method.\n",
        "dt"
      ],
      "metadata": {
        "colab": {
          "base_uri": "https://localhost:8080/"
        },
        "id": "Rwrn3p7RgOsY",
        "outputId": "04485650-0a77-49a0-bfda-9a3a4ab5a27e"
      },
      "execution_count": 158,
      "outputs": [
        {
          "output_type": "execute_result",
          "data": {
            "text/plain": [
              "datetime.datetime(2025, 6, 22, 21, 34, 21)"
            ]
          },
          "metadata": {},
          "execution_count": 158
        }
      ]
    },
    {
      "cell_type": "code",
      "source": [
        "# Create another datetime object 'dt2'.\n",
        "dt2 = datetime(2025, 6, 22, 21, 34, 21)\n",
        "# Calculate the difference between 'dt2' and 'dt'. This results in a timedelta object.\n",
        "delta = dt2 - dt\n",
        "# Display the timedelta object.\n",
        "delta\n",
        "# Check and display the type of the 'delta' variable.\n",
        "type(delta)"
      ],
      "metadata": {
        "colab": {
          "base_uri": "https://localhost:8080/"
        },
        "id": "2zaoU3AtgR7W",
        "outputId": "ccda6f7b-21f4-46da-bb18-b0a09d077dee"
      },
      "execution_count": 159,
      "outputs": [
        {
          "output_type": "execute_result",
          "data": {
            "text/plain": [
              "datetime.timedelta"
            ]
          },
          "metadata": {},
          "execution_count": 159
        }
      ]
    },
    {
      "cell_type": "code",
      "source": [
        "# Display the original datetime object 'dt'.\n",
        "dt\n",
        "# Add the timedelta 'delta' to the datetime object 'dt'.\n",
        "dt + delta"
      ],
      "metadata": {
        "colab": {
          "base_uri": "https://localhost:8080/"
        },
        "id": "hf5VUu2EgcDv",
        "outputId": "83965f47-be96-4e89-ca11-20d1d841e96e"
      },
      "execution_count": 160,
      "outputs": [
        {
          "output_type": "execute_result",
          "data": {
            "text/plain": [
              "datetime.datetime(2025, 6, 22, 21, 34, 21)"
            ]
          },
          "metadata": {},
          "execution_count": 160
        }
      ]
    },
    {
      "cell_type": "code",
      "source": [
        "# Assign integer values to variables a, b, c, and d.\n",
        "a = 5; b = 7\n",
        "c = 8; d = 4\n",
        "# Check if the condition 'a < b or c > d' is True.\n",
        "# Since 'a < b' (5 < 7) is True, the entire condition is True due to the 'or' operator.\n",
        "if a < b or c > d:\n",
        "  # If the condition is True, print \"Made it\".\n",
        "  print('Made it')"
      ],
      "metadata": {
        "colab": {
          "base_uri": "https://localhost:8080/"
        },
        "id": "UH9FJ1VPgfHZ",
        "outputId": "d4d96468-317e-4828-cffa-40be0abf5028"
      },
      "execution_count": 161,
      "outputs": [
        {
          "output_type": "stream",
          "name": "stdout",
          "text": [
            "Made it\n"
          ]
        }
      ]
    },
    {
      "cell_type": "code",
      "source": [
        "# Evaluate a chained comparison. Python evaluates this as (4 > 3) and (3 > 2) and (2 > 1).\n",
        "# Since all individual comparisons are True, the result is True.\n",
        "4 > 3 > 2 > 1"
      ],
      "metadata": {
        "colab": {
          "base_uri": "https://localhost:8080/"
        },
        "id": "tbdLt6dSgy26",
        "outputId": "39f43b7c-0632-4907-e8df-49f8cde65ecf"
      },
      "execution_count": 162,
      "outputs": [
        {
          "output_type": "execute_result",
          "data": {
            "text/plain": [
              "True"
            ]
          },
          "metadata": {},
          "execution_count": 162
        }
      ]
    },
    {
      "cell_type": "code",
      "source": [
        "# This code has a NameError because the variable 'j' is used before it is assigned a value.\n",
        "# The inner loop iterates with variable 'i', not 'j'.\n",
        "for i in range(4):\n",
        "  for i in range(4):\n",
        "    if j > i:\n",
        "       break\n",
        "    print((i, j))"
      ],
      "metadata": {
        "colab": {
          "base_uri": "https://localhost:8080/",
          "height": 219
        },
        "id": "DGewdDI2g5ka",
        "outputId": "9ae25ddf-0ca8-48e6-df87-b20093bdc314"
      },
      "execution_count": 163,
      "outputs": [
        {
          "output_type": "error",
          "ename": "NameError",
          "evalue": "name 'j' is not defined",
          "traceback": [
            "\u001b[0;31m---------------------------------------------------------------------------\u001b[0m",
            "\u001b[0;31mNameError\u001b[0m                                 Traceback (most recent call last)",
            "\u001b[0;32m/tmp/ipython-input-163-907252073.py\u001b[0m in \u001b[0;36m<cell line: 0>\u001b[0;34m()\u001b[0m\n\u001b[1;32m      3\u001b[0m \u001b[0;32mfor\u001b[0m \u001b[0mi\u001b[0m \u001b[0;32min\u001b[0m \u001b[0mrange\u001b[0m\u001b[0;34m(\u001b[0m\u001b[0;36m4\u001b[0m\u001b[0;34m)\u001b[0m\u001b[0;34m:\u001b[0m\u001b[0;34m\u001b[0m\u001b[0;34m\u001b[0m\u001b[0m\n\u001b[1;32m      4\u001b[0m   \u001b[0;32mfor\u001b[0m \u001b[0mi\u001b[0m \u001b[0;32min\u001b[0m \u001b[0mrange\u001b[0m\u001b[0;34m(\u001b[0m\u001b[0;36m4\u001b[0m\u001b[0;34m)\u001b[0m\u001b[0;34m:\u001b[0m\u001b[0;34m\u001b[0m\u001b[0;34m\u001b[0m\u001b[0m\n\u001b[0;32m----> 5\u001b[0;31m     \u001b[0;32mif\u001b[0m \u001b[0mj\u001b[0m \u001b[0;34m>\u001b[0m \u001b[0mi\u001b[0m\u001b[0;34m:\u001b[0m\u001b[0;34m\u001b[0m\u001b[0;34m\u001b[0m\u001b[0m\n\u001b[0m\u001b[1;32m      6\u001b[0m        \u001b[0;32mbreak\u001b[0m\u001b[0;34m\u001b[0m\u001b[0;34m\u001b[0m\u001b[0m\n\u001b[1;32m      7\u001b[0m     \u001b[0mprint\u001b[0m\u001b[0;34m(\u001b[0m\u001b[0;34m(\u001b[0m\u001b[0mi\u001b[0m\u001b[0;34m,\u001b[0m \u001b[0mj\u001b[0m\u001b[0;34m)\u001b[0m\u001b[0;34m)\u001b[0m\u001b[0;34m\u001b[0m\u001b[0;34m\u001b[0m\u001b[0m\n",
            "\u001b[0;31mNameError\u001b[0m: name 'j' is not defined"
          ]
        }
      ]
    },
    {
      "cell_type": "code",
      "source": [
        "# This will cause a NameError because 'rang' is misspelled. The correct function name is 'range'.\n",
        "rang(10)\n",
        "\n",
        "# Create a list from the numbers generated by range(10), which are integers from 0 up to (but not including) 10.\n",
        "list(range(10))"
      ],
      "metadata": {
        "colab": {
          "base_uri": "https://localhost:8080/",
          "height": 219
        },
        "id": "PXQoGzT3hVBp",
        "outputId": "77376cc5-ab25-4b23-9ba0-fda2114999db"
      },
      "execution_count": 164,
      "outputs": [
        {
          "output_type": "error",
          "ename": "NameError",
          "evalue": "name 'rang' is not defined",
          "traceback": [
            "\u001b[0;31m---------------------------------------------------------------------------\u001b[0m",
            "\u001b[0;31mNameError\u001b[0m                                 Traceback (most recent call last)",
            "\u001b[0;32m/tmp/ipython-input-164-4115829961.py\u001b[0m in \u001b[0;36m<cell line: 0>\u001b[0;34m()\u001b[0m\n\u001b[1;32m      1\u001b[0m \u001b[0;31m# This will cause a NameError because 'rang' is misspelled. The correct function name is 'range'.\u001b[0m\u001b[0;34m\u001b[0m\u001b[0;34m\u001b[0m\u001b[0m\n\u001b[0;32m----> 2\u001b[0;31m \u001b[0mrang\u001b[0m\u001b[0;34m(\u001b[0m\u001b[0;36m10\u001b[0m\u001b[0;34m)\u001b[0m\u001b[0;34m\u001b[0m\u001b[0;34m\u001b[0m\u001b[0m\n\u001b[0m\u001b[1;32m      3\u001b[0m \u001b[0;34m\u001b[0m\u001b[0m\n\u001b[1;32m      4\u001b[0m \u001b[0;31m# Create a list from the numbers generated by range(10), which are integers from 0 up to (but not including) 10.\u001b[0m\u001b[0;34m\u001b[0m\u001b[0;34m\u001b[0m\u001b[0m\n\u001b[1;32m      5\u001b[0m \u001b[0mlist\u001b[0m\u001b[0;34m(\u001b[0m\u001b[0mrange\u001b[0m\u001b[0;34m(\u001b[0m\u001b[0;36m10\u001b[0m\u001b[0;34m)\u001b[0m\u001b[0;34m)\u001b[0m\u001b[0;34m\u001b[0m\u001b[0;34m\u001b[0m\u001b[0m\n",
            "\u001b[0;31mNameError\u001b[0m: name 'rang' is not defined"
          ]
        }
      ]
    },
    {
      "cell_type": "code",
      "source": [
        "# Create a list from the numbers generated by range(0, 20, 21).\n",
        "# This starts at 0, goes up to (but not including) 20, with a step of 21.\n",
        "# Since the step is greater than the difference between start and stop, only the start value (0) is included.\n",
        "list(range(0, 20, 21))\n",
        "# Create a list from the numbers generated by range(5, 0, -1).\n",
        "# This starts at 5, goes down to (but not including) 0, with a step of -1.\n",
        "list(range(5, 0, -1))"
      ],
      "metadata": {
        "colab": {
          "base_uri": "https://localhost:8080/"
        },
        "id": "pIhb-uTThh6Q",
        "outputId": "1b77012c-1d97-49f0-d65d-be49556ef05d"
      },
      "execution_count": 165,
      "outputs": [
        {
          "output_type": "execute_result",
          "data": {
            "text/plain": [
              "[5, 4, 3, 2, 1]"
            ]
          },
          "metadata": {},
          "execution_count": 165
        }
      ]
    },
    {
      "cell_type": "code",
      "source": [
        "# Create a list named 'seq'.\n",
        "seq = [1, 2, 3, 4]\n",
        "# Iterate through the indices of the list 'seq' using range(len(seq)).\n",
        "for i in range(len(seq)):\n",
        "  # Print the index 'i' and the element at that index in the list.\n",
        "  print(f\"element {i}: {seq[i]}\")"
      ],
      "metadata": {
        "colab": {
          "base_uri": "https://localhost:8080/"
        },
        "id": "G4oK9hrEhpTK",
        "outputId": "34fc661a-4960-4c5a-a1d3-a82fb08c3a73"
      },
      "execution_count": 166,
      "outputs": [
        {
          "output_type": "stream",
          "name": "stdout",
          "text": [
            "element 0: 1\n",
            "element 1: 2\n",
            "element 2: 3\n",
            "element 3: 4\n"
          ]
        }
      ]
    },
    {
      "cell_type": "code",
      "source": [
        "# Initialize a variable 'total' to 0.\n",
        "total = 0\n",
        "# Iterate through a range of numbers from 0 up to (but not including) 100,000.\n",
        "for i in range(100_000):\n",
        "  # Check if the current number 'i' is divisible by 3 or 5 using the modulo operator (%).\n",
        "  if i % 3 == 0 or i % 5 == 0:\n",
        "    # If the number is divisible by 3 or 5, add it to the 'total'.\n",
        "    total += i\n",
        "# Print the final calculated total.\n",
        "print(total)"
      ],
      "metadata": {
        "colab": {
          "base_uri": "https://localhost:8080/"
        },
        "id": "wUaFJdxZh8bf",
        "outputId": "ef65032c-cfe0-48ef-e67e-116060668ea4"
      },
      "execution_count": 167,
      "outputs": [
        {
          "output_type": "stream",
          "name": "stdout",
          "text": [
            "2333316668\n"
          ]
        }
      ]
    }
  ]
}